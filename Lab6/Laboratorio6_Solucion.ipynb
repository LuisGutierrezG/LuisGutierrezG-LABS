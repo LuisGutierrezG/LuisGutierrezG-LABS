{
 "cells": [
  {
   "cell_type": "markdown",
   "metadata": {
    "cell_id": "89a205c2d069404c98948bb9d7be3a51",
    "deepnote_cell_height": 156.26666259765625,
    "deepnote_cell_type": "markdown",
    "id": "XUZ1dFPHzAHl",
    "owner_user_id": "badcc427-fd3d-4615-9296-faa43ec69cfb"
   },
   "source": [
    "<h1><center>Laboratorio 6: El Pandas no Muerde (act IV) 🐼</center></h1>\n",
    "\n",
    "<center><strong>MDS7202: Laboratorio de Programación Científica para Ciencia de Datos</strong></center>"
   ]
  },
  {
   "cell_type": "markdown",
   "metadata": {
    "cell_id": "4809ea920b5b49c9a945cd8468b5b836",
    "deepnote_cell_height": 165.76666259765625,
    "deepnote_cell_type": "markdown",
    "id": "UD8X1uhGzAHq"
   },
   "source": [
    "### Cuerpo Docente:\n",
    "\n",
    "- Profesores: Pablo Badilla, Ignacio Meza\n",
    "- Auxiliar: Sebastián Tinoco\n",
    "- Ayudante: Felipe Arias, Diego Cortez"
   ]
  },
  {
   "cell_type": "markdown",
   "metadata": {
    "cell_id": "c2c091f086ec4e999b701c197a06ab88",
    "deepnote_cell_height": 172.13333129882812,
    "deepnote_cell_type": "markdown",
    "id": "tXflExjqzAHr"
   },
   "source": [
    "### Equipo: SUPER IMPORTANTE - notebooks sin nombre no serán revisados\n",
    "\n",
    "- Nombre de alumno 1: Luis Gutiérrez \n",
    "- Nombre de alumno 2: Juan Carlos Cuevas"
   ]
  },
  {
   "cell_type": "markdown",
   "metadata": {
    "cell_id": "18b43f19598240cfafeda048d3fce395",
    "deepnote_cell_height": 62.19999694824219,
    "deepnote_cell_type": "markdown",
    "id": "AD-V0bbZzAHr"
   },
   "source": [
    "### **Link de repositorio de GitHub:** `https://github.com/LuisGutierrezG/LuisGutierrezG-LABS`"
   ]
  },
  {
   "cell_type": "markdown",
   "metadata": {
    "cell_id": "32657e00a4b6496ca7d9e6e15a8b5db7",
    "deepnote_cell_height": 479.3999938964844,
    "deepnote_cell_type": "markdown",
    "id": "6uBLPj1PzAHs"
   },
   "source": [
    "\n",
    "## Reglas:\n",
    "\n",
    "- **Grupos de 2 personas**\n",
    "- Asistencia **obligatoria** a instrucciones del lab (viernes 16.15). Luego, pueden quedarse trabajando en las salas o irse.\n",
    "- **No se revisarán entregas de personas ausentes**. \n",
    "- Cualquier duda fuera del horario de clases al foro. Mensajes al equipo docente serán respondidos por este medio.\n",
    "- Prohibidas las copias. \n",
    "- Pueden usar cualquer matrial del curso que estimen conveniente.\n",
    "\n",
    "### Objetivos principales del laboratorio\n",
    "\n",
    "- Aplicar los paradigmas y buenas prácticas de programación vistas hasta este momento.\n",
    "- Comprender y aprovechar las ventajas que nos ofrece la liberia `numpy` con respecto a trabajar en Python 'puro'.\n",
    "- Visualizar aplicaciones de filtros de imágenes sin el uso de librerías.\n",
    "- Verificar que el uso indiscriminado de `for` puede afectar en la eficiencia en al procesar datos masivos.\n",
    "\n",
    "\n",
    "El laboratorio deberá ser desarrollado sin el uso indiscriminado de iteradores nativos de python (aka \"for\", \"while\"). La idea es que aprendan a exprimir al máximo las funciones optimizadas que nos entrega `numpy`, las cuales vale mencionar, son bastante más eficientes que los iteradores nativos sobre arreglos (*o tensores*)."
   ]
  },
  {
   "cell_type": "markdown",
   "metadata": {
    "cell_id": "b6bac4d034a5495e8e67c36e34336f85",
    "deepnote_cell_height": 69.86666870117188,
    "deepnote_cell_type": "markdown",
    "id": "wrG4gYabzAHs"
   },
   "source": [
    "## Descripción del laboratorio."
   ]
  },
  {
   "cell_type": "markdown",
   "metadata": {
    "cell_id": "ca9c067959894e94b9283a276287b698",
    "deepnote_cell_height": 61.866668701171875,
    "deepnote_cell_type": "markdown",
    "id": "MhISwri4zAHy"
   },
   "source": [
    "### Importamos librerias utiles 😸"
   ]
  },
  {
   "cell_type": "code",
   "execution_count": 1,
   "metadata": {
    "ExecuteTime": {
     "end_time": "2021-03-29T00:08:16.884674Z",
     "start_time": "2021-03-29T00:08:16.349846Z"
    },
    "cell_id": "4cf79ab943eb44868dcee51d3302e611",
    "colab": {
     "base_uri": "https://localhost:8080/"
    },
    "deepnote_cell_height": 988.7999877929688,
    "deepnote_cell_type": "code",
    "deepnote_to_be_reexecuted": false,
    "executionInfo": {
     "elapsed": 7340,
     "status": "ok",
     "timestamp": 1619926444128,
     "user": {
      "displayName": "IGNACIO ALEJANDRO MEZA",
      "photoUrl": "",
      "userId": "17011121633069169364"
     },
     "user_tz": 240
    },
    "execution_millis": 15959,
    "execution_start": 1634325916301,
    "id": "uyc33dKdzAHy",
    "outputId": "275fee3c-4ef0-4bfb-acb7-e318d613bdce",
    "source_hash": "80b1c1a9"
   },
   "outputs": [],
   "source": [
    "# Libreria Core del lab.\n",
    "import numpy as np\n",
    "# !pip install --upgrade pandas\n",
    "# !pip install xlrd\n",
    "# !pip install openpyxl\n",
    "import pandas as pd\n",
    "import datetime\n",
    "from scipy import stats\n",
    "\n",
    "from IPython.display import display, Markdown, Latex\n",
    "\n",
    "#Libreria para plotear\n",
    "# !pip install --upgrade plotly\n",
    "# !pip install missingno\n",
    "import matplotlib.pyplot as plt\n",
    "import missingno as msno\n",
    "import plotly.express as px"
   ]
  },
  {
   "cell_type": "code",
   "execution_count": 2,
   "metadata": {
    "cell_id": "f8a86237fe434792b493ca1959fa9a54",
    "deepnote_cell_height": 219.46665954589844,
    "deepnote_cell_type": "code",
    "deepnote_to_be_reexecuted": false,
    "execution_millis": 4,
    "execution_start": 1634315852279,
    "id": "gQ0-zPV4NNrq",
    "source_hash": "c60dc4a7"
   },
   "outputs": [
    {
     "name": "stdout",
     "output_type": "stream",
     "text": [
      "Ignorando conexión drive-colab\n"
     ]
    }
   ],
   "source": [
    "# Si usted está utilizando Colabolatory le puede ser útil este código para cargar los archivos.\n",
    "try:\n",
    "    from google.colab import drive\n",
    "    drive.mount(\"/content/drive\")\n",
    "    path = 'Dirección donde tiene los archivos en el Drive'\n",
    "except: \n",
    "    print('Ignorando conexión drive-colab')"
   ]
  },
  {
   "cell_type": "markdown",
   "metadata": {
    "cell_id": "34609c877de444338ccc78bf45ab9b31",
    "deepnote_cell_height": 133.86666870117188,
    "deepnote_cell_type": "markdown",
    "id": "QDwIXTh7bK_A"
   },
   "source": [
    "# Segmentación de Clientes en Tienda de Retail 🛍️"
   ]
  },
  {
   "cell_type": "markdown",
   "metadata": {
    "cell_id": "e710e9caec7f4f1a9f67caeae4597de1",
    "deepnote_cell_height": 294.683349609375,
    "deepnote_cell_type": "markdown",
    "tags": []
   },
   "source": [
    "<p align=\"center\">\n",
    "  <img width=300 src=\"https://s1.eestatic.com/2018/04/14/social/la_jungla_-_social_299733421_73842361_854x640.jpg\">\n",
    "</p>"
   ]
  },
  {
   "cell_type": "markdown",
   "metadata": {
    "cell_id": "3aa7f656ce7840ebade4261cc3f1f0a3",
    "deepnote_cell_height": 69.86666870117188,
    "deepnote_cell_type": "markdown",
    "tags": []
   },
   "source": [
    "## 1.1 Cargar Dataset"
   ]
  },
  {
   "cell_type": "markdown",
   "metadata": {
    "cell_id": "0f3137f91f8a4e8aba54e8d26f317927",
    "deepnote_cell_height": 251.06666564941406,
    "deepnote_cell_type": "markdown",
    "tags": []
   },
   "source": [
    "Mr. Lepin Mora quien es el gerente de una cotizada tienda de retail en Europa, les solicita si pueden analizar los datos de algunas de sus tiendas.\n",
    "\n",
    "Para esto, el área de ventas les entrega el archivo `online_retail_II.pickle` con el que se les pide que cargue y visualicen algunas de las filas que componen el Dataset.\n",
    "\n",
    "Realice una primera visualización de los datos y señale los atributos que componen el dataset. Señale las columnas que conforman el dataset, el tipo de variable presente en cada columna y comente que representa cada una de estas.\n",
    "\n",
    "**Respuesta:**"
   ]
  },
  {
   "cell_type": "code",
   "execution_count": 46,
   "metadata": {
    "cell_id": "7301daf9982c4d2ea369ef07c4b7aae1",
    "colab": {
     "base_uri": "https://localhost:8080/",
     "height": 204
    },
    "deepnote_cell_height": 453.79998779296875,
    "deepnote_cell_type": "code",
    "deepnote_output_heights": [
     177
    ],
    "deepnote_to_be_reexecuted": false,
    "executionInfo": {
     "elapsed": 77353,
     "status": "ok",
     "timestamp": 1619717831933,
     "user": {
      "displayName": "IGNACIO ALEJANDRO MEZA",
      "photoUrl": "",
      "userId": "17011121633069169364"
     },
     "user_tz": 240
    },
    "execution_millis": 375,
    "execution_start": 1634325932264,
    "id": "7FNOu-CvjV5m",
    "outputId": "90b4f92c-71df-44d4-8084-4dd06a6179e4",
    "source_hash": "579ecb11"
   },
   "outputs": [],
   "source": [
    "df_retail = pd.read_pickle(\"online_retail_II.pickle\")\n",
    "df_retail = df_retail.astype(\n",
    "    {\n",
    "        \"Invoice\": \"category\",\n",
    "        \"StockCode\": \"category\",\n",
    "        \"Description\": str,\n",
    "        \"Customer ID\": \"category\",\n",
    "    }\n",
    ")"
   ]
  },
  {
   "cell_type": "markdown",
   "metadata": {},
   "source": [
    "### Respuesta:\n",
    "A continuación se pueden ver las columnas que componen el dataset, el tipo de variable presente en cada columna y una breve descripción de lo que representa cada una de estas."
   ]
  },
  {
   "cell_type": "code",
   "execution_count": 47,
   "metadata": {},
   "outputs": [
    {
     "name": "stdout",
     "output_type": "stream",
     "text": [
      "<class 'pandas.core.frame.DataFrame'>\n",
      "RangeIndex: 525461 entries, 0 to 525460\n",
      "Data columns (total 8 columns):\n",
      " #   Column       Non-Null Count   Dtype         \n",
      "---  ------       --------------   -----         \n",
      " 0   Invoice      525461 non-null  category      \n",
      " 1   StockCode    525461 non-null  category      \n",
      " 2   Description  525461 non-null  object        \n",
      " 3   Quantity     525461 non-null  int64         \n",
      " 4   InvoiceDate  525461 non-null  datetime64[ns]\n",
      " 5   Price        525461 non-null  float64       \n",
      " 6   Customer ID  417534 non-null  category      \n",
      " 7   Country      525461 non-null  object        \n",
      "dtypes: category(3), datetime64[ns](1), float64(1), int64(1), object(2)\n",
      "memory usage: 24.6+ MB\n"
     ]
    }
   ],
   "source": [
    "df_retail.info()"
   ]
  },
  {
   "cell_type": "markdown",
   "metadata": {},
   "source": [
    "Descripción de las columnas:\n",
    "- Invoice: Número de factura. Pareciera ser un número asignado de forma única a cada transacción/boleta. Algunos comienzan con la letra 'c', lo que puede indicar una cancelación.\n",
    "- StockCode: Código de producto (artículo). Un número que puede terminar en alguna letra asignado de forma única a cada producto distinto.\n",
    "- Description: Nombre del producto (artículo). String.\n",
    "- Quantity: Las cantidades de cada producto (artículo) vendido  por transacción. Numérico.\n",
    "- InvoiceDate: Fecha y hora de la transacción. \n",
    "- Price: Precio unitario del producto. Numérico.\n",
    "- Customer ID: Número único de cliente. Nominal.\n",
    "- Country: String. El nombre del país donde reside cada cliente.\n"
   ]
  },
  {
   "cell_type": "code",
   "execution_count": 7,
   "metadata": {},
   "outputs": [
    {
     "data": {
      "text/html": [
       "<div>\n",
       "<style scoped>\n",
       "    .dataframe tbody tr th:only-of-type {\n",
       "        vertical-align: middle;\n",
       "    }\n",
       "\n",
       "    .dataframe tbody tr th {\n",
       "        vertical-align: top;\n",
       "    }\n",
       "\n",
       "    .dataframe thead th {\n",
       "        text-align: right;\n",
       "    }\n",
       "</style>\n",
       "<table border=\"1\" class=\"dataframe\">\n",
       "  <thead>\n",
       "    <tr style=\"text-align: right;\">\n",
       "      <th></th>\n",
       "      <th>Invoice</th>\n",
       "      <th>StockCode</th>\n",
       "      <th>Description</th>\n",
       "      <th>Quantity</th>\n",
       "      <th>InvoiceDate</th>\n",
       "      <th>Price</th>\n",
       "      <th>Customer ID</th>\n",
       "      <th>Country</th>\n",
       "    </tr>\n",
       "  </thead>\n",
       "  <tbody>\n",
       "    <tr>\n",
       "      <th>0</th>\n",
       "      <td>489434</td>\n",
       "      <td>85048</td>\n",
       "      <td>15CM CHRISTMAS GLASS BALL 20 LIGHTS</td>\n",
       "      <td>12</td>\n",
       "      <td>2009-12-01 07:45:00</td>\n",
       "      <td>6.95</td>\n",
       "      <td>13085.0</td>\n",
       "      <td>United Kingdom</td>\n",
       "    </tr>\n",
       "    <tr>\n",
       "      <th>1</th>\n",
       "      <td>489434</td>\n",
       "      <td>79323P</td>\n",
       "      <td>PINK CHERRY LIGHTS</td>\n",
       "      <td>12</td>\n",
       "      <td>2009-12-01 07:45:00</td>\n",
       "      <td>6.75</td>\n",
       "      <td>13085.0</td>\n",
       "      <td>United Kingdom</td>\n",
       "    </tr>\n",
       "    <tr>\n",
       "      <th>2</th>\n",
       "      <td>489434</td>\n",
       "      <td>79323W</td>\n",
       "      <td>WHITE CHERRY LIGHTS</td>\n",
       "      <td>12</td>\n",
       "      <td>2009-12-01 07:45:00</td>\n",
       "      <td>6.75</td>\n",
       "      <td>13085.0</td>\n",
       "      <td>United Kingdom</td>\n",
       "    </tr>\n",
       "    <tr>\n",
       "      <th>3</th>\n",
       "      <td>489434</td>\n",
       "      <td>22041</td>\n",
       "      <td>RECORD FRAME 7\" SINGLE SIZE</td>\n",
       "      <td>48</td>\n",
       "      <td>2009-12-01 07:45:00</td>\n",
       "      <td>2.10</td>\n",
       "      <td>13085.0</td>\n",
       "      <td>United Kingdom</td>\n",
       "    </tr>\n",
       "    <tr>\n",
       "      <th>4</th>\n",
       "      <td>489434</td>\n",
       "      <td>21232</td>\n",
       "      <td>STRAWBERRY CERAMIC TRINKET BOX</td>\n",
       "      <td>24</td>\n",
       "      <td>2009-12-01 07:45:00</td>\n",
       "      <td>1.25</td>\n",
       "      <td>13085.0</td>\n",
       "      <td>United Kingdom</td>\n",
       "    </tr>\n",
       "  </tbody>\n",
       "</table>\n",
       "</div>"
      ],
      "text/plain": [
       "  Invoice StockCode                          Description  Quantity  \\\n",
       "0  489434     85048  15CM CHRISTMAS GLASS BALL 20 LIGHTS        12   \n",
       "1  489434    79323P                   PINK CHERRY LIGHTS        12   \n",
       "2  489434    79323W                  WHITE CHERRY LIGHTS        12   \n",
       "3  489434     22041         RECORD FRAME 7\" SINGLE SIZE         48   \n",
       "4  489434     21232       STRAWBERRY CERAMIC TRINKET BOX        24   \n",
       "\n",
       "          InvoiceDate  Price Customer ID         Country  \n",
       "0 2009-12-01 07:45:00   6.95     13085.0  United Kingdom  \n",
       "1 2009-12-01 07:45:00   6.75     13085.0  United Kingdom  \n",
       "2 2009-12-01 07:45:00   6.75     13085.0  United Kingdom  \n",
       "3 2009-12-01 07:45:00   2.10     13085.0  United Kingdom  \n",
       "4 2009-12-01 07:45:00   1.25     13085.0  United Kingdom  "
      ]
     },
     "execution_count": 7,
     "metadata": {},
     "output_type": "execute_result"
    }
   ],
   "source": [
    "df_retail.head()"
   ]
  },
  {
   "cell_type": "code",
   "execution_count": 17,
   "metadata": {},
   "outputs": [
    {
     "data": {
      "text/html": [
       "<div>\n",
       "<style scoped>\n",
       "    .dataframe tbody tr th:only-of-type {\n",
       "        vertical-align: middle;\n",
       "    }\n",
       "\n",
       "    .dataframe tbody tr th {\n",
       "        vertical-align: top;\n",
       "    }\n",
       "\n",
       "    .dataframe thead th {\n",
       "        text-align: right;\n",
       "    }\n",
       "</style>\n",
       "<table border=\"1\" class=\"dataframe\">\n",
       "  <thead>\n",
       "    <tr style=\"text-align: right;\">\n",
       "      <th></th>\n",
       "      <th>Invoice</th>\n",
       "      <th>StockCode</th>\n",
       "      <th>Description</th>\n",
       "      <th>Quantity</th>\n",
       "      <th>InvoiceDate</th>\n",
       "      <th>Price</th>\n",
       "      <th>Customer ID</th>\n",
       "      <th>Country</th>\n",
       "    </tr>\n",
       "  </thead>\n",
       "  <tbody>\n",
       "    <tr>\n",
       "      <th>102</th>\n",
       "      <td>489442</td>\n",
       "      <td>85123A</td>\n",
       "      <td>WHITE HANGING HEART T-LIGHT HOLDER</td>\n",
       "      <td>6</td>\n",
       "      <td>2009-12-01 09:46:00</td>\n",
       "      <td>2.95</td>\n",
       "      <td>13635.0</td>\n",
       "      <td>United Kingdom</td>\n",
       "    </tr>\n",
       "    <tr>\n",
       "      <th>147</th>\n",
       "      <td>489446</td>\n",
       "      <td>85123A</td>\n",
       "      <td>WHITE HANGING HEART T-LIGHT HOLDER</td>\n",
       "      <td>32</td>\n",
       "      <td>2009-12-01 10:06:00</td>\n",
       "      <td>2.55</td>\n",
       "      <td>13758.0</td>\n",
       "      <td>United Kingdom</td>\n",
       "    </tr>\n",
       "    <tr>\n",
       "      <th>271</th>\n",
       "      <td>489465</td>\n",
       "      <td>85123A</td>\n",
       "      <td>WHITE HANGING HEART T-LIGHT HOLDER</td>\n",
       "      <td>64</td>\n",
       "      <td>2009-12-01 10:52:00</td>\n",
       "      <td>2.55</td>\n",
       "      <td>13767.0</td>\n",
       "      <td>United Kingdom</td>\n",
       "    </tr>\n",
       "    <tr>\n",
       "      <th>284</th>\n",
       "      <td>489467</td>\n",
       "      <td>85123A</td>\n",
       "      <td>21733 mixed</td>\n",
       "      <td>-192</td>\n",
       "      <td>2009-12-01 10:53:00</td>\n",
       "      <td>0.00</td>\n",
       "      <td>NaN</td>\n",
       "      <td>United Kingdom</td>\n",
       "    </tr>\n",
       "    <tr>\n",
       "      <th>366</th>\n",
       "      <td>489517</td>\n",
       "      <td>85123A</td>\n",
       "      <td>WHITE HANGING HEART T-LIGHT HOLDER</td>\n",
       "      <td>1</td>\n",
       "      <td>2009-12-01 11:34:00</td>\n",
       "      <td>2.95</td>\n",
       "      <td>16329.0</td>\n",
       "      <td>United Kingdom</td>\n",
       "    </tr>\n",
       "    <tr>\n",
       "      <th>...</th>\n",
       "      <td>...</td>\n",
       "      <td>...</td>\n",
       "      <td>...</td>\n",
       "      <td>...</td>\n",
       "      <td>...</td>\n",
       "      <td>...</td>\n",
       "      <td>...</td>\n",
       "      <td>...</td>\n",
       "    </tr>\n",
       "    <tr>\n",
       "      <th>524412</th>\n",
       "      <td>538086</td>\n",
       "      <td>85123A</td>\n",
       "      <td>WHITE HANGING HEART T-LIGHT HOLDER</td>\n",
       "      <td>14</td>\n",
       "      <td>2010-12-09 14:44:00</td>\n",
       "      <td>2.95</td>\n",
       "      <td>12872.0</td>\n",
       "      <td>United Kingdom</td>\n",
       "    </tr>\n",
       "    <tr>\n",
       "      <th>524519</th>\n",
       "      <td>538095</td>\n",
       "      <td>85123A</td>\n",
       "      <td>WHITE HANGING HEART T-LIGHT HOLDER</td>\n",
       "      <td>1</td>\n",
       "      <td>2010-12-09 14:55:00</td>\n",
       "      <td>2.95</td>\n",
       "      <td>17097.0</td>\n",
       "      <td>Spain</td>\n",
       "    </tr>\n",
       "    <tr>\n",
       "      <th>524733</th>\n",
       "      <td>538145</td>\n",
       "      <td>85123A</td>\n",
       "      <td>WHITE HANGING HEART T-LIGHT HOLDER</td>\n",
       "      <td>6</td>\n",
       "      <td>2010-12-09 16:08:00</td>\n",
       "      <td>2.95</td>\n",
       "      <td>15211.0</td>\n",
       "      <td>United Kingdom</td>\n",
       "    </tr>\n",
       "    <tr>\n",
       "      <th>525223</th>\n",
       "      <td>538157</td>\n",
       "      <td>85123A</td>\n",
       "      <td>WHITE HANGING HEART T-LIGHT HOLDER</td>\n",
       "      <td>4</td>\n",
       "      <td>2010-12-09 16:57:00</td>\n",
       "      <td>2.95</td>\n",
       "      <td>17576.0</td>\n",
       "      <td>United Kingdom</td>\n",
       "    </tr>\n",
       "    <tr>\n",
       "      <th>525301</th>\n",
       "      <td>538166</td>\n",
       "      <td>85123A</td>\n",
       "      <td>WHITE HANGING HEART T-LIGHT HOLDER</td>\n",
       "      <td>3</td>\n",
       "      <td>2010-12-09 18:09:00</td>\n",
       "      <td>2.95</td>\n",
       "      <td>17965.0</td>\n",
       "      <td>United Kingdom</td>\n",
       "    </tr>\n",
       "  </tbody>\n",
       "</table>\n",
       "<p>3516 rows × 8 columns</p>\n",
       "</div>"
      ],
      "text/plain": [
       "       Invoice StockCode                         Description  Quantity  \\\n",
       "102     489442    85123A  WHITE HANGING HEART T-LIGHT HOLDER         6   \n",
       "147     489446    85123A  WHITE HANGING HEART T-LIGHT HOLDER        32   \n",
       "271     489465    85123A  WHITE HANGING HEART T-LIGHT HOLDER        64   \n",
       "284     489467    85123A                         21733 mixed      -192   \n",
       "366     489517    85123A  WHITE HANGING HEART T-LIGHT HOLDER         1   \n",
       "...        ...       ...                                 ...       ...   \n",
       "524412  538086    85123A  WHITE HANGING HEART T-LIGHT HOLDER        14   \n",
       "524519  538095    85123A  WHITE HANGING HEART T-LIGHT HOLDER         1   \n",
       "524733  538145    85123A  WHITE HANGING HEART T-LIGHT HOLDER         6   \n",
       "525223  538157    85123A  WHITE HANGING HEART T-LIGHT HOLDER         4   \n",
       "525301  538166    85123A  WHITE HANGING HEART T-LIGHT HOLDER         3   \n",
       "\n",
       "               InvoiceDate  Price Customer ID         Country  \n",
       "102    2009-12-01 09:46:00   2.95     13635.0  United Kingdom  \n",
       "147    2009-12-01 10:06:00   2.55     13758.0  United Kingdom  \n",
       "271    2009-12-01 10:52:00   2.55     13767.0  United Kingdom  \n",
       "284    2009-12-01 10:53:00   0.00         NaN  United Kingdom  \n",
       "366    2009-12-01 11:34:00   2.95     16329.0  United Kingdom  \n",
       "...                    ...    ...         ...             ...  \n",
       "524412 2010-12-09 14:44:00   2.95     12872.0  United Kingdom  \n",
       "524519 2010-12-09 14:55:00   2.95     17097.0           Spain  \n",
       "524733 2010-12-09 16:08:00   2.95     15211.0  United Kingdom  \n",
       "525223 2010-12-09 16:57:00   2.95     17576.0  United Kingdom  \n",
       "525301 2010-12-09 18:09:00   2.95     17965.0  United Kingdom  \n",
       "\n",
       "[3516 rows x 8 columns]"
      ]
     },
     "execution_count": 17,
     "metadata": {},
     "output_type": "execute_result"
    }
   ],
   "source": [
    "# Revisamos un stockcode en particular para validar si el precio es unitario o no.\n",
    "df_retail[df_retail['StockCode'] == '85123A']\n"
   ]
  },
  {
   "cell_type": "code",
   "execution_count": 15,
   "metadata": {},
   "outputs": [
    {
     "data": {
      "text/html": [
       "<div>\n",
       "<style scoped>\n",
       "    .dataframe tbody tr th:only-of-type {\n",
       "        vertical-align: middle;\n",
       "    }\n",
       "\n",
       "    .dataframe tbody tr th {\n",
       "        vertical-align: top;\n",
       "    }\n",
       "\n",
       "    .dataframe thead th {\n",
       "        text-align: right;\n",
       "    }\n",
       "</style>\n",
       "<table border=\"1\" class=\"dataframe\">\n",
       "  <thead>\n",
       "    <tr style=\"text-align: right;\">\n",
       "      <th></th>\n",
       "      <th>Invoice</th>\n",
       "      <th>StockCode</th>\n",
       "      <th>Description</th>\n",
       "      <th>Quantity</th>\n",
       "      <th>InvoiceDate</th>\n",
       "      <th>Price</th>\n",
       "      <th>Customer ID</th>\n",
       "      <th>Country</th>\n",
       "    </tr>\n",
       "  </thead>\n",
       "  <tbody>\n",
       "    <tr>\n",
       "      <th>178</th>\n",
       "      <td>C489449</td>\n",
       "      <td>22087</td>\n",
       "      <td>PAPER BUNTING WHITE LACE</td>\n",
       "      <td>-12</td>\n",
       "      <td>2009-12-01 10:33:00</td>\n",
       "      <td>2.95</td>\n",
       "      <td>16321.0</td>\n",
       "      <td>Australia</td>\n",
       "    </tr>\n",
       "    <tr>\n",
       "      <th>179</th>\n",
       "      <td>C489449</td>\n",
       "      <td>85206A</td>\n",
       "      <td>CREAM FELT EASTER EGG BASKET</td>\n",
       "      <td>-6</td>\n",
       "      <td>2009-12-01 10:33:00</td>\n",
       "      <td>1.65</td>\n",
       "      <td>16321.0</td>\n",
       "      <td>Australia</td>\n",
       "    </tr>\n",
       "    <tr>\n",
       "      <th>180</th>\n",
       "      <td>C489449</td>\n",
       "      <td>21895</td>\n",
       "      <td>POTTING SHED SOW 'N' GROW SET</td>\n",
       "      <td>-4</td>\n",
       "      <td>2009-12-01 10:33:00</td>\n",
       "      <td>4.25</td>\n",
       "      <td>16321.0</td>\n",
       "      <td>Australia</td>\n",
       "    </tr>\n",
       "    <tr>\n",
       "      <th>181</th>\n",
       "      <td>C489449</td>\n",
       "      <td>21896</td>\n",
       "      <td>POTTING SHED TWINE</td>\n",
       "      <td>-6</td>\n",
       "      <td>2009-12-01 10:33:00</td>\n",
       "      <td>2.10</td>\n",
       "      <td>16321.0</td>\n",
       "      <td>Australia</td>\n",
       "    </tr>\n",
       "    <tr>\n",
       "      <th>182</th>\n",
       "      <td>C489449</td>\n",
       "      <td>22083</td>\n",
       "      <td>PAPER CHAIN KIT RETRO SPOT</td>\n",
       "      <td>-12</td>\n",
       "      <td>2009-12-01 10:33:00</td>\n",
       "      <td>2.95</td>\n",
       "      <td>16321.0</td>\n",
       "      <td>Australia</td>\n",
       "    </tr>\n",
       "  </tbody>\n",
       "</table>\n",
       "</div>"
      ],
      "text/plain": [
       "     Invoice StockCode                    Description  Quantity  \\\n",
       "178  C489449     22087       PAPER BUNTING WHITE LACE       -12   \n",
       "179  C489449    85206A   CREAM FELT EASTER EGG BASKET        -6   \n",
       "180  C489449     21895  POTTING SHED SOW 'N' GROW SET        -4   \n",
       "181  C489449     21896             POTTING SHED TWINE        -6   \n",
       "182  C489449     22083     PAPER CHAIN KIT RETRO SPOT       -12   \n",
       "\n",
       "            InvoiceDate  Price Customer ID    Country  \n",
       "178 2009-12-01 10:33:00   2.95     16321.0  Australia  \n",
       "179 2009-12-01 10:33:00   1.65     16321.0  Australia  \n",
       "180 2009-12-01 10:33:00   4.25     16321.0  Australia  \n",
       "181 2009-12-01 10:33:00   2.10     16321.0  Australia  \n",
       "182 2009-12-01 10:33:00   2.95     16321.0  Australia  "
      ]
     },
     "execution_count": 15,
     "metadata": {},
     "output_type": "execute_result"
    }
   ],
   "source": [
    "# se muestran los valores de invoice que empiezan con 'c'\n",
    "df_retail[df_retail[\"Invoice\"].str.contains(\"C\", na=False)].head()\n",
    "\n",
    "# Tienen valores negativos, pueden ser devoluciones"
   ]
  },
  {
   "cell_type": "code",
   "execution_count": 4,
   "metadata": {},
   "outputs": [
    {
     "name": "stderr",
     "output_type": "stream",
     "text": [
      "/var/folders/9z/f3pd2_993pgfk8l_z9thq4yc0000gn/T/ipykernel_6862/811158550.py:2: FutureWarning: The default value of numeric_only in DataFrameGroupBy.sum is deprecated. In a future version, numeric_only will default to False. Either specify numeric_only or select only columns which should be valid for the function.\n",
      "  df_retail_stockcode = df_retail.groupby(\"StockCode\").sum()[\"Quantity\"]\n"
     ]
    },
    {
     "data": {
      "text/plain": [
       "StockCode\n",
       "21212     59411\n",
       "85123A    57236\n",
       "84077     54698\n",
       "85099B    48376\n",
       "17003     47647\n",
       "Name: Quantity, dtype: int64"
      ]
     },
     "execution_count": 4,
     "metadata": {},
     "output_type": "execute_result"
    }
   ],
   "source": [
    "# se agrupa por stockcode y se suma por la columna quantity para identificar el stockcode con mayor cantidad de ventas\n",
    "df_retail_stockcode = df_retail.groupby(\"StockCode\").sum()[\"Quantity\"]\n",
    "df_retail_stockcode = df_retail_stockcode.sort_values(ascending=False)\n",
    "df_retail_stockcode.head()\n"
   ]
  },
  {
   "cell_type": "markdown",
   "metadata": {
    "cell_id": "32ebfa6cab1d4cc29f82fe6e12fbe719",
    "deepnote_cell_height": 248.26666259765625,
    "deepnote_cell_type": "markdown",
    "id": "Rcjs-dd1V-1u"
   },
   "source": [
    "## 1.2 Analisís Explotatorio de los Datos [0.5 puntos] \n",
    "\n",
    "En base a la primera visualización del dataset, *Don Mora* le solicita que realicen un análisis exploratorio de los datos, para esto les deberán realizar un análisis univariado y multivariado. De la revisión, ustedes deben explicar potenciales anomalías visualizadas y señalar si existe la necesidad de realizar una limpieza de datos.\n",
    "\n",
    "Explique a que nos referimos con análisis univariable, multivariable y de datos faltantes. ¿Qué beneficios nos otorga estudiar estos datos?. Sea conciso con su respuesta y no escriba mas de 5 líneas para su respuesta.\n",
    "\n",
    "**Respuesta a la Pregunta:**"
   ]
  },
  {
   "cell_type": "markdown",
   "metadata": {
    "cell_id": "2c396985d48d4e3e9f0245dda6f9336d",
    "deepnote_cell_height": 66.26666259765625,
    "deepnote_cell_type": "markdown",
    "tags": []
   },
   "source": [
    "La diferencia entre análisis univariado y multivariado, es que el primero se enfoca en el estudio de una sola variable, mientras que el segundo se enfoca en la relación entre dos o más variables. El análisis de datos faltantes se refiere a la identificación de los datos que faltan en el dataset, y a la decisión de qué hacer con estos datos, como sacarlos o corregirlos.\n",
    "\n",
    "Los principales beneficios de estudiar los datos son que nos permite identificar anomalías en los datos, para luego realizar los análisis correctos y no desviados por algún valor en particular para luego sacar conclusiones útiles. "
   ]
  },
  {
   "cell_type": "code",
   "execution_count": 20,
   "metadata": {},
   "outputs": [
    {
     "data": {
      "text/html": [
       "<div>\n",
       "<style scoped>\n",
       "    .dataframe tbody tr th:only-of-type {\n",
       "        vertical-align: middle;\n",
       "    }\n",
       "\n",
       "    .dataframe tbody tr th {\n",
       "        vertical-align: top;\n",
       "    }\n",
       "\n",
       "    .dataframe thead th {\n",
       "        text-align: right;\n",
       "    }\n",
       "</style>\n",
       "<table border=\"1\" class=\"dataframe\">\n",
       "  <thead>\n",
       "    <tr style=\"text-align: right;\">\n",
       "      <th></th>\n",
       "      <th>Total nulls</th>\n",
       "      <th>Percent nulls</th>\n",
       "    </tr>\n",
       "  </thead>\n",
       "  <tbody>\n",
       "    <tr>\n",
       "      <th>Customer ID</th>\n",
       "      <td>107927</td>\n",
       "      <td>0.205395</td>\n",
       "    </tr>\n",
       "    <tr>\n",
       "      <th>Invoice</th>\n",
       "      <td>0</td>\n",
       "      <td>0.000000</td>\n",
       "    </tr>\n",
       "    <tr>\n",
       "      <th>StockCode</th>\n",
       "      <td>0</td>\n",
       "      <td>0.000000</td>\n",
       "    </tr>\n",
       "    <tr>\n",
       "      <th>Description</th>\n",
       "      <td>0</td>\n",
       "      <td>0.000000</td>\n",
       "    </tr>\n",
       "    <tr>\n",
       "      <th>Quantity</th>\n",
       "      <td>0</td>\n",
       "      <td>0.000000</td>\n",
       "    </tr>\n",
       "    <tr>\n",
       "      <th>InvoiceDate</th>\n",
       "      <td>0</td>\n",
       "      <td>0.000000</td>\n",
       "    </tr>\n",
       "    <tr>\n",
       "      <th>Price</th>\n",
       "      <td>0</td>\n",
       "      <td>0.000000</td>\n",
       "    </tr>\n",
       "    <tr>\n",
       "      <th>Country</th>\n",
       "      <td>0</td>\n",
       "      <td>0.000000</td>\n",
       "    </tr>\n",
       "  </tbody>\n",
       "</table>\n",
       "</div>"
      ],
      "text/plain": [
       "             Total nulls  Percent nulls\n",
       "Customer ID       107927       0.205395\n",
       "Invoice                0       0.000000\n",
       "StockCode              0       0.000000\n",
       "Description            0       0.000000\n",
       "Quantity               0       0.000000\n",
       "InvoiceDate            0       0.000000\n",
       "Price                  0       0.000000\n",
       "Country                0       0.000000"
      ]
     },
     "execution_count": 20,
     "metadata": {},
     "output_type": "execute_result"
    }
   ],
   "source": [
    "# se calcula el total de nulls por columna\n",
    "total_nulls = df_retail.isnull().sum()\n",
    "# se calcula el porcentaje de nulls por columna\n",
    "percent_nulls = total_nulls / df_retail.shape[0]\n",
    "df_nulls = pd.DataFrame(\n",
    "    {\"Total nulls\": total_nulls, \"Percent nulls\": percent_nulls}\n",
    ").sort_values(by=\"Percent nulls\", ascending=False)\n",
    "df_nulls\n",
    "\n"
   ]
  },
  {
   "cell_type": "markdown",
   "metadata": {
    "cell_id": "0bd851d535844d47a2cbf9fff74c4ca2",
    "deepnote_cell_height": 203.86666870117188,
    "deepnote_cell_type": "markdown",
    "tags": []
   },
   "source": [
    "### 1.2.1 Análisis Univariado [2 Puntos]\n",
    "\n",
    "A continuación, se le presentan dos funciones para analizar los datos que componen un dataframe. La primera de estas es la función ``profile_serie()`` la cual recibe una serie y le entrega un análisis detallado de los datos que conforman dicha serie. \n",
    "\n",
    "Ejecute la funcion ``profile_serie()`` sobre cada serie para realizar un análisis univariado de estas. A continuación, comente acerca de el comportamiento de cada variable según las estadísticas descriptivas y los gráficos generados."
   ]
  },
  {
   "cell_type": "code",
   "execution_count": 21,
   "metadata": {
    "cell_id": "54d25348a868403eae39e93090190b2a",
    "deepnote_cell_height": 1682.86669921875,
    "deepnote_cell_type": "code",
    "deepnote_to_be_reexecuted": false,
    "execution_millis": 1,
    "execution_start": 1634325950632,
    "source_hash": "60609391",
    "tags": []
   },
   "outputs": [],
   "source": [
    "from pandas.api.types import is_numeric_dtype\n",
    "from pandas.core.dtypes.common import is_datetime_or_timedelta_dtype\n",
    "\n",
    "\n",
    "def profile_serie(serie_in, n_samples=1000, random_state=42):\n",
    "    serie = serie_in.copy()\n",
    "\n",
    "    profile = pd.Series(dtype='object')\n",
    "    profile[\"Type\"] = serie.dtype\n",
    "    profile = pd.concat([profile, serie.describe()])\n",
    "\n",
    "    # profile = pd.Series([])\n",
    "\n",
    "    if is_numeric_dtype(serie):\n",
    "        profile[\"Negative\"] = (serie < 0).sum()\n",
    "        profile[\"Negative (%)\"] = (\n",
    "            str(round((serie < 0).sum() / len(serie) * 100, 2)) + \" %\"\n",
    "        )\n",
    "        profile[\"Zeros\"] = (serie == 0).sum()\n",
    "        profile[\"Zeros (%)\"] = (\n",
    "            str(round((serie == 0).sum() / len(serie) * 100, 2)) + \" %\"\n",
    "        )\n",
    "        profile[\"Kurt\"] = serie.kurt()\n",
    "        profile[\"Skew\"] = serie.skew()\n",
    "\n",
    "    profile[\" \"] = \" \"  # espacio\n",
    "\n",
    "    profile[\"Missing cells\"] = serie.isnull().sum()\n",
    "    profile[\"Missing cells (%)\"] = (\n",
    "        str(round(serie.isnull().sum() / len(serie) * 100, 2)) + \" %\"\n",
    "    )\n",
    "    profile[\"Duplicate rows\"] = serie.duplicated(False).sum()\n",
    "    profile[\"Duplicate rows (%)\"] = (\n",
    "        str(round(serie.duplicated(False).sum() / len(serie) * 100, 2)) + \" %\"\n",
    "    )\n",
    "    profile[\"Total size in memory\"] = str(serie.memory_usage(index=True)) + \" bytes\"\n",
    "\n",
    "    # profile = pd.concat([profile, description])\n",
    "\n",
    "    profile = profile.rename(\n",
    "        index={\n",
    "            \"count\": \"Number of observations\",\n",
    "            \"mean\": \"Mean\",\n",
    "            \"std\": \"Std\",\n",
    "            \"min\": \"Min\",\n",
    "            \"max\": \"Max\",\n",
    "            \"unique\": \"Unique\",\n",
    "            \"top\": \"Top\",\n",
    "            \"freq\": \"Freq\",\n",
    "        }\n",
    "    )\n",
    "    no_outliers_fig = None\n",
    "\n",
    "    if is_numeric_dtype(serie):\n",
    "\n",
    "        sampled_serie = serie.sample(n_samples, random_state=random_state)\n",
    "        fig = px.histogram(\n",
    "            sampled_serie, marginal=\"box\", title=f\"{serie.name} - With Outliers\"\n",
    "        )\n",
    "\n",
    "        no_outliers = sampled_serie.loc[(np.abs(stats.zscore(sampled_serie)) < 3)]\n",
    "        # zscore = https://es.wikipedia.org/wiki/Unidad_tipificada\n",
    "        \n",
    "        no_outliers_fig = px.histogram(\n",
    "            no_outliers, marginal=\"box\", title=f\"{serie.name} - Without Outliers\"\n",
    "        )\n",
    "\n",
    "    elif is_datetime_or_timedelta_dtype(serie):\n",
    "        sampled_serie = serie.sample(n_samples, random_state=random_state)\n",
    "        fig = px.histogram(sampled_serie, marginal=\"box\", title=f\"{serie.name}\")\n",
    "    \n",
    "    else:\n",
    "        count = (\n",
    "            serie.value_counts()[0:100]\n",
    "            .reset_index()\n",
    "            .rename(columns = {'count': 'Count'})\n",
    "        )\n",
    "        fig = px.bar(\n",
    "            x=count[serie.name].astype(str),\n",
    "            y=count[\"Count\"],\n",
    "            title=f\"100 Most common categories of {serie.name}\",\n",
    "        )\n",
    "    display(Markdown(f'## {serie.name} Profile'))\n",
    "    display(profile)\n",
    "    fig.show()\n",
    "\n",
    "    if no_outliers_fig:\n",
    "        no_outliers_fig.show()\n",
    "\n",
    "    # return fig, profile"
   ]
  },
  {
   "cell_type": "code",
   "execution_count": 22,
   "metadata": {
    "cell_id": "1f75340c80f54da7a11c9eee5fabfa2d",
    "deepnote_cell_height": 1716.5999755859375,
    "deepnote_cell_type": "code",
    "deepnote_output_heights": [
     49,
     424,
     527,
     527
    ],
    "deepnote_to_be_reexecuted": false,
    "execution_millis": 2062,
    "execution_start": 1634325955534,
    "source_hash": "6155d0f5",
    "tags": []
   },
   "outputs": [
    {
     "data": {
      "text/markdown": [
       "## Price Profile"
      ],
      "text/plain": [
       "<IPython.core.display.Markdown object>"
      ]
     },
     "metadata": {},
     "output_type": "display_data"
    },
    {
     "data": {
      "text/plain": [
       "Type                            float64\n",
       "Number of observations         525461.0\n",
       "Mean                           4.688834\n",
       "Std                          146.126914\n",
       "Min                           -53594.36\n",
       "25%                                1.25\n",
       "50%                                 2.1\n",
       "75%                                4.21\n",
       "Max                            25111.09\n",
       "Negative                              3\n",
       "Negative (%)                      0.0 %\n",
       "Zeros                              3687\n",
       "Zeros (%)                         0.7 %\n",
       "Kurt                       64868.344873\n",
       "Skew                        -140.768446\n",
       "                                       \n",
       "Missing cells                         0\n",
       "Missing cells (%)                 0.0 %\n",
       "Duplicate rows                   524485\n",
       "Duplicate rows (%)              99.81 %\n",
       "Total size in memory      4203816 bytes\n",
       "dtype: object"
      ]
     },
     "metadata": {},
     "output_type": "display_data"
    },
    {
     "data": {
      "application/vnd.plotly.v1+json": {
       "config": {
        "plotlyServerURL": "https://plot.ly"
       },
       "data": [
        {
         "alignmentgroup": "True",
         "bingroup": "x",
         "hovertemplate": "variable=Price<br>value=%{x}<br>count=%{y}<extra></extra>",
         "legendgroup": "Price",
         "marker": {
          "color": "#636efa",
          "pattern": {
           "shape": ""
          }
         },
         "name": "Price",
         "offsetgroup": "Price",
         "orientation": "v",
         "showlegend": true,
         "type": "histogram",
         "x": [
          7.95,
          2.1,
          0.55,
          1.25,
          4.95,
          0.64,
          5.91,
          3.75,
          1.25,
          1.95,
          1.25,
          12.72,
          0.38,
          1.25,
          2.95,
          5.06,
          8.5,
          6.04,
          1.65,
          4.25,
          4.21,
          3.75,
          5.91,
          2.1,
          10.95,
          4.21,
          13.87,
          0.42,
          0.1,
          2.51,
          2.51,
          2.95,
          4.21,
          0.42,
          1.45,
          2.55,
          1.66,
          4.65,
          5.55,
          2.51,
          0.65,
          2.55,
          1.45,
          9.95,
          1.25,
          2.1,
          1.95,
          1.65,
          0.87,
          2.95,
          0.85,
          0.55,
          1.65,
          0.85,
          8.49,
          0.85,
          5.91,
          4.21,
          2.1,
          2.51,
          1.95,
          6.35,
          0.65,
          2.55,
          8.5,
          1.25,
          10.95,
          0.85,
          13.57,
          0.85,
          0.85,
          2.1,
          3.75,
          1.65,
          12.75,
          7.49,
          1.66,
          1.65,
          7.65,
          1.65,
          2.95,
          0.65,
          2.55,
          0.85,
          0.85,
          2.51,
          0.85,
          5.91,
          4.25,
          4.95,
          18,
          1.65,
          1.65,
          10.95,
          2.55,
          1.65,
          1.25,
          2.57,
          2.55,
          2.95,
          0.85,
          0.85,
          1.65,
          0.85,
          0.65,
          2.95,
          8.5,
          8.5,
          0.08,
          1.25,
          1.25,
          6.75,
          6.75,
          3.75,
          2.95,
          1.45,
          1.25,
          5.95,
          4.65,
          0.95,
          0.85,
          2.95,
          1.65,
          6.77,
          2.1,
          2.25,
          4.21,
          1.69,
          0.42,
          1.25,
          1.65,
          1.25,
          2.55,
          1.65,
          2.57,
          1.25,
          2.51,
          5.91,
          0.42,
          1.66,
          5.88,
          0.85,
          0.21,
          0.19,
          1.65,
          1.65,
          1.69,
          0.42,
          4.95,
          2.95,
          3.75,
          1.65,
          1.65,
          1.95,
          1.69,
          0.29,
          5.95,
          8.5,
          2.1,
          4.21,
          2.95,
          7.95,
          1.65,
          0.42,
          1.25,
          1.45,
          1.65,
          3.75,
          0.36,
          10.75,
          12.75,
          2.1,
          1.25,
          4.95,
          2.55,
          0.42,
          5.95,
          1.25,
          1.69,
          1.69,
          1.65,
          4.95,
          1.84,
          1.95,
          4.65,
          1.25,
          0.85,
          5.95,
          1.95,
          0.85,
          0.42,
          1.65,
          4.25,
          1.25,
          4.95,
          0.85,
          2.55,
          1.06,
          0,
          1.25,
          4.25,
          3.36,
          0.85,
          5.45,
          1.95,
          7.49,
          1.25,
          0.42,
          7.62,
          1.25,
          2.51,
          1.66,
          0.85,
          3.75,
          1.95,
          0.85,
          2.95,
          4.25,
          2.1,
          3.75,
          1.45,
          0.85,
          0.42,
          8.5,
          3.45,
          8.47,
          8.95,
          3.25,
          0.85,
          1.65,
          0.85,
          2.98,
          2.95,
          0.55,
          3.75,
          1.25,
          1.65,
          0.85,
          7.49,
          0.38,
          1.65,
          3.36,
          1.65,
          34,
          3.75,
          1.95,
          5.06,
          4.65,
          3.39,
          1.25,
          1.25,
          8.47,
          2.95,
          4.95,
          0.65,
          0.85,
          4.21,
          0.65,
          4.95,
          2.1,
          2.51,
          3.75,
          0.85,
          0.43,
          8.5,
          1.25,
          2.95,
          2.95,
          7.95,
          2.1,
          5.91,
          2.95,
          0.95,
          1.25,
          2.51,
          1.25,
          3.36,
          1.25,
          2.55,
          2.95,
          4.25,
          2.1,
          0.72,
          7.49,
          4.21,
          2.95,
          0.85,
          0.42,
          2.51,
          0.85,
          3.75,
          1.65,
          3.75,
          0.42,
          12.75,
          1.25,
          1.65,
          1.65,
          0.85,
          1.45,
          0.85,
          0.34,
          2.95,
          0.85,
          9.95,
          4.21,
          1.95,
          2.51,
          2.55,
          9.95,
          4.21,
          1.66,
          0.85,
          9.95,
          0,
          1.65,
          2.95,
          1.06,
          1.25,
          1.25,
          4.25,
          1.65,
          8.5,
          16.13,
          1.25,
          7.49,
          2.1,
          11.26,
          0.43,
          0.42,
          10.17,
          1.66,
          0.81,
          5.95,
          4.21,
          14.95,
          1.25,
          0.72,
          3.36,
          3.75,
          1.06,
          8.5,
          6.75,
          2.95,
          0.42,
          0.55,
          11.87,
          0.65,
          2.1,
          1.95,
          2.1,
          1.45,
          2.95,
          79.95,
          1.65,
          4.25,
          2.55,
          4.95,
          2.1,
          2.51,
          4.25,
          1.25,
          1.65,
          4.25,
          1.66,
          122.3,
          3.45,
          7.65,
          9.95,
          1.65,
          3.36,
          9.95,
          1.65,
          2.55,
          2.1,
          0.85,
          0.85,
          2.95,
          3.36,
          4.3,
          5.06,
          0.19,
          2.1,
          3.36,
          1.66,
          2.1,
          5.91,
          5.95,
          1.06,
          2.55,
          34,
          2.55,
          7.49,
          0.65,
          2.95,
          7.95,
          8.47,
          2.1,
          3.36,
          2.1,
          1.95,
          2.55,
          2.51,
          2.1,
          2.12,
          9.95,
          4.95,
          4.21,
          1.25,
          0.42,
          2.95,
          5.91,
          0.55,
          0.42,
          38.26,
          12.75,
          2.95,
          9.95,
          16.95,
          5.45,
          0.55,
          3.95,
          2.95,
          0.85,
          4.21,
          0.55,
          7.49,
          0.85,
          0.72,
          1.25,
          2.51,
          6.95,
          1.66,
          5.91,
          4.95,
          4.21,
          0.85,
          3.95,
          0.42,
          1.66,
          1.25,
          1.25,
          2.95,
          34.74,
          1.95,
          1.25,
          2.51,
          0.85,
          2.1,
          1.06,
          6.75,
          2.1,
          0.55,
          6.04,
          0.85,
          0.85,
          0.83,
          3.25,
          2.55,
          7.62,
          1.45,
          1.06,
          1.45,
          2.1,
          2.95,
          9.95,
          1.65,
          12.75,
          1.25,
          3.75,
          0.85,
          0.55,
          1.25,
          0.85,
          0.65,
          1.25,
          1.69,
          5.95,
          0,
          1.25,
          0.55,
          2.1,
          4.21,
          1.65,
          5.95,
          1.25,
          1.45,
          0.85,
          2.95,
          2.95,
          1.65,
          8.47,
          8.5,
          2.55,
          2.1,
          0.85,
          8.5,
          1.95,
          1.7,
          0.65,
          2.95,
          1.65,
          1.25,
          0.85,
          4.25,
          0.64,
          0.42,
          0.38,
          1.65,
          2.1,
          12.75,
          0.65,
          0.65,
          4.95,
          0.85,
          1.25,
          1.66,
          1.65,
          0.85,
          4.95,
          3.04,
          0.42,
          16.95,
          1.65,
          1.25,
          5.06,
          0.85,
          0.85,
          2.1,
          1.65,
          0.85,
          8.47,
          3.43,
          2.55,
          0.42,
          9.95,
          1.66,
          0.65,
          1.25,
          12.75,
          12.72,
          5.95,
          4.65,
          3.39,
          6.75,
          1.65,
          4.25,
          0.85,
          2.55,
          2.95,
          3.75,
          2.55,
          1.65,
          7.95,
          1.95,
          0.29,
          4.95,
          1.25,
          0.42,
          2.95,
          5.95,
          1.25,
          4.95,
          5.91,
          4.21,
          16.98,
          1.65,
          4.25,
          2.95,
          1.25,
          1.45,
          3.36,
          10.95,
          1.49,
          12.75,
          4.25,
          0.29,
          9.95,
          1.65,
          1.45,
          7.95,
          1.45,
          1.66,
          1.65,
          2.95,
          5.95,
          3.75,
          0.42,
          2.95,
          2.98,
          2.95,
          1.65,
          1.65,
          1.95,
          0.38,
          1.65,
          7.95,
          2.55,
          4.25,
          2.95,
          0.85,
          2.95,
          1.45,
          1.65,
          0.42,
          5.95,
          1.25,
          2.1,
          0.85,
          3.75,
          34,
          3.75,
          1.45,
          4.25,
          1.25,
          1.65,
          3.75,
          7.62,
          0.55,
          1.95,
          1.45,
          1.7,
          0.36,
          4.5,
          4.95,
          1.95,
          4.21,
          1.25,
          5.17,
          2.55,
          0.42,
          4.95,
          1.95,
          2.55,
          1.28,
          1.65,
          0.42,
          1.95,
          1.65,
          2.1,
          0.85,
          5.95,
          0.65,
          1.45,
          7.65,
          2.1,
          2.95,
          4.95,
          8.47,
          0.95,
          1.25,
          2.95,
          9.95,
          1.65,
          2.55,
          1.65,
          1.25,
          1.25,
          1.25,
          1.25,
          2.51,
          0.85,
          7.49,
          1.65,
          1.45,
          1.95,
          0.65,
          1.25,
          0.42,
          2.1,
          12.75,
          0.85,
          1.7,
          2.1,
          2.95,
          1.25,
          3.36,
          1.65,
          1.95,
          2.55,
          5.45,
          0.55,
          16.95,
          6.04,
          4.21,
          5.95,
          4.95,
          1.06,
          2.55,
          7.49,
          1.25,
          0.55,
          1.95,
          5.95,
          5.95,
          295,
          2.51,
          5.91,
          4.3,
          1.65,
          2.51,
          1.25,
          1.25,
          16.98,
          1.25,
          10.95,
          3.35,
          1.45,
          1.65,
          1.25,
          1.65,
          4.21,
          2.95,
          0.42,
          2.55,
          4.95,
          4.95,
          1.25,
          3.36,
          1.25,
          1.95,
          3.36,
          2.51,
          0.85,
          2.55,
          2.55,
          1.65,
          5.91,
          1.7,
          2.1,
          3.36,
          0.42,
          2.1,
          1.65,
          0.36,
          2.95,
          8.5,
          0.42,
          0.42,
          1.25,
          1.66,
          1.06,
          5.2,
          1.28,
          12.75,
          1.25,
          2.95,
          3.75,
          1.66,
          5.95,
          8.5,
          0.55,
          0.85,
          2.95,
          1.25,
          0.85,
          1.25,
          1.25,
          4.21,
          0.85,
          0.42,
          7.95,
          3.36,
          1.25,
          0.38,
          0.85,
          2.95,
          8.95,
          1.65,
          0.85,
          11.02,
          7.95,
          0.85,
          2.25,
          4.95,
          0.85,
          11.02,
          2.1,
          0.85,
          12.75,
          2.55,
          0.42,
          2.95,
          12.75,
          1.69,
          0.85,
          1.25,
          5.06,
          5.91,
          4.65,
          0.95,
          1.25,
          1.65,
          0.85,
          0.65,
          2.95,
          8.47,
          1.66,
          5.91,
          0.42,
          5.95,
          7.95,
          4.21,
          2.95,
          1.25,
          0.85,
          6.35,
          0.65,
          0.42,
          6.75,
          0.42,
          2.55,
          12.75,
          2.95,
          0.85,
          4.95,
          2.55,
          1.25,
          2.95,
          1.28,
          6.75,
          1.95,
          1.66,
          4.3,
          0.53,
          1.65,
          3.75,
          2.1,
          2.1,
          3.36,
          3.75,
          5.95,
          1.25,
          0.95,
          2.95,
          4.21,
          1.66,
          5.91,
          1.69,
          5.49,
          2.55,
          1.65,
          0.65,
          1.66,
          0.85,
          7.95,
          2.95,
          4.25,
          0.55,
          0.65,
          1.45,
          3.75,
          1.85,
          5.95,
          4.95,
          1.25,
          2.55,
          12.75,
          9.95,
          0.85,
          1.25,
          1.25,
          0.42,
          1.69,
          0.42,
          1.69,
          2.95,
          1.25,
          1.65,
          5.91,
          3.36,
          0.55,
          1.25,
          0.85,
          1.25,
          5.95,
          6.45,
          2.95,
          1.28,
          1.95,
          1.25,
          0.85,
          0.42,
          1.25,
          1.65,
          4.95,
          2.95,
          3.95,
          3.36,
          0.55,
          1.95,
          2.1,
          1.66,
          2.1,
          1.25,
          9.95,
          1.95,
          3.75,
          3.75,
          12.72,
          3.75,
          0.43,
          0.85,
          0.85,
          2.95,
          0.81,
          0.85,
          1.25,
          2.1,
          5.95,
          0.85,
          2.95,
          8.95,
          2.1,
          2.55,
          3.75,
          0.42,
          0.85,
          1.65,
          2.55,
          9.95,
          4.21,
          29.79,
          4.95,
          1.65,
          3.75,
          0.21,
          2.55,
          2.1,
          4.21,
          0.85,
          0.55,
          0.85,
          0.85,
          2.95,
          0.65,
          1.06,
          7.95,
          4.25,
          0.55,
          2.95,
          2.1,
          1269.51,
          2.51,
          0.65,
          1.25,
          4.25,
          3.75,
          1.25,
          3.36,
          0.55,
          3.75,
          2.55,
          1.95,
          0.42,
          0.42,
          0.42,
          4.21,
          0.85,
          3.75,
          0.43,
          0.42,
          1.65,
          2.95,
          2.51,
          0.85,
          3.25,
          4.95,
          14.43,
          5.45,
          7.95,
          2.1,
          0.42,
          12.75,
          1.45,
          0.85,
          1.66,
          0.85,
          8.47,
          2.1,
          1.85,
          6.75,
          3.75,
          1.25,
          2.95,
          1.66,
          2.95,
          4.25,
          4.95,
          1.25,
          4.21,
          4.95,
          1.25,
          12.75,
          3.75,
          2.95,
          1.65,
          1.95,
          1.95,
          2.98
         ],
         "xaxis": "x",
         "yaxis": "y"
        },
        {
         "alignmentgroup": "True",
         "hovertemplate": "variable=Price<br>value=%{x}<extra></extra>",
         "legendgroup": "Price",
         "marker": {
          "color": "#636efa"
         },
         "name": "Price",
         "notched": true,
         "offsetgroup": "Price",
         "showlegend": false,
         "type": "box",
         "x": [
          7.95,
          2.1,
          0.55,
          1.25,
          4.95,
          0.64,
          5.91,
          3.75,
          1.25,
          1.95,
          1.25,
          12.72,
          0.38,
          1.25,
          2.95,
          5.06,
          8.5,
          6.04,
          1.65,
          4.25,
          4.21,
          3.75,
          5.91,
          2.1,
          10.95,
          4.21,
          13.87,
          0.42,
          0.1,
          2.51,
          2.51,
          2.95,
          4.21,
          0.42,
          1.45,
          2.55,
          1.66,
          4.65,
          5.55,
          2.51,
          0.65,
          2.55,
          1.45,
          9.95,
          1.25,
          2.1,
          1.95,
          1.65,
          0.87,
          2.95,
          0.85,
          0.55,
          1.65,
          0.85,
          8.49,
          0.85,
          5.91,
          4.21,
          2.1,
          2.51,
          1.95,
          6.35,
          0.65,
          2.55,
          8.5,
          1.25,
          10.95,
          0.85,
          13.57,
          0.85,
          0.85,
          2.1,
          3.75,
          1.65,
          12.75,
          7.49,
          1.66,
          1.65,
          7.65,
          1.65,
          2.95,
          0.65,
          2.55,
          0.85,
          0.85,
          2.51,
          0.85,
          5.91,
          4.25,
          4.95,
          18,
          1.65,
          1.65,
          10.95,
          2.55,
          1.65,
          1.25,
          2.57,
          2.55,
          2.95,
          0.85,
          0.85,
          1.65,
          0.85,
          0.65,
          2.95,
          8.5,
          8.5,
          0.08,
          1.25,
          1.25,
          6.75,
          6.75,
          3.75,
          2.95,
          1.45,
          1.25,
          5.95,
          4.65,
          0.95,
          0.85,
          2.95,
          1.65,
          6.77,
          2.1,
          2.25,
          4.21,
          1.69,
          0.42,
          1.25,
          1.65,
          1.25,
          2.55,
          1.65,
          2.57,
          1.25,
          2.51,
          5.91,
          0.42,
          1.66,
          5.88,
          0.85,
          0.21,
          0.19,
          1.65,
          1.65,
          1.69,
          0.42,
          4.95,
          2.95,
          3.75,
          1.65,
          1.65,
          1.95,
          1.69,
          0.29,
          5.95,
          8.5,
          2.1,
          4.21,
          2.95,
          7.95,
          1.65,
          0.42,
          1.25,
          1.45,
          1.65,
          3.75,
          0.36,
          10.75,
          12.75,
          2.1,
          1.25,
          4.95,
          2.55,
          0.42,
          5.95,
          1.25,
          1.69,
          1.69,
          1.65,
          4.95,
          1.84,
          1.95,
          4.65,
          1.25,
          0.85,
          5.95,
          1.95,
          0.85,
          0.42,
          1.65,
          4.25,
          1.25,
          4.95,
          0.85,
          2.55,
          1.06,
          0,
          1.25,
          4.25,
          3.36,
          0.85,
          5.45,
          1.95,
          7.49,
          1.25,
          0.42,
          7.62,
          1.25,
          2.51,
          1.66,
          0.85,
          3.75,
          1.95,
          0.85,
          2.95,
          4.25,
          2.1,
          3.75,
          1.45,
          0.85,
          0.42,
          8.5,
          3.45,
          8.47,
          8.95,
          3.25,
          0.85,
          1.65,
          0.85,
          2.98,
          2.95,
          0.55,
          3.75,
          1.25,
          1.65,
          0.85,
          7.49,
          0.38,
          1.65,
          3.36,
          1.65,
          34,
          3.75,
          1.95,
          5.06,
          4.65,
          3.39,
          1.25,
          1.25,
          8.47,
          2.95,
          4.95,
          0.65,
          0.85,
          4.21,
          0.65,
          4.95,
          2.1,
          2.51,
          3.75,
          0.85,
          0.43,
          8.5,
          1.25,
          2.95,
          2.95,
          7.95,
          2.1,
          5.91,
          2.95,
          0.95,
          1.25,
          2.51,
          1.25,
          3.36,
          1.25,
          2.55,
          2.95,
          4.25,
          2.1,
          0.72,
          7.49,
          4.21,
          2.95,
          0.85,
          0.42,
          2.51,
          0.85,
          3.75,
          1.65,
          3.75,
          0.42,
          12.75,
          1.25,
          1.65,
          1.65,
          0.85,
          1.45,
          0.85,
          0.34,
          2.95,
          0.85,
          9.95,
          4.21,
          1.95,
          2.51,
          2.55,
          9.95,
          4.21,
          1.66,
          0.85,
          9.95,
          0,
          1.65,
          2.95,
          1.06,
          1.25,
          1.25,
          4.25,
          1.65,
          8.5,
          16.13,
          1.25,
          7.49,
          2.1,
          11.26,
          0.43,
          0.42,
          10.17,
          1.66,
          0.81,
          5.95,
          4.21,
          14.95,
          1.25,
          0.72,
          3.36,
          3.75,
          1.06,
          8.5,
          6.75,
          2.95,
          0.42,
          0.55,
          11.87,
          0.65,
          2.1,
          1.95,
          2.1,
          1.45,
          2.95,
          79.95,
          1.65,
          4.25,
          2.55,
          4.95,
          2.1,
          2.51,
          4.25,
          1.25,
          1.65,
          4.25,
          1.66,
          122.3,
          3.45,
          7.65,
          9.95,
          1.65,
          3.36,
          9.95,
          1.65,
          2.55,
          2.1,
          0.85,
          0.85,
          2.95,
          3.36,
          4.3,
          5.06,
          0.19,
          2.1,
          3.36,
          1.66,
          2.1,
          5.91,
          5.95,
          1.06,
          2.55,
          34,
          2.55,
          7.49,
          0.65,
          2.95,
          7.95,
          8.47,
          2.1,
          3.36,
          2.1,
          1.95,
          2.55,
          2.51,
          2.1,
          2.12,
          9.95,
          4.95,
          4.21,
          1.25,
          0.42,
          2.95,
          5.91,
          0.55,
          0.42,
          38.26,
          12.75,
          2.95,
          9.95,
          16.95,
          5.45,
          0.55,
          3.95,
          2.95,
          0.85,
          4.21,
          0.55,
          7.49,
          0.85,
          0.72,
          1.25,
          2.51,
          6.95,
          1.66,
          5.91,
          4.95,
          4.21,
          0.85,
          3.95,
          0.42,
          1.66,
          1.25,
          1.25,
          2.95,
          34.74,
          1.95,
          1.25,
          2.51,
          0.85,
          2.1,
          1.06,
          6.75,
          2.1,
          0.55,
          6.04,
          0.85,
          0.85,
          0.83,
          3.25,
          2.55,
          7.62,
          1.45,
          1.06,
          1.45,
          2.1,
          2.95,
          9.95,
          1.65,
          12.75,
          1.25,
          3.75,
          0.85,
          0.55,
          1.25,
          0.85,
          0.65,
          1.25,
          1.69,
          5.95,
          0,
          1.25,
          0.55,
          2.1,
          4.21,
          1.65,
          5.95,
          1.25,
          1.45,
          0.85,
          2.95,
          2.95,
          1.65,
          8.47,
          8.5,
          2.55,
          2.1,
          0.85,
          8.5,
          1.95,
          1.7,
          0.65,
          2.95,
          1.65,
          1.25,
          0.85,
          4.25,
          0.64,
          0.42,
          0.38,
          1.65,
          2.1,
          12.75,
          0.65,
          0.65,
          4.95,
          0.85,
          1.25,
          1.66,
          1.65,
          0.85,
          4.95,
          3.04,
          0.42,
          16.95,
          1.65,
          1.25,
          5.06,
          0.85,
          0.85,
          2.1,
          1.65,
          0.85,
          8.47,
          3.43,
          2.55,
          0.42,
          9.95,
          1.66,
          0.65,
          1.25,
          12.75,
          12.72,
          5.95,
          4.65,
          3.39,
          6.75,
          1.65,
          4.25,
          0.85,
          2.55,
          2.95,
          3.75,
          2.55,
          1.65,
          7.95,
          1.95,
          0.29,
          4.95,
          1.25,
          0.42,
          2.95,
          5.95,
          1.25,
          4.95,
          5.91,
          4.21,
          16.98,
          1.65,
          4.25,
          2.95,
          1.25,
          1.45,
          3.36,
          10.95,
          1.49,
          12.75,
          4.25,
          0.29,
          9.95,
          1.65,
          1.45,
          7.95,
          1.45,
          1.66,
          1.65,
          2.95,
          5.95,
          3.75,
          0.42,
          2.95,
          2.98,
          2.95,
          1.65,
          1.65,
          1.95,
          0.38,
          1.65,
          7.95,
          2.55,
          4.25,
          2.95,
          0.85,
          2.95,
          1.45,
          1.65,
          0.42,
          5.95,
          1.25,
          2.1,
          0.85,
          3.75,
          34,
          3.75,
          1.45,
          4.25,
          1.25,
          1.65,
          3.75,
          7.62,
          0.55,
          1.95,
          1.45,
          1.7,
          0.36,
          4.5,
          4.95,
          1.95,
          4.21,
          1.25,
          5.17,
          2.55,
          0.42,
          4.95,
          1.95,
          2.55,
          1.28,
          1.65,
          0.42,
          1.95,
          1.65,
          2.1,
          0.85,
          5.95,
          0.65,
          1.45,
          7.65,
          2.1,
          2.95,
          4.95,
          8.47,
          0.95,
          1.25,
          2.95,
          9.95,
          1.65,
          2.55,
          1.65,
          1.25,
          1.25,
          1.25,
          1.25,
          2.51,
          0.85,
          7.49,
          1.65,
          1.45,
          1.95,
          0.65,
          1.25,
          0.42,
          2.1,
          12.75,
          0.85,
          1.7,
          2.1,
          2.95,
          1.25,
          3.36,
          1.65,
          1.95,
          2.55,
          5.45,
          0.55,
          16.95,
          6.04,
          4.21,
          5.95,
          4.95,
          1.06,
          2.55,
          7.49,
          1.25,
          0.55,
          1.95,
          5.95,
          5.95,
          295,
          2.51,
          5.91,
          4.3,
          1.65,
          2.51,
          1.25,
          1.25,
          16.98,
          1.25,
          10.95,
          3.35,
          1.45,
          1.65,
          1.25,
          1.65,
          4.21,
          2.95,
          0.42,
          2.55,
          4.95,
          4.95,
          1.25,
          3.36,
          1.25,
          1.95,
          3.36,
          2.51,
          0.85,
          2.55,
          2.55,
          1.65,
          5.91,
          1.7,
          2.1,
          3.36,
          0.42,
          2.1,
          1.65,
          0.36,
          2.95,
          8.5,
          0.42,
          0.42,
          1.25,
          1.66,
          1.06,
          5.2,
          1.28,
          12.75,
          1.25,
          2.95,
          3.75,
          1.66,
          5.95,
          8.5,
          0.55,
          0.85,
          2.95,
          1.25,
          0.85,
          1.25,
          1.25,
          4.21,
          0.85,
          0.42,
          7.95,
          3.36,
          1.25,
          0.38,
          0.85,
          2.95,
          8.95,
          1.65,
          0.85,
          11.02,
          7.95,
          0.85,
          2.25,
          4.95,
          0.85,
          11.02,
          2.1,
          0.85,
          12.75,
          2.55,
          0.42,
          2.95,
          12.75,
          1.69,
          0.85,
          1.25,
          5.06,
          5.91,
          4.65,
          0.95,
          1.25,
          1.65,
          0.85,
          0.65,
          2.95,
          8.47,
          1.66,
          5.91,
          0.42,
          5.95,
          7.95,
          4.21,
          2.95,
          1.25,
          0.85,
          6.35,
          0.65,
          0.42,
          6.75,
          0.42,
          2.55,
          12.75,
          2.95,
          0.85,
          4.95,
          2.55,
          1.25,
          2.95,
          1.28,
          6.75,
          1.95,
          1.66,
          4.3,
          0.53,
          1.65,
          3.75,
          2.1,
          2.1,
          3.36,
          3.75,
          5.95,
          1.25,
          0.95,
          2.95,
          4.21,
          1.66,
          5.91,
          1.69,
          5.49,
          2.55,
          1.65,
          0.65,
          1.66,
          0.85,
          7.95,
          2.95,
          4.25,
          0.55,
          0.65,
          1.45,
          3.75,
          1.85,
          5.95,
          4.95,
          1.25,
          2.55,
          12.75,
          9.95,
          0.85,
          1.25,
          1.25,
          0.42,
          1.69,
          0.42,
          1.69,
          2.95,
          1.25,
          1.65,
          5.91,
          3.36,
          0.55,
          1.25,
          0.85,
          1.25,
          5.95,
          6.45,
          2.95,
          1.28,
          1.95,
          1.25,
          0.85,
          0.42,
          1.25,
          1.65,
          4.95,
          2.95,
          3.95,
          3.36,
          0.55,
          1.95,
          2.1,
          1.66,
          2.1,
          1.25,
          9.95,
          1.95,
          3.75,
          3.75,
          12.72,
          3.75,
          0.43,
          0.85,
          0.85,
          2.95,
          0.81,
          0.85,
          1.25,
          2.1,
          5.95,
          0.85,
          2.95,
          8.95,
          2.1,
          2.55,
          3.75,
          0.42,
          0.85,
          1.65,
          2.55,
          9.95,
          4.21,
          29.79,
          4.95,
          1.65,
          3.75,
          0.21,
          2.55,
          2.1,
          4.21,
          0.85,
          0.55,
          0.85,
          0.85,
          2.95,
          0.65,
          1.06,
          7.95,
          4.25,
          0.55,
          2.95,
          2.1,
          1269.51,
          2.51,
          0.65,
          1.25,
          4.25,
          3.75,
          1.25,
          3.36,
          0.55,
          3.75,
          2.55,
          1.95,
          0.42,
          0.42,
          0.42,
          4.21,
          0.85,
          3.75,
          0.43,
          0.42,
          1.65,
          2.95,
          2.51,
          0.85,
          3.25,
          4.95,
          14.43,
          5.45,
          7.95,
          2.1,
          0.42,
          12.75,
          1.45,
          0.85,
          1.66,
          0.85,
          8.47,
          2.1,
          1.85,
          6.75,
          3.75,
          1.25,
          2.95,
          1.66,
          2.95,
          4.25,
          4.95,
          1.25,
          4.21,
          4.95,
          1.25,
          12.75,
          3.75,
          2.95,
          1.65,
          1.95,
          1.95,
          2.98
         ],
         "xaxis": "x2",
         "yaxis": "y2"
        }
       ],
       "layout": {
        "barmode": "relative",
        "legend": {
         "title": {
          "text": "variable"
         },
         "tracegroupgap": 0
        },
        "template": {
         "data": {
          "bar": [
           {
            "error_x": {
             "color": "#2a3f5f"
            },
            "error_y": {
             "color": "#2a3f5f"
            },
            "marker": {
             "line": {
              "color": "#E5ECF6",
              "width": 0.5
             },
             "pattern": {
              "fillmode": "overlay",
              "size": 10,
              "solidity": 0.2
             }
            },
            "type": "bar"
           }
          ],
          "barpolar": [
           {
            "marker": {
             "line": {
              "color": "#E5ECF6",
              "width": 0.5
             },
             "pattern": {
              "fillmode": "overlay",
              "size": 10,
              "solidity": 0.2
             }
            },
            "type": "barpolar"
           }
          ],
          "carpet": [
           {
            "aaxis": {
             "endlinecolor": "#2a3f5f",
             "gridcolor": "white",
             "linecolor": "white",
             "minorgridcolor": "white",
             "startlinecolor": "#2a3f5f"
            },
            "baxis": {
             "endlinecolor": "#2a3f5f",
             "gridcolor": "white",
             "linecolor": "white",
             "minorgridcolor": "white",
             "startlinecolor": "#2a3f5f"
            },
            "type": "carpet"
           }
          ],
          "choropleth": [
           {
            "colorbar": {
             "outlinewidth": 0,
             "ticks": ""
            },
            "type": "choropleth"
           }
          ],
          "contour": [
           {
            "colorbar": {
             "outlinewidth": 0,
             "ticks": ""
            },
            "colorscale": [
             [
              0,
              "#0d0887"
             ],
             [
              0.1111111111111111,
              "#46039f"
             ],
             [
              0.2222222222222222,
              "#7201a8"
             ],
             [
              0.3333333333333333,
              "#9c179e"
             ],
             [
              0.4444444444444444,
              "#bd3786"
             ],
             [
              0.5555555555555556,
              "#d8576b"
             ],
             [
              0.6666666666666666,
              "#ed7953"
             ],
             [
              0.7777777777777778,
              "#fb9f3a"
             ],
             [
              0.8888888888888888,
              "#fdca26"
             ],
             [
              1,
              "#f0f921"
             ]
            ],
            "type": "contour"
           }
          ],
          "contourcarpet": [
           {
            "colorbar": {
             "outlinewidth": 0,
             "ticks": ""
            },
            "type": "contourcarpet"
           }
          ],
          "heatmap": [
           {
            "colorbar": {
             "outlinewidth": 0,
             "ticks": ""
            },
            "colorscale": [
             [
              0,
              "#0d0887"
             ],
             [
              0.1111111111111111,
              "#46039f"
             ],
             [
              0.2222222222222222,
              "#7201a8"
             ],
             [
              0.3333333333333333,
              "#9c179e"
             ],
             [
              0.4444444444444444,
              "#bd3786"
             ],
             [
              0.5555555555555556,
              "#d8576b"
             ],
             [
              0.6666666666666666,
              "#ed7953"
             ],
             [
              0.7777777777777778,
              "#fb9f3a"
             ],
             [
              0.8888888888888888,
              "#fdca26"
             ],
             [
              1,
              "#f0f921"
             ]
            ],
            "type": "heatmap"
           }
          ],
          "heatmapgl": [
           {
            "colorbar": {
             "outlinewidth": 0,
             "ticks": ""
            },
            "colorscale": [
             [
              0,
              "#0d0887"
             ],
             [
              0.1111111111111111,
              "#46039f"
             ],
             [
              0.2222222222222222,
              "#7201a8"
             ],
             [
              0.3333333333333333,
              "#9c179e"
             ],
             [
              0.4444444444444444,
              "#bd3786"
             ],
             [
              0.5555555555555556,
              "#d8576b"
             ],
             [
              0.6666666666666666,
              "#ed7953"
             ],
             [
              0.7777777777777778,
              "#fb9f3a"
             ],
             [
              0.8888888888888888,
              "#fdca26"
             ],
             [
              1,
              "#f0f921"
             ]
            ],
            "type": "heatmapgl"
           }
          ],
          "histogram": [
           {
            "marker": {
             "pattern": {
              "fillmode": "overlay",
              "size": 10,
              "solidity": 0.2
             }
            },
            "type": "histogram"
           }
          ],
          "histogram2d": [
           {
            "colorbar": {
             "outlinewidth": 0,
             "ticks": ""
            },
            "colorscale": [
             [
              0,
              "#0d0887"
             ],
             [
              0.1111111111111111,
              "#46039f"
             ],
             [
              0.2222222222222222,
              "#7201a8"
             ],
             [
              0.3333333333333333,
              "#9c179e"
             ],
             [
              0.4444444444444444,
              "#bd3786"
             ],
             [
              0.5555555555555556,
              "#d8576b"
             ],
             [
              0.6666666666666666,
              "#ed7953"
             ],
             [
              0.7777777777777778,
              "#fb9f3a"
             ],
             [
              0.8888888888888888,
              "#fdca26"
             ],
             [
              1,
              "#f0f921"
             ]
            ],
            "type": "histogram2d"
           }
          ],
          "histogram2dcontour": [
           {
            "colorbar": {
             "outlinewidth": 0,
             "ticks": ""
            },
            "colorscale": [
             [
              0,
              "#0d0887"
             ],
             [
              0.1111111111111111,
              "#46039f"
             ],
             [
              0.2222222222222222,
              "#7201a8"
             ],
             [
              0.3333333333333333,
              "#9c179e"
             ],
             [
              0.4444444444444444,
              "#bd3786"
             ],
             [
              0.5555555555555556,
              "#d8576b"
             ],
             [
              0.6666666666666666,
              "#ed7953"
             ],
             [
              0.7777777777777778,
              "#fb9f3a"
             ],
             [
              0.8888888888888888,
              "#fdca26"
             ],
             [
              1,
              "#f0f921"
             ]
            ],
            "type": "histogram2dcontour"
           }
          ],
          "mesh3d": [
           {
            "colorbar": {
             "outlinewidth": 0,
             "ticks": ""
            },
            "type": "mesh3d"
           }
          ],
          "parcoords": [
           {
            "line": {
             "colorbar": {
              "outlinewidth": 0,
              "ticks": ""
             }
            },
            "type": "parcoords"
           }
          ],
          "pie": [
           {
            "automargin": true,
            "type": "pie"
           }
          ],
          "scatter": [
           {
            "fillpattern": {
             "fillmode": "overlay",
             "size": 10,
             "solidity": 0.2
            },
            "type": "scatter"
           }
          ],
          "scatter3d": [
           {
            "line": {
             "colorbar": {
              "outlinewidth": 0,
              "ticks": ""
             }
            },
            "marker": {
             "colorbar": {
              "outlinewidth": 0,
              "ticks": ""
             }
            },
            "type": "scatter3d"
           }
          ],
          "scattercarpet": [
           {
            "marker": {
             "colorbar": {
              "outlinewidth": 0,
              "ticks": ""
             }
            },
            "type": "scattercarpet"
           }
          ],
          "scattergeo": [
           {
            "marker": {
             "colorbar": {
              "outlinewidth": 0,
              "ticks": ""
             }
            },
            "type": "scattergeo"
           }
          ],
          "scattergl": [
           {
            "marker": {
             "colorbar": {
              "outlinewidth": 0,
              "ticks": ""
             }
            },
            "type": "scattergl"
           }
          ],
          "scattermapbox": [
           {
            "marker": {
             "colorbar": {
              "outlinewidth": 0,
              "ticks": ""
             }
            },
            "type": "scattermapbox"
           }
          ],
          "scatterpolar": [
           {
            "marker": {
             "colorbar": {
              "outlinewidth": 0,
              "ticks": ""
             }
            },
            "type": "scatterpolar"
           }
          ],
          "scatterpolargl": [
           {
            "marker": {
             "colorbar": {
              "outlinewidth": 0,
              "ticks": ""
             }
            },
            "type": "scatterpolargl"
           }
          ],
          "scatterternary": [
           {
            "marker": {
             "colorbar": {
              "outlinewidth": 0,
              "ticks": ""
             }
            },
            "type": "scatterternary"
           }
          ],
          "surface": [
           {
            "colorbar": {
             "outlinewidth": 0,
             "ticks": ""
            },
            "colorscale": [
             [
              0,
              "#0d0887"
             ],
             [
              0.1111111111111111,
              "#46039f"
             ],
             [
              0.2222222222222222,
              "#7201a8"
             ],
             [
              0.3333333333333333,
              "#9c179e"
             ],
             [
              0.4444444444444444,
              "#bd3786"
             ],
             [
              0.5555555555555556,
              "#d8576b"
             ],
             [
              0.6666666666666666,
              "#ed7953"
             ],
             [
              0.7777777777777778,
              "#fb9f3a"
             ],
             [
              0.8888888888888888,
              "#fdca26"
             ],
             [
              1,
              "#f0f921"
             ]
            ],
            "type": "surface"
           }
          ],
          "table": [
           {
            "cells": {
             "fill": {
              "color": "#EBF0F8"
             },
             "line": {
              "color": "white"
             }
            },
            "header": {
             "fill": {
              "color": "#C8D4E3"
             },
             "line": {
              "color": "white"
             }
            },
            "type": "table"
           }
          ]
         },
         "layout": {
          "annotationdefaults": {
           "arrowcolor": "#2a3f5f",
           "arrowhead": 0,
           "arrowwidth": 1
          },
          "autotypenumbers": "strict",
          "coloraxis": {
           "colorbar": {
            "outlinewidth": 0,
            "ticks": ""
           }
          },
          "colorscale": {
           "diverging": [
            [
             0,
             "#8e0152"
            ],
            [
             0.1,
             "#c51b7d"
            ],
            [
             0.2,
             "#de77ae"
            ],
            [
             0.3,
             "#f1b6da"
            ],
            [
             0.4,
             "#fde0ef"
            ],
            [
             0.5,
             "#f7f7f7"
            ],
            [
             0.6,
             "#e6f5d0"
            ],
            [
             0.7,
             "#b8e186"
            ],
            [
             0.8,
             "#7fbc41"
            ],
            [
             0.9,
             "#4d9221"
            ],
            [
             1,
             "#276419"
            ]
           ],
           "sequential": [
            [
             0,
             "#0d0887"
            ],
            [
             0.1111111111111111,
             "#46039f"
            ],
            [
             0.2222222222222222,
             "#7201a8"
            ],
            [
             0.3333333333333333,
             "#9c179e"
            ],
            [
             0.4444444444444444,
             "#bd3786"
            ],
            [
             0.5555555555555556,
             "#d8576b"
            ],
            [
             0.6666666666666666,
             "#ed7953"
            ],
            [
             0.7777777777777778,
             "#fb9f3a"
            ],
            [
             0.8888888888888888,
             "#fdca26"
            ],
            [
             1,
             "#f0f921"
            ]
           ],
           "sequentialminus": [
            [
             0,
             "#0d0887"
            ],
            [
             0.1111111111111111,
             "#46039f"
            ],
            [
             0.2222222222222222,
             "#7201a8"
            ],
            [
             0.3333333333333333,
             "#9c179e"
            ],
            [
             0.4444444444444444,
             "#bd3786"
            ],
            [
             0.5555555555555556,
             "#d8576b"
            ],
            [
             0.6666666666666666,
             "#ed7953"
            ],
            [
             0.7777777777777778,
             "#fb9f3a"
            ],
            [
             0.8888888888888888,
             "#fdca26"
            ],
            [
             1,
             "#f0f921"
            ]
           ]
          },
          "colorway": [
           "#636efa",
           "#EF553B",
           "#00cc96",
           "#ab63fa",
           "#FFA15A",
           "#19d3f3",
           "#FF6692",
           "#B6E880",
           "#FF97FF",
           "#FECB52"
          ],
          "font": {
           "color": "#2a3f5f"
          },
          "geo": {
           "bgcolor": "white",
           "lakecolor": "white",
           "landcolor": "#E5ECF6",
           "showlakes": true,
           "showland": true,
           "subunitcolor": "white"
          },
          "hoverlabel": {
           "align": "left"
          },
          "hovermode": "closest",
          "mapbox": {
           "style": "light"
          },
          "paper_bgcolor": "white",
          "plot_bgcolor": "#E5ECF6",
          "polar": {
           "angularaxis": {
            "gridcolor": "white",
            "linecolor": "white",
            "ticks": ""
           },
           "bgcolor": "#E5ECF6",
           "radialaxis": {
            "gridcolor": "white",
            "linecolor": "white",
            "ticks": ""
           }
          },
          "scene": {
           "xaxis": {
            "backgroundcolor": "#E5ECF6",
            "gridcolor": "white",
            "gridwidth": 2,
            "linecolor": "white",
            "showbackground": true,
            "ticks": "",
            "zerolinecolor": "white"
           },
           "yaxis": {
            "backgroundcolor": "#E5ECF6",
            "gridcolor": "white",
            "gridwidth": 2,
            "linecolor": "white",
            "showbackground": true,
            "ticks": "",
            "zerolinecolor": "white"
           },
           "zaxis": {
            "backgroundcolor": "#E5ECF6",
            "gridcolor": "white",
            "gridwidth": 2,
            "linecolor": "white",
            "showbackground": true,
            "ticks": "",
            "zerolinecolor": "white"
           }
          },
          "shapedefaults": {
           "line": {
            "color": "#2a3f5f"
           }
          },
          "ternary": {
           "aaxis": {
            "gridcolor": "white",
            "linecolor": "white",
            "ticks": ""
           },
           "baxis": {
            "gridcolor": "white",
            "linecolor": "white",
            "ticks": ""
           },
           "bgcolor": "#E5ECF6",
           "caxis": {
            "gridcolor": "white",
            "linecolor": "white",
            "ticks": ""
           }
          },
          "title": {
           "x": 0.05
          },
          "xaxis": {
           "automargin": true,
           "gridcolor": "white",
           "linecolor": "white",
           "ticks": "",
           "title": {
            "standoff": 15
           },
           "zerolinecolor": "white",
           "zerolinewidth": 2
          },
          "yaxis": {
           "automargin": true,
           "gridcolor": "white",
           "linecolor": "white",
           "ticks": "",
           "title": {
            "standoff": 15
           },
           "zerolinecolor": "white",
           "zerolinewidth": 2
          }
         }
        },
        "title": {
         "text": "Price - With Outliers"
        },
        "xaxis": {
         "anchor": "y",
         "domain": [
          0,
          1
         ],
         "title": {
          "text": "value"
         }
        },
        "xaxis2": {
         "anchor": "y2",
         "domain": [
          0,
          1
         ],
         "matches": "x",
         "showgrid": true,
         "showticklabels": false
        },
        "yaxis": {
         "anchor": "x",
         "domain": [
          0,
          0.7326
         ],
         "title": {
          "text": "count"
         }
        },
        "yaxis2": {
         "anchor": "x2",
         "domain": [
          0.7426,
          1
         ],
         "matches": "y2",
         "showgrid": false,
         "showline": false,
         "showticklabels": false,
         "ticks": ""
        }
       }
      }
     },
     "metadata": {},
     "output_type": "display_data"
    },
    {
     "data": {
      "application/vnd.plotly.v1+json": {
       "config": {
        "plotlyServerURL": "https://plot.ly"
       },
       "data": [
        {
         "alignmentgroup": "True",
         "bingroup": "x",
         "hovertemplate": "variable=Price<br>value=%{x}<br>count=%{y}<extra></extra>",
         "legendgroup": "Price",
         "marker": {
          "color": "#636efa",
          "pattern": {
           "shape": ""
          }
         },
         "name": "Price",
         "offsetgroup": "Price",
         "orientation": "v",
         "showlegend": true,
         "type": "histogram",
         "x": [
          7.95,
          2.1,
          0.55,
          1.25,
          4.95,
          0.64,
          5.91,
          3.75,
          1.25,
          1.95,
          1.25,
          12.72,
          0.38,
          1.25,
          2.95,
          5.06,
          8.5,
          6.04,
          1.65,
          4.25,
          4.21,
          3.75,
          5.91,
          2.1,
          10.95,
          4.21,
          13.87,
          0.42,
          0.1,
          2.51,
          2.51,
          2.95,
          4.21,
          0.42,
          1.45,
          2.55,
          1.66,
          4.65,
          5.55,
          2.51,
          0.65,
          2.55,
          1.45,
          9.95,
          1.25,
          2.1,
          1.95,
          1.65,
          0.87,
          2.95,
          0.85,
          0.55,
          1.65,
          0.85,
          8.49,
          0.85,
          5.91,
          4.21,
          2.1,
          2.51,
          1.95,
          6.35,
          0.65,
          2.55,
          8.5,
          1.25,
          10.95,
          0.85,
          13.57,
          0.85,
          0.85,
          2.1,
          3.75,
          1.65,
          12.75,
          7.49,
          1.66,
          1.65,
          7.65,
          1.65,
          2.95,
          0.65,
          2.55,
          0.85,
          0.85,
          2.51,
          0.85,
          5.91,
          4.25,
          4.95,
          18,
          1.65,
          1.65,
          10.95,
          2.55,
          1.65,
          1.25,
          2.57,
          2.55,
          2.95,
          0.85,
          0.85,
          1.65,
          0.85,
          0.65,
          2.95,
          8.5,
          8.5,
          0.08,
          1.25,
          1.25,
          6.75,
          6.75,
          3.75,
          2.95,
          1.45,
          1.25,
          5.95,
          4.65,
          0.95,
          0.85,
          2.95,
          1.65,
          6.77,
          2.1,
          2.25,
          4.21,
          1.69,
          0.42,
          1.25,
          1.65,
          1.25,
          2.55,
          1.65,
          2.57,
          1.25,
          2.51,
          5.91,
          0.42,
          1.66,
          5.88,
          0.85,
          0.21,
          0.19,
          1.65,
          1.65,
          1.69,
          0.42,
          4.95,
          2.95,
          3.75,
          1.65,
          1.65,
          1.95,
          1.69,
          0.29,
          5.95,
          8.5,
          2.1,
          4.21,
          2.95,
          7.95,
          1.65,
          0.42,
          1.25,
          1.45,
          1.65,
          3.75,
          0.36,
          10.75,
          12.75,
          2.1,
          1.25,
          4.95,
          2.55,
          0.42,
          5.95,
          1.25,
          1.69,
          1.69,
          1.65,
          4.95,
          1.84,
          1.95,
          4.65,
          1.25,
          0.85,
          5.95,
          1.95,
          0.85,
          0.42,
          1.65,
          4.25,
          1.25,
          4.95,
          0.85,
          2.55,
          1.06,
          0,
          1.25,
          4.25,
          3.36,
          0.85,
          5.45,
          1.95,
          7.49,
          1.25,
          0.42,
          7.62,
          1.25,
          2.51,
          1.66,
          0.85,
          3.75,
          1.95,
          0.85,
          2.95,
          4.25,
          2.1,
          3.75,
          1.45,
          0.85,
          0.42,
          8.5,
          3.45,
          8.47,
          8.95,
          3.25,
          0.85,
          1.65,
          0.85,
          2.98,
          2.95,
          0.55,
          3.75,
          1.25,
          1.65,
          0.85,
          7.49,
          0.38,
          1.65,
          3.36,
          1.65,
          34,
          3.75,
          1.95,
          5.06,
          4.65,
          3.39,
          1.25,
          1.25,
          8.47,
          2.95,
          4.95,
          0.65,
          0.85,
          4.21,
          0.65,
          4.95,
          2.1,
          2.51,
          3.75,
          0.85,
          0.43,
          8.5,
          1.25,
          2.95,
          2.95,
          7.95,
          2.1,
          5.91,
          2.95,
          0.95,
          1.25,
          2.51,
          1.25,
          3.36,
          1.25,
          2.55,
          2.95,
          4.25,
          2.1,
          0.72,
          7.49,
          4.21,
          2.95,
          0.85,
          0.42,
          2.51,
          0.85,
          3.75,
          1.65,
          3.75,
          0.42,
          12.75,
          1.25,
          1.65,
          1.65,
          0.85,
          1.45,
          0.85,
          0.34,
          2.95,
          0.85,
          9.95,
          4.21,
          1.95,
          2.51,
          2.55,
          9.95,
          4.21,
          1.66,
          0.85,
          9.95,
          0,
          1.65,
          2.95,
          1.06,
          1.25,
          1.25,
          4.25,
          1.65,
          8.5,
          16.13,
          1.25,
          7.49,
          2.1,
          11.26,
          0.43,
          0.42,
          10.17,
          1.66,
          0.81,
          5.95,
          4.21,
          14.95,
          1.25,
          0.72,
          3.36,
          3.75,
          1.06,
          8.5,
          6.75,
          2.95,
          0.42,
          0.55,
          11.87,
          0.65,
          2.1,
          1.95,
          2.1,
          1.45,
          2.95,
          79.95,
          1.65,
          4.25,
          2.55,
          4.95,
          2.1,
          2.51,
          4.25,
          1.25,
          1.65,
          4.25,
          1.66,
          122.3,
          3.45,
          7.65,
          9.95,
          1.65,
          3.36,
          9.95,
          1.65,
          2.55,
          2.1,
          0.85,
          0.85,
          2.95,
          3.36,
          4.3,
          5.06,
          0.19,
          2.1,
          3.36,
          1.66,
          2.1,
          5.91,
          5.95,
          1.06,
          2.55,
          34,
          2.55,
          7.49,
          0.65,
          2.95,
          7.95,
          8.47,
          2.1,
          3.36,
          2.1,
          1.95,
          2.55,
          2.51,
          2.1,
          2.12,
          9.95,
          4.95,
          4.21,
          1.25,
          0.42,
          2.95,
          5.91,
          0.55,
          0.42,
          38.26,
          12.75,
          2.95,
          9.95,
          16.95,
          5.45,
          0.55,
          3.95,
          2.95,
          0.85,
          4.21,
          0.55,
          7.49,
          0.85,
          0.72,
          1.25,
          2.51,
          6.95,
          1.66,
          5.91,
          4.95,
          4.21,
          0.85,
          3.95,
          0.42,
          1.66,
          1.25,
          1.25,
          2.95,
          34.74,
          1.95,
          1.25,
          2.51,
          0.85,
          2.1,
          1.06,
          6.75,
          2.1,
          0.55,
          6.04,
          0.85,
          0.85,
          0.83,
          3.25,
          2.55,
          7.62,
          1.45,
          1.06,
          1.45,
          2.1,
          2.95,
          9.95,
          1.65,
          12.75,
          1.25,
          3.75,
          0.85,
          0.55,
          1.25,
          0.85,
          0.65,
          1.25,
          1.69,
          5.95,
          0,
          1.25,
          0.55,
          2.1,
          4.21,
          1.65,
          5.95,
          1.25,
          1.45,
          0.85,
          2.95,
          2.95,
          1.65,
          8.47,
          8.5,
          2.55,
          2.1,
          0.85,
          8.5,
          1.95,
          1.7,
          0.65,
          2.95,
          1.65,
          1.25,
          0.85,
          4.25,
          0.64,
          0.42,
          0.38,
          1.65,
          2.1,
          12.75,
          0.65,
          0.65,
          4.95,
          0.85,
          1.25,
          1.66,
          1.65,
          0.85,
          4.95,
          3.04,
          0.42,
          16.95,
          1.65,
          1.25,
          5.06,
          0.85,
          0.85,
          2.1,
          1.65,
          0.85,
          8.47,
          3.43,
          2.55,
          0.42,
          9.95,
          1.66,
          0.65,
          1.25,
          12.75,
          12.72,
          5.95,
          4.65,
          3.39,
          6.75,
          1.65,
          4.25,
          0.85,
          2.55,
          2.95,
          3.75,
          2.55,
          1.65,
          7.95,
          1.95,
          0.29,
          4.95,
          1.25,
          0.42,
          2.95,
          5.95,
          1.25,
          4.95,
          5.91,
          4.21,
          16.98,
          1.65,
          4.25,
          2.95,
          1.25,
          1.45,
          3.36,
          10.95,
          1.49,
          12.75,
          4.25,
          0.29,
          9.95,
          1.65,
          1.45,
          7.95,
          1.45,
          1.66,
          1.65,
          2.95,
          5.95,
          3.75,
          0.42,
          2.95,
          2.98,
          2.95,
          1.65,
          1.65,
          1.95,
          0.38,
          1.65,
          7.95,
          2.55,
          4.25,
          2.95,
          0.85,
          2.95,
          1.45,
          1.65,
          0.42,
          5.95,
          1.25,
          2.1,
          0.85,
          3.75,
          34,
          3.75,
          1.45,
          4.25,
          1.25,
          1.65,
          3.75,
          7.62,
          0.55,
          1.95,
          1.45,
          1.7,
          0.36,
          4.5,
          4.95,
          1.95,
          4.21,
          1.25,
          5.17,
          2.55,
          0.42,
          4.95,
          1.95,
          2.55,
          1.28,
          1.65,
          0.42,
          1.95,
          1.65,
          2.1,
          0.85,
          5.95,
          0.65,
          1.45,
          7.65,
          2.1,
          2.95,
          4.95,
          8.47,
          0.95,
          1.25,
          2.95,
          9.95,
          1.65,
          2.55,
          1.65,
          1.25,
          1.25,
          1.25,
          1.25,
          2.51,
          0.85,
          7.49,
          1.65,
          1.45,
          1.95,
          0.65,
          1.25,
          0.42,
          2.1,
          12.75,
          0.85,
          1.7,
          2.1,
          2.95,
          1.25,
          3.36,
          1.65,
          1.95,
          2.55,
          5.45,
          0.55,
          16.95,
          6.04,
          4.21,
          5.95,
          4.95,
          1.06,
          2.55,
          7.49,
          1.25,
          0.55,
          1.95,
          5.95,
          5.95,
          2.51,
          5.91,
          4.3,
          1.65,
          2.51,
          1.25,
          1.25,
          16.98,
          1.25,
          10.95,
          3.35,
          1.45,
          1.65,
          1.25,
          1.65,
          4.21,
          2.95,
          0.42,
          2.55,
          4.95,
          4.95,
          1.25,
          3.36,
          1.25,
          1.95,
          3.36,
          2.51,
          0.85,
          2.55,
          2.55,
          1.65,
          5.91,
          1.7,
          2.1,
          3.36,
          0.42,
          2.1,
          1.65,
          0.36,
          2.95,
          8.5,
          0.42,
          0.42,
          1.25,
          1.66,
          1.06,
          5.2,
          1.28,
          12.75,
          1.25,
          2.95,
          3.75,
          1.66,
          5.95,
          8.5,
          0.55,
          0.85,
          2.95,
          1.25,
          0.85,
          1.25,
          1.25,
          4.21,
          0.85,
          0.42,
          7.95,
          3.36,
          1.25,
          0.38,
          0.85,
          2.95,
          8.95,
          1.65,
          0.85,
          11.02,
          7.95,
          0.85,
          2.25,
          4.95,
          0.85,
          11.02,
          2.1,
          0.85,
          12.75,
          2.55,
          0.42,
          2.95,
          12.75,
          1.69,
          0.85,
          1.25,
          5.06,
          5.91,
          4.65,
          0.95,
          1.25,
          1.65,
          0.85,
          0.65,
          2.95,
          8.47,
          1.66,
          5.91,
          0.42,
          5.95,
          7.95,
          4.21,
          2.95,
          1.25,
          0.85,
          6.35,
          0.65,
          0.42,
          6.75,
          0.42,
          2.55,
          12.75,
          2.95,
          0.85,
          4.95,
          2.55,
          1.25,
          2.95,
          1.28,
          6.75,
          1.95,
          1.66,
          4.3,
          0.53,
          1.65,
          3.75,
          2.1,
          2.1,
          3.36,
          3.75,
          5.95,
          1.25,
          0.95,
          2.95,
          4.21,
          1.66,
          5.91,
          1.69,
          5.49,
          2.55,
          1.65,
          0.65,
          1.66,
          0.85,
          7.95,
          2.95,
          4.25,
          0.55,
          0.65,
          1.45,
          3.75,
          1.85,
          5.95,
          4.95,
          1.25,
          2.55,
          12.75,
          9.95,
          0.85,
          1.25,
          1.25,
          0.42,
          1.69,
          0.42,
          1.69,
          2.95,
          1.25,
          1.65,
          5.91,
          3.36,
          0.55,
          1.25,
          0.85,
          1.25,
          5.95,
          6.45,
          2.95,
          1.28,
          1.95,
          1.25,
          0.85,
          0.42,
          1.25,
          1.65,
          4.95,
          2.95,
          3.95,
          3.36,
          0.55,
          1.95,
          2.1,
          1.66,
          2.1,
          1.25,
          9.95,
          1.95,
          3.75,
          3.75,
          12.72,
          3.75,
          0.43,
          0.85,
          0.85,
          2.95,
          0.81,
          0.85,
          1.25,
          2.1,
          5.95,
          0.85,
          2.95,
          8.95,
          2.1,
          2.55,
          3.75,
          0.42,
          0.85,
          1.65,
          2.55,
          9.95,
          4.21,
          29.79,
          4.95,
          1.65,
          3.75,
          0.21,
          2.55,
          2.1,
          4.21,
          0.85,
          0.55,
          0.85,
          0.85,
          2.95,
          0.65,
          1.06,
          7.95,
          4.25,
          0.55,
          2.95,
          2.1,
          2.51,
          0.65,
          1.25,
          4.25,
          3.75,
          1.25,
          3.36,
          0.55,
          3.75,
          2.55,
          1.95,
          0.42,
          0.42,
          0.42,
          4.21,
          0.85,
          3.75,
          0.43,
          0.42,
          1.65,
          2.95,
          2.51,
          0.85,
          3.25,
          4.95,
          14.43,
          5.45,
          7.95,
          2.1,
          0.42,
          12.75,
          1.45,
          0.85,
          1.66,
          0.85,
          8.47,
          2.1,
          1.85,
          6.75,
          3.75,
          1.25,
          2.95,
          1.66,
          2.95,
          4.25,
          4.95,
          1.25,
          4.21,
          4.95,
          1.25,
          12.75,
          3.75,
          2.95,
          1.65,
          1.95,
          1.95,
          2.98
         ],
         "xaxis": "x",
         "yaxis": "y"
        },
        {
         "alignmentgroup": "True",
         "hovertemplate": "variable=Price<br>value=%{x}<extra></extra>",
         "legendgroup": "Price",
         "marker": {
          "color": "#636efa"
         },
         "name": "Price",
         "notched": true,
         "offsetgroup": "Price",
         "showlegend": false,
         "type": "box",
         "x": [
          7.95,
          2.1,
          0.55,
          1.25,
          4.95,
          0.64,
          5.91,
          3.75,
          1.25,
          1.95,
          1.25,
          12.72,
          0.38,
          1.25,
          2.95,
          5.06,
          8.5,
          6.04,
          1.65,
          4.25,
          4.21,
          3.75,
          5.91,
          2.1,
          10.95,
          4.21,
          13.87,
          0.42,
          0.1,
          2.51,
          2.51,
          2.95,
          4.21,
          0.42,
          1.45,
          2.55,
          1.66,
          4.65,
          5.55,
          2.51,
          0.65,
          2.55,
          1.45,
          9.95,
          1.25,
          2.1,
          1.95,
          1.65,
          0.87,
          2.95,
          0.85,
          0.55,
          1.65,
          0.85,
          8.49,
          0.85,
          5.91,
          4.21,
          2.1,
          2.51,
          1.95,
          6.35,
          0.65,
          2.55,
          8.5,
          1.25,
          10.95,
          0.85,
          13.57,
          0.85,
          0.85,
          2.1,
          3.75,
          1.65,
          12.75,
          7.49,
          1.66,
          1.65,
          7.65,
          1.65,
          2.95,
          0.65,
          2.55,
          0.85,
          0.85,
          2.51,
          0.85,
          5.91,
          4.25,
          4.95,
          18,
          1.65,
          1.65,
          10.95,
          2.55,
          1.65,
          1.25,
          2.57,
          2.55,
          2.95,
          0.85,
          0.85,
          1.65,
          0.85,
          0.65,
          2.95,
          8.5,
          8.5,
          0.08,
          1.25,
          1.25,
          6.75,
          6.75,
          3.75,
          2.95,
          1.45,
          1.25,
          5.95,
          4.65,
          0.95,
          0.85,
          2.95,
          1.65,
          6.77,
          2.1,
          2.25,
          4.21,
          1.69,
          0.42,
          1.25,
          1.65,
          1.25,
          2.55,
          1.65,
          2.57,
          1.25,
          2.51,
          5.91,
          0.42,
          1.66,
          5.88,
          0.85,
          0.21,
          0.19,
          1.65,
          1.65,
          1.69,
          0.42,
          4.95,
          2.95,
          3.75,
          1.65,
          1.65,
          1.95,
          1.69,
          0.29,
          5.95,
          8.5,
          2.1,
          4.21,
          2.95,
          7.95,
          1.65,
          0.42,
          1.25,
          1.45,
          1.65,
          3.75,
          0.36,
          10.75,
          12.75,
          2.1,
          1.25,
          4.95,
          2.55,
          0.42,
          5.95,
          1.25,
          1.69,
          1.69,
          1.65,
          4.95,
          1.84,
          1.95,
          4.65,
          1.25,
          0.85,
          5.95,
          1.95,
          0.85,
          0.42,
          1.65,
          4.25,
          1.25,
          4.95,
          0.85,
          2.55,
          1.06,
          0,
          1.25,
          4.25,
          3.36,
          0.85,
          5.45,
          1.95,
          7.49,
          1.25,
          0.42,
          7.62,
          1.25,
          2.51,
          1.66,
          0.85,
          3.75,
          1.95,
          0.85,
          2.95,
          4.25,
          2.1,
          3.75,
          1.45,
          0.85,
          0.42,
          8.5,
          3.45,
          8.47,
          8.95,
          3.25,
          0.85,
          1.65,
          0.85,
          2.98,
          2.95,
          0.55,
          3.75,
          1.25,
          1.65,
          0.85,
          7.49,
          0.38,
          1.65,
          3.36,
          1.65,
          34,
          3.75,
          1.95,
          5.06,
          4.65,
          3.39,
          1.25,
          1.25,
          8.47,
          2.95,
          4.95,
          0.65,
          0.85,
          4.21,
          0.65,
          4.95,
          2.1,
          2.51,
          3.75,
          0.85,
          0.43,
          8.5,
          1.25,
          2.95,
          2.95,
          7.95,
          2.1,
          5.91,
          2.95,
          0.95,
          1.25,
          2.51,
          1.25,
          3.36,
          1.25,
          2.55,
          2.95,
          4.25,
          2.1,
          0.72,
          7.49,
          4.21,
          2.95,
          0.85,
          0.42,
          2.51,
          0.85,
          3.75,
          1.65,
          3.75,
          0.42,
          12.75,
          1.25,
          1.65,
          1.65,
          0.85,
          1.45,
          0.85,
          0.34,
          2.95,
          0.85,
          9.95,
          4.21,
          1.95,
          2.51,
          2.55,
          9.95,
          4.21,
          1.66,
          0.85,
          9.95,
          0,
          1.65,
          2.95,
          1.06,
          1.25,
          1.25,
          4.25,
          1.65,
          8.5,
          16.13,
          1.25,
          7.49,
          2.1,
          11.26,
          0.43,
          0.42,
          10.17,
          1.66,
          0.81,
          5.95,
          4.21,
          14.95,
          1.25,
          0.72,
          3.36,
          3.75,
          1.06,
          8.5,
          6.75,
          2.95,
          0.42,
          0.55,
          11.87,
          0.65,
          2.1,
          1.95,
          2.1,
          1.45,
          2.95,
          79.95,
          1.65,
          4.25,
          2.55,
          4.95,
          2.1,
          2.51,
          4.25,
          1.25,
          1.65,
          4.25,
          1.66,
          122.3,
          3.45,
          7.65,
          9.95,
          1.65,
          3.36,
          9.95,
          1.65,
          2.55,
          2.1,
          0.85,
          0.85,
          2.95,
          3.36,
          4.3,
          5.06,
          0.19,
          2.1,
          3.36,
          1.66,
          2.1,
          5.91,
          5.95,
          1.06,
          2.55,
          34,
          2.55,
          7.49,
          0.65,
          2.95,
          7.95,
          8.47,
          2.1,
          3.36,
          2.1,
          1.95,
          2.55,
          2.51,
          2.1,
          2.12,
          9.95,
          4.95,
          4.21,
          1.25,
          0.42,
          2.95,
          5.91,
          0.55,
          0.42,
          38.26,
          12.75,
          2.95,
          9.95,
          16.95,
          5.45,
          0.55,
          3.95,
          2.95,
          0.85,
          4.21,
          0.55,
          7.49,
          0.85,
          0.72,
          1.25,
          2.51,
          6.95,
          1.66,
          5.91,
          4.95,
          4.21,
          0.85,
          3.95,
          0.42,
          1.66,
          1.25,
          1.25,
          2.95,
          34.74,
          1.95,
          1.25,
          2.51,
          0.85,
          2.1,
          1.06,
          6.75,
          2.1,
          0.55,
          6.04,
          0.85,
          0.85,
          0.83,
          3.25,
          2.55,
          7.62,
          1.45,
          1.06,
          1.45,
          2.1,
          2.95,
          9.95,
          1.65,
          12.75,
          1.25,
          3.75,
          0.85,
          0.55,
          1.25,
          0.85,
          0.65,
          1.25,
          1.69,
          5.95,
          0,
          1.25,
          0.55,
          2.1,
          4.21,
          1.65,
          5.95,
          1.25,
          1.45,
          0.85,
          2.95,
          2.95,
          1.65,
          8.47,
          8.5,
          2.55,
          2.1,
          0.85,
          8.5,
          1.95,
          1.7,
          0.65,
          2.95,
          1.65,
          1.25,
          0.85,
          4.25,
          0.64,
          0.42,
          0.38,
          1.65,
          2.1,
          12.75,
          0.65,
          0.65,
          4.95,
          0.85,
          1.25,
          1.66,
          1.65,
          0.85,
          4.95,
          3.04,
          0.42,
          16.95,
          1.65,
          1.25,
          5.06,
          0.85,
          0.85,
          2.1,
          1.65,
          0.85,
          8.47,
          3.43,
          2.55,
          0.42,
          9.95,
          1.66,
          0.65,
          1.25,
          12.75,
          12.72,
          5.95,
          4.65,
          3.39,
          6.75,
          1.65,
          4.25,
          0.85,
          2.55,
          2.95,
          3.75,
          2.55,
          1.65,
          7.95,
          1.95,
          0.29,
          4.95,
          1.25,
          0.42,
          2.95,
          5.95,
          1.25,
          4.95,
          5.91,
          4.21,
          16.98,
          1.65,
          4.25,
          2.95,
          1.25,
          1.45,
          3.36,
          10.95,
          1.49,
          12.75,
          4.25,
          0.29,
          9.95,
          1.65,
          1.45,
          7.95,
          1.45,
          1.66,
          1.65,
          2.95,
          5.95,
          3.75,
          0.42,
          2.95,
          2.98,
          2.95,
          1.65,
          1.65,
          1.95,
          0.38,
          1.65,
          7.95,
          2.55,
          4.25,
          2.95,
          0.85,
          2.95,
          1.45,
          1.65,
          0.42,
          5.95,
          1.25,
          2.1,
          0.85,
          3.75,
          34,
          3.75,
          1.45,
          4.25,
          1.25,
          1.65,
          3.75,
          7.62,
          0.55,
          1.95,
          1.45,
          1.7,
          0.36,
          4.5,
          4.95,
          1.95,
          4.21,
          1.25,
          5.17,
          2.55,
          0.42,
          4.95,
          1.95,
          2.55,
          1.28,
          1.65,
          0.42,
          1.95,
          1.65,
          2.1,
          0.85,
          5.95,
          0.65,
          1.45,
          7.65,
          2.1,
          2.95,
          4.95,
          8.47,
          0.95,
          1.25,
          2.95,
          9.95,
          1.65,
          2.55,
          1.65,
          1.25,
          1.25,
          1.25,
          1.25,
          2.51,
          0.85,
          7.49,
          1.65,
          1.45,
          1.95,
          0.65,
          1.25,
          0.42,
          2.1,
          12.75,
          0.85,
          1.7,
          2.1,
          2.95,
          1.25,
          3.36,
          1.65,
          1.95,
          2.55,
          5.45,
          0.55,
          16.95,
          6.04,
          4.21,
          5.95,
          4.95,
          1.06,
          2.55,
          7.49,
          1.25,
          0.55,
          1.95,
          5.95,
          5.95,
          2.51,
          5.91,
          4.3,
          1.65,
          2.51,
          1.25,
          1.25,
          16.98,
          1.25,
          10.95,
          3.35,
          1.45,
          1.65,
          1.25,
          1.65,
          4.21,
          2.95,
          0.42,
          2.55,
          4.95,
          4.95,
          1.25,
          3.36,
          1.25,
          1.95,
          3.36,
          2.51,
          0.85,
          2.55,
          2.55,
          1.65,
          5.91,
          1.7,
          2.1,
          3.36,
          0.42,
          2.1,
          1.65,
          0.36,
          2.95,
          8.5,
          0.42,
          0.42,
          1.25,
          1.66,
          1.06,
          5.2,
          1.28,
          12.75,
          1.25,
          2.95,
          3.75,
          1.66,
          5.95,
          8.5,
          0.55,
          0.85,
          2.95,
          1.25,
          0.85,
          1.25,
          1.25,
          4.21,
          0.85,
          0.42,
          7.95,
          3.36,
          1.25,
          0.38,
          0.85,
          2.95,
          8.95,
          1.65,
          0.85,
          11.02,
          7.95,
          0.85,
          2.25,
          4.95,
          0.85,
          11.02,
          2.1,
          0.85,
          12.75,
          2.55,
          0.42,
          2.95,
          12.75,
          1.69,
          0.85,
          1.25,
          5.06,
          5.91,
          4.65,
          0.95,
          1.25,
          1.65,
          0.85,
          0.65,
          2.95,
          8.47,
          1.66,
          5.91,
          0.42,
          5.95,
          7.95,
          4.21,
          2.95,
          1.25,
          0.85,
          6.35,
          0.65,
          0.42,
          6.75,
          0.42,
          2.55,
          12.75,
          2.95,
          0.85,
          4.95,
          2.55,
          1.25,
          2.95,
          1.28,
          6.75,
          1.95,
          1.66,
          4.3,
          0.53,
          1.65,
          3.75,
          2.1,
          2.1,
          3.36,
          3.75,
          5.95,
          1.25,
          0.95,
          2.95,
          4.21,
          1.66,
          5.91,
          1.69,
          5.49,
          2.55,
          1.65,
          0.65,
          1.66,
          0.85,
          7.95,
          2.95,
          4.25,
          0.55,
          0.65,
          1.45,
          3.75,
          1.85,
          5.95,
          4.95,
          1.25,
          2.55,
          12.75,
          9.95,
          0.85,
          1.25,
          1.25,
          0.42,
          1.69,
          0.42,
          1.69,
          2.95,
          1.25,
          1.65,
          5.91,
          3.36,
          0.55,
          1.25,
          0.85,
          1.25,
          5.95,
          6.45,
          2.95,
          1.28,
          1.95,
          1.25,
          0.85,
          0.42,
          1.25,
          1.65,
          4.95,
          2.95,
          3.95,
          3.36,
          0.55,
          1.95,
          2.1,
          1.66,
          2.1,
          1.25,
          9.95,
          1.95,
          3.75,
          3.75,
          12.72,
          3.75,
          0.43,
          0.85,
          0.85,
          2.95,
          0.81,
          0.85,
          1.25,
          2.1,
          5.95,
          0.85,
          2.95,
          8.95,
          2.1,
          2.55,
          3.75,
          0.42,
          0.85,
          1.65,
          2.55,
          9.95,
          4.21,
          29.79,
          4.95,
          1.65,
          3.75,
          0.21,
          2.55,
          2.1,
          4.21,
          0.85,
          0.55,
          0.85,
          0.85,
          2.95,
          0.65,
          1.06,
          7.95,
          4.25,
          0.55,
          2.95,
          2.1,
          2.51,
          0.65,
          1.25,
          4.25,
          3.75,
          1.25,
          3.36,
          0.55,
          3.75,
          2.55,
          1.95,
          0.42,
          0.42,
          0.42,
          4.21,
          0.85,
          3.75,
          0.43,
          0.42,
          1.65,
          2.95,
          2.51,
          0.85,
          3.25,
          4.95,
          14.43,
          5.45,
          7.95,
          2.1,
          0.42,
          12.75,
          1.45,
          0.85,
          1.66,
          0.85,
          8.47,
          2.1,
          1.85,
          6.75,
          3.75,
          1.25,
          2.95,
          1.66,
          2.95,
          4.25,
          4.95,
          1.25,
          4.21,
          4.95,
          1.25,
          12.75,
          3.75,
          2.95,
          1.65,
          1.95,
          1.95,
          2.98
         ],
         "xaxis": "x2",
         "yaxis": "y2"
        }
       ],
       "layout": {
        "barmode": "relative",
        "legend": {
         "title": {
          "text": "variable"
         },
         "tracegroupgap": 0
        },
        "template": {
         "data": {
          "bar": [
           {
            "error_x": {
             "color": "#2a3f5f"
            },
            "error_y": {
             "color": "#2a3f5f"
            },
            "marker": {
             "line": {
              "color": "#E5ECF6",
              "width": 0.5
             },
             "pattern": {
              "fillmode": "overlay",
              "size": 10,
              "solidity": 0.2
             }
            },
            "type": "bar"
           }
          ],
          "barpolar": [
           {
            "marker": {
             "line": {
              "color": "#E5ECF6",
              "width": 0.5
             },
             "pattern": {
              "fillmode": "overlay",
              "size": 10,
              "solidity": 0.2
             }
            },
            "type": "barpolar"
           }
          ],
          "carpet": [
           {
            "aaxis": {
             "endlinecolor": "#2a3f5f",
             "gridcolor": "white",
             "linecolor": "white",
             "minorgridcolor": "white",
             "startlinecolor": "#2a3f5f"
            },
            "baxis": {
             "endlinecolor": "#2a3f5f",
             "gridcolor": "white",
             "linecolor": "white",
             "minorgridcolor": "white",
             "startlinecolor": "#2a3f5f"
            },
            "type": "carpet"
           }
          ],
          "choropleth": [
           {
            "colorbar": {
             "outlinewidth": 0,
             "ticks": ""
            },
            "type": "choropleth"
           }
          ],
          "contour": [
           {
            "colorbar": {
             "outlinewidth": 0,
             "ticks": ""
            },
            "colorscale": [
             [
              0,
              "#0d0887"
             ],
             [
              0.1111111111111111,
              "#46039f"
             ],
             [
              0.2222222222222222,
              "#7201a8"
             ],
             [
              0.3333333333333333,
              "#9c179e"
             ],
             [
              0.4444444444444444,
              "#bd3786"
             ],
             [
              0.5555555555555556,
              "#d8576b"
             ],
             [
              0.6666666666666666,
              "#ed7953"
             ],
             [
              0.7777777777777778,
              "#fb9f3a"
             ],
             [
              0.8888888888888888,
              "#fdca26"
             ],
             [
              1,
              "#f0f921"
             ]
            ],
            "type": "contour"
           }
          ],
          "contourcarpet": [
           {
            "colorbar": {
             "outlinewidth": 0,
             "ticks": ""
            },
            "type": "contourcarpet"
           }
          ],
          "heatmap": [
           {
            "colorbar": {
             "outlinewidth": 0,
             "ticks": ""
            },
            "colorscale": [
             [
              0,
              "#0d0887"
             ],
             [
              0.1111111111111111,
              "#46039f"
             ],
             [
              0.2222222222222222,
              "#7201a8"
             ],
             [
              0.3333333333333333,
              "#9c179e"
             ],
             [
              0.4444444444444444,
              "#bd3786"
             ],
             [
              0.5555555555555556,
              "#d8576b"
             ],
             [
              0.6666666666666666,
              "#ed7953"
             ],
             [
              0.7777777777777778,
              "#fb9f3a"
             ],
             [
              0.8888888888888888,
              "#fdca26"
             ],
             [
              1,
              "#f0f921"
             ]
            ],
            "type": "heatmap"
           }
          ],
          "heatmapgl": [
           {
            "colorbar": {
             "outlinewidth": 0,
             "ticks": ""
            },
            "colorscale": [
             [
              0,
              "#0d0887"
             ],
             [
              0.1111111111111111,
              "#46039f"
             ],
             [
              0.2222222222222222,
              "#7201a8"
             ],
             [
              0.3333333333333333,
              "#9c179e"
             ],
             [
              0.4444444444444444,
              "#bd3786"
             ],
             [
              0.5555555555555556,
              "#d8576b"
             ],
             [
              0.6666666666666666,
              "#ed7953"
             ],
             [
              0.7777777777777778,
              "#fb9f3a"
             ],
             [
              0.8888888888888888,
              "#fdca26"
             ],
             [
              1,
              "#f0f921"
             ]
            ],
            "type": "heatmapgl"
           }
          ],
          "histogram": [
           {
            "marker": {
             "pattern": {
              "fillmode": "overlay",
              "size": 10,
              "solidity": 0.2
             }
            },
            "type": "histogram"
           }
          ],
          "histogram2d": [
           {
            "colorbar": {
             "outlinewidth": 0,
             "ticks": ""
            },
            "colorscale": [
             [
              0,
              "#0d0887"
             ],
             [
              0.1111111111111111,
              "#46039f"
             ],
             [
              0.2222222222222222,
              "#7201a8"
             ],
             [
              0.3333333333333333,
              "#9c179e"
             ],
             [
              0.4444444444444444,
              "#bd3786"
             ],
             [
              0.5555555555555556,
              "#d8576b"
             ],
             [
              0.6666666666666666,
              "#ed7953"
             ],
             [
              0.7777777777777778,
              "#fb9f3a"
             ],
             [
              0.8888888888888888,
              "#fdca26"
             ],
             [
              1,
              "#f0f921"
             ]
            ],
            "type": "histogram2d"
           }
          ],
          "histogram2dcontour": [
           {
            "colorbar": {
             "outlinewidth": 0,
             "ticks": ""
            },
            "colorscale": [
             [
              0,
              "#0d0887"
             ],
             [
              0.1111111111111111,
              "#46039f"
             ],
             [
              0.2222222222222222,
              "#7201a8"
             ],
             [
              0.3333333333333333,
              "#9c179e"
             ],
             [
              0.4444444444444444,
              "#bd3786"
             ],
             [
              0.5555555555555556,
              "#d8576b"
             ],
             [
              0.6666666666666666,
              "#ed7953"
             ],
             [
              0.7777777777777778,
              "#fb9f3a"
             ],
             [
              0.8888888888888888,
              "#fdca26"
             ],
             [
              1,
              "#f0f921"
             ]
            ],
            "type": "histogram2dcontour"
           }
          ],
          "mesh3d": [
           {
            "colorbar": {
             "outlinewidth": 0,
             "ticks": ""
            },
            "type": "mesh3d"
           }
          ],
          "parcoords": [
           {
            "line": {
             "colorbar": {
              "outlinewidth": 0,
              "ticks": ""
             }
            },
            "type": "parcoords"
           }
          ],
          "pie": [
           {
            "automargin": true,
            "type": "pie"
           }
          ],
          "scatter": [
           {
            "fillpattern": {
             "fillmode": "overlay",
             "size": 10,
             "solidity": 0.2
            },
            "type": "scatter"
           }
          ],
          "scatter3d": [
           {
            "line": {
             "colorbar": {
              "outlinewidth": 0,
              "ticks": ""
             }
            },
            "marker": {
             "colorbar": {
              "outlinewidth": 0,
              "ticks": ""
             }
            },
            "type": "scatter3d"
           }
          ],
          "scattercarpet": [
           {
            "marker": {
             "colorbar": {
              "outlinewidth": 0,
              "ticks": ""
             }
            },
            "type": "scattercarpet"
           }
          ],
          "scattergeo": [
           {
            "marker": {
             "colorbar": {
              "outlinewidth": 0,
              "ticks": ""
             }
            },
            "type": "scattergeo"
           }
          ],
          "scattergl": [
           {
            "marker": {
             "colorbar": {
              "outlinewidth": 0,
              "ticks": ""
             }
            },
            "type": "scattergl"
           }
          ],
          "scattermapbox": [
           {
            "marker": {
             "colorbar": {
              "outlinewidth": 0,
              "ticks": ""
             }
            },
            "type": "scattermapbox"
           }
          ],
          "scatterpolar": [
           {
            "marker": {
             "colorbar": {
              "outlinewidth": 0,
              "ticks": ""
             }
            },
            "type": "scatterpolar"
           }
          ],
          "scatterpolargl": [
           {
            "marker": {
             "colorbar": {
              "outlinewidth": 0,
              "ticks": ""
             }
            },
            "type": "scatterpolargl"
           }
          ],
          "scatterternary": [
           {
            "marker": {
             "colorbar": {
              "outlinewidth": 0,
              "ticks": ""
             }
            },
            "type": "scatterternary"
           }
          ],
          "surface": [
           {
            "colorbar": {
             "outlinewidth": 0,
             "ticks": ""
            },
            "colorscale": [
             [
              0,
              "#0d0887"
             ],
             [
              0.1111111111111111,
              "#46039f"
             ],
             [
              0.2222222222222222,
              "#7201a8"
             ],
             [
              0.3333333333333333,
              "#9c179e"
             ],
             [
              0.4444444444444444,
              "#bd3786"
             ],
             [
              0.5555555555555556,
              "#d8576b"
             ],
             [
              0.6666666666666666,
              "#ed7953"
             ],
             [
              0.7777777777777778,
              "#fb9f3a"
             ],
             [
              0.8888888888888888,
              "#fdca26"
             ],
             [
              1,
              "#f0f921"
             ]
            ],
            "type": "surface"
           }
          ],
          "table": [
           {
            "cells": {
             "fill": {
              "color": "#EBF0F8"
             },
             "line": {
              "color": "white"
             }
            },
            "header": {
             "fill": {
              "color": "#C8D4E3"
             },
             "line": {
              "color": "white"
             }
            },
            "type": "table"
           }
          ]
         },
         "layout": {
          "annotationdefaults": {
           "arrowcolor": "#2a3f5f",
           "arrowhead": 0,
           "arrowwidth": 1
          },
          "autotypenumbers": "strict",
          "coloraxis": {
           "colorbar": {
            "outlinewidth": 0,
            "ticks": ""
           }
          },
          "colorscale": {
           "diverging": [
            [
             0,
             "#8e0152"
            ],
            [
             0.1,
             "#c51b7d"
            ],
            [
             0.2,
             "#de77ae"
            ],
            [
             0.3,
             "#f1b6da"
            ],
            [
             0.4,
             "#fde0ef"
            ],
            [
             0.5,
             "#f7f7f7"
            ],
            [
             0.6,
             "#e6f5d0"
            ],
            [
             0.7,
             "#b8e186"
            ],
            [
             0.8,
             "#7fbc41"
            ],
            [
             0.9,
             "#4d9221"
            ],
            [
             1,
             "#276419"
            ]
           ],
           "sequential": [
            [
             0,
             "#0d0887"
            ],
            [
             0.1111111111111111,
             "#46039f"
            ],
            [
             0.2222222222222222,
             "#7201a8"
            ],
            [
             0.3333333333333333,
             "#9c179e"
            ],
            [
             0.4444444444444444,
             "#bd3786"
            ],
            [
             0.5555555555555556,
             "#d8576b"
            ],
            [
             0.6666666666666666,
             "#ed7953"
            ],
            [
             0.7777777777777778,
             "#fb9f3a"
            ],
            [
             0.8888888888888888,
             "#fdca26"
            ],
            [
             1,
             "#f0f921"
            ]
           ],
           "sequentialminus": [
            [
             0,
             "#0d0887"
            ],
            [
             0.1111111111111111,
             "#46039f"
            ],
            [
             0.2222222222222222,
             "#7201a8"
            ],
            [
             0.3333333333333333,
             "#9c179e"
            ],
            [
             0.4444444444444444,
             "#bd3786"
            ],
            [
             0.5555555555555556,
             "#d8576b"
            ],
            [
             0.6666666666666666,
             "#ed7953"
            ],
            [
             0.7777777777777778,
             "#fb9f3a"
            ],
            [
             0.8888888888888888,
             "#fdca26"
            ],
            [
             1,
             "#f0f921"
            ]
           ]
          },
          "colorway": [
           "#636efa",
           "#EF553B",
           "#00cc96",
           "#ab63fa",
           "#FFA15A",
           "#19d3f3",
           "#FF6692",
           "#B6E880",
           "#FF97FF",
           "#FECB52"
          ],
          "font": {
           "color": "#2a3f5f"
          },
          "geo": {
           "bgcolor": "white",
           "lakecolor": "white",
           "landcolor": "#E5ECF6",
           "showlakes": true,
           "showland": true,
           "subunitcolor": "white"
          },
          "hoverlabel": {
           "align": "left"
          },
          "hovermode": "closest",
          "mapbox": {
           "style": "light"
          },
          "paper_bgcolor": "white",
          "plot_bgcolor": "#E5ECF6",
          "polar": {
           "angularaxis": {
            "gridcolor": "white",
            "linecolor": "white",
            "ticks": ""
           },
           "bgcolor": "#E5ECF6",
           "radialaxis": {
            "gridcolor": "white",
            "linecolor": "white",
            "ticks": ""
           }
          },
          "scene": {
           "xaxis": {
            "backgroundcolor": "#E5ECF6",
            "gridcolor": "white",
            "gridwidth": 2,
            "linecolor": "white",
            "showbackground": true,
            "ticks": "",
            "zerolinecolor": "white"
           },
           "yaxis": {
            "backgroundcolor": "#E5ECF6",
            "gridcolor": "white",
            "gridwidth": 2,
            "linecolor": "white",
            "showbackground": true,
            "ticks": "",
            "zerolinecolor": "white"
           },
           "zaxis": {
            "backgroundcolor": "#E5ECF6",
            "gridcolor": "white",
            "gridwidth": 2,
            "linecolor": "white",
            "showbackground": true,
            "ticks": "",
            "zerolinecolor": "white"
           }
          },
          "shapedefaults": {
           "line": {
            "color": "#2a3f5f"
           }
          },
          "ternary": {
           "aaxis": {
            "gridcolor": "white",
            "linecolor": "white",
            "ticks": ""
           },
           "baxis": {
            "gridcolor": "white",
            "linecolor": "white",
            "ticks": ""
           },
           "bgcolor": "#E5ECF6",
           "caxis": {
            "gridcolor": "white",
            "linecolor": "white",
            "ticks": ""
           }
          },
          "title": {
           "x": 0.05
          },
          "xaxis": {
           "automargin": true,
           "gridcolor": "white",
           "linecolor": "white",
           "ticks": "",
           "title": {
            "standoff": 15
           },
           "zerolinecolor": "white",
           "zerolinewidth": 2
          },
          "yaxis": {
           "automargin": true,
           "gridcolor": "white",
           "linecolor": "white",
           "ticks": "",
           "title": {
            "standoff": 15
           },
           "zerolinecolor": "white",
           "zerolinewidth": 2
          }
         }
        },
        "title": {
         "text": "Price - Without Outliers"
        },
        "xaxis": {
         "anchor": "y",
         "domain": [
          0,
          1
         ],
         "title": {
          "text": "value"
         }
        },
        "xaxis2": {
         "anchor": "y2",
         "domain": [
          0,
          1
         ],
         "matches": "x",
         "showgrid": true,
         "showticklabels": false
        },
        "yaxis": {
         "anchor": "x",
         "domain": [
          0,
          0.7326
         ],
         "title": {
          "text": "count"
         }
        },
        "yaxis2": {
         "anchor": "x2",
         "domain": [
          0.7426,
          1
         ],
         "matches": "y2",
         "showgrid": false,
         "showline": false,
         "showticklabels": false,
         "ticks": ""
        }
       }
      }
     },
     "metadata": {},
     "output_type": "display_data"
    }
   ],
   "source": [
    "profile_serie(df_retail['Price']) "
   ]
  },
  {
   "cell_type": "markdown",
   "metadata": {
    "cell_id": "f17c012b97f44716a79d98905c5b705e",
    "deepnote_cell_height": 70.66667175292969,
    "deepnote_cell_type": "markdown",
    "tags": []
   },
   "source": [
    "    Análisis de la primera serie...\n",
    "\n",
    "Lo que más llama la atención:\n",
    "- Existen 3 valores negativos (que no debería en el precio)\n",
    "- Existen 3687 valores 0 (que no debería en el precio)\n",
    "- El precio tiene una media de 4.68, pero una mediana de 2.1, lo que indica que la distribución de los datos está sesgada a la derecha. (Puede ser por outliers)\n",
    "- El precio tiene un valor máximo de 25111, lo que indica que hay un valor atípico muy alto.\n",
    "- El precio tiene un valor mínimo de -53594, lo que indica que hay un valor atípico muy bajo.\n",
    "\n"
   ]
  },
  {
   "cell_type": "code",
   "execution_count": 49,
   "metadata": {},
   "outputs": [
    {
     "data": {
      "text/markdown": [
       "## Quantity Profile"
      ],
      "text/plain": [
       "<IPython.core.display.Markdown object>"
      ]
     },
     "metadata": {},
     "output_type": "display_data"
    },
    {
     "data": {
      "text/plain": [
       "Type                              int64\n",
       "Number of observations         525461.0\n",
       "Mean                          10.337667\n",
       "Std                           107.42411\n",
       "Min                             -9600.0\n",
       "25%                                 1.0\n",
       "50%                                 3.0\n",
       "75%                                10.0\n",
       "Max                             19152.0\n",
       "Negative                          12326\n",
       "Negative (%)                     2.35 %\n",
       "Zeros                                 0\n",
       "Zeros (%)                         0.0 %\n",
       "Kurt                        6277.666908\n",
       "Skew                          36.044617\n",
       "                                       \n",
       "Missing cells                         0\n",
       "Missing cells (%)                 0.0 %\n",
       "Duplicate rows                   525122\n",
       "Duplicate rows (%)              99.94 %\n",
       "Total size in memory      4203816 bytes\n",
       "dtype: object"
      ]
     },
     "metadata": {},
     "output_type": "display_data"
    },
    {
     "data": {
      "application/vnd.plotly.v1+json": {
       "config": {
        "plotlyServerURL": "https://plot.ly"
       },
       "data": [
        {
         "alignmentgroup": "True",
         "bingroup": "x",
         "hovertemplate": "variable=Quantity<br>value=%{x}<br>count=%{y}<extra></extra>",
         "legendgroup": "Quantity",
         "marker": {
          "color": "#636efa",
          "pattern": {
           "shape": ""
          }
         },
         "name": "Quantity",
         "offsetgroup": "Quantity",
         "orientation": "v",
         "showlegend": true,
         "type": "histogram",
         "x": [
          6,
          3,
          48,
          12,
          12,
          -96,
          1,
          6,
          12,
          16,
          1,
          1,
          96,
          12,
          6,
          1,
          16,
          1,
          12,
          6,
          8,
          1,
          3,
          3,
          2,
          1,
          2,
          25,
          100,
          1,
          7,
          12,
          1,
          25,
          100,
          6,
          1,
          5,
          30,
          1,
          12,
          1,
          -13,
          1,
          24,
          3,
          6,
          10,
          1,
          12,
          2,
          2,
          12,
          2,
          1,
          4,
          1,
          1,
          3,
          1,
          1,
          3,
          2,
          2,
          2,
          3,
          1,
          10,
          1,
          24,
          24,
          4,
          1,
          10,
          3,
          3,
          1,
          3,
          12,
          1,
          1,
          24,
          2,
          24,
          12,
          2,
          36,
          1,
          24,
          1,
          2,
          8,
          200,
          32,
          36,
          2,
          12,
          3,
          9,
          6,
          1,
          10,
          10,
          25,
          12,
          8,
          -2,
          1,
          567,
          6,
          2,
          2,
          1,
          18,
          6,
          1,
          -12,
          6,
          1,
          1,
          12,
          6,
          3,
          2,
          2,
          1,
          1,
          16,
          25,
          12,
          20,
          20,
          6,
          2,
          26,
          10,
          5,
          1,
          12,
          3,
          160,
          3,
          1,
          12,
          2,
          2,
          2,
          75,
          2,
          6,
          3,
          40,
          2,
          1,
          8,
          1,
          2,
          2,
          2,
          1,
          3,
          2,
          12,
          3,
          12,
          12,
          -1,
          2,
          384,
          1,
          1,
          1,
          3,
          9,
          6,
          120,
          3,
          12,
          48,
          8,
          5,
          3,
          6,
          1,
          1,
          12,
          2,
          3,
          10,
          1,
          12,
          10,
          4,
          12,
          1,
          12,
          1,
          300,
          -26,
          48,
          2,
          1,
          2,
          1,
          24,
          2,
          24,
          50,
          1,
          12,
          1,
          7,
          36,
          6,
          10,
          10,
          2,
          1,
          6,
          1,
          12,
          2,
          24,
          8,
          6,
          1,
          1,
          2,
          2,
          12,
          6,
          12,
          6,
          2,
          16,
          2,
          1,
          1,
          2,
          2,
          1,
          2,
          10,
          1,
          2,
          6,
          1,
          20,
          4,
          3,
          6,
          1,
          -6,
          6,
          8,
          12,
          3,
          1,
          1,
          8,
          1,
          2,
          12,
          3,
          2,
          1,
          6,
          6,
          2,
          1,
          1,
          1,
          4,
          12,
          3,
          2,
          1,
          2,
          6,
          4,
          1,
          5,
          -1,
          2,
          1,
          2,
          12,
          36,
          1,
          24,
          2,
          6,
          4,
          4,
          1,
          6,
          4,
          12,
          12,
          28,
          12,
          200,
          6,
          48,
          2,
          1,
          -2,
          1,
          6,
          2,
          1,
          1,
          1,
          2,
          -160,
          -1,
          2,
          24,
          12,
          1,
          2,
          1,
          4,
          1,
          10,
          1,
          3,
          1,
          14,
          12,
          1,
          1,
          1,
          2,
          1,
          1,
          24,
          192,
          1,
          3,
          72,
          3,
          2,
          1,
          25,
          1,
          2,
          2,
          12,
          4,
          6,
          9,
          6,
          1,
          1,
          8,
          6,
          2,
          4,
          3,
          4,
          1,
          2,
          1,
          8,
          1,
          5,
          12,
          2,
          2,
          1,
          12,
          10,
          48,
          10,
          12,
          6,
          6,
          2,
          1,
          4,
          12,
          1,
          1,
          1,
          6,
          1,
          3,
          72,
          90,
          7,
          6,
          2,
          4,
          18,
          2,
          1,
          1,
          4,
          1,
          10,
          6,
          1,
          2,
          6,
          1,
          16,
          2,
          10,
          25,
          1,
          1,
          4,
          25,
          1,
          1,
          6,
          2,
          1,
          2,
          12,
          1,
          2,
          12,
          6,
          2,
          2,
          -3,
          192,
          10,
          4,
          3,
          2,
          1,
          1,
          2,
          12,
          -4,
          24,
          1,
          1,
          4,
          3,
          1,
          10,
          2,
          1,
          12,
          6,
          72,
          2,
          6,
          24,
          1,
          1,
          10,
          1,
          4,
          6,
          1,
          3,
          96,
          96,
          4,
          1,
          -1,
          12,
          1,
          2,
          1,
          2,
          24,
          12,
          12,
          144,
          12,
          12,
          12,
          -12,
          14,
          2,
          1,
          2,
          3,
          2,
          1,
          24,
          1,
          1,
          5,
          12,
          1,
          2,
          1,
          12,
          12,
          1,
          4,
          1,
          1,
          2,
          12,
          1,
          1,
          2,
          96,
          1,
          36,
          10,
          12,
          2,
          36,
          48,
          3,
          1,
          36,
          1,
          5,
          24,
          3,
          1,
          12,
          1,
          1,
          12,
          1,
          4,
          1,
          1,
          12,
          12,
          1,
          1,
          1,
          72,
          2,
          1,
          24,
          6,
          1,
          3,
          12,
          2,
          6,
          4,
          2,
          2,
          24,
          6,
          2,
          24,
          1,
          3,
          -2,
          2,
          48,
          3,
          4,
          12,
          6,
          4,
          8,
          12,
          3,
          2,
          1,
          2,
          12,
          2,
          1,
          12,
          1,
          2,
          2,
          4,
          2,
          12,
          1,
          5,
          24,
          2,
          12,
          1,
          100,
          1,
          24,
          6,
          7,
          6,
          1,
          1,
          5,
          8,
          1,
          96,
          12,
          4,
          40,
          1,
          8,
          24,
          8,
          2,
          16,
          12,
          2,
          16,
          1,
          12,
          1,
          1,
          1,
          1,
          24,
          12,
          6,
          3,
          1,
          48,
          12,
          60,
          1,
          72,
          5,
          6,
          2,
          2,
          12,
          3,
          6,
          2,
          3,
          4,
          1,
          1,
          24,
          48,
          24,
          12,
          1,
          1,
          3,
          24,
          12,
          12,
          2,
          1,
          4,
          10,
          12,
          6,
          2,
          -1,
          10,
          8,
          3,
          12,
          16,
          1,
          4,
          1,
          1,
          4,
          1,
          2,
          12,
          12,
          7,
          25,
          6,
          2,
          10,
          1,
          6,
          6,
          12,
          1,
          96,
          4,
          3,
          4,
          16,
          2,
          1,
          1,
          2,
          1,
          48,
          42,
          2,
          12,
          24,
          3,
          1,
          3,
          -1,
          2,
          2,
          1,
          10,
          1,
          1,
          1,
          1,
          1,
          6,
          1,
          4,
          12,
          2,
          20,
          1,
          6,
          25,
          80,
          3,
          1,
          1,
          3,
          1,
          8,
          1,
          1,
          12,
          64,
          1,
          10,
          1,
          2,
          12,
          1,
          5,
          24,
          12,
          2,
          4,
          2,
          12,
          12,
          24,
          3,
          144,
          1,
          7,
          -1,
          72,
          1,
          6,
          1,
          3,
          4,
          12,
          18,
          2,
          24,
          6,
          1,
          6,
          1,
          8,
          48,
          3,
          2,
          6,
          48,
          6,
          1,
          6,
          12,
          12,
          1,
          2,
          12,
          6,
          1,
          12,
          1,
          2,
          12,
          1,
          2,
          6,
          6,
          20,
          144,
          20,
          1,
          1,
          1,
          3,
          1,
          4,
          2,
          12,
          24,
          6,
          1,
          1,
          3,
          12,
          6,
          2,
          1,
          4,
          12,
          4,
          10,
          12,
          24,
          4,
          25,
          1,
          2,
          8,
          1,
          3,
          1,
          1,
          1,
          3,
          4,
          3,
          1,
          1,
          120,
          10,
          4,
          5,
          12,
          1,
          1,
          3,
          2,
          1,
          30,
          1,
          1,
          1,
          8,
          1,
          32,
          1,
          1,
          1,
          12,
          1,
          12,
          3,
          2,
          1,
          2,
          1,
          96,
          -10,
          6,
          8,
          6,
          2,
          2,
          24,
          1,
          2,
          6,
          48,
          25,
          8,
          2,
          10,
          7,
          5,
          1,
          24,
          4,
          12,
          5,
          3,
          3,
          4,
          16,
          12,
          8,
          10,
          12,
          1,
          3,
          3,
          6,
          1,
          1,
          25,
          5,
          2,
          2,
          5,
          6,
          1,
          20,
          4,
          1,
          2,
          2,
          1,
          8,
          1,
          3,
          1,
          24,
          6,
          6,
          2,
          2,
          1,
          4,
          2,
          3,
          12,
          12,
          4,
          12,
          2,
          2,
          1,
          1,
          4,
          100,
          2,
          72,
          12,
          6,
          2,
          24,
          1,
          5,
          1,
          6,
          16,
          288,
          1,
          2,
          24,
          6,
          2,
          -1,
          1,
          6,
          20,
          2,
          4,
          3,
          1,
          24,
          2,
          3,
          6,
          12,
          6,
          100,
          1,
          10,
          1,
          2,
          6,
          1,
          1,
          3,
          10,
          6,
          4,
          2,
          2,
          2,
          12,
          30,
          1,
          12,
          10,
          2,
          12,
          1,
          8,
          48,
          2,
          4,
          1,
          6,
          1,
          6,
          1,
          4,
          12,
          2,
          3,
          1,
          1,
          4,
          5,
          1,
          1,
          8,
          1
         ],
         "xaxis": "x",
         "yaxis": "y"
        },
        {
         "alignmentgroup": "True",
         "hovertemplate": "variable=Quantity<br>value=%{x}<extra></extra>",
         "legendgroup": "Quantity",
         "marker": {
          "color": "#636efa"
         },
         "name": "Quantity",
         "notched": true,
         "offsetgroup": "Quantity",
         "showlegend": false,
         "type": "box",
         "x": [
          6,
          3,
          48,
          12,
          12,
          -96,
          1,
          6,
          12,
          16,
          1,
          1,
          96,
          12,
          6,
          1,
          16,
          1,
          12,
          6,
          8,
          1,
          3,
          3,
          2,
          1,
          2,
          25,
          100,
          1,
          7,
          12,
          1,
          25,
          100,
          6,
          1,
          5,
          30,
          1,
          12,
          1,
          -13,
          1,
          24,
          3,
          6,
          10,
          1,
          12,
          2,
          2,
          12,
          2,
          1,
          4,
          1,
          1,
          3,
          1,
          1,
          3,
          2,
          2,
          2,
          3,
          1,
          10,
          1,
          24,
          24,
          4,
          1,
          10,
          3,
          3,
          1,
          3,
          12,
          1,
          1,
          24,
          2,
          24,
          12,
          2,
          36,
          1,
          24,
          1,
          2,
          8,
          200,
          32,
          36,
          2,
          12,
          3,
          9,
          6,
          1,
          10,
          10,
          25,
          12,
          8,
          -2,
          1,
          567,
          6,
          2,
          2,
          1,
          18,
          6,
          1,
          -12,
          6,
          1,
          1,
          12,
          6,
          3,
          2,
          2,
          1,
          1,
          16,
          25,
          12,
          20,
          20,
          6,
          2,
          26,
          10,
          5,
          1,
          12,
          3,
          160,
          3,
          1,
          12,
          2,
          2,
          2,
          75,
          2,
          6,
          3,
          40,
          2,
          1,
          8,
          1,
          2,
          2,
          2,
          1,
          3,
          2,
          12,
          3,
          12,
          12,
          -1,
          2,
          384,
          1,
          1,
          1,
          3,
          9,
          6,
          120,
          3,
          12,
          48,
          8,
          5,
          3,
          6,
          1,
          1,
          12,
          2,
          3,
          10,
          1,
          12,
          10,
          4,
          12,
          1,
          12,
          1,
          300,
          -26,
          48,
          2,
          1,
          2,
          1,
          24,
          2,
          24,
          50,
          1,
          12,
          1,
          7,
          36,
          6,
          10,
          10,
          2,
          1,
          6,
          1,
          12,
          2,
          24,
          8,
          6,
          1,
          1,
          2,
          2,
          12,
          6,
          12,
          6,
          2,
          16,
          2,
          1,
          1,
          2,
          2,
          1,
          2,
          10,
          1,
          2,
          6,
          1,
          20,
          4,
          3,
          6,
          1,
          -6,
          6,
          8,
          12,
          3,
          1,
          1,
          8,
          1,
          2,
          12,
          3,
          2,
          1,
          6,
          6,
          2,
          1,
          1,
          1,
          4,
          12,
          3,
          2,
          1,
          2,
          6,
          4,
          1,
          5,
          -1,
          2,
          1,
          2,
          12,
          36,
          1,
          24,
          2,
          6,
          4,
          4,
          1,
          6,
          4,
          12,
          12,
          28,
          12,
          200,
          6,
          48,
          2,
          1,
          -2,
          1,
          6,
          2,
          1,
          1,
          1,
          2,
          -160,
          -1,
          2,
          24,
          12,
          1,
          2,
          1,
          4,
          1,
          10,
          1,
          3,
          1,
          14,
          12,
          1,
          1,
          1,
          2,
          1,
          1,
          24,
          192,
          1,
          3,
          72,
          3,
          2,
          1,
          25,
          1,
          2,
          2,
          12,
          4,
          6,
          9,
          6,
          1,
          1,
          8,
          6,
          2,
          4,
          3,
          4,
          1,
          2,
          1,
          8,
          1,
          5,
          12,
          2,
          2,
          1,
          12,
          10,
          48,
          10,
          12,
          6,
          6,
          2,
          1,
          4,
          12,
          1,
          1,
          1,
          6,
          1,
          3,
          72,
          90,
          7,
          6,
          2,
          4,
          18,
          2,
          1,
          1,
          4,
          1,
          10,
          6,
          1,
          2,
          6,
          1,
          16,
          2,
          10,
          25,
          1,
          1,
          4,
          25,
          1,
          1,
          6,
          2,
          1,
          2,
          12,
          1,
          2,
          12,
          6,
          2,
          2,
          -3,
          192,
          10,
          4,
          3,
          2,
          1,
          1,
          2,
          12,
          -4,
          24,
          1,
          1,
          4,
          3,
          1,
          10,
          2,
          1,
          12,
          6,
          72,
          2,
          6,
          24,
          1,
          1,
          10,
          1,
          4,
          6,
          1,
          3,
          96,
          96,
          4,
          1,
          -1,
          12,
          1,
          2,
          1,
          2,
          24,
          12,
          12,
          144,
          12,
          12,
          12,
          -12,
          14,
          2,
          1,
          2,
          3,
          2,
          1,
          24,
          1,
          1,
          5,
          12,
          1,
          2,
          1,
          12,
          12,
          1,
          4,
          1,
          1,
          2,
          12,
          1,
          1,
          2,
          96,
          1,
          36,
          10,
          12,
          2,
          36,
          48,
          3,
          1,
          36,
          1,
          5,
          24,
          3,
          1,
          12,
          1,
          1,
          12,
          1,
          4,
          1,
          1,
          12,
          12,
          1,
          1,
          1,
          72,
          2,
          1,
          24,
          6,
          1,
          3,
          12,
          2,
          6,
          4,
          2,
          2,
          24,
          6,
          2,
          24,
          1,
          3,
          -2,
          2,
          48,
          3,
          4,
          12,
          6,
          4,
          8,
          12,
          3,
          2,
          1,
          2,
          12,
          2,
          1,
          12,
          1,
          2,
          2,
          4,
          2,
          12,
          1,
          5,
          24,
          2,
          12,
          1,
          100,
          1,
          24,
          6,
          7,
          6,
          1,
          1,
          5,
          8,
          1,
          96,
          12,
          4,
          40,
          1,
          8,
          24,
          8,
          2,
          16,
          12,
          2,
          16,
          1,
          12,
          1,
          1,
          1,
          1,
          24,
          12,
          6,
          3,
          1,
          48,
          12,
          60,
          1,
          72,
          5,
          6,
          2,
          2,
          12,
          3,
          6,
          2,
          3,
          4,
          1,
          1,
          24,
          48,
          24,
          12,
          1,
          1,
          3,
          24,
          12,
          12,
          2,
          1,
          4,
          10,
          12,
          6,
          2,
          -1,
          10,
          8,
          3,
          12,
          16,
          1,
          4,
          1,
          1,
          4,
          1,
          2,
          12,
          12,
          7,
          25,
          6,
          2,
          10,
          1,
          6,
          6,
          12,
          1,
          96,
          4,
          3,
          4,
          16,
          2,
          1,
          1,
          2,
          1,
          48,
          42,
          2,
          12,
          24,
          3,
          1,
          3,
          -1,
          2,
          2,
          1,
          10,
          1,
          1,
          1,
          1,
          1,
          6,
          1,
          4,
          12,
          2,
          20,
          1,
          6,
          25,
          80,
          3,
          1,
          1,
          3,
          1,
          8,
          1,
          1,
          12,
          64,
          1,
          10,
          1,
          2,
          12,
          1,
          5,
          24,
          12,
          2,
          4,
          2,
          12,
          12,
          24,
          3,
          144,
          1,
          7,
          -1,
          72,
          1,
          6,
          1,
          3,
          4,
          12,
          18,
          2,
          24,
          6,
          1,
          6,
          1,
          8,
          48,
          3,
          2,
          6,
          48,
          6,
          1,
          6,
          12,
          12,
          1,
          2,
          12,
          6,
          1,
          12,
          1,
          2,
          12,
          1,
          2,
          6,
          6,
          20,
          144,
          20,
          1,
          1,
          1,
          3,
          1,
          4,
          2,
          12,
          24,
          6,
          1,
          1,
          3,
          12,
          6,
          2,
          1,
          4,
          12,
          4,
          10,
          12,
          24,
          4,
          25,
          1,
          2,
          8,
          1,
          3,
          1,
          1,
          1,
          3,
          4,
          3,
          1,
          1,
          120,
          10,
          4,
          5,
          12,
          1,
          1,
          3,
          2,
          1,
          30,
          1,
          1,
          1,
          8,
          1,
          32,
          1,
          1,
          1,
          12,
          1,
          12,
          3,
          2,
          1,
          2,
          1,
          96,
          -10,
          6,
          8,
          6,
          2,
          2,
          24,
          1,
          2,
          6,
          48,
          25,
          8,
          2,
          10,
          7,
          5,
          1,
          24,
          4,
          12,
          5,
          3,
          3,
          4,
          16,
          12,
          8,
          10,
          12,
          1,
          3,
          3,
          6,
          1,
          1,
          25,
          5,
          2,
          2,
          5,
          6,
          1,
          20,
          4,
          1,
          2,
          2,
          1,
          8,
          1,
          3,
          1,
          24,
          6,
          6,
          2,
          2,
          1,
          4,
          2,
          3,
          12,
          12,
          4,
          12,
          2,
          2,
          1,
          1,
          4,
          100,
          2,
          72,
          12,
          6,
          2,
          24,
          1,
          5,
          1,
          6,
          16,
          288,
          1,
          2,
          24,
          6,
          2,
          -1,
          1,
          6,
          20,
          2,
          4,
          3,
          1,
          24,
          2,
          3,
          6,
          12,
          6,
          100,
          1,
          10,
          1,
          2,
          6,
          1,
          1,
          3,
          10,
          6,
          4,
          2,
          2,
          2,
          12,
          30,
          1,
          12,
          10,
          2,
          12,
          1,
          8,
          48,
          2,
          4,
          1,
          6,
          1,
          6,
          1,
          4,
          12,
          2,
          3,
          1,
          1,
          4,
          5,
          1,
          1,
          8,
          1
         ],
         "xaxis": "x2",
         "yaxis": "y2"
        }
       ],
       "layout": {
        "barmode": "relative",
        "legend": {
         "title": {
          "text": "variable"
         },
         "tracegroupgap": 0
        },
        "template": {
         "data": {
          "bar": [
           {
            "error_x": {
             "color": "#2a3f5f"
            },
            "error_y": {
             "color": "#2a3f5f"
            },
            "marker": {
             "line": {
              "color": "#E5ECF6",
              "width": 0.5
             },
             "pattern": {
              "fillmode": "overlay",
              "size": 10,
              "solidity": 0.2
             }
            },
            "type": "bar"
           }
          ],
          "barpolar": [
           {
            "marker": {
             "line": {
              "color": "#E5ECF6",
              "width": 0.5
             },
             "pattern": {
              "fillmode": "overlay",
              "size": 10,
              "solidity": 0.2
             }
            },
            "type": "barpolar"
           }
          ],
          "carpet": [
           {
            "aaxis": {
             "endlinecolor": "#2a3f5f",
             "gridcolor": "white",
             "linecolor": "white",
             "minorgridcolor": "white",
             "startlinecolor": "#2a3f5f"
            },
            "baxis": {
             "endlinecolor": "#2a3f5f",
             "gridcolor": "white",
             "linecolor": "white",
             "minorgridcolor": "white",
             "startlinecolor": "#2a3f5f"
            },
            "type": "carpet"
           }
          ],
          "choropleth": [
           {
            "colorbar": {
             "outlinewidth": 0,
             "ticks": ""
            },
            "type": "choropleth"
           }
          ],
          "contour": [
           {
            "colorbar": {
             "outlinewidth": 0,
             "ticks": ""
            },
            "colorscale": [
             [
              0,
              "#0d0887"
             ],
             [
              0.1111111111111111,
              "#46039f"
             ],
             [
              0.2222222222222222,
              "#7201a8"
             ],
             [
              0.3333333333333333,
              "#9c179e"
             ],
             [
              0.4444444444444444,
              "#bd3786"
             ],
             [
              0.5555555555555556,
              "#d8576b"
             ],
             [
              0.6666666666666666,
              "#ed7953"
             ],
             [
              0.7777777777777778,
              "#fb9f3a"
             ],
             [
              0.8888888888888888,
              "#fdca26"
             ],
             [
              1,
              "#f0f921"
             ]
            ],
            "type": "contour"
           }
          ],
          "contourcarpet": [
           {
            "colorbar": {
             "outlinewidth": 0,
             "ticks": ""
            },
            "type": "contourcarpet"
           }
          ],
          "heatmap": [
           {
            "colorbar": {
             "outlinewidth": 0,
             "ticks": ""
            },
            "colorscale": [
             [
              0,
              "#0d0887"
             ],
             [
              0.1111111111111111,
              "#46039f"
             ],
             [
              0.2222222222222222,
              "#7201a8"
             ],
             [
              0.3333333333333333,
              "#9c179e"
             ],
             [
              0.4444444444444444,
              "#bd3786"
             ],
             [
              0.5555555555555556,
              "#d8576b"
             ],
             [
              0.6666666666666666,
              "#ed7953"
             ],
             [
              0.7777777777777778,
              "#fb9f3a"
             ],
             [
              0.8888888888888888,
              "#fdca26"
             ],
             [
              1,
              "#f0f921"
             ]
            ],
            "type": "heatmap"
           }
          ],
          "heatmapgl": [
           {
            "colorbar": {
             "outlinewidth": 0,
             "ticks": ""
            },
            "colorscale": [
             [
              0,
              "#0d0887"
             ],
             [
              0.1111111111111111,
              "#46039f"
             ],
             [
              0.2222222222222222,
              "#7201a8"
             ],
             [
              0.3333333333333333,
              "#9c179e"
             ],
             [
              0.4444444444444444,
              "#bd3786"
             ],
             [
              0.5555555555555556,
              "#d8576b"
             ],
             [
              0.6666666666666666,
              "#ed7953"
             ],
             [
              0.7777777777777778,
              "#fb9f3a"
             ],
             [
              0.8888888888888888,
              "#fdca26"
             ],
             [
              1,
              "#f0f921"
             ]
            ],
            "type": "heatmapgl"
           }
          ],
          "histogram": [
           {
            "marker": {
             "pattern": {
              "fillmode": "overlay",
              "size": 10,
              "solidity": 0.2
             }
            },
            "type": "histogram"
           }
          ],
          "histogram2d": [
           {
            "colorbar": {
             "outlinewidth": 0,
             "ticks": ""
            },
            "colorscale": [
             [
              0,
              "#0d0887"
             ],
             [
              0.1111111111111111,
              "#46039f"
             ],
             [
              0.2222222222222222,
              "#7201a8"
             ],
             [
              0.3333333333333333,
              "#9c179e"
             ],
             [
              0.4444444444444444,
              "#bd3786"
             ],
             [
              0.5555555555555556,
              "#d8576b"
             ],
             [
              0.6666666666666666,
              "#ed7953"
             ],
             [
              0.7777777777777778,
              "#fb9f3a"
             ],
             [
              0.8888888888888888,
              "#fdca26"
             ],
             [
              1,
              "#f0f921"
             ]
            ],
            "type": "histogram2d"
           }
          ],
          "histogram2dcontour": [
           {
            "colorbar": {
             "outlinewidth": 0,
             "ticks": ""
            },
            "colorscale": [
             [
              0,
              "#0d0887"
             ],
             [
              0.1111111111111111,
              "#46039f"
             ],
             [
              0.2222222222222222,
              "#7201a8"
             ],
             [
              0.3333333333333333,
              "#9c179e"
             ],
             [
              0.4444444444444444,
              "#bd3786"
             ],
             [
              0.5555555555555556,
              "#d8576b"
             ],
             [
              0.6666666666666666,
              "#ed7953"
             ],
             [
              0.7777777777777778,
              "#fb9f3a"
             ],
             [
              0.8888888888888888,
              "#fdca26"
             ],
             [
              1,
              "#f0f921"
             ]
            ],
            "type": "histogram2dcontour"
           }
          ],
          "mesh3d": [
           {
            "colorbar": {
             "outlinewidth": 0,
             "ticks": ""
            },
            "type": "mesh3d"
           }
          ],
          "parcoords": [
           {
            "line": {
             "colorbar": {
              "outlinewidth": 0,
              "ticks": ""
             }
            },
            "type": "parcoords"
           }
          ],
          "pie": [
           {
            "automargin": true,
            "type": "pie"
           }
          ],
          "scatter": [
           {
            "fillpattern": {
             "fillmode": "overlay",
             "size": 10,
             "solidity": 0.2
            },
            "type": "scatter"
           }
          ],
          "scatter3d": [
           {
            "line": {
             "colorbar": {
              "outlinewidth": 0,
              "ticks": ""
             }
            },
            "marker": {
             "colorbar": {
              "outlinewidth": 0,
              "ticks": ""
             }
            },
            "type": "scatter3d"
           }
          ],
          "scattercarpet": [
           {
            "marker": {
             "colorbar": {
              "outlinewidth": 0,
              "ticks": ""
             }
            },
            "type": "scattercarpet"
           }
          ],
          "scattergeo": [
           {
            "marker": {
             "colorbar": {
              "outlinewidth": 0,
              "ticks": ""
             }
            },
            "type": "scattergeo"
           }
          ],
          "scattergl": [
           {
            "marker": {
             "colorbar": {
              "outlinewidth": 0,
              "ticks": ""
             }
            },
            "type": "scattergl"
           }
          ],
          "scattermapbox": [
           {
            "marker": {
             "colorbar": {
              "outlinewidth": 0,
              "ticks": ""
             }
            },
            "type": "scattermapbox"
           }
          ],
          "scatterpolar": [
           {
            "marker": {
             "colorbar": {
              "outlinewidth": 0,
              "ticks": ""
             }
            },
            "type": "scatterpolar"
           }
          ],
          "scatterpolargl": [
           {
            "marker": {
             "colorbar": {
              "outlinewidth": 0,
              "ticks": ""
             }
            },
            "type": "scatterpolargl"
           }
          ],
          "scatterternary": [
           {
            "marker": {
             "colorbar": {
              "outlinewidth": 0,
              "ticks": ""
             }
            },
            "type": "scatterternary"
           }
          ],
          "surface": [
           {
            "colorbar": {
             "outlinewidth": 0,
             "ticks": ""
            },
            "colorscale": [
             [
              0,
              "#0d0887"
             ],
             [
              0.1111111111111111,
              "#46039f"
             ],
             [
              0.2222222222222222,
              "#7201a8"
             ],
             [
              0.3333333333333333,
              "#9c179e"
             ],
             [
              0.4444444444444444,
              "#bd3786"
             ],
             [
              0.5555555555555556,
              "#d8576b"
             ],
             [
              0.6666666666666666,
              "#ed7953"
             ],
             [
              0.7777777777777778,
              "#fb9f3a"
             ],
             [
              0.8888888888888888,
              "#fdca26"
             ],
             [
              1,
              "#f0f921"
             ]
            ],
            "type": "surface"
           }
          ],
          "table": [
           {
            "cells": {
             "fill": {
              "color": "#EBF0F8"
             },
             "line": {
              "color": "white"
             }
            },
            "header": {
             "fill": {
              "color": "#C8D4E3"
             },
             "line": {
              "color": "white"
             }
            },
            "type": "table"
           }
          ]
         },
         "layout": {
          "annotationdefaults": {
           "arrowcolor": "#2a3f5f",
           "arrowhead": 0,
           "arrowwidth": 1
          },
          "autotypenumbers": "strict",
          "coloraxis": {
           "colorbar": {
            "outlinewidth": 0,
            "ticks": ""
           }
          },
          "colorscale": {
           "diverging": [
            [
             0,
             "#8e0152"
            ],
            [
             0.1,
             "#c51b7d"
            ],
            [
             0.2,
             "#de77ae"
            ],
            [
             0.3,
             "#f1b6da"
            ],
            [
             0.4,
             "#fde0ef"
            ],
            [
             0.5,
             "#f7f7f7"
            ],
            [
             0.6,
             "#e6f5d0"
            ],
            [
             0.7,
             "#b8e186"
            ],
            [
             0.8,
             "#7fbc41"
            ],
            [
             0.9,
             "#4d9221"
            ],
            [
             1,
             "#276419"
            ]
           ],
           "sequential": [
            [
             0,
             "#0d0887"
            ],
            [
             0.1111111111111111,
             "#46039f"
            ],
            [
             0.2222222222222222,
             "#7201a8"
            ],
            [
             0.3333333333333333,
             "#9c179e"
            ],
            [
             0.4444444444444444,
             "#bd3786"
            ],
            [
             0.5555555555555556,
             "#d8576b"
            ],
            [
             0.6666666666666666,
             "#ed7953"
            ],
            [
             0.7777777777777778,
             "#fb9f3a"
            ],
            [
             0.8888888888888888,
             "#fdca26"
            ],
            [
             1,
             "#f0f921"
            ]
           ],
           "sequentialminus": [
            [
             0,
             "#0d0887"
            ],
            [
             0.1111111111111111,
             "#46039f"
            ],
            [
             0.2222222222222222,
             "#7201a8"
            ],
            [
             0.3333333333333333,
             "#9c179e"
            ],
            [
             0.4444444444444444,
             "#bd3786"
            ],
            [
             0.5555555555555556,
             "#d8576b"
            ],
            [
             0.6666666666666666,
             "#ed7953"
            ],
            [
             0.7777777777777778,
             "#fb9f3a"
            ],
            [
             0.8888888888888888,
             "#fdca26"
            ],
            [
             1,
             "#f0f921"
            ]
           ]
          },
          "colorway": [
           "#636efa",
           "#EF553B",
           "#00cc96",
           "#ab63fa",
           "#FFA15A",
           "#19d3f3",
           "#FF6692",
           "#B6E880",
           "#FF97FF",
           "#FECB52"
          ],
          "font": {
           "color": "#2a3f5f"
          },
          "geo": {
           "bgcolor": "white",
           "lakecolor": "white",
           "landcolor": "#E5ECF6",
           "showlakes": true,
           "showland": true,
           "subunitcolor": "white"
          },
          "hoverlabel": {
           "align": "left"
          },
          "hovermode": "closest",
          "mapbox": {
           "style": "light"
          },
          "paper_bgcolor": "white",
          "plot_bgcolor": "#E5ECF6",
          "polar": {
           "angularaxis": {
            "gridcolor": "white",
            "linecolor": "white",
            "ticks": ""
           },
           "bgcolor": "#E5ECF6",
           "radialaxis": {
            "gridcolor": "white",
            "linecolor": "white",
            "ticks": ""
           }
          },
          "scene": {
           "xaxis": {
            "backgroundcolor": "#E5ECF6",
            "gridcolor": "white",
            "gridwidth": 2,
            "linecolor": "white",
            "showbackground": true,
            "ticks": "",
            "zerolinecolor": "white"
           },
           "yaxis": {
            "backgroundcolor": "#E5ECF6",
            "gridcolor": "white",
            "gridwidth": 2,
            "linecolor": "white",
            "showbackground": true,
            "ticks": "",
            "zerolinecolor": "white"
           },
           "zaxis": {
            "backgroundcolor": "#E5ECF6",
            "gridcolor": "white",
            "gridwidth": 2,
            "linecolor": "white",
            "showbackground": true,
            "ticks": "",
            "zerolinecolor": "white"
           }
          },
          "shapedefaults": {
           "line": {
            "color": "#2a3f5f"
           }
          },
          "ternary": {
           "aaxis": {
            "gridcolor": "white",
            "linecolor": "white",
            "ticks": ""
           },
           "baxis": {
            "gridcolor": "white",
            "linecolor": "white",
            "ticks": ""
           },
           "bgcolor": "#E5ECF6",
           "caxis": {
            "gridcolor": "white",
            "linecolor": "white",
            "ticks": ""
           }
          },
          "title": {
           "x": 0.05
          },
          "xaxis": {
           "automargin": true,
           "gridcolor": "white",
           "linecolor": "white",
           "ticks": "",
           "title": {
            "standoff": 15
           },
           "zerolinecolor": "white",
           "zerolinewidth": 2
          },
          "yaxis": {
           "automargin": true,
           "gridcolor": "white",
           "linecolor": "white",
           "ticks": "",
           "title": {
            "standoff": 15
           },
           "zerolinecolor": "white",
           "zerolinewidth": 2
          }
         }
        },
        "title": {
         "text": "Quantity - With Outliers"
        },
        "xaxis": {
         "anchor": "y",
         "domain": [
          0,
          1
         ],
         "title": {
          "text": "value"
         }
        },
        "xaxis2": {
         "anchor": "y2",
         "domain": [
          0,
          1
         ],
         "matches": "x",
         "showgrid": true,
         "showticklabels": false
        },
        "yaxis": {
         "anchor": "x",
         "domain": [
          0,
          0.7326
         ],
         "title": {
          "text": "count"
         }
        },
        "yaxis2": {
         "anchor": "x2",
         "domain": [
          0.7426,
          1
         ],
         "matches": "y2",
         "showgrid": false,
         "showline": false,
         "showticklabels": false,
         "ticks": ""
        }
       }
      }
     },
     "metadata": {},
     "output_type": "display_data"
    },
    {
     "data": {
      "application/vnd.plotly.v1+json": {
       "config": {
        "plotlyServerURL": "https://plot.ly"
       },
       "data": [
        {
         "alignmentgroup": "True",
         "bingroup": "x",
         "hovertemplate": "variable=Quantity<br>value=%{x}<br>count=%{y}<extra></extra>",
         "legendgroup": "Quantity",
         "marker": {
          "color": "#636efa",
          "pattern": {
           "shape": ""
          }
         },
         "name": "Quantity",
         "offsetgroup": "Quantity",
         "orientation": "v",
         "showlegend": true,
         "type": "histogram",
         "x": [
          6,
          3,
          48,
          12,
          12,
          1,
          6,
          12,
          16,
          1,
          1,
          96,
          12,
          6,
          1,
          16,
          1,
          12,
          6,
          8,
          1,
          3,
          3,
          2,
          1,
          2,
          25,
          100,
          1,
          7,
          12,
          1,
          25,
          100,
          6,
          1,
          5,
          30,
          1,
          12,
          1,
          -13,
          1,
          24,
          3,
          6,
          10,
          1,
          12,
          2,
          2,
          12,
          2,
          1,
          4,
          1,
          1,
          3,
          1,
          1,
          3,
          2,
          2,
          2,
          3,
          1,
          10,
          1,
          24,
          24,
          4,
          1,
          10,
          3,
          3,
          1,
          3,
          12,
          1,
          1,
          24,
          2,
          24,
          12,
          2,
          36,
          1,
          24,
          1,
          2,
          8,
          32,
          36,
          2,
          12,
          3,
          9,
          6,
          1,
          10,
          10,
          25,
          12,
          8,
          -2,
          1,
          6,
          2,
          2,
          1,
          18,
          6,
          1,
          -12,
          6,
          1,
          1,
          12,
          6,
          3,
          2,
          2,
          1,
          1,
          16,
          25,
          12,
          20,
          20,
          6,
          2,
          26,
          10,
          5,
          1,
          12,
          3,
          3,
          1,
          12,
          2,
          2,
          2,
          75,
          2,
          6,
          3,
          40,
          2,
          1,
          8,
          1,
          2,
          2,
          2,
          1,
          3,
          2,
          12,
          3,
          12,
          12,
          -1,
          2,
          1,
          1,
          1,
          3,
          9,
          6,
          3,
          12,
          48,
          8,
          5,
          3,
          6,
          1,
          1,
          12,
          2,
          3,
          10,
          1,
          12,
          10,
          4,
          12,
          1,
          12,
          1,
          -26,
          48,
          2,
          1,
          2,
          1,
          24,
          2,
          24,
          50,
          1,
          12,
          1,
          7,
          36,
          6,
          10,
          10,
          2,
          1,
          6,
          1,
          12,
          2,
          24,
          8,
          6,
          1,
          1,
          2,
          2,
          12,
          6,
          12,
          6,
          2,
          16,
          2,
          1,
          1,
          2,
          2,
          1,
          2,
          10,
          1,
          2,
          6,
          1,
          20,
          4,
          3,
          6,
          1,
          -6,
          6,
          8,
          12,
          3,
          1,
          1,
          8,
          1,
          2,
          12,
          3,
          2,
          1,
          6,
          6,
          2,
          1,
          1,
          1,
          4,
          12,
          3,
          2,
          1,
          2,
          6,
          4,
          1,
          5,
          -1,
          2,
          1,
          2,
          12,
          36,
          1,
          24,
          2,
          6,
          4,
          4,
          1,
          6,
          4,
          12,
          12,
          28,
          12,
          6,
          48,
          2,
          1,
          -2,
          1,
          6,
          2,
          1,
          1,
          1,
          2,
          -1,
          2,
          24,
          12,
          1,
          2,
          1,
          4,
          1,
          10,
          1,
          3,
          1,
          14,
          12,
          1,
          1,
          1,
          2,
          1,
          1,
          24,
          1,
          3,
          72,
          3,
          2,
          1,
          25,
          1,
          2,
          2,
          12,
          4,
          6,
          9,
          6,
          1,
          1,
          8,
          6,
          2,
          4,
          3,
          4,
          1,
          2,
          1,
          8,
          1,
          5,
          12,
          2,
          2,
          1,
          12,
          10,
          48,
          10,
          12,
          6,
          6,
          2,
          1,
          4,
          12,
          1,
          1,
          1,
          6,
          1,
          3,
          72,
          90,
          7,
          6,
          2,
          4,
          18,
          2,
          1,
          1,
          4,
          1,
          10,
          6,
          1,
          2,
          6,
          1,
          16,
          2,
          10,
          25,
          1,
          1,
          4,
          25,
          1,
          1,
          6,
          2,
          1,
          2,
          12,
          1,
          2,
          12,
          6,
          2,
          2,
          -3,
          10,
          4,
          3,
          2,
          1,
          1,
          2,
          12,
          -4,
          24,
          1,
          1,
          4,
          3,
          1,
          10,
          2,
          1,
          12,
          6,
          72,
          2,
          6,
          24,
          1,
          1,
          10,
          1,
          4,
          6,
          1,
          3,
          96,
          96,
          4,
          1,
          -1,
          12,
          1,
          2,
          1,
          2,
          24,
          12,
          12,
          12,
          12,
          12,
          -12,
          14,
          2,
          1,
          2,
          3,
          2,
          1,
          24,
          1,
          1,
          5,
          12,
          1,
          2,
          1,
          12,
          12,
          1,
          4,
          1,
          1,
          2,
          12,
          1,
          1,
          2,
          96,
          1,
          36,
          10,
          12,
          2,
          36,
          48,
          3,
          1,
          36,
          1,
          5,
          24,
          3,
          1,
          12,
          1,
          1,
          12,
          1,
          4,
          1,
          1,
          12,
          12,
          1,
          1,
          1,
          72,
          2,
          1,
          24,
          6,
          1,
          3,
          12,
          2,
          6,
          4,
          2,
          2,
          24,
          6,
          2,
          24,
          1,
          3,
          -2,
          2,
          48,
          3,
          4,
          12,
          6,
          4,
          8,
          12,
          3,
          2,
          1,
          2,
          12,
          2,
          1,
          12,
          1,
          2,
          2,
          4,
          2,
          12,
          1,
          5,
          24,
          2,
          12,
          1,
          100,
          1,
          24,
          6,
          7,
          6,
          1,
          1,
          5,
          8,
          1,
          96,
          12,
          4,
          40,
          1,
          8,
          24,
          8,
          2,
          16,
          12,
          2,
          16,
          1,
          12,
          1,
          1,
          1,
          1,
          24,
          12,
          6,
          3,
          1,
          48,
          12,
          60,
          1,
          72,
          5,
          6,
          2,
          2,
          12,
          3,
          6,
          2,
          3,
          4,
          1,
          1,
          24,
          48,
          24,
          12,
          1,
          1,
          3,
          24,
          12,
          12,
          2,
          1,
          4,
          10,
          12,
          6,
          2,
          -1,
          10,
          8,
          3,
          12,
          16,
          1,
          4,
          1,
          1,
          4,
          1,
          2,
          12,
          12,
          7,
          25,
          6,
          2,
          10,
          1,
          6,
          6,
          12,
          1,
          96,
          4,
          3,
          4,
          16,
          2,
          1,
          1,
          2,
          1,
          48,
          42,
          2,
          12,
          24,
          3,
          1,
          3,
          -1,
          2,
          2,
          1,
          10,
          1,
          1,
          1,
          1,
          1,
          6,
          1,
          4,
          12,
          2,
          20,
          1,
          6,
          25,
          80,
          3,
          1,
          1,
          3,
          1,
          8,
          1,
          1,
          12,
          64,
          1,
          10,
          1,
          2,
          12,
          1,
          5,
          24,
          12,
          2,
          4,
          2,
          12,
          12,
          24,
          3,
          1,
          7,
          -1,
          72,
          1,
          6,
          1,
          3,
          4,
          12,
          18,
          2,
          24,
          6,
          1,
          6,
          1,
          8,
          48,
          3,
          2,
          6,
          48,
          6,
          1,
          6,
          12,
          12,
          1,
          2,
          12,
          6,
          1,
          12,
          1,
          2,
          12,
          1,
          2,
          6,
          6,
          20,
          20,
          1,
          1,
          1,
          3,
          1,
          4,
          2,
          12,
          24,
          6,
          1,
          1,
          3,
          12,
          6,
          2,
          1,
          4,
          12,
          4,
          10,
          12,
          24,
          4,
          25,
          1,
          2,
          8,
          1,
          3,
          1,
          1,
          1,
          3,
          4,
          3,
          1,
          1,
          10,
          4,
          5,
          12,
          1,
          1,
          3,
          2,
          1,
          30,
          1,
          1,
          1,
          8,
          1,
          32,
          1,
          1,
          1,
          12,
          1,
          12,
          3,
          2,
          1,
          2,
          1,
          96,
          -10,
          6,
          8,
          6,
          2,
          2,
          24,
          1,
          2,
          6,
          48,
          25,
          8,
          2,
          10,
          7,
          5,
          1,
          24,
          4,
          12,
          5,
          3,
          3,
          4,
          16,
          12,
          8,
          10,
          12,
          1,
          3,
          3,
          6,
          1,
          1,
          25,
          5,
          2,
          2,
          5,
          6,
          1,
          20,
          4,
          1,
          2,
          2,
          1,
          8,
          1,
          3,
          1,
          24,
          6,
          6,
          2,
          2,
          1,
          4,
          2,
          3,
          12,
          12,
          4,
          12,
          2,
          2,
          1,
          1,
          4,
          100,
          2,
          72,
          12,
          6,
          2,
          24,
          1,
          5,
          1,
          6,
          16,
          1,
          2,
          24,
          6,
          2,
          -1,
          1,
          6,
          20,
          2,
          4,
          3,
          1,
          24,
          2,
          3,
          6,
          12,
          6,
          100,
          1,
          10,
          1,
          2,
          6,
          1,
          1,
          3,
          10,
          6,
          4,
          2,
          2,
          2,
          12,
          30,
          1,
          12,
          10,
          2,
          12,
          1,
          8,
          48,
          2,
          4,
          1,
          6,
          1,
          6,
          1,
          4,
          12,
          2,
          3,
          1,
          1,
          4,
          5,
          1,
          1,
          8,
          1
         ],
         "xaxis": "x",
         "yaxis": "y"
        },
        {
         "alignmentgroup": "True",
         "hovertemplate": "variable=Quantity<br>value=%{x}<extra></extra>",
         "legendgroup": "Quantity",
         "marker": {
          "color": "#636efa"
         },
         "name": "Quantity",
         "notched": true,
         "offsetgroup": "Quantity",
         "showlegend": false,
         "type": "box",
         "x": [
          6,
          3,
          48,
          12,
          12,
          1,
          6,
          12,
          16,
          1,
          1,
          96,
          12,
          6,
          1,
          16,
          1,
          12,
          6,
          8,
          1,
          3,
          3,
          2,
          1,
          2,
          25,
          100,
          1,
          7,
          12,
          1,
          25,
          100,
          6,
          1,
          5,
          30,
          1,
          12,
          1,
          -13,
          1,
          24,
          3,
          6,
          10,
          1,
          12,
          2,
          2,
          12,
          2,
          1,
          4,
          1,
          1,
          3,
          1,
          1,
          3,
          2,
          2,
          2,
          3,
          1,
          10,
          1,
          24,
          24,
          4,
          1,
          10,
          3,
          3,
          1,
          3,
          12,
          1,
          1,
          24,
          2,
          24,
          12,
          2,
          36,
          1,
          24,
          1,
          2,
          8,
          32,
          36,
          2,
          12,
          3,
          9,
          6,
          1,
          10,
          10,
          25,
          12,
          8,
          -2,
          1,
          6,
          2,
          2,
          1,
          18,
          6,
          1,
          -12,
          6,
          1,
          1,
          12,
          6,
          3,
          2,
          2,
          1,
          1,
          16,
          25,
          12,
          20,
          20,
          6,
          2,
          26,
          10,
          5,
          1,
          12,
          3,
          3,
          1,
          12,
          2,
          2,
          2,
          75,
          2,
          6,
          3,
          40,
          2,
          1,
          8,
          1,
          2,
          2,
          2,
          1,
          3,
          2,
          12,
          3,
          12,
          12,
          -1,
          2,
          1,
          1,
          1,
          3,
          9,
          6,
          3,
          12,
          48,
          8,
          5,
          3,
          6,
          1,
          1,
          12,
          2,
          3,
          10,
          1,
          12,
          10,
          4,
          12,
          1,
          12,
          1,
          -26,
          48,
          2,
          1,
          2,
          1,
          24,
          2,
          24,
          50,
          1,
          12,
          1,
          7,
          36,
          6,
          10,
          10,
          2,
          1,
          6,
          1,
          12,
          2,
          24,
          8,
          6,
          1,
          1,
          2,
          2,
          12,
          6,
          12,
          6,
          2,
          16,
          2,
          1,
          1,
          2,
          2,
          1,
          2,
          10,
          1,
          2,
          6,
          1,
          20,
          4,
          3,
          6,
          1,
          -6,
          6,
          8,
          12,
          3,
          1,
          1,
          8,
          1,
          2,
          12,
          3,
          2,
          1,
          6,
          6,
          2,
          1,
          1,
          1,
          4,
          12,
          3,
          2,
          1,
          2,
          6,
          4,
          1,
          5,
          -1,
          2,
          1,
          2,
          12,
          36,
          1,
          24,
          2,
          6,
          4,
          4,
          1,
          6,
          4,
          12,
          12,
          28,
          12,
          6,
          48,
          2,
          1,
          -2,
          1,
          6,
          2,
          1,
          1,
          1,
          2,
          -1,
          2,
          24,
          12,
          1,
          2,
          1,
          4,
          1,
          10,
          1,
          3,
          1,
          14,
          12,
          1,
          1,
          1,
          2,
          1,
          1,
          24,
          1,
          3,
          72,
          3,
          2,
          1,
          25,
          1,
          2,
          2,
          12,
          4,
          6,
          9,
          6,
          1,
          1,
          8,
          6,
          2,
          4,
          3,
          4,
          1,
          2,
          1,
          8,
          1,
          5,
          12,
          2,
          2,
          1,
          12,
          10,
          48,
          10,
          12,
          6,
          6,
          2,
          1,
          4,
          12,
          1,
          1,
          1,
          6,
          1,
          3,
          72,
          90,
          7,
          6,
          2,
          4,
          18,
          2,
          1,
          1,
          4,
          1,
          10,
          6,
          1,
          2,
          6,
          1,
          16,
          2,
          10,
          25,
          1,
          1,
          4,
          25,
          1,
          1,
          6,
          2,
          1,
          2,
          12,
          1,
          2,
          12,
          6,
          2,
          2,
          -3,
          10,
          4,
          3,
          2,
          1,
          1,
          2,
          12,
          -4,
          24,
          1,
          1,
          4,
          3,
          1,
          10,
          2,
          1,
          12,
          6,
          72,
          2,
          6,
          24,
          1,
          1,
          10,
          1,
          4,
          6,
          1,
          3,
          96,
          96,
          4,
          1,
          -1,
          12,
          1,
          2,
          1,
          2,
          24,
          12,
          12,
          12,
          12,
          12,
          -12,
          14,
          2,
          1,
          2,
          3,
          2,
          1,
          24,
          1,
          1,
          5,
          12,
          1,
          2,
          1,
          12,
          12,
          1,
          4,
          1,
          1,
          2,
          12,
          1,
          1,
          2,
          96,
          1,
          36,
          10,
          12,
          2,
          36,
          48,
          3,
          1,
          36,
          1,
          5,
          24,
          3,
          1,
          12,
          1,
          1,
          12,
          1,
          4,
          1,
          1,
          12,
          12,
          1,
          1,
          1,
          72,
          2,
          1,
          24,
          6,
          1,
          3,
          12,
          2,
          6,
          4,
          2,
          2,
          24,
          6,
          2,
          24,
          1,
          3,
          -2,
          2,
          48,
          3,
          4,
          12,
          6,
          4,
          8,
          12,
          3,
          2,
          1,
          2,
          12,
          2,
          1,
          12,
          1,
          2,
          2,
          4,
          2,
          12,
          1,
          5,
          24,
          2,
          12,
          1,
          100,
          1,
          24,
          6,
          7,
          6,
          1,
          1,
          5,
          8,
          1,
          96,
          12,
          4,
          40,
          1,
          8,
          24,
          8,
          2,
          16,
          12,
          2,
          16,
          1,
          12,
          1,
          1,
          1,
          1,
          24,
          12,
          6,
          3,
          1,
          48,
          12,
          60,
          1,
          72,
          5,
          6,
          2,
          2,
          12,
          3,
          6,
          2,
          3,
          4,
          1,
          1,
          24,
          48,
          24,
          12,
          1,
          1,
          3,
          24,
          12,
          12,
          2,
          1,
          4,
          10,
          12,
          6,
          2,
          -1,
          10,
          8,
          3,
          12,
          16,
          1,
          4,
          1,
          1,
          4,
          1,
          2,
          12,
          12,
          7,
          25,
          6,
          2,
          10,
          1,
          6,
          6,
          12,
          1,
          96,
          4,
          3,
          4,
          16,
          2,
          1,
          1,
          2,
          1,
          48,
          42,
          2,
          12,
          24,
          3,
          1,
          3,
          -1,
          2,
          2,
          1,
          10,
          1,
          1,
          1,
          1,
          1,
          6,
          1,
          4,
          12,
          2,
          20,
          1,
          6,
          25,
          80,
          3,
          1,
          1,
          3,
          1,
          8,
          1,
          1,
          12,
          64,
          1,
          10,
          1,
          2,
          12,
          1,
          5,
          24,
          12,
          2,
          4,
          2,
          12,
          12,
          24,
          3,
          1,
          7,
          -1,
          72,
          1,
          6,
          1,
          3,
          4,
          12,
          18,
          2,
          24,
          6,
          1,
          6,
          1,
          8,
          48,
          3,
          2,
          6,
          48,
          6,
          1,
          6,
          12,
          12,
          1,
          2,
          12,
          6,
          1,
          12,
          1,
          2,
          12,
          1,
          2,
          6,
          6,
          20,
          20,
          1,
          1,
          1,
          3,
          1,
          4,
          2,
          12,
          24,
          6,
          1,
          1,
          3,
          12,
          6,
          2,
          1,
          4,
          12,
          4,
          10,
          12,
          24,
          4,
          25,
          1,
          2,
          8,
          1,
          3,
          1,
          1,
          1,
          3,
          4,
          3,
          1,
          1,
          10,
          4,
          5,
          12,
          1,
          1,
          3,
          2,
          1,
          30,
          1,
          1,
          1,
          8,
          1,
          32,
          1,
          1,
          1,
          12,
          1,
          12,
          3,
          2,
          1,
          2,
          1,
          96,
          -10,
          6,
          8,
          6,
          2,
          2,
          24,
          1,
          2,
          6,
          48,
          25,
          8,
          2,
          10,
          7,
          5,
          1,
          24,
          4,
          12,
          5,
          3,
          3,
          4,
          16,
          12,
          8,
          10,
          12,
          1,
          3,
          3,
          6,
          1,
          1,
          25,
          5,
          2,
          2,
          5,
          6,
          1,
          20,
          4,
          1,
          2,
          2,
          1,
          8,
          1,
          3,
          1,
          24,
          6,
          6,
          2,
          2,
          1,
          4,
          2,
          3,
          12,
          12,
          4,
          12,
          2,
          2,
          1,
          1,
          4,
          100,
          2,
          72,
          12,
          6,
          2,
          24,
          1,
          5,
          1,
          6,
          16,
          1,
          2,
          24,
          6,
          2,
          -1,
          1,
          6,
          20,
          2,
          4,
          3,
          1,
          24,
          2,
          3,
          6,
          12,
          6,
          100,
          1,
          10,
          1,
          2,
          6,
          1,
          1,
          3,
          10,
          6,
          4,
          2,
          2,
          2,
          12,
          30,
          1,
          12,
          10,
          2,
          12,
          1,
          8,
          48,
          2,
          4,
          1,
          6,
          1,
          6,
          1,
          4,
          12,
          2,
          3,
          1,
          1,
          4,
          5,
          1,
          1,
          8,
          1
         ],
         "xaxis": "x2",
         "yaxis": "y2"
        }
       ],
       "layout": {
        "barmode": "relative",
        "legend": {
         "title": {
          "text": "variable"
         },
         "tracegroupgap": 0
        },
        "template": {
         "data": {
          "bar": [
           {
            "error_x": {
             "color": "#2a3f5f"
            },
            "error_y": {
             "color": "#2a3f5f"
            },
            "marker": {
             "line": {
              "color": "#E5ECF6",
              "width": 0.5
             },
             "pattern": {
              "fillmode": "overlay",
              "size": 10,
              "solidity": 0.2
             }
            },
            "type": "bar"
           }
          ],
          "barpolar": [
           {
            "marker": {
             "line": {
              "color": "#E5ECF6",
              "width": 0.5
             },
             "pattern": {
              "fillmode": "overlay",
              "size": 10,
              "solidity": 0.2
             }
            },
            "type": "barpolar"
           }
          ],
          "carpet": [
           {
            "aaxis": {
             "endlinecolor": "#2a3f5f",
             "gridcolor": "white",
             "linecolor": "white",
             "minorgridcolor": "white",
             "startlinecolor": "#2a3f5f"
            },
            "baxis": {
             "endlinecolor": "#2a3f5f",
             "gridcolor": "white",
             "linecolor": "white",
             "minorgridcolor": "white",
             "startlinecolor": "#2a3f5f"
            },
            "type": "carpet"
           }
          ],
          "choropleth": [
           {
            "colorbar": {
             "outlinewidth": 0,
             "ticks": ""
            },
            "type": "choropleth"
           }
          ],
          "contour": [
           {
            "colorbar": {
             "outlinewidth": 0,
             "ticks": ""
            },
            "colorscale": [
             [
              0,
              "#0d0887"
             ],
             [
              0.1111111111111111,
              "#46039f"
             ],
             [
              0.2222222222222222,
              "#7201a8"
             ],
             [
              0.3333333333333333,
              "#9c179e"
             ],
             [
              0.4444444444444444,
              "#bd3786"
             ],
             [
              0.5555555555555556,
              "#d8576b"
             ],
             [
              0.6666666666666666,
              "#ed7953"
             ],
             [
              0.7777777777777778,
              "#fb9f3a"
             ],
             [
              0.8888888888888888,
              "#fdca26"
             ],
             [
              1,
              "#f0f921"
             ]
            ],
            "type": "contour"
           }
          ],
          "contourcarpet": [
           {
            "colorbar": {
             "outlinewidth": 0,
             "ticks": ""
            },
            "type": "contourcarpet"
           }
          ],
          "heatmap": [
           {
            "colorbar": {
             "outlinewidth": 0,
             "ticks": ""
            },
            "colorscale": [
             [
              0,
              "#0d0887"
             ],
             [
              0.1111111111111111,
              "#46039f"
             ],
             [
              0.2222222222222222,
              "#7201a8"
             ],
             [
              0.3333333333333333,
              "#9c179e"
             ],
             [
              0.4444444444444444,
              "#bd3786"
             ],
             [
              0.5555555555555556,
              "#d8576b"
             ],
             [
              0.6666666666666666,
              "#ed7953"
             ],
             [
              0.7777777777777778,
              "#fb9f3a"
             ],
             [
              0.8888888888888888,
              "#fdca26"
             ],
             [
              1,
              "#f0f921"
             ]
            ],
            "type": "heatmap"
           }
          ],
          "heatmapgl": [
           {
            "colorbar": {
             "outlinewidth": 0,
             "ticks": ""
            },
            "colorscale": [
             [
              0,
              "#0d0887"
             ],
             [
              0.1111111111111111,
              "#46039f"
             ],
             [
              0.2222222222222222,
              "#7201a8"
             ],
             [
              0.3333333333333333,
              "#9c179e"
             ],
             [
              0.4444444444444444,
              "#bd3786"
             ],
             [
              0.5555555555555556,
              "#d8576b"
             ],
             [
              0.6666666666666666,
              "#ed7953"
             ],
             [
              0.7777777777777778,
              "#fb9f3a"
             ],
             [
              0.8888888888888888,
              "#fdca26"
             ],
             [
              1,
              "#f0f921"
             ]
            ],
            "type": "heatmapgl"
           }
          ],
          "histogram": [
           {
            "marker": {
             "pattern": {
              "fillmode": "overlay",
              "size": 10,
              "solidity": 0.2
             }
            },
            "type": "histogram"
           }
          ],
          "histogram2d": [
           {
            "colorbar": {
             "outlinewidth": 0,
             "ticks": ""
            },
            "colorscale": [
             [
              0,
              "#0d0887"
             ],
             [
              0.1111111111111111,
              "#46039f"
             ],
             [
              0.2222222222222222,
              "#7201a8"
             ],
             [
              0.3333333333333333,
              "#9c179e"
             ],
             [
              0.4444444444444444,
              "#bd3786"
             ],
             [
              0.5555555555555556,
              "#d8576b"
             ],
             [
              0.6666666666666666,
              "#ed7953"
             ],
             [
              0.7777777777777778,
              "#fb9f3a"
             ],
             [
              0.8888888888888888,
              "#fdca26"
             ],
             [
              1,
              "#f0f921"
             ]
            ],
            "type": "histogram2d"
           }
          ],
          "histogram2dcontour": [
           {
            "colorbar": {
             "outlinewidth": 0,
             "ticks": ""
            },
            "colorscale": [
             [
              0,
              "#0d0887"
             ],
             [
              0.1111111111111111,
              "#46039f"
             ],
             [
              0.2222222222222222,
              "#7201a8"
             ],
             [
              0.3333333333333333,
              "#9c179e"
             ],
             [
              0.4444444444444444,
              "#bd3786"
             ],
             [
              0.5555555555555556,
              "#d8576b"
             ],
             [
              0.6666666666666666,
              "#ed7953"
             ],
             [
              0.7777777777777778,
              "#fb9f3a"
             ],
             [
              0.8888888888888888,
              "#fdca26"
             ],
             [
              1,
              "#f0f921"
             ]
            ],
            "type": "histogram2dcontour"
           }
          ],
          "mesh3d": [
           {
            "colorbar": {
             "outlinewidth": 0,
             "ticks": ""
            },
            "type": "mesh3d"
           }
          ],
          "parcoords": [
           {
            "line": {
             "colorbar": {
              "outlinewidth": 0,
              "ticks": ""
             }
            },
            "type": "parcoords"
           }
          ],
          "pie": [
           {
            "automargin": true,
            "type": "pie"
           }
          ],
          "scatter": [
           {
            "fillpattern": {
             "fillmode": "overlay",
             "size": 10,
             "solidity": 0.2
            },
            "type": "scatter"
           }
          ],
          "scatter3d": [
           {
            "line": {
             "colorbar": {
              "outlinewidth": 0,
              "ticks": ""
             }
            },
            "marker": {
             "colorbar": {
              "outlinewidth": 0,
              "ticks": ""
             }
            },
            "type": "scatter3d"
           }
          ],
          "scattercarpet": [
           {
            "marker": {
             "colorbar": {
              "outlinewidth": 0,
              "ticks": ""
             }
            },
            "type": "scattercarpet"
           }
          ],
          "scattergeo": [
           {
            "marker": {
             "colorbar": {
              "outlinewidth": 0,
              "ticks": ""
             }
            },
            "type": "scattergeo"
           }
          ],
          "scattergl": [
           {
            "marker": {
             "colorbar": {
              "outlinewidth": 0,
              "ticks": ""
             }
            },
            "type": "scattergl"
           }
          ],
          "scattermapbox": [
           {
            "marker": {
             "colorbar": {
              "outlinewidth": 0,
              "ticks": ""
             }
            },
            "type": "scattermapbox"
           }
          ],
          "scatterpolar": [
           {
            "marker": {
             "colorbar": {
              "outlinewidth": 0,
              "ticks": ""
             }
            },
            "type": "scatterpolar"
           }
          ],
          "scatterpolargl": [
           {
            "marker": {
             "colorbar": {
              "outlinewidth": 0,
              "ticks": ""
             }
            },
            "type": "scatterpolargl"
           }
          ],
          "scatterternary": [
           {
            "marker": {
             "colorbar": {
              "outlinewidth": 0,
              "ticks": ""
             }
            },
            "type": "scatterternary"
           }
          ],
          "surface": [
           {
            "colorbar": {
             "outlinewidth": 0,
             "ticks": ""
            },
            "colorscale": [
             [
              0,
              "#0d0887"
             ],
             [
              0.1111111111111111,
              "#46039f"
             ],
             [
              0.2222222222222222,
              "#7201a8"
             ],
             [
              0.3333333333333333,
              "#9c179e"
             ],
             [
              0.4444444444444444,
              "#bd3786"
             ],
             [
              0.5555555555555556,
              "#d8576b"
             ],
             [
              0.6666666666666666,
              "#ed7953"
             ],
             [
              0.7777777777777778,
              "#fb9f3a"
             ],
             [
              0.8888888888888888,
              "#fdca26"
             ],
             [
              1,
              "#f0f921"
             ]
            ],
            "type": "surface"
           }
          ],
          "table": [
           {
            "cells": {
             "fill": {
              "color": "#EBF0F8"
             },
             "line": {
              "color": "white"
             }
            },
            "header": {
             "fill": {
              "color": "#C8D4E3"
             },
             "line": {
              "color": "white"
             }
            },
            "type": "table"
           }
          ]
         },
         "layout": {
          "annotationdefaults": {
           "arrowcolor": "#2a3f5f",
           "arrowhead": 0,
           "arrowwidth": 1
          },
          "autotypenumbers": "strict",
          "coloraxis": {
           "colorbar": {
            "outlinewidth": 0,
            "ticks": ""
           }
          },
          "colorscale": {
           "diverging": [
            [
             0,
             "#8e0152"
            ],
            [
             0.1,
             "#c51b7d"
            ],
            [
             0.2,
             "#de77ae"
            ],
            [
             0.3,
             "#f1b6da"
            ],
            [
             0.4,
             "#fde0ef"
            ],
            [
             0.5,
             "#f7f7f7"
            ],
            [
             0.6,
             "#e6f5d0"
            ],
            [
             0.7,
             "#b8e186"
            ],
            [
             0.8,
             "#7fbc41"
            ],
            [
             0.9,
             "#4d9221"
            ],
            [
             1,
             "#276419"
            ]
           ],
           "sequential": [
            [
             0,
             "#0d0887"
            ],
            [
             0.1111111111111111,
             "#46039f"
            ],
            [
             0.2222222222222222,
             "#7201a8"
            ],
            [
             0.3333333333333333,
             "#9c179e"
            ],
            [
             0.4444444444444444,
             "#bd3786"
            ],
            [
             0.5555555555555556,
             "#d8576b"
            ],
            [
             0.6666666666666666,
             "#ed7953"
            ],
            [
             0.7777777777777778,
             "#fb9f3a"
            ],
            [
             0.8888888888888888,
             "#fdca26"
            ],
            [
             1,
             "#f0f921"
            ]
           ],
           "sequentialminus": [
            [
             0,
             "#0d0887"
            ],
            [
             0.1111111111111111,
             "#46039f"
            ],
            [
             0.2222222222222222,
             "#7201a8"
            ],
            [
             0.3333333333333333,
             "#9c179e"
            ],
            [
             0.4444444444444444,
             "#bd3786"
            ],
            [
             0.5555555555555556,
             "#d8576b"
            ],
            [
             0.6666666666666666,
             "#ed7953"
            ],
            [
             0.7777777777777778,
             "#fb9f3a"
            ],
            [
             0.8888888888888888,
             "#fdca26"
            ],
            [
             1,
             "#f0f921"
            ]
           ]
          },
          "colorway": [
           "#636efa",
           "#EF553B",
           "#00cc96",
           "#ab63fa",
           "#FFA15A",
           "#19d3f3",
           "#FF6692",
           "#B6E880",
           "#FF97FF",
           "#FECB52"
          ],
          "font": {
           "color": "#2a3f5f"
          },
          "geo": {
           "bgcolor": "white",
           "lakecolor": "white",
           "landcolor": "#E5ECF6",
           "showlakes": true,
           "showland": true,
           "subunitcolor": "white"
          },
          "hoverlabel": {
           "align": "left"
          },
          "hovermode": "closest",
          "mapbox": {
           "style": "light"
          },
          "paper_bgcolor": "white",
          "plot_bgcolor": "#E5ECF6",
          "polar": {
           "angularaxis": {
            "gridcolor": "white",
            "linecolor": "white",
            "ticks": ""
           },
           "bgcolor": "#E5ECF6",
           "radialaxis": {
            "gridcolor": "white",
            "linecolor": "white",
            "ticks": ""
           }
          },
          "scene": {
           "xaxis": {
            "backgroundcolor": "#E5ECF6",
            "gridcolor": "white",
            "gridwidth": 2,
            "linecolor": "white",
            "showbackground": true,
            "ticks": "",
            "zerolinecolor": "white"
           },
           "yaxis": {
            "backgroundcolor": "#E5ECF6",
            "gridcolor": "white",
            "gridwidth": 2,
            "linecolor": "white",
            "showbackground": true,
            "ticks": "",
            "zerolinecolor": "white"
           },
           "zaxis": {
            "backgroundcolor": "#E5ECF6",
            "gridcolor": "white",
            "gridwidth": 2,
            "linecolor": "white",
            "showbackground": true,
            "ticks": "",
            "zerolinecolor": "white"
           }
          },
          "shapedefaults": {
           "line": {
            "color": "#2a3f5f"
           }
          },
          "ternary": {
           "aaxis": {
            "gridcolor": "white",
            "linecolor": "white",
            "ticks": ""
           },
           "baxis": {
            "gridcolor": "white",
            "linecolor": "white",
            "ticks": ""
           },
           "bgcolor": "#E5ECF6",
           "caxis": {
            "gridcolor": "white",
            "linecolor": "white",
            "ticks": ""
           }
          },
          "title": {
           "x": 0.05
          },
          "xaxis": {
           "automargin": true,
           "gridcolor": "white",
           "linecolor": "white",
           "ticks": "",
           "title": {
            "standoff": 15
           },
           "zerolinecolor": "white",
           "zerolinewidth": 2
          },
          "yaxis": {
           "automargin": true,
           "gridcolor": "white",
           "linecolor": "white",
           "ticks": "",
           "title": {
            "standoff": 15
           },
           "zerolinecolor": "white",
           "zerolinewidth": 2
          }
         }
        },
        "title": {
         "text": "Quantity - Without Outliers"
        },
        "xaxis": {
         "anchor": "y",
         "domain": [
          0,
          1
         ],
         "title": {
          "text": "value"
         }
        },
        "xaxis2": {
         "anchor": "y2",
         "domain": [
          0,
          1
         ],
         "matches": "x",
         "showgrid": true,
         "showticklabels": false
        },
        "yaxis": {
         "anchor": "x",
         "domain": [
          0,
          0.7326
         ],
         "title": {
          "text": "count"
         }
        },
        "yaxis2": {
         "anchor": "x2",
         "domain": [
          0.7426,
          1
         ],
         "matches": "y2",
         "showgrid": false,
         "showline": false,
         "showticklabels": false,
         "ticks": ""
        }
       }
      }
     },
     "metadata": {},
     "output_type": "display_data"
    }
   ],
   "source": [
    "profile_serie(df_retail['Quantity'])"
   ]
  },
  {
   "cell_type": "markdown",
   "metadata": {},
   "source": [
    "    Análisis de la segunda serie, quantity...\n",
    "\n",
    "Lo que más llama la atención:\n",
    "- Existen 12326 valores negativos, pero estos podrían corresponder a devoluciones.\n",
    "- La media es 10.33, pero la mediana es 3, lo que indica que la distribución de los datos está sesgada a la derecha. (Puede ser por outliers)\n",
    "- El valor máximo es de 19152, una compra muy grande en comparación al resto de valores.\n",
    "- En el boxplot con outliers, se puede ver que existen valores atípicos muy altos en ambas direcciones.\n",
    "- En el boxplot sin outliers, se puede apreciar de mejor manera la dstribución de la data.\n"
   ]
  },
  {
   "cell_type": "code",
   "execution_count": 25,
   "metadata": {},
   "outputs": [
    {
     "name": "stderr",
     "output_type": "stream",
     "text": [
      "/var/folders/9z/f3pd2_993pgfk8l_z9thq4yc0000gn/T/ipykernel_6862/2460238009.py:10: FutureWarning:\n",
      "\n",
      "Treating datetime data as categorical rather than numeric in `.describe` is deprecated and will be removed in a future version of pandas. Specify `datetime_is_numeric=True` to silence this warning and adopt the future behavior now.\n",
      "\n"
     ]
    },
    {
     "data": {
      "text/markdown": [
       "## InvoiceDate Profile"
      ],
      "text/plain": [
       "<IPython.core.display.Markdown object>"
      ]
     },
     "metadata": {},
     "output_type": "display_data"
    },
    {
     "data": {
      "text/plain": [
       "Type                           datetime64[ns]\n",
       "Number of observations                 525461\n",
       "Unique                                  25296\n",
       "Top                       2010-12-06 16:57:00\n",
       "Freq                                      675\n",
       "first                     2009-12-01 07:45:00\n",
       "last                      2010-12-09 20:01:00\n",
       "                                             \n",
       "Missing cells                               0\n",
       "Missing cells (%)                       0.0 %\n",
       "Duplicate rows                         520400\n",
       "Duplicate rows (%)                    99.04 %\n",
       "Total size in memory            4203816 bytes\n",
       "dtype: object"
      ]
     },
     "metadata": {},
     "output_type": "display_data"
    },
    {
     "data": {
      "application/vnd.plotly.v1+json": {
       "config": {
        "plotlyServerURL": "https://plot.ly"
       },
       "data": [
        {
         "alignmentgroup": "True",
         "bingroup": "x",
         "hovertemplate": "variable=InvoiceDate<br>value=%{x}<br>count=%{y}<extra></extra>",
         "legendgroup": "InvoiceDate",
         "marker": {
          "color": "#636efa",
          "pattern": {
           "shape": ""
          }
         },
         "name": "InvoiceDate",
         "offsetgroup": "InvoiceDate",
         "orientation": "v",
         "showlegend": true,
         "type": "histogram",
         "x": [
          "2010-10-14T12:54:00",
          "2010-11-07T16:29:00",
          "2010-10-03T14:08:00",
          "2010-06-11T11:45:00",
          "2009-12-20T10:08:00",
          "2010-08-01T11:23:00",
          "2010-03-26T12:53:00",
          "2010-11-16T18:07:00",
          "2010-06-27T13:16:00",
          "2010-11-26T16:31:00",
          "2010-11-16T12:22:00",
          "2010-06-04T15:50:00",
          "2009-12-02T12:28:00",
          "2010-01-18T08:58:00",
          "2010-11-17T11:33:00",
          "2010-06-04T14:59:00",
          "2010-05-16T15:39:00",
          "2009-12-10T09:49:00",
          "2010-04-29T13:54:00",
          "2010-07-29T13:55:00",
          "2010-03-30T14:29:00",
          "2009-12-03T19:13:00",
          "2010-05-07T14:28:00",
          "2010-09-12T10:30:00",
          "2010-08-02T14:02:00",
          "2010-09-24T16:06:00",
          "2009-12-10T09:49:00",
          "2010-09-19T13:05:00",
          "2010-04-07T14:10:00",
          "2010-07-22T12:13:00",
          "2010-06-21T15:13:00",
          "2010-06-17T10:47:00",
          "2010-04-30T13:41:00",
          "2010-01-27T09:44:00",
          "2010-06-03T19:47:00",
          "2010-04-29T14:16:00",
          "2010-10-21T18:01:00",
          "2010-10-03T11:52:00",
          "2009-12-10T14:50:00",
          "2010-05-04T15:48:00",
          "2010-09-28T11:50:00",
          "2010-03-25T14:22:00",
          "2010-11-28T13:23:00",
          "2010-11-04T11:55:00",
          "2010-06-29T14:11:00",
          "2010-08-25T13:05:00",
          "2010-08-12T14:53:00",
          "2010-01-26T11:24:00",
          "2009-12-18T17:15:00",
          "2010-04-29T13:54:00",
          "2010-05-27T12:24:00",
          "2010-08-31T12:48:00",
          "2010-10-11T14:05:00",
          "2010-11-21T12:29:00",
          "2010-10-29T14:12:00",
          "2010-11-09T14:13:00",
          "2010-09-07T17:19:00",
          "2010-08-18T11:34:00",
          "2010-11-15T12:43:00",
          "2010-07-09T14:58:00",
          "2010-03-26T14:16:00",
          "2010-02-14T12:22:00",
          "2010-11-21T15:56:00",
          "2010-03-22T14:30:00",
          "2010-06-06T15:01:00",
          "2010-03-07T13:48:00",
          "2010-07-26T11:46:00",
          "2010-06-07T14:46:00",
          "2010-09-14T17:50:00",
          "2009-12-09T14:20:00",
          "2010-08-04T16:07:00",
          "2010-02-21T14:57:00",
          "2010-04-28T11:54:00",
          "2010-08-06T08:57:00",
          "2010-10-18T15:27:00",
          "2010-04-27T12:20:00",
          "2010-01-18T13:15:00",
          "2010-02-02T15:49:00",
          "2010-09-23T10:45:00",
          "2010-07-25T15:44:00",
          "2010-01-14T16:16:00",
          "2009-12-16T13:49:00",
          "2010-08-26T20:07:00",
          "2010-06-28T12:04:00",
          "2010-10-13T10:46:00",
          "2010-09-27T11:41:00",
          "2010-07-16T09:05:00",
          "2010-10-18T09:28:00",
          "2010-11-03T10:47:00",
          "2010-11-04T13:04:00",
          "2010-08-15T12:40:00",
          "2010-06-08T14:10:00",
          "2010-06-29T15:17:00",
          "2010-06-28T08:28:00",
          "2010-09-27T13:22:00",
          "2010-11-07T13:30:00",
          "2010-09-14T13:32:00",
          "2009-12-14T17:16:00",
          "2010-07-25T11:31:00",
          "2010-02-04T08:56:00",
          "2010-03-10T12:17:00",
          "2009-12-09T13:22:00",
          "2010-11-24T16:16:00",
          "2010-04-16T13:34:00",
          "2010-10-14T14:18:00",
          "2010-10-26T14:00:00",
          "2010-04-15T13:03:00",
          "2010-09-24T12:39:00",
          "2010-08-09T13:10:00",
          "2009-12-10T15:56:00",
          "2010-09-02T12:53:00",
          "2009-12-15T14:34:00",
          "2009-12-16T17:34:00",
          "2010-07-01T10:41:00",
          "2010-03-26T14:51:00",
          "2010-11-02T16:20:00",
          "2010-11-02T10:38:00",
          "2010-04-25T13:49:00",
          "2010-10-07T13:21:00",
          "2010-03-30T12:36:00",
          "2010-03-28T14:53:00",
          "2009-12-15T10:36:00",
          "2010-10-05T13:14:00",
          "2010-05-06T15:09:00",
          "2010-10-12T15:46:00",
          "2010-05-27T12:31:00",
          "2010-06-22T16:28:00",
          "2010-08-09T12:28:00",
          "2010-05-10T17:09:00",
          "2010-11-28T10:33:00",
          "2010-09-16T19:17:00",
          "2010-05-05T08:53:00",
          "2010-04-22T09:54:00",
          "2010-01-14T14:48:00",
          "2009-12-10T09:49:00",
          "2010-04-28T13:34:00",
          "2010-03-26T12:53:00",
          "2010-03-29T14:53:00",
          "2010-03-05T09:09:00",
          "2010-04-27T16:45:00",
          "2010-04-27T09:30:00",
          "2010-10-01T10:33:00",
          "2010-03-02T13:09:00",
          "2009-12-14T13:19:00",
          "2010-11-14T16:32:00",
          "2010-08-23T14:38:00",
          "2010-08-24T17:21:00",
          "2010-11-09T12:47:00",
          "2010-10-21T16:30:00",
          "2010-10-28T09:29:00",
          "2010-11-16T14:15:00",
          "2010-02-03T11:58:00",
          "2010-06-09T13:08:00",
          "2009-12-06T15:48:00",
          "2010-09-09T10:50:00",
          "2010-09-02T13:27:00",
          "2010-11-12T14:28:00",
          "2010-06-17T17:41:00",
          "2010-11-30T12:05:00",
          "2010-09-02T17:52:00",
          "2010-07-28T14:54:00",
          "2010-11-02T18:08:00",
          "2010-04-13T16:33:00",
          "2010-10-31T14:40:00",
          "2009-12-01T12:52:00",
          "2010-07-02T15:55:00",
          "2010-09-02T14:33:00",
          "2009-12-06T12:17:00",
          "2010-04-07T16:13:00",
          "2010-02-22T12:05:00",
          "2010-05-24T10:44:00",
          "2010-08-18T16:54:00",
          "2010-10-04T12:36:00",
          "2010-12-06T14:36:00",
          "2010-03-19T11:10:00",
          "2010-11-03T13:13:00",
          "2010-09-16T14:34:00",
          "2010-02-28T10:25:00",
          "2010-05-20T13:41:00",
          "2010-03-25T12:43:00",
          "2010-06-07T11:32:00",
          "2010-01-28T12:36:00",
          "2010-12-09T14:09:00",
          "2010-08-08T12:35:00",
          "2010-09-27T12:50:00",
          "2010-04-16T15:55:00",
          "2010-06-22T14:21:00",
          "2010-03-03T08:42:00",
          "2010-09-29T12:41:00",
          "2010-05-13T16:49:00",
          "2010-06-01T16:06:00",
          "2010-07-06T14:38:00",
          "2010-09-28T16:12:00",
          "2010-03-10T10:25:00",
          "2010-11-02T14:02:00",
          "2009-12-05T12:36:00",
          "2010-11-25T13:29:00",
          "2010-01-07T10:57:00",
          "2010-02-23T12:26:00",
          "2010-03-03T17:18:00",
          "2010-02-01T13:25:00",
          "2010-11-01T16:45:00",
          "2010-11-16T12:22:00",
          "2010-12-06T14:51:00",
          "2010-01-06T10:17:00",
          "2010-03-26T14:01:00",
          "2010-01-14T18:56:00",
          "2010-06-17T12:21:00",
          "2010-09-21T15:46:00",
          "2010-04-28T15:00:00",
          "2010-09-23T14:47:00",
          "2010-04-19T10:43:00",
          "2010-11-09T10:35:00",
          "2009-12-23T13:00:00",
          "2010-02-02T10:06:00",
          "2010-06-30T11:32:00",
          "2010-10-20T14:42:00",
          "2010-06-02T14:48:00",
          "2010-01-28T14:31:00",
          "2010-05-30T15:58:00",
          "2010-05-25T10:14:00",
          "2010-11-07T12:03:00",
          "2010-11-01T13:33:00",
          "2010-04-27T13:48:00",
          "2009-12-17T12:04:00",
          "2010-12-07T15:28:00",
          "2010-04-20T16:00:00",
          "2010-12-06T13:41:00",
          "2009-12-17T12:32:00",
          "2010-08-04T15:52:00",
          "2010-01-04T12:57:00",
          "2010-06-09T14:13:00",
          "2010-03-18T14:14:00",
          "2010-04-06T15:10:00",
          "2010-11-24T10:30:00",
          "2010-10-18T17:11:00",
          "2010-04-09T17:13:00",
          "2010-11-29T16:45:00",
          "2010-07-02T08:26:00",
          "2010-06-15T14:42:00",
          "2010-10-11T11:34:00",
          "2010-09-02T17:52:00",
          "2010-03-10T13:08:00",
          "2010-11-01T11:35:00",
          "2010-11-09T14:13:00",
          "2009-12-04T10:57:00",
          "2010-08-11T15:46:00",
          "2010-03-25T12:39:00",
          "2010-07-05T11:54:00",
          "2010-04-13T11:43:00",
          "2010-03-07T16:12:00",
          "2010-10-11T13:49:00",
          "2010-09-30T11:45:00",
          "2009-12-03T10:20:00",
          "2010-11-28T11:33:00",
          "2010-04-26T10:31:00",
          "2010-05-18T15:13:00",
          "2010-07-19T16:10:00",
          "2010-10-14T13:09:00",
          "2010-08-22T16:07:00",
          "2010-08-31T12:41:00",
          "2009-12-02T15:08:00",
          "2010-05-04T11:51:00",
          "2010-06-04T12:23:00",
          "2010-10-06T14:34:00",
          "2010-10-24T13:57:00",
          "2010-10-12T15:46:00",
          "2010-11-07T12:04:00",
          "2010-05-24T12:25:00",
          "2010-11-11T15:49:00",
          "2010-11-22T13:02:00",
          "2010-06-25T13:35:00",
          "2009-12-11T13:52:00",
          "2010-02-21T12:43:00",
          "2010-09-24T16:06:00",
          "2010-05-06T20:01:00",
          "2010-04-28T11:55:00",
          "2010-06-08T14:52:00",
          "2010-08-12T10:12:00",
          "2010-07-15T11:44:00",
          "2010-04-07T11:04:00",
          "2010-02-07T13:30:00",
          "2010-12-08T13:18:00",
          "2010-08-15T11:22:00",
          "2010-11-22T11:37:00",
          "2010-08-31T12:35:00",
          "2010-10-07T16:14:00",
          "2010-08-19T16:19:00",
          "2010-12-06T09:58:00",
          "2010-05-20T17:57:00",
          "2010-09-27T12:45:00",
          "2010-03-26T14:01:00",
          "2010-05-14T12:52:00",
          "2010-11-24T12:43:00",
          "2010-03-21T11:32:00",
          "2010-08-04T10:52:00",
          "2010-05-07T17:28:00",
          "2010-07-08T13:07:00",
          "2010-08-03T12:55:00",
          "2009-12-06T15:41:00",
          "2010-07-19T12:53:00",
          "2010-02-17T14:34:00",
          "2010-08-11T12:20:00",
          "2010-10-26T13:44:00",
          "2010-11-14T12:07:00",
          "2010-10-07T10:19:00",
          "2010-07-08T15:14:00",
          "2010-06-07T10:54:00",
          "2010-02-09T09:47:00",
          "2009-12-16T15:13:00",
          "2010-01-13T17:51:00",
          "2010-06-24T11:31:00",
          "2010-02-28T15:01:00",
          "2010-03-24T13:30:00",
          "2010-08-12T17:01:00",
          "2010-06-14T13:35:00",
          "2009-12-07T12:32:00",
          "2010-04-23T10:20:00",
          "2010-01-14T14:32:00",
          "2009-12-01T17:08:00",
          "2010-03-23T15:47:00",
          "2010-11-16T13:04:00",
          "2010-04-08T11:20:00",
          "2010-06-22T16:28:00",
          "2010-08-24T11:57:00",
          "2010-04-26T16:21:00",
          "2010-11-08T12:28:00",
          "2009-12-02T14:36:00",
          "2010-03-30T14:29:00",
          "2010-10-05T13:48:00",
          "2010-10-18T13:18:00",
          "2010-03-23T14:06:00",
          "2010-06-17T13:48:00",
          "2010-04-11T13:09:00",
          "2010-01-13T17:44:00",
          "2010-01-20T13:10:00",
          "2010-10-01T12:17:00",
          "2010-09-13T10:46:00",
          "2010-09-08T13:57:00",
          "2010-01-24T12:15:00",
          "2010-06-23T13:16:00",
          "2010-09-13T17:25:00",
          "2010-04-15T12:20:00",
          "2010-09-24T13:30:00",
          "2010-02-23T13:59:00",
          "2010-06-27T13:09:00",
          "2010-04-19T11:19:00",
          "2010-11-23T14:06:00",
          "2010-04-28T09:18:00",
          "2010-07-29T16:35:00",
          "2010-11-30T13:02:00",
          "2010-05-02T15:10:00",
          "2010-10-07T14:11:00",
          "2010-11-26T15:51:00",
          "2010-12-02T15:46:00",
          "2010-10-20T11:58:00",
          "2010-11-12T15:46:00",
          "2010-01-29T17:55:00",
          "2010-10-18T15:27:00",
          "2010-04-29T17:01:00",
          "2010-07-01T12:02:00",
          "2010-08-23T15:44:00",
          "2010-10-10T10:49:00",
          "2010-09-13T12:56:00",
          "2010-03-16T13:44:00",
          "2009-12-22T15:06:00",
          "2010-12-05T12:57:00",
          "2010-11-10T16:40:00",
          "2010-06-14T14:06:00",
          "2010-06-21T12:17:00",
          "2010-05-04T15:48:00",
          "2010-01-10T12:43:00",
          "2010-11-12T15:05:00",
          "2010-04-18T12:49:00",
          "2010-03-24T16:33:00",
          "2010-11-25T19:16:00",
          "2010-02-02T13:13:00",
          "2010-08-29T15:07:00",
          "2010-01-13T17:08:00",
          "2010-01-11T09:31:00",
          "2010-12-01T14:32:00",
          "2010-06-20T16:06:00",
          "2010-01-14T15:10:00",
          "2010-09-28T15:07:00",
          "2010-03-12T11:19:00",
          "2010-06-15T12:14:00",
          "2010-04-19T11:13:00",
          "2010-05-19T15:24:00",
          "2010-07-30T17:08:00",
          "2010-01-26T10:25:00",
          "2010-05-10T13:43:00",
          "2010-10-15T15:46:00",
          "2010-09-03T14:22:00",
          "2010-11-12T12:15:00",
          "2010-02-22T14:28:00",
          "2010-06-09T11:23:00",
          "2010-11-03T09:36:00",
          "2010-09-29T13:44:00",
          "2010-11-12T09:18:00",
          "2010-02-14T13:39:00",
          "2010-10-14T17:44:00",
          "2010-07-28T09:41:00",
          "2010-12-06T16:57:00",
          "2010-10-26T12:54:00",
          "2010-11-23T11:26:00",
          "2010-03-08T16:30:00",
          "2010-08-12T13:38:00",
          "2010-08-31T15:36:00",
          "2010-11-12T15:20:00",
          "2010-10-17T16:16:00",
          "2010-03-02T12:18:00",
          "2010-11-12T17:00:00",
          "2010-02-18T12:36:00",
          "2010-03-10T10:50:00",
          "2010-11-23T16:53:00",
          "2010-03-31T13:22:00",
          "2010-10-11T14:32:00",
          "2009-12-06T12:52:00",
          "2010-03-07T13:00:00",
          "2010-09-28T15:51:00",
          "2010-03-29T17:17:00",
          "2009-12-16T16:04:00",
          "2010-11-15T15:10:00",
          "2010-02-02T10:15:00",
          "2010-09-13T11:28:00",
          "2010-05-07T14:02:00",
          "2010-03-16T10:58:00",
          "2010-03-22T15:52:00",
          "2010-10-13T10:53:00",
          "2010-05-06T16:27:00",
          "2010-11-15T12:17:00",
          "2010-07-15T11:47:00",
          "2010-06-29T13:12:00",
          "2010-04-21T15:04:00",
          "2010-11-07T12:28:00",
          "2010-11-25T15:19:00",
          "2010-07-26T14:32:00",
          "2010-03-30T15:47:00",
          "2010-10-20T10:50:00",
          "2010-11-12T09:18:00",
          "2010-06-07T15:31:00",
          "2010-08-22T14:31:00",
          "2009-12-03T20:03:00",
          "2009-12-16T17:01:00",
          "2010-08-10T12:06:00",
          "2010-09-17T13:20:00",
          "2010-06-17T13:48:00",
          "2010-03-09T14:16:00",
          "2010-06-11T12:45:00",
          "2010-08-10T16:10:00",
          "2010-08-16T15:31:00",
          "2010-11-11T14:08:00",
          "2010-08-04T14:50:00",
          "2009-12-09T09:51:00",
          "2010-12-05T12:43:00",
          "2010-11-23T16:18:00",
          "2009-12-04T09:43:00",
          "2010-08-17T11:52:00",
          "2009-12-04T11:07:00",
          "2010-10-25T16:57:00",
          "2010-07-29T19:56:00",
          "2010-10-14T10:00:00",
          "2010-03-14T13:40:00",
          "2010-11-16T13:04:00",
          "2010-10-18T12:49:00",
          "2010-06-10T17:27:00",
          "2010-01-21T09:37:00",
          "2010-06-09T14:43:00",
          "2010-04-18T14:35:00",
          "2010-01-04T12:30:00",
          "2010-12-03T11:36:00",
          "2009-12-10T19:35:00",
          "2010-02-05T08:43:00",
          "2010-07-09T14:55:00",
          "2010-06-15T11:46:00",
          "2010-06-15T15:23:00",
          "2010-04-18T12:05:00",
          "2010-08-16T12:00:00",
          "2010-03-19T17:13:00",
          "2009-12-03T19:31:00",
          "2010-11-14T11:54:00",
          "2010-11-24T12:04:00",
          "2010-10-25T16:57:00",
          "2010-08-18T16:54:00",
          "2009-12-08T12:38:00",
          "2010-06-10T13:52:00",
          "2010-09-29T13:08:00",
          "2010-07-07T16:29:00",
          "2010-09-09T12:37:00",
          "2010-09-06T10:19:00",
          "2010-04-20T11:30:00",
          "2010-11-24T13:56:00",
          "2010-11-11T13:26:00",
          "2010-06-08T14:52:00",
          "2010-08-02T15:26:00",
          "2010-08-08T10:46:00",
          "2010-08-12T14:32:00",
          "2010-05-28T12:37:00",
          "2009-12-16T17:01:00",
          "2010-01-25T15:23:00",
          "2010-06-07T14:48:00",
          "2010-09-29T10:26:00",
          "2010-10-01T14:07:00",
          "2010-04-23T16:16:00",
          "2010-08-15T14:01:00",
          "2010-05-26T11:12:00",
          "2009-12-13T13:53:00",
          "2010-01-05T10:18:00",
          "2010-04-23T13:12:00",
          "2010-10-05T13:21:00",
          "2010-03-12T15:13:00",
          "2010-06-03T09:29:00",
          "2010-05-28T12:11:00",
          "2009-12-01T09:08:00",
          "2010-10-11T13:53:00",
          "2010-11-05T10:23:00",
          "2010-01-20T17:50:00",
          "2010-03-16T16:18:00",
          "2010-06-18T13:22:00",
          "2010-06-01T12:00:00",
          "2009-12-09T09:51:00",
          "2010-07-01T14:24:00",
          "2010-11-10T16:38:00",
          "2009-12-10T18:27:00",
          "2010-09-20T11:45:00",
          "2010-03-12T11:19:00",
          "2010-10-20T15:25:00",
          "2010-08-31T12:41:00",
          "2010-06-16T14:34:00",
          "2010-07-16T09:24:00",
          "2010-03-26T11:37:00",
          "2010-10-07T14:28:00",
          "2009-12-01T14:28:00",
          "2010-05-30T13:35:00",
          "2010-07-15T14:08:00",
          "2010-05-25T13:21:00",
          "2010-10-07T10:19:00",
          "2010-10-28T18:54:00",
          "2010-07-27T12:39:00",
          "2010-01-08T15:16:00",
          "2010-08-16T12:36:00",
          "2010-05-04T12:16:00",
          "2010-11-25T19:36:00",
          "2010-09-22T11:37:00",
          "2010-01-28T12:20:00",
          "2010-01-28T15:51:00",
          "2010-03-09T14:32:00",
          "2010-10-07T10:37:00",
          "2010-06-09T12:11:00",
          "2010-01-31T12:15:00",
          "2010-02-15T14:47:00",
          "2010-11-25T13:51:00",
          "2010-02-19T17:40:00",
          "2010-03-02T11:33:00",
          "2010-01-04T12:30:00",
          "2010-02-01T13:45:00",
          "2010-10-19T09:10:00",
          "2010-01-21T11:51:00",
          "2010-06-09T14:41:00",
          "2010-06-24T16:25:00",
          "2010-01-14T14:06:00",
          "2010-11-25T14:03:00",
          "2010-06-03T17:15:00",
          "2010-08-26T12:35:00",
          "2010-11-12T15:20:00",
          "2010-06-17T13:48:00",
          "2010-06-21T13:18:00",
          "2010-11-26T13:22:00",
          "2010-12-05T12:26:00",
          "2010-10-03T14:13:00",
          "2010-01-07T11:22:00",
          "2010-04-29T11:18:00",
          "2010-01-14T16:16:00",
          "2010-01-18T12:55:00",
          "2010-09-20T12:15:00",
          "2010-11-07T13:08:00",
          "2010-01-19T15:45:00",
          "2009-12-15T17:05:00",
          "2010-02-08T11:06:00",
          "2010-01-20T10:48:00",
          "2010-10-31T14:09:00",
          "2010-03-21T12:20:00",
          "2010-08-17T12:03:00",
          "2010-02-15T11:22:00",
          "2010-11-21T12:40:00",
          "2010-02-17T12:12:00",
          "2009-12-06T10:26:00",
          "2010-11-25T13:18:00",
          "2010-10-14T18:02:00",
          "2010-06-16T16:04:00",
          "2010-10-10T16:01:00",
          "2010-01-25T13:14:00",
          "2010-10-27T08:36:00",
          "2010-12-03T15:05:00",
          "2010-07-21T14:43:00",
          "2010-05-07T14:56:00",
          "2010-05-19T14:22:00",
          "2010-11-08T14:19:00",
          "2010-12-08T12:17:00",
          "2010-10-21T15:38:00",
          "2010-09-14T16:15:00",
          "2010-09-16T12:27:00",
          "2010-08-03T14:23:00",
          "2010-11-17T12:44:00",
          "2010-05-06T11:44:00",
          "2010-08-08T14:37:00",
          "2010-04-22T12:58:00",
          "2010-03-07T12:06:00",
          "2010-10-24T11:18:00",
          "2010-10-27T14:05:00",
          "2010-07-19T12:17:00",
          "2010-11-03T13:47:00",
          "2010-02-25T13:23:00",
          "2010-08-18T16:54:00",
          "2010-08-16T14:59:00",
          "2010-06-06T15:01:00",
          "2010-06-15T12:22:00",
          "2010-08-17T12:03:00",
          "2010-07-04T13:10:00",
          "2010-11-19T12:56:00",
          "2010-09-28T14:44:00",
          "2009-12-22T09:41:00",
          "2010-06-14T16:25:00",
          "2010-01-04T09:24:00",
          "2010-08-26T15:42:00",
          "2010-04-25T11:43:00",
          "2010-06-04T14:54:00",
          "2010-07-14T13:01:00",
          "2009-12-16T17:01:00",
          "2010-09-23T13:26:00",
          "2010-11-10T13:23:00",
          "2010-10-18T12:58:00",
          "2010-04-25T11:43:00",
          "2010-04-06T12:39:00",
          "2010-11-17T09:22:00",
          "2010-06-09T10:52:00",
          "2010-06-17T09:30:00",
          "2010-08-23T11:58:00",
          "2010-10-31T12:36:00",
          "2009-12-16T17:36:00",
          "2010-11-30T17:43:00",
          "2010-03-23T12:18:00",
          "2010-09-02T13:29:00",
          "2010-09-07T09:31:00",
          "2010-02-17T12:03:00",
          "2010-11-17T16:48:00",
          "2010-10-20T17:12:00",
          "2010-04-15T16:35:00",
          "2010-11-19T13:07:00",
          "2010-09-19T16:20:00",
          "2010-12-09T14:19:00",
          "2010-02-28T14:12:00",
          "2010-04-07T10:36:00",
          "2010-08-15T13:26:00",
          "2010-03-01T09:58:00",
          "2010-02-19T17:40:00",
          "2010-10-07T14:24:00",
          "2010-02-08T15:11:00",
          "2010-10-18T14:07:00",
          "2010-06-15T12:11:00",
          "2010-09-10T13:27:00",
          "2010-08-18T11:34:00",
          "2010-05-27T11:11:00",
          "2009-12-10T18:27:00",
          "2010-10-05T17:55:00",
          "2010-07-20T09:04:00",
          "2010-05-28T10:08:00",
          "2010-07-04T13:31:00",
          "2010-07-08T10:07:00",
          "2010-01-22T14:17:00",
          "2009-12-15T17:25:00",
          "2010-08-03T10:30:00",
          "2009-12-22T09:41:00",
          "2009-12-03T13:09:00",
          "2010-04-28T14:25:00",
          "2009-12-04T10:57:00",
          "2010-11-03T09:36:00",
          "2010-03-12T10:41:00",
          "2010-09-02T14:52:00",
          "2010-11-28T14:13:00",
          "2010-09-16T14:52:00",
          "2010-04-23T11:43:00",
          "2010-10-22T14:04:00",
          "2009-12-22T15:13:00",
          "2010-11-23T16:53:00",
          "2010-03-29T11:49:00",
          "2010-11-10T12:09:00",
          "2010-06-14T12:41:00",
          "2010-09-28T09:13:00",
          "2010-03-09T14:16:00",
          "2010-08-22T12:52:00",
          "2010-10-19T12:50:00",
          "2010-03-25T13:16:00",
          "2010-02-14T15:30:00",
          "2010-08-29T10:16:00",
          "2010-08-25T11:35:00",
          "2010-10-26T12:14:00",
          "2010-06-02T11:54:00",
          "2009-12-16T17:01:00",
          "2010-10-20T13:42:00",
          "2010-02-08T16:53:00",
          "2009-12-07T15:15:00",
          "2010-01-26T13:04:00",
          "2010-11-17T09:22:00",
          "2010-02-16T14:32:00",
          "2010-01-29T11:45:00",
          "2010-10-11T11:34:00",
          "2009-12-13T13:31:00",
          "2010-10-29T12:07:00",
          "2010-04-29T15:34:00",
          "2010-04-11T16:06:00",
          "2010-11-29T12:06:00",
          "2010-03-23T08:40:00",
          "2010-03-30T10:55:00",
          "2010-01-26T10:25:00",
          "2010-08-03T14:38:00",
          "2010-10-13T13:12:00",
          "2010-10-18T17:11:00",
          "2010-04-19T11:13:00",
          "2009-12-02T15:15:00",
          "2010-07-15T12:30:00",
          "2010-11-23T09:12:00",
          "2010-10-28T10:16:00",
          "2010-10-15T16:04:00",
          "2010-10-19T16:38:00",
          "2010-05-12T12:09:00",
          "2010-08-22T11:47:00",
          "2010-11-12T09:18:00",
          "2009-12-07T18:02:00",
          "2010-10-07T12:30:00",
          "2010-10-12T13:19:00",
          "2010-09-23T12:19:00",
          "2010-10-29T14:12:00",
          "2010-05-19T11:59:00",
          "2010-07-02T13:25:00",
          "2010-08-13T17:13:00",
          "2010-10-13T14:57:00",
          "2010-11-14T16:12:00",
          "2010-10-20T12:53:00",
          "2010-01-06T12:16:00",
          "2010-03-04T12:06:00",
          "2010-11-25T11:04:00",
          "2009-12-22T09:52:00",
          "2010-10-18T09:28:00",
          "2010-07-08T11:42:00",
          "2010-11-12T15:40:00",
          "2010-08-03T13:03:00",
          "2010-09-13T15:12:00",
          "2010-11-15T09:32:00",
          "2010-02-17T11:27:00",
          "2010-07-11T15:34:00",
          "2009-12-01T09:50:00",
          "2010-05-16T16:05:00",
          "2010-11-25T13:36:00",
          "2010-03-08T13:17:00",
          "2010-04-09T16:54:00",
          "2010-05-17T14:17:00",
          "2010-02-02T16:42:00",
          "2010-06-14T14:49:00",
          "2010-02-23T14:16:00",
          "2010-06-14T12:01:00",
          "2010-01-24T12:15:00",
          "2010-05-24T12:01:00",
          "2010-10-06T14:40:00",
          "2009-12-18T12:59:00",
          "2010-04-30T17:18:00",
          "2010-02-22T17:10:00",
          "2010-10-11T13:57:00",
          "2010-09-27T09:55:00",
          "2010-06-03T09:06:00",
          "2010-08-03T15:17:00",
          "2010-06-27T13:09:00",
          "2010-09-30T17:18:00",
          "2010-08-15T16:00:00",
          "2009-12-17T15:44:00",
          "2010-11-22T15:24:00",
          "2010-06-24T11:46:00",
          "2010-05-19T15:10:00",
          "2010-04-11T14:28:00",
          "2010-03-19T13:41:00",
          "2010-06-16T12:48:00",
          "2010-02-02T13:13:00",
          "2010-11-21T16:02:00",
          "2010-10-01T11:43:00",
          "2010-04-13T13:33:00",
          "2010-06-23T13:19:00",
          "2010-03-01T14:01:00",
          "2010-12-09T16:35:00",
          "2010-02-01T17:18:00",
          "2010-04-28T16:26:00",
          "2010-09-27T12:50:00",
          "2010-11-21T16:13:00",
          "2010-05-27T12:17:00",
          "2010-03-03T16:33:00",
          "2010-02-17T12:03:00",
          "2010-03-01T15:36:00",
          "2010-03-03T15:28:00",
          "2010-11-17T09:22:00",
          "2010-11-03T09:36:00",
          "2010-02-01T14:52:00",
          "2010-04-06T16:37:00",
          "2010-02-23T14:48:00",
          "2010-06-14T11:24:00",
          "2010-09-24T12:18:00",
          "2010-11-12T14:02:00",
          "2009-12-16T12:29:00",
          "2010-07-26T10:35:00",
          "2010-01-12T17:24:00",
          "2010-11-08T09:56:00",
          "2010-06-16T14:26:00",
          "2010-03-24T10:28:00",
          "2010-10-24T12:51:00",
          "2010-10-13T10:46:00",
          "2010-07-14T12:19:00",
          "2010-12-05T12:53:00",
          "2010-11-23T12:00:00",
          "2010-10-08T11:45:00",
          "2010-03-19T14:05:00",
          "2010-11-24T15:23:00",
          "2010-03-31T17:28:00",
          "2010-09-13T14:26:00",
          "2010-11-09T15:20:00",
          "2010-11-10T14:48:00",
          "2009-12-22T14:31:00",
          "2010-05-06T10:04:00",
          "2010-03-08T16:30:00",
          "2010-10-05T10:35:00",
          "2010-12-05T12:35:00",
          "2010-11-04T18:00:00",
          "2010-08-12T16:41:00",
          "2010-11-24T15:03:00",
          "2010-10-28T09:29:00",
          "2010-10-08T17:28:00",
          "2010-09-19T16:18:00",
          "2010-09-17T14:54:00",
          "2010-12-07T15:31:00",
          "2010-09-02T17:52:00",
          "2010-11-05T11:58:00",
          "2010-12-05T15:15:00",
          "2009-12-04T17:31:00",
          "2010-09-05T11:59:00",
          "2010-11-10T10:50:00",
          "2010-03-26T14:01:00",
          "2010-05-18T11:40:00",
          "2010-10-20T10:22:00",
          "2010-02-14T14:10:00",
          "2010-03-29T16:47:00",
          "2010-05-13T15:41:00",
          "2010-05-26T14:38:00",
          "2010-01-15T13:15:00",
          "2010-01-25T13:22:00",
          "2010-09-21T12:49:00",
          "2010-11-10T15:20:00",
          "2010-03-04T10:14:00",
          "2010-03-10T10:50:00",
          "2010-02-15T13:27:00",
          "2010-06-15T12:35:00",
          "2010-08-11T16:44:00",
          "2010-11-16T13:03:00",
          "2010-02-22T11:42:00",
          "2009-12-21T17:14:00",
          "2010-07-27T13:52:00",
          "2010-11-10T11:47:00",
          "2010-12-02T16:34:00",
          "2010-10-08T10:23:00",
          "2010-04-14T10:13:00",
          "2009-12-17T13:36:00",
          "2010-05-07T16:46:00",
          "2010-03-03T12:16:00",
          "2010-04-23T16:16:00",
          "2010-09-09T15:49:00",
          "2010-06-16T14:12:00",
          "2010-10-18T16:52:00",
          "2010-10-29T08:23:00",
          "2010-10-24T10:41:00",
          "2010-11-12T12:44:00",
          "2010-11-01T09:33:00",
          "2010-01-07T13:07:00",
          "2010-04-26T11:57:00",
          "2010-07-20T09:04:00",
          "2010-10-05T13:01:00",
          "2010-02-26T10:11:00",
          "2010-07-07T09:39:00",
          "2009-12-04T14:29:00",
          "2010-08-15T14:01:00",
          "2010-02-25T15:07:00",
          "2010-05-24T14:55:00",
          "2010-10-31T13:12:00",
          "2010-05-05T14:42:00",
          "2010-03-25T13:55:00",
          "2010-11-14T16:16:00",
          "2010-01-18T12:48:00",
          "2010-03-31T17:28:00",
          "2010-08-04T10:57:00",
          "2010-04-01T14:52:00",
          "2010-03-15T16:05:00",
          "2010-04-30T15:57:00",
          "2010-10-12T16:38:00",
          "2010-09-24T12:43:00",
          "2010-04-01T15:04:00",
          "2010-03-15T16:13:00",
          "2010-12-06T16:57:00",
          "2010-01-27T16:41:00",
          "2010-11-30T12:05:00",
          "2010-04-18T11:24:00",
          "2010-05-05T14:42:00",
          "2010-05-06T16:50:00",
          "2010-06-06T15:47:00",
          "2010-11-10T13:08:00",
          "2010-04-13T13:26:00",
          "2010-03-23T11:01:00",
          "2010-04-25T13:40:00",
          "2010-10-24T10:33:00",
          "2010-01-29T13:53:00",
          "2010-08-22T14:31:00",
          "2010-11-22T15:50:00",
          "2010-02-09T12:01:00",
          "2010-01-25T13:14:00",
          "2010-08-26T12:10:00",
          "2010-11-16T12:50:00",
          "2010-04-15T13:52:00",
          "2010-03-08T12:35:00",
          "2010-01-14T17:43:00",
          "2010-10-01T10:24:00",
          "2010-04-25T15:48:00",
          "2010-12-09T19:28:00",
          "2010-01-31T15:47:00",
          "2010-09-06T11:32:00",
          "2010-11-23T13:59:00",
          "2010-07-29T11:22:00",
          "2010-10-21T10:46:00",
          "2010-11-04T13:04:00",
          "2010-08-10T11:49:00",
          "2010-11-25T15:19:00",
          "2010-01-11T12:29:00",
          "2010-08-06T09:18:00",
          "2010-05-06T15:17:00",
          "2010-08-10T13:28:00",
          "2010-11-01T11:48:00",
          "2010-06-28T11:39:00",
          "2010-10-06T12:36:00",
          "2010-04-18T12:31:00",
          "2010-11-11T12:50:00",
          "2010-12-08T14:25:00",
          "2010-10-17T13:02:00",
          "2009-12-09T15:16:00",
          "2009-12-21T11:08:00",
          "2010-08-27T13:53:00",
          "2010-10-10T13:31:00",
          "2010-03-12T11:19:00",
          "2010-09-09T10:37:00",
          "2010-01-25T09:53:00",
          "2010-10-18T12:11:00",
          "2010-08-31T14:40:00",
          "2010-07-29T18:30:00",
          "2010-05-11T13:30:00",
          "2010-01-05T11:29:00",
          "2010-11-12T09:18:00",
          "2010-09-24T12:31:00",
          "2010-11-15T12:50:00",
          "2010-12-09T14:09:00",
          "2010-01-26T12:30:00",
          "2010-02-08T16:23:00",
          "2010-02-28T15:01:00",
          "2010-02-25T13:40:00",
          "2010-10-26T10:34:00",
          "2010-02-17T14:39:00",
          "2010-09-05T15:27:00",
          "2010-09-01T17:17:00",
          "2010-04-21T15:34:00",
          "2010-06-24T12:49:00",
          "2010-02-03T08:15:00",
          "2010-11-10T12:09:00",
          "2010-10-07T16:48:00",
          "2010-04-16T12:43:00",
          "2010-04-01T12:26:00",
          "2010-10-26T14:47:00",
          "2010-10-17T16:06:00",
          "2010-11-04T14:49:00",
          "2010-11-05T12:09:00",
          "2010-10-07T09:12:00",
          "2010-03-07T14:50:00",
          "2010-10-19T12:15:00",
          "2010-03-03T14:20:00",
          "2009-12-10T17:09:00",
          "2010-11-02T13:57:00",
          "2010-08-01T13:48:00",
          "2010-01-05T12:20:00",
          "2010-01-14T18:56:00",
          "2010-11-16T15:46:00",
          "2010-10-07T14:28:00",
          "2010-03-31T12:21:00",
          "2009-12-02T14:34:00",
          "2010-04-14T13:50:00",
          "2010-12-01T15:08:00",
          "2010-04-29T10:54:00",
          "2010-11-29T10:50:00",
          "2010-10-10T13:38:00",
          "2010-01-21T14:01:00",
          "2010-05-10T09:55:00"
         ],
         "xaxis": "x",
         "yaxis": "y"
        },
        {
         "alignmentgroup": "True",
         "hovertemplate": "variable=InvoiceDate<br>value=%{x}<extra></extra>",
         "legendgroup": "InvoiceDate",
         "marker": {
          "color": "#636efa"
         },
         "name": "InvoiceDate",
         "notched": true,
         "offsetgroup": "InvoiceDate",
         "showlegend": false,
         "type": "box",
         "x": [
          "2010-10-14T12:54:00",
          "2010-11-07T16:29:00",
          "2010-10-03T14:08:00",
          "2010-06-11T11:45:00",
          "2009-12-20T10:08:00",
          "2010-08-01T11:23:00",
          "2010-03-26T12:53:00",
          "2010-11-16T18:07:00",
          "2010-06-27T13:16:00",
          "2010-11-26T16:31:00",
          "2010-11-16T12:22:00",
          "2010-06-04T15:50:00",
          "2009-12-02T12:28:00",
          "2010-01-18T08:58:00",
          "2010-11-17T11:33:00",
          "2010-06-04T14:59:00",
          "2010-05-16T15:39:00",
          "2009-12-10T09:49:00",
          "2010-04-29T13:54:00",
          "2010-07-29T13:55:00",
          "2010-03-30T14:29:00",
          "2009-12-03T19:13:00",
          "2010-05-07T14:28:00",
          "2010-09-12T10:30:00",
          "2010-08-02T14:02:00",
          "2010-09-24T16:06:00",
          "2009-12-10T09:49:00",
          "2010-09-19T13:05:00",
          "2010-04-07T14:10:00",
          "2010-07-22T12:13:00",
          "2010-06-21T15:13:00",
          "2010-06-17T10:47:00",
          "2010-04-30T13:41:00",
          "2010-01-27T09:44:00",
          "2010-06-03T19:47:00",
          "2010-04-29T14:16:00",
          "2010-10-21T18:01:00",
          "2010-10-03T11:52:00",
          "2009-12-10T14:50:00",
          "2010-05-04T15:48:00",
          "2010-09-28T11:50:00",
          "2010-03-25T14:22:00",
          "2010-11-28T13:23:00",
          "2010-11-04T11:55:00",
          "2010-06-29T14:11:00",
          "2010-08-25T13:05:00",
          "2010-08-12T14:53:00",
          "2010-01-26T11:24:00",
          "2009-12-18T17:15:00",
          "2010-04-29T13:54:00",
          "2010-05-27T12:24:00",
          "2010-08-31T12:48:00",
          "2010-10-11T14:05:00",
          "2010-11-21T12:29:00",
          "2010-10-29T14:12:00",
          "2010-11-09T14:13:00",
          "2010-09-07T17:19:00",
          "2010-08-18T11:34:00",
          "2010-11-15T12:43:00",
          "2010-07-09T14:58:00",
          "2010-03-26T14:16:00",
          "2010-02-14T12:22:00",
          "2010-11-21T15:56:00",
          "2010-03-22T14:30:00",
          "2010-06-06T15:01:00",
          "2010-03-07T13:48:00",
          "2010-07-26T11:46:00",
          "2010-06-07T14:46:00",
          "2010-09-14T17:50:00",
          "2009-12-09T14:20:00",
          "2010-08-04T16:07:00",
          "2010-02-21T14:57:00",
          "2010-04-28T11:54:00",
          "2010-08-06T08:57:00",
          "2010-10-18T15:27:00",
          "2010-04-27T12:20:00",
          "2010-01-18T13:15:00",
          "2010-02-02T15:49:00",
          "2010-09-23T10:45:00",
          "2010-07-25T15:44:00",
          "2010-01-14T16:16:00",
          "2009-12-16T13:49:00",
          "2010-08-26T20:07:00",
          "2010-06-28T12:04:00",
          "2010-10-13T10:46:00",
          "2010-09-27T11:41:00",
          "2010-07-16T09:05:00",
          "2010-10-18T09:28:00",
          "2010-11-03T10:47:00",
          "2010-11-04T13:04:00",
          "2010-08-15T12:40:00",
          "2010-06-08T14:10:00",
          "2010-06-29T15:17:00",
          "2010-06-28T08:28:00",
          "2010-09-27T13:22:00",
          "2010-11-07T13:30:00",
          "2010-09-14T13:32:00",
          "2009-12-14T17:16:00",
          "2010-07-25T11:31:00",
          "2010-02-04T08:56:00",
          "2010-03-10T12:17:00",
          "2009-12-09T13:22:00",
          "2010-11-24T16:16:00",
          "2010-04-16T13:34:00",
          "2010-10-14T14:18:00",
          "2010-10-26T14:00:00",
          "2010-04-15T13:03:00",
          "2010-09-24T12:39:00",
          "2010-08-09T13:10:00",
          "2009-12-10T15:56:00",
          "2010-09-02T12:53:00",
          "2009-12-15T14:34:00",
          "2009-12-16T17:34:00",
          "2010-07-01T10:41:00",
          "2010-03-26T14:51:00",
          "2010-11-02T16:20:00",
          "2010-11-02T10:38:00",
          "2010-04-25T13:49:00",
          "2010-10-07T13:21:00",
          "2010-03-30T12:36:00",
          "2010-03-28T14:53:00",
          "2009-12-15T10:36:00",
          "2010-10-05T13:14:00",
          "2010-05-06T15:09:00",
          "2010-10-12T15:46:00",
          "2010-05-27T12:31:00",
          "2010-06-22T16:28:00",
          "2010-08-09T12:28:00",
          "2010-05-10T17:09:00",
          "2010-11-28T10:33:00",
          "2010-09-16T19:17:00",
          "2010-05-05T08:53:00",
          "2010-04-22T09:54:00",
          "2010-01-14T14:48:00",
          "2009-12-10T09:49:00",
          "2010-04-28T13:34:00",
          "2010-03-26T12:53:00",
          "2010-03-29T14:53:00",
          "2010-03-05T09:09:00",
          "2010-04-27T16:45:00",
          "2010-04-27T09:30:00",
          "2010-10-01T10:33:00",
          "2010-03-02T13:09:00",
          "2009-12-14T13:19:00",
          "2010-11-14T16:32:00",
          "2010-08-23T14:38:00",
          "2010-08-24T17:21:00",
          "2010-11-09T12:47:00",
          "2010-10-21T16:30:00",
          "2010-10-28T09:29:00",
          "2010-11-16T14:15:00",
          "2010-02-03T11:58:00",
          "2010-06-09T13:08:00",
          "2009-12-06T15:48:00",
          "2010-09-09T10:50:00",
          "2010-09-02T13:27:00",
          "2010-11-12T14:28:00",
          "2010-06-17T17:41:00",
          "2010-11-30T12:05:00",
          "2010-09-02T17:52:00",
          "2010-07-28T14:54:00",
          "2010-11-02T18:08:00",
          "2010-04-13T16:33:00",
          "2010-10-31T14:40:00",
          "2009-12-01T12:52:00",
          "2010-07-02T15:55:00",
          "2010-09-02T14:33:00",
          "2009-12-06T12:17:00",
          "2010-04-07T16:13:00",
          "2010-02-22T12:05:00",
          "2010-05-24T10:44:00",
          "2010-08-18T16:54:00",
          "2010-10-04T12:36:00",
          "2010-12-06T14:36:00",
          "2010-03-19T11:10:00",
          "2010-11-03T13:13:00",
          "2010-09-16T14:34:00",
          "2010-02-28T10:25:00",
          "2010-05-20T13:41:00",
          "2010-03-25T12:43:00",
          "2010-06-07T11:32:00",
          "2010-01-28T12:36:00",
          "2010-12-09T14:09:00",
          "2010-08-08T12:35:00",
          "2010-09-27T12:50:00",
          "2010-04-16T15:55:00",
          "2010-06-22T14:21:00",
          "2010-03-03T08:42:00",
          "2010-09-29T12:41:00",
          "2010-05-13T16:49:00",
          "2010-06-01T16:06:00",
          "2010-07-06T14:38:00",
          "2010-09-28T16:12:00",
          "2010-03-10T10:25:00",
          "2010-11-02T14:02:00",
          "2009-12-05T12:36:00",
          "2010-11-25T13:29:00",
          "2010-01-07T10:57:00",
          "2010-02-23T12:26:00",
          "2010-03-03T17:18:00",
          "2010-02-01T13:25:00",
          "2010-11-01T16:45:00",
          "2010-11-16T12:22:00",
          "2010-12-06T14:51:00",
          "2010-01-06T10:17:00",
          "2010-03-26T14:01:00",
          "2010-01-14T18:56:00",
          "2010-06-17T12:21:00",
          "2010-09-21T15:46:00",
          "2010-04-28T15:00:00",
          "2010-09-23T14:47:00",
          "2010-04-19T10:43:00",
          "2010-11-09T10:35:00",
          "2009-12-23T13:00:00",
          "2010-02-02T10:06:00",
          "2010-06-30T11:32:00",
          "2010-10-20T14:42:00",
          "2010-06-02T14:48:00",
          "2010-01-28T14:31:00",
          "2010-05-30T15:58:00",
          "2010-05-25T10:14:00",
          "2010-11-07T12:03:00",
          "2010-11-01T13:33:00",
          "2010-04-27T13:48:00",
          "2009-12-17T12:04:00",
          "2010-12-07T15:28:00",
          "2010-04-20T16:00:00",
          "2010-12-06T13:41:00",
          "2009-12-17T12:32:00",
          "2010-08-04T15:52:00",
          "2010-01-04T12:57:00",
          "2010-06-09T14:13:00",
          "2010-03-18T14:14:00",
          "2010-04-06T15:10:00",
          "2010-11-24T10:30:00",
          "2010-10-18T17:11:00",
          "2010-04-09T17:13:00",
          "2010-11-29T16:45:00",
          "2010-07-02T08:26:00",
          "2010-06-15T14:42:00",
          "2010-10-11T11:34:00",
          "2010-09-02T17:52:00",
          "2010-03-10T13:08:00",
          "2010-11-01T11:35:00",
          "2010-11-09T14:13:00",
          "2009-12-04T10:57:00",
          "2010-08-11T15:46:00",
          "2010-03-25T12:39:00",
          "2010-07-05T11:54:00",
          "2010-04-13T11:43:00",
          "2010-03-07T16:12:00",
          "2010-10-11T13:49:00",
          "2010-09-30T11:45:00",
          "2009-12-03T10:20:00",
          "2010-11-28T11:33:00",
          "2010-04-26T10:31:00",
          "2010-05-18T15:13:00",
          "2010-07-19T16:10:00",
          "2010-10-14T13:09:00",
          "2010-08-22T16:07:00",
          "2010-08-31T12:41:00",
          "2009-12-02T15:08:00",
          "2010-05-04T11:51:00",
          "2010-06-04T12:23:00",
          "2010-10-06T14:34:00",
          "2010-10-24T13:57:00",
          "2010-10-12T15:46:00",
          "2010-11-07T12:04:00",
          "2010-05-24T12:25:00",
          "2010-11-11T15:49:00",
          "2010-11-22T13:02:00",
          "2010-06-25T13:35:00",
          "2009-12-11T13:52:00",
          "2010-02-21T12:43:00",
          "2010-09-24T16:06:00",
          "2010-05-06T20:01:00",
          "2010-04-28T11:55:00",
          "2010-06-08T14:52:00",
          "2010-08-12T10:12:00",
          "2010-07-15T11:44:00",
          "2010-04-07T11:04:00",
          "2010-02-07T13:30:00",
          "2010-12-08T13:18:00",
          "2010-08-15T11:22:00",
          "2010-11-22T11:37:00",
          "2010-08-31T12:35:00",
          "2010-10-07T16:14:00",
          "2010-08-19T16:19:00",
          "2010-12-06T09:58:00",
          "2010-05-20T17:57:00",
          "2010-09-27T12:45:00",
          "2010-03-26T14:01:00",
          "2010-05-14T12:52:00",
          "2010-11-24T12:43:00",
          "2010-03-21T11:32:00",
          "2010-08-04T10:52:00",
          "2010-05-07T17:28:00",
          "2010-07-08T13:07:00",
          "2010-08-03T12:55:00",
          "2009-12-06T15:41:00",
          "2010-07-19T12:53:00",
          "2010-02-17T14:34:00",
          "2010-08-11T12:20:00",
          "2010-10-26T13:44:00",
          "2010-11-14T12:07:00",
          "2010-10-07T10:19:00",
          "2010-07-08T15:14:00",
          "2010-06-07T10:54:00",
          "2010-02-09T09:47:00",
          "2009-12-16T15:13:00",
          "2010-01-13T17:51:00",
          "2010-06-24T11:31:00",
          "2010-02-28T15:01:00",
          "2010-03-24T13:30:00",
          "2010-08-12T17:01:00",
          "2010-06-14T13:35:00",
          "2009-12-07T12:32:00",
          "2010-04-23T10:20:00",
          "2010-01-14T14:32:00",
          "2009-12-01T17:08:00",
          "2010-03-23T15:47:00",
          "2010-11-16T13:04:00",
          "2010-04-08T11:20:00",
          "2010-06-22T16:28:00",
          "2010-08-24T11:57:00",
          "2010-04-26T16:21:00",
          "2010-11-08T12:28:00",
          "2009-12-02T14:36:00",
          "2010-03-30T14:29:00",
          "2010-10-05T13:48:00",
          "2010-10-18T13:18:00",
          "2010-03-23T14:06:00",
          "2010-06-17T13:48:00",
          "2010-04-11T13:09:00",
          "2010-01-13T17:44:00",
          "2010-01-20T13:10:00",
          "2010-10-01T12:17:00",
          "2010-09-13T10:46:00",
          "2010-09-08T13:57:00",
          "2010-01-24T12:15:00",
          "2010-06-23T13:16:00",
          "2010-09-13T17:25:00",
          "2010-04-15T12:20:00",
          "2010-09-24T13:30:00",
          "2010-02-23T13:59:00",
          "2010-06-27T13:09:00",
          "2010-04-19T11:19:00",
          "2010-11-23T14:06:00",
          "2010-04-28T09:18:00",
          "2010-07-29T16:35:00",
          "2010-11-30T13:02:00",
          "2010-05-02T15:10:00",
          "2010-10-07T14:11:00",
          "2010-11-26T15:51:00",
          "2010-12-02T15:46:00",
          "2010-10-20T11:58:00",
          "2010-11-12T15:46:00",
          "2010-01-29T17:55:00",
          "2010-10-18T15:27:00",
          "2010-04-29T17:01:00",
          "2010-07-01T12:02:00",
          "2010-08-23T15:44:00",
          "2010-10-10T10:49:00",
          "2010-09-13T12:56:00",
          "2010-03-16T13:44:00",
          "2009-12-22T15:06:00",
          "2010-12-05T12:57:00",
          "2010-11-10T16:40:00",
          "2010-06-14T14:06:00",
          "2010-06-21T12:17:00",
          "2010-05-04T15:48:00",
          "2010-01-10T12:43:00",
          "2010-11-12T15:05:00",
          "2010-04-18T12:49:00",
          "2010-03-24T16:33:00",
          "2010-11-25T19:16:00",
          "2010-02-02T13:13:00",
          "2010-08-29T15:07:00",
          "2010-01-13T17:08:00",
          "2010-01-11T09:31:00",
          "2010-12-01T14:32:00",
          "2010-06-20T16:06:00",
          "2010-01-14T15:10:00",
          "2010-09-28T15:07:00",
          "2010-03-12T11:19:00",
          "2010-06-15T12:14:00",
          "2010-04-19T11:13:00",
          "2010-05-19T15:24:00",
          "2010-07-30T17:08:00",
          "2010-01-26T10:25:00",
          "2010-05-10T13:43:00",
          "2010-10-15T15:46:00",
          "2010-09-03T14:22:00",
          "2010-11-12T12:15:00",
          "2010-02-22T14:28:00",
          "2010-06-09T11:23:00",
          "2010-11-03T09:36:00",
          "2010-09-29T13:44:00",
          "2010-11-12T09:18:00",
          "2010-02-14T13:39:00",
          "2010-10-14T17:44:00",
          "2010-07-28T09:41:00",
          "2010-12-06T16:57:00",
          "2010-10-26T12:54:00",
          "2010-11-23T11:26:00",
          "2010-03-08T16:30:00",
          "2010-08-12T13:38:00",
          "2010-08-31T15:36:00",
          "2010-11-12T15:20:00",
          "2010-10-17T16:16:00",
          "2010-03-02T12:18:00",
          "2010-11-12T17:00:00",
          "2010-02-18T12:36:00",
          "2010-03-10T10:50:00",
          "2010-11-23T16:53:00",
          "2010-03-31T13:22:00",
          "2010-10-11T14:32:00",
          "2009-12-06T12:52:00",
          "2010-03-07T13:00:00",
          "2010-09-28T15:51:00",
          "2010-03-29T17:17:00",
          "2009-12-16T16:04:00",
          "2010-11-15T15:10:00",
          "2010-02-02T10:15:00",
          "2010-09-13T11:28:00",
          "2010-05-07T14:02:00",
          "2010-03-16T10:58:00",
          "2010-03-22T15:52:00",
          "2010-10-13T10:53:00",
          "2010-05-06T16:27:00",
          "2010-11-15T12:17:00",
          "2010-07-15T11:47:00",
          "2010-06-29T13:12:00",
          "2010-04-21T15:04:00",
          "2010-11-07T12:28:00",
          "2010-11-25T15:19:00",
          "2010-07-26T14:32:00",
          "2010-03-30T15:47:00",
          "2010-10-20T10:50:00",
          "2010-11-12T09:18:00",
          "2010-06-07T15:31:00",
          "2010-08-22T14:31:00",
          "2009-12-03T20:03:00",
          "2009-12-16T17:01:00",
          "2010-08-10T12:06:00",
          "2010-09-17T13:20:00",
          "2010-06-17T13:48:00",
          "2010-03-09T14:16:00",
          "2010-06-11T12:45:00",
          "2010-08-10T16:10:00",
          "2010-08-16T15:31:00",
          "2010-11-11T14:08:00",
          "2010-08-04T14:50:00",
          "2009-12-09T09:51:00",
          "2010-12-05T12:43:00",
          "2010-11-23T16:18:00",
          "2009-12-04T09:43:00",
          "2010-08-17T11:52:00",
          "2009-12-04T11:07:00",
          "2010-10-25T16:57:00",
          "2010-07-29T19:56:00",
          "2010-10-14T10:00:00",
          "2010-03-14T13:40:00",
          "2010-11-16T13:04:00",
          "2010-10-18T12:49:00",
          "2010-06-10T17:27:00",
          "2010-01-21T09:37:00",
          "2010-06-09T14:43:00",
          "2010-04-18T14:35:00",
          "2010-01-04T12:30:00",
          "2010-12-03T11:36:00",
          "2009-12-10T19:35:00",
          "2010-02-05T08:43:00",
          "2010-07-09T14:55:00",
          "2010-06-15T11:46:00",
          "2010-06-15T15:23:00",
          "2010-04-18T12:05:00",
          "2010-08-16T12:00:00",
          "2010-03-19T17:13:00",
          "2009-12-03T19:31:00",
          "2010-11-14T11:54:00",
          "2010-11-24T12:04:00",
          "2010-10-25T16:57:00",
          "2010-08-18T16:54:00",
          "2009-12-08T12:38:00",
          "2010-06-10T13:52:00",
          "2010-09-29T13:08:00",
          "2010-07-07T16:29:00",
          "2010-09-09T12:37:00",
          "2010-09-06T10:19:00",
          "2010-04-20T11:30:00",
          "2010-11-24T13:56:00",
          "2010-11-11T13:26:00",
          "2010-06-08T14:52:00",
          "2010-08-02T15:26:00",
          "2010-08-08T10:46:00",
          "2010-08-12T14:32:00",
          "2010-05-28T12:37:00",
          "2009-12-16T17:01:00",
          "2010-01-25T15:23:00",
          "2010-06-07T14:48:00",
          "2010-09-29T10:26:00",
          "2010-10-01T14:07:00",
          "2010-04-23T16:16:00",
          "2010-08-15T14:01:00",
          "2010-05-26T11:12:00",
          "2009-12-13T13:53:00",
          "2010-01-05T10:18:00",
          "2010-04-23T13:12:00",
          "2010-10-05T13:21:00",
          "2010-03-12T15:13:00",
          "2010-06-03T09:29:00",
          "2010-05-28T12:11:00",
          "2009-12-01T09:08:00",
          "2010-10-11T13:53:00",
          "2010-11-05T10:23:00",
          "2010-01-20T17:50:00",
          "2010-03-16T16:18:00",
          "2010-06-18T13:22:00",
          "2010-06-01T12:00:00",
          "2009-12-09T09:51:00",
          "2010-07-01T14:24:00",
          "2010-11-10T16:38:00",
          "2009-12-10T18:27:00",
          "2010-09-20T11:45:00",
          "2010-03-12T11:19:00",
          "2010-10-20T15:25:00",
          "2010-08-31T12:41:00",
          "2010-06-16T14:34:00",
          "2010-07-16T09:24:00",
          "2010-03-26T11:37:00",
          "2010-10-07T14:28:00",
          "2009-12-01T14:28:00",
          "2010-05-30T13:35:00",
          "2010-07-15T14:08:00",
          "2010-05-25T13:21:00",
          "2010-10-07T10:19:00",
          "2010-10-28T18:54:00",
          "2010-07-27T12:39:00",
          "2010-01-08T15:16:00",
          "2010-08-16T12:36:00",
          "2010-05-04T12:16:00",
          "2010-11-25T19:36:00",
          "2010-09-22T11:37:00",
          "2010-01-28T12:20:00",
          "2010-01-28T15:51:00",
          "2010-03-09T14:32:00",
          "2010-10-07T10:37:00",
          "2010-06-09T12:11:00",
          "2010-01-31T12:15:00",
          "2010-02-15T14:47:00",
          "2010-11-25T13:51:00",
          "2010-02-19T17:40:00",
          "2010-03-02T11:33:00",
          "2010-01-04T12:30:00",
          "2010-02-01T13:45:00",
          "2010-10-19T09:10:00",
          "2010-01-21T11:51:00",
          "2010-06-09T14:41:00",
          "2010-06-24T16:25:00",
          "2010-01-14T14:06:00",
          "2010-11-25T14:03:00",
          "2010-06-03T17:15:00",
          "2010-08-26T12:35:00",
          "2010-11-12T15:20:00",
          "2010-06-17T13:48:00",
          "2010-06-21T13:18:00",
          "2010-11-26T13:22:00",
          "2010-12-05T12:26:00",
          "2010-10-03T14:13:00",
          "2010-01-07T11:22:00",
          "2010-04-29T11:18:00",
          "2010-01-14T16:16:00",
          "2010-01-18T12:55:00",
          "2010-09-20T12:15:00",
          "2010-11-07T13:08:00",
          "2010-01-19T15:45:00",
          "2009-12-15T17:05:00",
          "2010-02-08T11:06:00",
          "2010-01-20T10:48:00",
          "2010-10-31T14:09:00",
          "2010-03-21T12:20:00",
          "2010-08-17T12:03:00",
          "2010-02-15T11:22:00",
          "2010-11-21T12:40:00",
          "2010-02-17T12:12:00",
          "2009-12-06T10:26:00",
          "2010-11-25T13:18:00",
          "2010-10-14T18:02:00",
          "2010-06-16T16:04:00",
          "2010-10-10T16:01:00",
          "2010-01-25T13:14:00",
          "2010-10-27T08:36:00",
          "2010-12-03T15:05:00",
          "2010-07-21T14:43:00",
          "2010-05-07T14:56:00",
          "2010-05-19T14:22:00",
          "2010-11-08T14:19:00",
          "2010-12-08T12:17:00",
          "2010-10-21T15:38:00",
          "2010-09-14T16:15:00",
          "2010-09-16T12:27:00",
          "2010-08-03T14:23:00",
          "2010-11-17T12:44:00",
          "2010-05-06T11:44:00",
          "2010-08-08T14:37:00",
          "2010-04-22T12:58:00",
          "2010-03-07T12:06:00",
          "2010-10-24T11:18:00",
          "2010-10-27T14:05:00",
          "2010-07-19T12:17:00",
          "2010-11-03T13:47:00",
          "2010-02-25T13:23:00",
          "2010-08-18T16:54:00",
          "2010-08-16T14:59:00",
          "2010-06-06T15:01:00",
          "2010-06-15T12:22:00",
          "2010-08-17T12:03:00",
          "2010-07-04T13:10:00",
          "2010-11-19T12:56:00",
          "2010-09-28T14:44:00",
          "2009-12-22T09:41:00",
          "2010-06-14T16:25:00",
          "2010-01-04T09:24:00",
          "2010-08-26T15:42:00",
          "2010-04-25T11:43:00",
          "2010-06-04T14:54:00",
          "2010-07-14T13:01:00",
          "2009-12-16T17:01:00",
          "2010-09-23T13:26:00",
          "2010-11-10T13:23:00",
          "2010-10-18T12:58:00",
          "2010-04-25T11:43:00",
          "2010-04-06T12:39:00",
          "2010-11-17T09:22:00",
          "2010-06-09T10:52:00",
          "2010-06-17T09:30:00",
          "2010-08-23T11:58:00",
          "2010-10-31T12:36:00",
          "2009-12-16T17:36:00",
          "2010-11-30T17:43:00",
          "2010-03-23T12:18:00",
          "2010-09-02T13:29:00",
          "2010-09-07T09:31:00",
          "2010-02-17T12:03:00",
          "2010-11-17T16:48:00",
          "2010-10-20T17:12:00",
          "2010-04-15T16:35:00",
          "2010-11-19T13:07:00",
          "2010-09-19T16:20:00",
          "2010-12-09T14:19:00",
          "2010-02-28T14:12:00",
          "2010-04-07T10:36:00",
          "2010-08-15T13:26:00",
          "2010-03-01T09:58:00",
          "2010-02-19T17:40:00",
          "2010-10-07T14:24:00",
          "2010-02-08T15:11:00",
          "2010-10-18T14:07:00",
          "2010-06-15T12:11:00",
          "2010-09-10T13:27:00",
          "2010-08-18T11:34:00",
          "2010-05-27T11:11:00",
          "2009-12-10T18:27:00",
          "2010-10-05T17:55:00",
          "2010-07-20T09:04:00",
          "2010-05-28T10:08:00",
          "2010-07-04T13:31:00",
          "2010-07-08T10:07:00",
          "2010-01-22T14:17:00",
          "2009-12-15T17:25:00",
          "2010-08-03T10:30:00",
          "2009-12-22T09:41:00",
          "2009-12-03T13:09:00",
          "2010-04-28T14:25:00",
          "2009-12-04T10:57:00",
          "2010-11-03T09:36:00",
          "2010-03-12T10:41:00",
          "2010-09-02T14:52:00",
          "2010-11-28T14:13:00",
          "2010-09-16T14:52:00",
          "2010-04-23T11:43:00",
          "2010-10-22T14:04:00",
          "2009-12-22T15:13:00",
          "2010-11-23T16:53:00",
          "2010-03-29T11:49:00",
          "2010-11-10T12:09:00",
          "2010-06-14T12:41:00",
          "2010-09-28T09:13:00",
          "2010-03-09T14:16:00",
          "2010-08-22T12:52:00",
          "2010-10-19T12:50:00",
          "2010-03-25T13:16:00",
          "2010-02-14T15:30:00",
          "2010-08-29T10:16:00",
          "2010-08-25T11:35:00",
          "2010-10-26T12:14:00",
          "2010-06-02T11:54:00",
          "2009-12-16T17:01:00",
          "2010-10-20T13:42:00",
          "2010-02-08T16:53:00",
          "2009-12-07T15:15:00",
          "2010-01-26T13:04:00",
          "2010-11-17T09:22:00",
          "2010-02-16T14:32:00",
          "2010-01-29T11:45:00",
          "2010-10-11T11:34:00",
          "2009-12-13T13:31:00",
          "2010-10-29T12:07:00",
          "2010-04-29T15:34:00",
          "2010-04-11T16:06:00",
          "2010-11-29T12:06:00",
          "2010-03-23T08:40:00",
          "2010-03-30T10:55:00",
          "2010-01-26T10:25:00",
          "2010-08-03T14:38:00",
          "2010-10-13T13:12:00",
          "2010-10-18T17:11:00",
          "2010-04-19T11:13:00",
          "2009-12-02T15:15:00",
          "2010-07-15T12:30:00",
          "2010-11-23T09:12:00",
          "2010-10-28T10:16:00",
          "2010-10-15T16:04:00",
          "2010-10-19T16:38:00",
          "2010-05-12T12:09:00",
          "2010-08-22T11:47:00",
          "2010-11-12T09:18:00",
          "2009-12-07T18:02:00",
          "2010-10-07T12:30:00",
          "2010-10-12T13:19:00",
          "2010-09-23T12:19:00",
          "2010-10-29T14:12:00",
          "2010-05-19T11:59:00",
          "2010-07-02T13:25:00",
          "2010-08-13T17:13:00",
          "2010-10-13T14:57:00",
          "2010-11-14T16:12:00",
          "2010-10-20T12:53:00",
          "2010-01-06T12:16:00",
          "2010-03-04T12:06:00",
          "2010-11-25T11:04:00",
          "2009-12-22T09:52:00",
          "2010-10-18T09:28:00",
          "2010-07-08T11:42:00",
          "2010-11-12T15:40:00",
          "2010-08-03T13:03:00",
          "2010-09-13T15:12:00",
          "2010-11-15T09:32:00",
          "2010-02-17T11:27:00",
          "2010-07-11T15:34:00",
          "2009-12-01T09:50:00",
          "2010-05-16T16:05:00",
          "2010-11-25T13:36:00",
          "2010-03-08T13:17:00",
          "2010-04-09T16:54:00",
          "2010-05-17T14:17:00",
          "2010-02-02T16:42:00",
          "2010-06-14T14:49:00",
          "2010-02-23T14:16:00",
          "2010-06-14T12:01:00",
          "2010-01-24T12:15:00",
          "2010-05-24T12:01:00",
          "2010-10-06T14:40:00",
          "2009-12-18T12:59:00",
          "2010-04-30T17:18:00",
          "2010-02-22T17:10:00",
          "2010-10-11T13:57:00",
          "2010-09-27T09:55:00",
          "2010-06-03T09:06:00",
          "2010-08-03T15:17:00",
          "2010-06-27T13:09:00",
          "2010-09-30T17:18:00",
          "2010-08-15T16:00:00",
          "2009-12-17T15:44:00",
          "2010-11-22T15:24:00",
          "2010-06-24T11:46:00",
          "2010-05-19T15:10:00",
          "2010-04-11T14:28:00",
          "2010-03-19T13:41:00",
          "2010-06-16T12:48:00",
          "2010-02-02T13:13:00",
          "2010-11-21T16:02:00",
          "2010-10-01T11:43:00",
          "2010-04-13T13:33:00",
          "2010-06-23T13:19:00",
          "2010-03-01T14:01:00",
          "2010-12-09T16:35:00",
          "2010-02-01T17:18:00",
          "2010-04-28T16:26:00",
          "2010-09-27T12:50:00",
          "2010-11-21T16:13:00",
          "2010-05-27T12:17:00",
          "2010-03-03T16:33:00",
          "2010-02-17T12:03:00",
          "2010-03-01T15:36:00",
          "2010-03-03T15:28:00",
          "2010-11-17T09:22:00",
          "2010-11-03T09:36:00",
          "2010-02-01T14:52:00",
          "2010-04-06T16:37:00",
          "2010-02-23T14:48:00",
          "2010-06-14T11:24:00",
          "2010-09-24T12:18:00",
          "2010-11-12T14:02:00",
          "2009-12-16T12:29:00",
          "2010-07-26T10:35:00",
          "2010-01-12T17:24:00",
          "2010-11-08T09:56:00",
          "2010-06-16T14:26:00",
          "2010-03-24T10:28:00",
          "2010-10-24T12:51:00",
          "2010-10-13T10:46:00",
          "2010-07-14T12:19:00",
          "2010-12-05T12:53:00",
          "2010-11-23T12:00:00",
          "2010-10-08T11:45:00",
          "2010-03-19T14:05:00",
          "2010-11-24T15:23:00",
          "2010-03-31T17:28:00",
          "2010-09-13T14:26:00",
          "2010-11-09T15:20:00",
          "2010-11-10T14:48:00",
          "2009-12-22T14:31:00",
          "2010-05-06T10:04:00",
          "2010-03-08T16:30:00",
          "2010-10-05T10:35:00",
          "2010-12-05T12:35:00",
          "2010-11-04T18:00:00",
          "2010-08-12T16:41:00",
          "2010-11-24T15:03:00",
          "2010-10-28T09:29:00",
          "2010-10-08T17:28:00",
          "2010-09-19T16:18:00",
          "2010-09-17T14:54:00",
          "2010-12-07T15:31:00",
          "2010-09-02T17:52:00",
          "2010-11-05T11:58:00",
          "2010-12-05T15:15:00",
          "2009-12-04T17:31:00",
          "2010-09-05T11:59:00",
          "2010-11-10T10:50:00",
          "2010-03-26T14:01:00",
          "2010-05-18T11:40:00",
          "2010-10-20T10:22:00",
          "2010-02-14T14:10:00",
          "2010-03-29T16:47:00",
          "2010-05-13T15:41:00",
          "2010-05-26T14:38:00",
          "2010-01-15T13:15:00",
          "2010-01-25T13:22:00",
          "2010-09-21T12:49:00",
          "2010-11-10T15:20:00",
          "2010-03-04T10:14:00",
          "2010-03-10T10:50:00",
          "2010-02-15T13:27:00",
          "2010-06-15T12:35:00",
          "2010-08-11T16:44:00",
          "2010-11-16T13:03:00",
          "2010-02-22T11:42:00",
          "2009-12-21T17:14:00",
          "2010-07-27T13:52:00",
          "2010-11-10T11:47:00",
          "2010-12-02T16:34:00",
          "2010-10-08T10:23:00",
          "2010-04-14T10:13:00",
          "2009-12-17T13:36:00",
          "2010-05-07T16:46:00",
          "2010-03-03T12:16:00",
          "2010-04-23T16:16:00",
          "2010-09-09T15:49:00",
          "2010-06-16T14:12:00",
          "2010-10-18T16:52:00",
          "2010-10-29T08:23:00",
          "2010-10-24T10:41:00",
          "2010-11-12T12:44:00",
          "2010-11-01T09:33:00",
          "2010-01-07T13:07:00",
          "2010-04-26T11:57:00",
          "2010-07-20T09:04:00",
          "2010-10-05T13:01:00",
          "2010-02-26T10:11:00",
          "2010-07-07T09:39:00",
          "2009-12-04T14:29:00",
          "2010-08-15T14:01:00",
          "2010-02-25T15:07:00",
          "2010-05-24T14:55:00",
          "2010-10-31T13:12:00",
          "2010-05-05T14:42:00",
          "2010-03-25T13:55:00",
          "2010-11-14T16:16:00",
          "2010-01-18T12:48:00",
          "2010-03-31T17:28:00",
          "2010-08-04T10:57:00",
          "2010-04-01T14:52:00",
          "2010-03-15T16:05:00",
          "2010-04-30T15:57:00",
          "2010-10-12T16:38:00",
          "2010-09-24T12:43:00",
          "2010-04-01T15:04:00",
          "2010-03-15T16:13:00",
          "2010-12-06T16:57:00",
          "2010-01-27T16:41:00",
          "2010-11-30T12:05:00",
          "2010-04-18T11:24:00",
          "2010-05-05T14:42:00",
          "2010-05-06T16:50:00",
          "2010-06-06T15:47:00",
          "2010-11-10T13:08:00",
          "2010-04-13T13:26:00",
          "2010-03-23T11:01:00",
          "2010-04-25T13:40:00",
          "2010-10-24T10:33:00",
          "2010-01-29T13:53:00",
          "2010-08-22T14:31:00",
          "2010-11-22T15:50:00",
          "2010-02-09T12:01:00",
          "2010-01-25T13:14:00",
          "2010-08-26T12:10:00",
          "2010-11-16T12:50:00",
          "2010-04-15T13:52:00",
          "2010-03-08T12:35:00",
          "2010-01-14T17:43:00",
          "2010-10-01T10:24:00",
          "2010-04-25T15:48:00",
          "2010-12-09T19:28:00",
          "2010-01-31T15:47:00",
          "2010-09-06T11:32:00",
          "2010-11-23T13:59:00",
          "2010-07-29T11:22:00",
          "2010-10-21T10:46:00",
          "2010-11-04T13:04:00",
          "2010-08-10T11:49:00",
          "2010-11-25T15:19:00",
          "2010-01-11T12:29:00",
          "2010-08-06T09:18:00",
          "2010-05-06T15:17:00",
          "2010-08-10T13:28:00",
          "2010-11-01T11:48:00",
          "2010-06-28T11:39:00",
          "2010-10-06T12:36:00",
          "2010-04-18T12:31:00",
          "2010-11-11T12:50:00",
          "2010-12-08T14:25:00",
          "2010-10-17T13:02:00",
          "2009-12-09T15:16:00",
          "2009-12-21T11:08:00",
          "2010-08-27T13:53:00",
          "2010-10-10T13:31:00",
          "2010-03-12T11:19:00",
          "2010-09-09T10:37:00",
          "2010-01-25T09:53:00",
          "2010-10-18T12:11:00",
          "2010-08-31T14:40:00",
          "2010-07-29T18:30:00",
          "2010-05-11T13:30:00",
          "2010-01-05T11:29:00",
          "2010-11-12T09:18:00",
          "2010-09-24T12:31:00",
          "2010-11-15T12:50:00",
          "2010-12-09T14:09:00",
          "2010-01-26T12:30:00",
          "2010-02-08T16:23:00",
          "2010-02-28T15:01:00",
          "2010-02-25T13:40:00",
          "2010-10-26T10:34:00",
          "2010-02-17T14:39:00",
          "2010-09-05T15:27:00",
          "2010-09-01T17:17:00",
          "2010-04-21T15:34:00",
          "2010-06-24T12:49:00",
          "2010-02-03T08:15:00",
          "2010-11-10T12:09:00",
          "2010-10-07T16:48:00",
          "2010-04-16T12:43:00",
          "2010-04-01T12:26:00",
          "2010-10-26T14:47:00",
          "2010-10-17T16:06:00",
          "2010-11-04T14:49:00",
          "2010-11-05T12:09:00",
          "2010-10-07T09:12:00",
          "2010-03-07T14:50:00",
          "2010-10-19T12:15:00",
          "2010-03-03T14:20:00",
          "2009-12-10T17:09:00",
          "2010-11-02T13:57:00",
          "2010-08-01T13:48:00",
          "2010-01-05T12:20:00",
          "2010-01-14T18:56:00",
          "2010-11-16T15:46:00",
          "2010-10-07T14:28:00",
          "2010-03-31T12:21:00",
          "2009-12-02T14:34:00",
          "2010-04-14T13:50:00",
          "2010-12-01T15:08:00",
          "2010-04-29T10:54:00",
          "2010-11-29T10:50:00",
          "2010-10-10T13:38:00",
          "2010-01-21T14:01:00",
          "2010-05-10T09:55:00"
         ],
         "xaxis": "x2",
         "yaxis": "y2"
        }
       ],
       "layout": {
        "barmode": "relative",
        "legend": {
         "title": {
          "text": "variable"
         },
         "tracegroupgap": 0
        },
        "template": {
         "data": {
          "bar": [
           {
            "error_x": {
             "color": "#2a3f5f"
            },
            "error_y": {
             "color": "#2a3f5f"
            },
            "marker": {
             "line": {
              "color": "#E5ECF6",
              "width": 0.5
             },
             "pattern": {
              "fillmode": "overlay",
              "size": 10,
              "solidity": 0.2
             }
            },
            "type": "bar"
           }
          ],
          "barpolar": [
           {
            "marker": {
             "line": {
              "color": "#E5ECF6",
              "width": 0.5
             },
             "pattern": {
              "fillmode": "overlay",
              "size": 10,
              "solidity": 0.2
             }
            },
            "type": "barpolar"
           }
          ],
          "carpet": [
           {
            "aaxis": {
             "endlinecolor": "#2a3f5f",
             "gridcolor": "white",
             "linecolor": "white",
             "minorgridcolor": "white",
             "startlinecolor": "#2a3f5f"
            },
            "baxis": {
             "endlinecolor": "#2a3f5f",
             "gridcolor": "white",
             "linecolor": "white",
             "minorgridcolor": "white",
             "startlinecolor": "#2a3f5f"
            },
            "type": "carpet"
           }
          ],
          "choropleth": [
           {
            "colorbar": {
             "outlinewidth": 0,
             "ticks": ""
            },
            "type": "choropleth"
           }
          ],
          "contour": [
           {
            "colorbar": {
             "outlinewidth": 0,
             "ticks": ""
            },
            "colorscale": [
             [
              0,
              "#0d0887"
             ],
             [
              0.1111111111111111,
              "#46039f"
             ],
             [
              0.2222222222222222,
              "#7201a8"
             ],
             [
              0.3333333333333333,
              "#9c179e"
             ],
             [
              0.4444444444444444,
              "#bd3786"
             ],
             [
              0.5555555555555556,
              "#d8576b"
             ],
             [
              0.6666666666666666,
              "#ed7953"
             ],
             [
              0.7777777777777778,
              "#fb9f3a"
             ],
             [
              0.8888888888888888,
              "#fdca26"
             ],
             [
              1,
              "#f0f921"
             ]
            ],
            "type": "contour"
           }
          ],
          "contourcarpet": [
           {
            "colorbar": {
             "outlinewidth": 0,
             "ticks": ""
            },
            "type": "contourcarpet"
           }
          ],
          "heatmap": [
           {
            "colorbar": {
             "outlinewidth": 0,
             "ticks": ""
            },
            "colorscale": [
             [
              0,
              "#0d0887"
             ],
             [
              0.1111111111111111,
              "#46039f"
             ],
             [
              0.2222222222222222,
              "#7201a8"
             ],
             [
              0.3333333333333333,
              "#9c179e"
             ],
             [
              0.4444444444444444,
              "#bd3786"
             ],
             [
              0.5555555555555556,
              "#d8576b"
             ],
             [
              0.6666666666666666,
              "#ed7953"
             ],
             [
              0.7777777777777778,
              "#fb9f3a"
             ],
             [
              0.8888888888888888,
              "#fdca26"
             ],
             [
              1,
              "#f0f921"
             ]
            ],
            "type": "heatmap"
           }
          ],
          "heatmapgl": [
           {
            "colorbar": {
             "outlinewidth": 0,
             "ticks": ""
            },
            "colorscale": [
             [
              0,
              "#0d0887"
             ],
             [
              0.1111111111111111,
              "#46039f"
             ],
             [
              0.2222222222222222,
              "#7201a8"
             ],
             [
              0.3333333333333333,
              "#9c179e"
             ],
             [
              0.4444444444444444,
              "#bd3786"
             ],
             [
              0.5555555555555556,
              "#d8576b"
             ],
             [
              0.6666666666666666,
              "#ed7953"
             ],
             [
              0.7777777777777778,
              "#fb9f3a"
             ],
             [
              0.8888888888888888,
              "#fdca26"
             ],
             [
              1,
              "#f0f921"
             ]
            ],
            "type": "heatmapgl"
           }
          ],
          "histogram": [
           {
            "marker": {
             "pattern": {
              "fillmode": "overlay",
              "size": 10,
              "solidity": 0.2
             }
            },
            "type": "histogram"
           }
          ],
          "histogram2d": [
           {
            "colorbar": {
             "outlinewidth": 0,
             "ticks": ""
            },
            "colorscale": [
             [
              0,
              "#0d0887"
             ],
             [
              0.1111111111111111,
              "#46039f"
             ],
             [
              0.2222222222222222,
              "#7201a8"
             ],
             [
              0.3333333333333333,
              "#9c179e"
             ],
             [
              0.4444444444444444,
              "#bd3786"
             ],
             [
              0.5555555555555556,
              "#d8576b"
             ],
             [
              0.6666666666666666,
              "#ed7953"
             ],
             [
              0.7777777777777778,
              "#fb9f3a"
             ],
             [
              0.8888888888888888,
              "#fdca26"
             ],
             [
              1,
              "#f0f921"
             ]
            ],
            "type": "histogram2d"
           }
          ],
          "histogram2dcontour": [
           {
            "colorbar": {
             "outlinewidth": 0,
             "ticks": ""
            },
            "colorscale": [
             [
              0,
              "#0d0887"
             ],
             [
              0.1111111111111111,
              "#46039f"
             ],
             [
              0.2222222222222222,
              "#7201a8"
             ],
             [
              0.3333333333333333,
              "#9c179e"
             ],
             [
              0.4444444444444444,
              "#bd3786"
             ],
             [
              0.5555555555555556,
              "#d8576b"
             ],
             [
              0.6666666666666666,
              "#ed7953"
             ],
             [
              0.7777777777777778,
              "#fb9f3a"
             ],
             [
              0.8888888888888888,
              "#fdca26"
             ],
             [
              1,
              "#f0f921"
             ]
            ],
            "type": "histogram2dcontour"
           }
          ],
          "mesh3d": [
           {
            "colorbar": {
             "outlinewidth": 0,
             "ticks": ""
            },
            "type": "mesh3d"
           }
          ],
          "parcoords": [
           {
            "line": {
             "colorbar": {
              "outlinewidth": 0,
              "ticks": ""
             }
            },
            "type": "parcoords"
           }
          ],
          "pie": [
           {
            "automargin": true,
            "type": "pie"
           }
          ],
          "scatter": [
           {
            "fillpattern": {
             "fillmode": "overlay",
             "size": 10,
             "solidity": 0.2
            },
            "type": "scatter"
           }
          ],
          "scatter3d": [
           {
            "line": {
             "colorbar": {
              "outlinewidth": 0,
              "ticks": ""
             }
            },
            "marker": {
             "colorbar": {
              "outlinewidth": 0,
              "ticks": ""
             }
            },
            "type": "scatter3d"
           }
          ],
          "scattercarpet": [
           {
            "marker": {
             "colorbar": {
              "outlinewidth": 0,
              "ticks": ""
             }
            },
            "type": "scattercarpet"
           }
          ],
          "scattergeo": [
           {
            "marker": {
             "colorbar": {
              "outlinewidth": 0,
              "ticks": ""
             }
            },
            "type": "scattergeo"
           }
          ],
          "scattergl": [
           {
            "marker": {
             "colorbar": {
              "outlinewidth": 0,
              "ticks": ""
             }
            },
            "type": "scattergl"
           }
          ],
          "scattermapbox": [
           {
            "marker": {
             "colorbar": {
              "outlinewidth": 0,
              "ticks": ""
             }
            },
            "type": "scattermapbox"
           }
          ],
          "scatterpolar": [
           {
            "marker": {
             "colorbar": {
              "outlinewidth": 0,
              "ticks": ""
             }
            },
            "type": "scatterpolar"
           }
          ],
          "scatterpolargl": [
           {
            "marker": {
             "colorbar": {
              "outlinewidth": 0,
              "ticks": ""
             }
            },
            "type": "scatterpolargl"
           }
          ],
          "scatterternary": [
           {
            "marker": {
             "colorbar": {
              "outlinewidth": 0,
              "ticks": ""
             }
            },
            "type": "scatterternary"
           }
          ],
          "surface": [
           {
            "colorbar": {
             "outlinewidth": 0,
             "ticks": ""
            },
            "colorscale": [
             [
              0,
              "#0d0887"
             ],
             [
              0.1111111111111111,
              "#46039f"
             ],
             [
              0.2222222222222222,
              "#7201a8"
             ],
             [
              0.3333333333333333,
              "#9c179e"
             ],
             [
              0.4444444444444444,
              "#bd3786"
             ],
             [
              0.5555555555555556,
              "#d8576b"
             ],
             [
              0.6666666666666666,
              "#ed7953"
             ],
             [
              0.7777777777777778,
              "#fb9f3a"
             ],
             [
              0.8888888888888888,
              "#fdca26"
             ],
             [
              1,
              "#f0f921"
             ]
            ],
            "type": "surface"
           }
          ],
          "table": [
           {
            "cells": {
             "fill": {
              "color": "#EBF0F8"
             },
             "line": {
              "color": "white"
             }
            },
            "header": {
             "fill": {
              "color": "#C8D4E3"
             },
             "line": {
              "color": "white"
             }
            },
            "type": "table"
           }
          ]
         },
         "layout": {
          "annotationdefaults": {
           "arrowcolor": "#2a3f5f",
           "arrowhead": 0,
           "arrowwidth": 1
          },
          "autotypenumbers": "strict",
          "coloraxis": {
           "colorbar": {
            "outlinewidth": 0,
            "ticks": ""
           }
          },
          "colorscale": {
           "diverging": [
            [
             0,
             "#8e0152"
            ],
            [
             0.1,
             "#c51b7d"
            ],
            [
             0.2,
             "#de77ae"
            ],
            [
             0.3,
             "#f1b6da"
            ],
            [
             0.4,
             "#fde0ef"
            ],
            [
             0.5,
             "#f7f7f7"
            ],
            [
             0.6,
             "#e6f5d0"
            ],
            [
             0.7,
             "#b8e186"
            ],
            [
             0.8,
             "#7fbc41"
            ],
            [
             0.9,
             "#4d9221"
            ],
            [
             1,
             "#276419"
            ]
           ],
           "sequential": [
            [
             0,
             "#0d0887"
            ],
            [
             0.1111111111111111,
             "#46039f"
            ],
            [
             0.2222222222222222,
             "#7201a8"
            ],
            [
             0.3333333333333333,
             "#9c179e"
            ],
            [
             0.4444444444444444,
             "#bd3786"
            ],
            [
             0.5555555555555556,
             "#d8576b"
            ],
            [
             0.6666666666666666,
             "#ed7953"
            ],
            [
             0.7777777777777778,
             "#fb9f3a"
            ],
            [
             0.8888888888888888,
             "#fdca26"
            ],
            [
             1,
             "#f0f921"
            ]
           ],
           "sequentialminus": [
            [
             0,
             "#0d0887"
            ],
            [
             0.1111111111111111,
             "#46039f"
            ],
            [
             0.2222222222222222,
             "#7201a8"
            ],
            [
             0.3333333333333333,
             "#9c179e"
            ],
            [
             0.4444444444444444,
             "#bd3786"
            ],
            [
             0.5555555555555556,
             "#d8576b"
            ],
            [
             0.6666666666666666,
             "#ed7953"
            ],
            [
             0.7777777777777778,
             "#fb9f3a"
            ],
            [
             0.8888888888888888,
             "#fdca26"
            ],
            [
             1,
             "#f0f921"
            ]
           ]
          },
          "colorway": [
           "#636efa",
           "#EF553B",
           "#00cc96",
           "#ab63fa",
           "#FFA15A",
           "#19d3f3",
           "#FF6692",
           "#B6E880",
           "#FF97FF",
           "#FECB52"
          ],
          "font": {
           "color": "#2a3f5f"
          },
          "geo": {
           "bgcolor": "white",
           "lakecolor": "white",
           "landcolor": "#E5ECF6",
           "showlakes": true,
           "showland": true,
           "subunitcolor": "white"
          },
          "hoverlabel": {
           "align": "left"
          },
          "hovermode": "closest",
          "mapbox": {
           "style": "light"
          },
          "paper_bgcolor": "white",
          "plot_bgcolor": "#E5ECF6",
          "polar": {
           "angularaxis": {
            "gridcolor": "white",
            "linecolor": "white",
            "ticks": ""
           },
           "bgcolor": "#E5ECF6",
           "radialaxis": {
            "gridcolor": "white",
            "linecolor": "white",
            "ticks": ""
           }
          },
          "scene": {
           "xaxis": {
            "backgroundcolor": "#E5ECF6",
            "gridcolor": "white",
            "gridwidth": 2,
            "linecolor": "white",
            "showbackground": true,
            "ticks": "",
            "zerolinecolor": "white"
           },
           "yaxis": {
            "backgroundcolor": "#E5ECF6",
            "gridcolor": "white",
            "gridwidth": 2,
            "linecolor": "white",
            "showbackground": true,
            "ticks": "",
            "zerolinecolor": "white"
           },
           "zaxis": {
            "backgroundcolor": "#E5ECF6",
            "gridcolor": "white",
            "gridwidth": 2,
            "linecolor": "white",
            "showbackground": true,
            "ticks": "",
            "zerolinecolor": "white"
           }
          },
          "shapedefaults": {
           "line": {
            "color": "#2a3f5f"
           }
          },
          "ternary": {
           "aaxis": {
            "gridcolor": "white",
            "linecolor": "white",
            "ticks": ""
           },
           "baxis": {
            "gridcolor": "white",
            "linecolor": "white",
            "ticks": ""
           },
           "bgcolor": "#E5ECF6",
           "caxis": {
            "gridcolor": "white",
            "linecolor": "white",
            "ticks": ""
           }
          },
          "title": {
           "x": 0.05
          },
          "xaxis": {
           "automargin": true,
           "gridcolor": "white",
           "linecolor": "white",
           "ticks": "",
           "title": {
            "standoff": 15
           },
           "zerolinecolor": "white",
           "zerolinewidth": 2
          },
          "yaxis": {
           "automargin": true,
           "gridcolor": "white",
           "linecolor": "white",
           "ticks": "",
           "title": {
            "standoff": 15
           },
           "zerolinecolor": "white",
           "zerolinewidth": 2
          }
         }
        },
        "title": {
         "text": "InvoiceDate"
        },
        "xaxis": {
         "anchor": "y",
         "domain": [
          0,
          1
         ],
         "title": {
          "text": "value"
         }
        },
        "xaxis2": {
         "anchor": "y2",
         "domain": [
          0,
          1
         ],
         "matches": "x",
         "showgrid": true,
         "showticklabels": false
        },
        "yaxis": {
         "anchor": "x",
         "domain": [
          0,
          0.7326
         ],
         "title": {
          "text": "count"
         }
        },
        "yaxis2": {
         "anchor": "x2",
         "domain": [
          0.7426,
          1
         ],
         "matches": "y2",
         "showgrid": false,
         "showline": false,
         "showticklabels": false,
         "ticks": ""
        }
       }
      }
     },
     "metadata": {},
     "output_type": "display_data"
    }
   ],
   "source": [
    "profile_serie(df_retail['InvoiceDate'])"
   ]
  },
  {
   "cell_type": "markdown",
   "metadata": {},
   "source": [
    "    Análisis de la tecera serie, Invoice Date...\n",
    "\n",
    "Lo que más llama la atención:\n",
    "- Tenemos valores desde 2009-12-01 hasta 2010-12-09\n",
    "- Se ven 99% de \"duplicados\" pero esto está bien cuando hablamos de la fecha\n",
    "- No hay valores nulos"
   ]
  },
  {
   "cell_type": "markdown",
   "metadata": {},
   "source": [
    "Para el resto de variables no vale la pena usar la misma función ya que son variables categóricas."
   ]
  },
  {
   "cell_type": "markdown",
   "metadata": {
    "cell_id": "7db138f63ed64a6f909cca660047e27f",
    "deepnote_cell_height": 145.06666564941406,
    "deepnote_cell_type": "markdown",
    "tags": []
   },
   "source": [
    "### 1.2.2 Análisis Multivariado y Datos Faltantes [1 ptos]\n",
    "\n",
    "En segundo lugar encontrará la función ``profile_df()`` que recibe un dataframe como entrada y realiza un análisis bivariado de todas las variables numéricas que conforman el dataframe, un analisis de la correlación de Pearson entre las variables numericas del dataframe y la matriz de datos faltantes."
   ]
  },
  {
   "cell_type": "code",
   "execution_count": 50,
   "metadata": {
    "cell_id": "3d13ccefcd5c451fb0f81b8dad2183dc",
    "deepnote_cell_height": 530.86669921875,
    "deepnote_cell_type": "code",
    "deepnote_to_be_reexecuted": false,
    "execution_millis": 2,
    "execution_start": 1634322697785,
    "source_hash": "ac31b9bd",
    "tags": []
   },
   "outputs": [],
   "source": [
    "def profile_df(dataframe_in):\n",
    "    df = dataframe_in.copy()\n",
    "\n",
    "    list_type = []\n",
    "    for col in list(df.columns):\n",
    "        if is_numeric_dtype(df[col]) or \\\n",
    "        pd.core.dtypes.common.is_datetime_or_timedelta_dtype(df[col]):\n",
    "            list_type.append(col)\n",
    "\n",
    "    \n",
    "    display(Markdown('## Bivariant Analysis:'))\n",
    "    for i in range(len(list_type)):\n",
    "        for j in range(i+1, len(list_type)):\n",
    "            plt.scatter(df[list_type[i]], df[list_type[j]])\n",
    "            plt.xlabel(list_type[i]) \n",
    "            plt.ylabel(list_type[j]) \n",
    "            plt.title(f\"{list_type[i]} v/s {list_type[j]}\")\n",
    "            plt.show()\n",
    "\n",
    "    display(Markdown('## Correlation:'))\n",
    "    fig_corr = px.imshow(df[list_type].corr())\n",
    "    fig_corr.show()\n",
    "\n",
    "    display(Markdown('## Missing Matrix:'))\n",
    "    fig, ax = plt.subplots(figsize=[15, 10])\n",
    "    msno.matrix(df, ax=ax, sparkline=False)"
   ]
  },
  {
   "cell_type": "code",
   "execution_count": 51,
   "metadata": {},
   "outputs": [
    {
     "data": {
      "text/markdown": [
       "## Bivariant Analysis:"
      ],
      "text/plain": [
       "<IPython.core.display.Markdown object>"
      ]
     },
     "metadata": {},
     "output_type": "display_data"
    },
    {
     "data": {
      "image/png": "[encoded data removed]",
      "text/plain": [
       "<Figure size 640x480 with 1 Axes>"
      ]
     },
     "metadata": {},
     "output_type": "display_data"
    },
    {
     "data": {
      "image/png": "[encoded data removed]",
      "text/plain": [
       "<Figure size 640x480 with 1 Axes>"
      ]
     },
     "metadata": {},
     "output_type": "display_data"
    },
    {
     "data": {
      "image/png": "[encoded data removed]",
      "text/plain": [
       "<Figure size 640x480 with 1 Axes>"
      ]
     },
     "metadata": {},
     "output_type": "display_data"
    },
    {
     "data": {
      "text/markdown": [
       "## Correlation:"
      ],
      "text/plain": [
       "<IPython.core.display.Markdown object>"
      ]
     },
     "metadata": {},
     "output_type": "display_data"
    },
    {
     "name": "stderr",
     "output_type": "stream",
     "text": [
      "/var/folders/9z/f3pd2_993pgfk8l_z9thq4yc0000gn/T/ipykernel_6862/2390459975.py:21: FutureWarning:\n",
      "\n",
      "The default value of numeric_only in DataFrame.corr is deprecated. In a future version, it will default to False. Select only valid columns or specify the value of numeric_only to silence this warning.\n",
      "\n"
     ]
    },
    {
     "data": {
      "application/vnd.plotly.v1+json": {
       "config": {
        "plotlyServerURL": "https://plot.ly"
       },
       "data": [
        {
         "coloraxis": "coloraxis",
         "hovertemplate": "x: %{x}<br>y: %{y}<br>color: %{z}<extra></extra>",
         "name": "0",
         "type": "heatmap",
         "x": [
          "Quantity",
          "Price"
         ],
         "xaxis": "x",
         "y": [
          "Quantity",
          "Price"
         ],
         "yaxis": "y",
         "z": [
          [
           1,
           -0.0019313304222704135
          ],
          [
           -0.0019313304222704135,
           1
          ]
         ]
        }
       ],
       "layout": {
        "coloraxis": {
         "colorscale": [
          [
           0,
           "#0d0887"
          ],
          [
           0.1111111111111111,
           "#46039f"
          ],
          [
           0.2222222222222222,
           "#7201a8"
          ],
          [
           0.3333333333333333,
           "#9c179e"
          ],
          [
           0.4444444444444444,
           "#bd3786"
          ],
          [
           0.5555555555555556,
           "#d8576b"
          ],
          [
           0.6666666666666666,
           "#ed7953"
          ],
          [
           0.7777777777777778,
           "#fb9f3a"
          ],
          [
           0.8888888888888888,
           "#fdca26"
          ],
          [
           1,
           "#f0f921"
          ]
         ]
        },
        "margin": {
         "t": 60
        },
        "template": {
         "data": {
          "bar": [
           {
            "error_x": {
             "color": "#2a3f5f"
            },
            "error_y": {
             "color": "#2a3f5f"
            },
            "marker": {
             "line": {
              "color": "#E5ECF6",
              "width": 0.5
             },
             "pattern": {
              "fillmode": "overlay",
              "size": 10,
              "solidity": 0.2
             }
            },
            "type": "bar"
           }
          ],
          "barpolar": [
           {
            "marker": {
             "line": {
              "color": "#E5ECF6",
              "width": 0.5
             },
             "pattern": {
              "fillmode": "overlay",
              "size": 10,
              "solidity": 0.2
             }
            },
            "type": "barpolar"
           }
          ],
          "carpet": [
           {
            "aaxis": {
             "endlinecolor": "#2a3f5f",
             "gridcolor": "white",
             "linecolor": "white",
             "minorgridcolor": "white",
             "startlinecolor": "#2a3f5f"
            },
            "baxis": {
             "endlinecolor": "#2a3f5f",
             "gridcolor": "white",
             "linecolor": "white",
             "minorgridcolor": "white",
             "startlinecolor": "#2a3f5f"
            },
            "type": "carpet"
           }
          ],
          "choropleth": [
           {
            "colorbar": {
             "outlinewidth": 0,
             "ticks": ""
            },
            "type": "choropleth"
           }
          ],
          "contour": [
           {
            "colorbar": {
             "outlinewidth": 0,
             "ticks": ""
            },
            "colorscale": [
             [
              0,
              "#0d0887"
             ],
             [
              0.1111111111111111,
              "#46039f"
             ],
             [
              0.2222222222222222,
              "#7201a8"
             ],
             [
              0.3333333333333333,
              "#9c179e"
             ],
             [
              0.4444444444444444,
              "#bd3786"
             ],
             [
              0.5555555555555556,
              "#d8576b"
             ],
             [
              0.6666666666666666,
              "#ed7953"
             ],
             [
              0.7777777777777778,
              "#fb9f3a"
             ],
             [
              0.8888888888888888,
              "#fdca26"
             ],
             [
              1,
              "#f0f921"
             ]
            ],
            "type": "contour"
           }
          ],
          "contourcarpet": [
           {
            "colorbar": {
             "outlinewidth": 0,
             "ticks": ""
            },
            "type": "contourcarpet"
           }
          ],
          "heatmap": [
           {
            "colorbar": {
             "outlinewidth": 0,
             "ticks": ""
            },
            "colorscale": [
             [
              0,
              "#0d0887"
             ],
             [
              0.1111111111111111,
              "#46039f"
             ],
             [
              0.2222222222222222,
              "#7201a8"
             ],
             [
              0.3333333333333333,
              "#9c179e"
             ],
             [
              0.4444444444444444,
              "#bd3786"
             ],
             [
              0.5555555555555556,
              "#d8576b"
             ],
             [
              0.6666666666666666,
              "#ed7953"
             ],
             [
              0.7777777777777778,
              "#fb9f3a"
             ],
             [
              0.8888888888888888,
              "#fdca26"
             ],
             [
              1,
              "#f0f921"
             ]
            ],
            "type": "heatmap"
           }
          ],
          "heatmapgl": [
           {
            "colorbar": {
             "outlinewidth": 0,
             "ticks": ""
            },
            "colorscale": [
             [
              0,
              "#0d0887"
             ],
             [
              0.1111111111111111,
              "#46039f"
             ],
             [
              0.2222222222222222,
              "#7201a8"
             ],
             [
              0.3333333333333333,
              "#9c179e"
             ],
             [
              0.4444444444444444,
              "#bd3786"
             ],
             [
              0.5555555555555556,
              "#d8576b"
             ],
             [
              0.6666666666666666,
              "#ed7953"
             ],
             [
              0.7777777777777778,
              "#fb9f3a"
             ],
             [
              0.8888888888888888,
              "#fdca26"
             ],
             [
              1,
              "#f0f921"
             ]
            ],
            "type": "heatmapgl"
           }
          ],
          "histogram": [
           {
            "marker": {
             "pattern": {
              "fillmode": "overlay",
              "size": 10,
              "solidity": 0.2
             }
            },
            "type": "histogram"
           }
          ],
          "histogram2d": [
           {
            "colorbar": {
             "outlinewidth": 0,
             "ticks": ""
            },
            "colorscale": [
             [
              0,
              "#0d0887"
             ],
             [
              0.1111111111111111,
              "#46039f"
             ],
             [
              0.2222222222222222,
              "#7201a8"
             ],
             [
              0.3333333333333333,
              "#9c179e"
             ],
             [
              0.4444444444444444,
              "#bd3786"
             ],
             [
              0.5555555555555556,
              "#d8576b"
             ],
             [
              0.6666666666666666,
              "#ed7953"
             ],
             [
              0.7777777777777778,
              "#fb9f3a"
             ],
             [
              0.8888888888888888,
              "#fdca26"
             ],
             [
              1,
              "#f0f921"
             ]
            ],
            "type": "histogram2d"
           }
          ],
          "histogram2dcontour": [
           {
            "colorbar": {
             "outlinewidth": 0,
             "ticks": ""
            },
            "colorscale": [
             [
              0,
              "#0d0887"
             ],
             [
              0.1111111111111111,
              "#46039f"
             ],
             [
              0.2222222222222222,
              "#7201a8"
             ],
             [
              0.3333333333333333,
              "#9c179e"
             ],
             [
              0.4444444444444444,
              "#bd3786"
             ],
             [
              0.5555555555555556,
              "#d8576b"
             ],
             [
              0.6666666666666666,
              "#ed7953"
             ],
             [
              0.7777777777777778,
              "#fb9f3a"
             ],
             [
              0.8888888888888888,
              "#fdca26"
             ],
             [
              1,
              "#f0f921"
             ]
            ],
            "type": "histogram2dcontour"
           }
          ],
          "mesh3d": [
           {
            "colorbar": {
             "outlinewidth": 0,
             "ticks": ""
            },
            "type": "mesh3d"
           }
          ],
          "parcoords": [
           {
            "line": {
             "colorbar": {
              "outlinewidth": 0,
              "ticks": ""
             }
            },
            "type": "parcoords"
           }
          ],
          "pie": [
           {
            "automargin": true,
            "type": "pie"
           }
          ],
          "scatter": [
           {
            "fillpattern": {
             "fillmode": "overlay",
             "size": 10,
             "solidity": 0.2
            },
            "type": "scatter"
           }
          ],
          "scatter3d": [
           {
            "line": {
             "colorbar": {
              "outlinewidth": 0,
              "ticks": ""
             }
            },
            "marker": {
             "colorbar": {
              "outlinewidth": 0,
              "ticks": ""
             }
            },
            "type": "scatter3d"
           }
          ],
          "scattercarpet": [
           {
            "marker": {
             "colorbar": {
              "outlinewidth": 0,
              "ticks": ""
             }
            },
            "type": "scattercarpet"
           }
          ],
          "scattergeo": [
           {
            "marker": {
             "colorbar": {
              "outlinewidth": 0,
              "ticks": ""
             }
            },
            "type": "scattergeo"
           }
          ],
          "scattergl": [
           {
            "marker": {
             "colorbar": {
              "outlinewidth": 0,
              "ticks": ""
             }
            },
            "type": "scattergl"
           }
          ],
          "scattermapbox": [
           {
            "marker": {
             "colorbar": {
              "outlinewidth": 0,
              "ticks": ""
             }
            },
            "type": "scattermapbox"
           }
          ],
          "scatterpolar": [
           {
            "marker": {
             "colorbar": {
              "outlinewidth": 0,
              "ticks": ""
             }
            },
            "type": "scatterpolar"
           }
          ],
          "scatterpolargl": [
           {
            "marker": {
             "colorbar": {
              "outlinewidth": 0,
              "ticks": ""
             }
            },
            "type": "scatterpolargl"
           }
          ],
          "scatterternary": [
           {
            "marker": {
             "colorbar": {
              "outlinewidth": 0,
              "ticks": ""
             }
            },
            "type": "scatterternary"
           }
          ],
          "surface": [
           {
            "colorbar": {
             "outlinewidth": 0,
             "ticks": ""
            },
            "colorscale": [
             [
              0,
              "#0d0887"
             ],
             [
              0.1111111111111111,
              "#46039f"
             ],
             [
              0.2222222222222222,
              "#7201a8"
             ],
             [
              0.3333333333333333,
              "#9c179e"
             ],
             [
              0.4444444444444444,
              "#bd3786"
             ],
             [
              0.5555555555555556,
              "#d8576b"
             ],
             [
              0.6666666666666666,
              "#ed7953"
             ],
             [
              0.7777777777777778,
              "#fb9f3a"
             ],
             [
              0.8888888888888888,
              "#fdca26"
             ],
             [
              1,
              "#f0f921"
             ]
            ],
            "type": "surface"
           }
          ],
          "table": [
           {
            "cells": {
             "fill": {
              "color": "#EBF0F8"
             },
             "line": {
              "color": "white"
             }
            },
            "header": {
             "fill": {
              "color": "#C8D4E3"
             },
             "line": {
              "color": "white"
             }
            },
            "type": "table"
           }
          ]
         },
         "layout": {
          "annotationdefaults": {
           "arrowcolor": "#2a3f5f",
           "arrowhead": 0,
           "arrowwidth": 1
          },
          "autotypenumbers": "strict",
          "coloraxis": {
           "colorbar": {
            "outlinewidth": 0,
            "ticks": ""
           }
          },
          "colorscale": {
           "diverging": [
            [
             0,
             "#8e0152"
            ],
            [
             0.1,
             "#c51b7d"
            ],
            [
             0.2,
             "#de77ae"
            ],
            [
             0.3,
             "#f1b6da"
            ],
            [
             0.4,
             "#fde0ef"
            ],
            [
             0.5,
             "#f7f7f7"
            ],
            [
             0.6,
             "#e6f5d0"
            ],
            [
             0.7,
             "#b8e186"
            ],
            [
             0.8,
             "#7fbc41"
            ],
            [
             0.9,
             "#4d9221"
            ],
            [
             1,
             "#276419"
            ]
           ],
           "sequential": [
            [
             0,
             "#0d0887"
            ],
            [
             0.1111111111111111,
             "#46039f"
            ],
            [
             0.2222222222222222,
             "#7201a8"
            ],
            [
             0.3333333333333333,
             "#9c179e"
            ],
            [
             0.4444444444444444,
             "#bd3786"
            ],
            [
             0.5555555555555556,
             "#d8576b"
            ],
            [
             0.6666666666666666,
             "#ed7953"
            ],
            [
             0.7777777777777778,
             "#fb9f3a"
            ],
            [
             0.8888888888888888,
             "#fdca26"
            ],
            [
             1,
             "#f0f921"
            ]
           ],
           "sequentialminus": [
            [
             0,
             "#0d0887"
            ],
            [
             0.1111111111111111,
             "#46039f"
            ],
            [
             0.2222222222222222,
             "#7201a8"
            ],
            [
             0.3333333333333333,
             "#9c179e"
            ],
            [
             0.4444444444444444,
             "#bd3786"
            ],
            [
             0.5555555555555556,
             "#d8576b"
            ],
            [
             0.6666666666666666,
             "#ed7953"
            ],
            [
             0.7777777777777778,
             "#fb9f3a"
            ],
            [
             0.8888888888888888,
             "#fdca26"
            ],
            [
             1,
             "#f0f921"
            ]
           ]
          },
          "colorway": [
           "#636efa",
           "#EF553B",
           "#00cc96",
           "#ab63fa",
           "#FFA15A",
           "#19d3f3",
           "#FF6692",
           "#B6E880",
           "#FF97FF",
           "#FECB52"
          ],
          "font": {
           "color": "#2a3f5f"
          },
          "geo": {
           "bgcolor": "white",
           "lakecolor": "white",
           "landcolor": "#E5ECF6",
           "showlakes": true,
           "showland": true,
           "subunitcolor": "white"
          },
          "hoverlabel": {
           "align": "left"
          },
          "hovermode": "closest",
          "mapbox": {
           "style": "light"
          },
          "paper_bgcolor": "white",
          "plot_bgcolor": "#E5ECF6",
          "polar": {
           "angularaxis": {
            "gridcolor": "white",
            "linecolor": "white",
            "ticks": ""
           },
           "bgcolor": "#E5ECF6",
           "radialaxis": {
            "gridcolor": "white",
            "linecolor": "white",
            "ticks": ""
           }
          },
          "scene": {
           "xaxis": {
            "backgroundcolor": "#E5ECF6",
            "gridcolor": "white",
            "gridwidth": 2,
            "linecolor": "white",
            "showbackground": true,
            "ticks": "",
            "zerolinecolor": "white"
           },
           "yaxis": {
            "backgroundcolor": "#E5ECF6",
            "gridcolor": "white",
            "gridwidth": 2,
            "linecolor": "white",
            "showbackground": true,
            "ticks": "",
            "zerolinecolor": "white"
           },
           "zaxis": {
            "backgroundcolor": "#E5ECF6",
            "gridcolor": "white",
            "gridwidth": 2,
            "linecolor": "white",
            "showbackground": true,
            "ticks": "",
            "zerolinecolor": "white"
           }
          },
          "shapedefaults": {
           "line": {
            "color": "#2a3f5f"
           }
          },
          "ternary": {
           "aaxis": {
            "gridcolor": "white",
            "linecolor": "white",
            "ticks": ""
           },
           "baxis": {
            "gridcolor": "white",
            "linecolor": "white",
            "ticks": ""
           },
           "bgcolor": "#E5ECF6",
           "caxis": {
            "gridcolor": "white",
            "linecolor": "white",
            "ticks": ""
           }
          },
          "title": {
           "x": 0.05
          },
          "xaxis": {
           "automargin": true,
           "gridcolor": "white",
           "linecolor": "white",
           "ticks": "",
           "title": {
            "standoff": 15
           },
           "zerolinecolor": "white",
           "zerolinewidth": 2
          },
          "yaxis": {
           "automargin": true,
           "gridcolor": "white",
           "linecolor": "white",
           "ticks": "",
           "title": {
            "standoff": 15
           },
           "zerolinecolor": "white",
           "zerolinewidth": 2
          }
         }
        },
        "xaxis": {
         "anchor": "y",
         "constrain": "domain",
         "domain": [
          0,
          1
         ],
         "scaleanchor": "y"
        },
        "yaxis": {
         "anchor": "x",
         "autorange": "reversed",
         "constrain": "domain",
         "domain": [
          0,
          1
         ]
        }
       }
      }
     },
     "metadata": {},
     "output_type": "display_data"
    },
    {
     "data": {
      "text/markdown": [
       "## Missing Matrix:"
      ],
      "text/plain": [
       "<IPython.core.display.Markdown object>"
      ]
     },
     "metadata": {},
     "output_type": "display_data"
    },
    {
     "data": {
      "image/png": "[encoded data removed]",
      "text/plain": [
       "<Figure size 1500x1000 with 1 Axes>"
      ]
     },
     "metadata": {},
     "output_type": "display_data"
    }
   ],
   "source": [
    "profile_df(df_retail)"
   ]
  },
  {
   "cell_type": "markdown",
   "metadata": {},
   "source": [
    "    Del análisis multivariado...\n",
    "\n",
    "Lo que más llama la atención:\n",
    "- El gráfico de quantity vs price pareciera mostrar casi todos los puntos cercanos a precio 0, lo que indica que este gráfico está distorcionado por los valores atípicos.\n",
    "- La correlación entre Quantity y Price es de -0.001, lo que indica que hay una correlación muy baja entre estas variables.\n",
    "- Solo hay nulos en la columna Customer ID\n",
    "\n"
   ]
  },
  {
   "cell_type": "markdown",
   "metadata": {
    "cell_id": "94960cac1b5f41aeb6bb014779e0cb14",
    "deepnote_cell_height": 217.86666870117188,
    "deepnote_cell_type": "markdown",
    "tags": []
   },
   "source": [
    "### 1.2.3 Limpieza de Datos [1 pto]\n",
    "\n",
    "Como pudo ver en las secciones anteriores, los datos presentan valores erroneos, es por esto que se le solicita que realice una función que permita limpiar el dataset. Realice esta función en base observaciones propias y considere como imposible tener cantidades negativas en las ventas.\n",
    "\n",
    "Una vez realizada la función, realice nuevamente el análisis exploratorio y comente las principales diferencias.\n",
    "\n",
    "**Respuesta:**"
   ]
  },
  {
   "cell_type": "code",
   "execution_count": 62,
   "metadata": {},
   "outputs": [],
   "source": [
    "# Se crea funcion que elimina valores nulos, duplicados, outliers, valores negativos y ceros\n",
    "def clean_df(df_in):\n",
    "    df = df_in.copy()\n",
    "    # dependiendo de la situacion se puede eliminar o imputar valores nulos\n",
    "    df = df.dropna()\n",
    "    df = df.drop_duplicates()\n",
    "    # eliminamos valores negativos y ceros\n",
    "    df = df.loc[(df['Price'] > 0)]\n",
    "    # No sabemos si es correcto eliminar valores negativos de cantidad, en este análisis se filtran para enfocarse en ventas.\n",
    "    df = df.loc[(df['Quantity'] > 0)]\n",
    "    # tratamiento de outliers 3 desviaciones es 99.7% de los datos, podemos probar menores si no se eliminan suficientes\n",
    "    df = df.loc[(np.abs(stats.zscore(df['Price'])) < 3)] \n",
    "    df = df.loc[(np.abs(stats.zscore(df['Quantity'])) < 3)]\n",
    "    return df\n",
    "\n",
    "df_retail_clean = clean_df(df_retail)\n",
    "\n",
    "# \n"
   ]
  },
  {
   "cell_type": "code",
   "execution_count": 63,
   "metadata": {},
   "outputs": [
    {
     "data": {
      "text/markdown": [
       "## Bivariant Analysis:"
      ],
      "text/plain": [
       "<IPython.core.display.Markdown object>"
      ]
     },
     "metadata": {},
     "output_type": "display_data"
    },
    {
     "data": {
      "image/png": "[encoded data removed]",
      "text/plain": [
       "<Figure size 640x480 with 1 Axes>"
      ]
     },
     "metadata": {},
     "output_type": "display_data"
    },
    {
     "data": {
      "image/png": "[encoded data removed]",
      "text/plain": [
       "<Figure size 640x480 with 1 Axes>"
      ]
     },
     "metadata": {},
     "output_type": "display_data"
    },
    {
     "data": {
      "image/png": "[encoded data removed]",
      "text/plain": [
       "<Figure size 640x480 with 1 Axes>"
      ]
     },
     "metadata": {},
     "output_type": "display_data"
    },
    {
     "data": {
      "text/markdown": [
       "## Correlation:"
      ],
      "text/plain": [
       "<IPython.core.display.Markdown object>"
      ]
     },
     "metadata": {},
     "output_type": "display_data"
    },
    {
     "name": "stderr",
     "output_type": "stream",
     "text": [
      "/var/folders/9z/f3pd2_993pgfk8l_z9thq4yc0000gn/T/ipykernel_6862/2390459975.py:21: FutureWarning:\n",
      "\n",
      "The default value of numeric_only in DataFrame.corr is deprecated. In a future version, it will default to False. Select only valid columns or specify the value of numeric_only to silence this warning.\n",
      "\n"
     ]
    },
    {
     "data": {
      "application/vnd.plotly.v1+json": {
       "config": {
        "plotlyServerURL": "https://plot.ly"
       },
       "data": [
        {
         "coloraxis": "coloraxis",
         "hovertemplate": "x: %{x}<br>y: %{y}<br>color: %{z}<extra></extra>",
         "name": "0",
         "type": "heatmap",
         "x": [
          "Quantity",
          "Price"
         ],
         "xaxis": "x",
         "y": [
          "Quantity",
          "Price"
         ],
         "yaxis": "y",
         "z": [
          [
           1,
           -0.17149217985668516
          ],
          [
           -0.17149217985668516,
           1
          ]
         ]
        }
       ],
       "layout": {
        "coloraxis": {
         "colorscale": [
          [
           0,
           "#0d0887"
          ],
          [
           0.1111111111111111,
           "#46039f"
          ],
          [
           0.2222222222222222,
           "#7201a8"
          ],
          [
           0.3333333333333333,
           "#9c179e"
          ],
          [
           0.4444444444444444,
           "#bd3786"
          ],
          [
           0.5555555555555556,
           "#d8576b"
          ],
          [
           0.6666666666666666,
           "#ed7953"
          ],
          [
           0.7777777777777778,
           "#fb9f3a"
          ],
          [
           0.8888888888888888,
           "#fdca26"
          ],
          [
           1,
           "#f0f921"
          ]
         ]
        },
        "margin": {
         "t": 60
        },
        "template": {
         "data": {
          "bar": [
           {
            "error_x": {
             "color": "#2a3f5f"
            },
            "error_y": {
             "color": "#2a3f5f"
            },
            "marker": {
             "line": {
              "color": "#E5ECF6",
              "width": 0.5
             },
             "pattern": {
              "fillmode": "overlay",
              "size": 10,
              "solidity": 0.2
             }
            },
            "type": "bar"
           }
          ],
          "barpolar": [
           {
            "marker": {
             "line": {
              "color": "#E5ECF6",
              "width": 0.5
             },
             "pattern": {
              "fillmode": "overlay",
              "size": 10,
              "solidity": 0.2
             }
            },
            "type": "barpolar"
           }
          ],
          "carpet": [
           {
            "aaxis": {
             "endlinecolor": "#2a3f5f",
             "gridcolor": "white",
             "linecolor": "white",
             "minorgridcolor": "white",
             "startlinecolor": "#2a3f5f"
            },
            "baxis": {
             "endlinecolor": "#2a3f5f",
             "gridcolor": "white",
             "linecolor": "white",
             "minorgridcolor": "white",
             "startlinecolor": "#2a3f5f"
            },
            "type": "carpet"
           }
          ],
          "choropleth": [
           {
            "colorbar": {
             "outlinewidth": 0,
             "ticks": ""
            },
            "type": "choropleth"
           }
          ],
          "contour": [
           {
            "colorbar": {
             "outlinewidth": 0,
             "ticks": ""
            },
            "colorscale": [
             [
              0,
              "#0d0887"
             ],
             [
              0.1111111111111111,
              "#46039f"
             ],
             [
              0.2222222222222222,
              "#7201a8"
             ],
             [
              0.3333333333333333,
              "#9c179e"
             ],
             [
              0.4444444444444444,
              "#bd3786"
             ],
             [
              0.5555555555555556,
              "#d8576b"
             ],
             [
              0.6666666666666666,
              "#ed7953"
             ],
             [
              0.7777777777777778,
              "#fb9f3a"
             ],
             [
              0.8888888888888888,
              "#fdca26"
             ],
             [
              1,
              "#f0f921"
             ]
            ],
            "type": "contour"
           }
          ],
          "contourcarpet": [
           {
            "colorbar": {
             "outlinewidth": 0,
             "ticks": ""
            },
            "type": "contourcarpet"
           }
          ],
          "heatmap": [
           {
            "colorbar": {
             "outlinewidth": 0,
             "ticks": ""
            },
            "colorscale": [
             [
              0,
              "#0d0887"
             ],
             [
              0.1111111111111111,
              "#46039f"
             ],
             [
              0.2222222222222222,
              "#7201a8"
             ],
             [
              0.3333333333333333,
              "#9c179e"
             ],
             [
              0.4444444444444444,
              "#bd3786"
             ],
             [
              0.5555555555555556,
              "#d8576b"
             ],
             [
              0.6666666666666666,
              "#ed7953"
             ],
             [
              0.7777777777777778,
              "#fb9f3a"
             ],
             [
              0.8888888888888888,
              "#fdca26"
             ],
             [
              1,
              "#f0f921"
             ]
            ],
            "type": "heatmap"
           }
          ],
          "heatmapgl": [
           {
            "colorbar": {
             "outlinewidth": 0,
             "ticks": ""
            },
            "colorscale": [
             [
              0,
              "#0d0887"
             ],
             [
              0.1111111111111111,
              "#46039f"
             ],
             [
              0.2222222222222222,
              "#7201a8"
             ],
             [
              0.3333333333333333,
              "#9c179e"
             ],
             [
              0.4444444444444444,
              "#bd3786"
             ],
             [
              0.5555555555555556,
              "#d8576b"
             ],
             [
              0.6666666666666666,
              "#ed7953"
             ],
             [
              0.7777777777777778,
              "#fb9f3a"
             ],
             [
              0.8888888888888888,
              "#fdca26"
             ],
             [
              1,
              "#f0f921"
             ]
            ],
            "type": "heatmapgl"
           }
          ],
          "histogram": [
           {
            "marker": {
             "pattern": {
              "fillmode": "overlay",
              "size": 10,
              "solidity": 0.2
             }
            },
            "type": "histogram"
           }
          ],
          "histogram2d": [
           {
            "colorbar": {
             "outlinewidth": 0,
             "ticks": ""
            },
            "colorscale": [
             [
              0,
              "#0d0887"
             ],
             [
              0.1111111111111111,
              "#46039f"
             ],
             [
              0.2222222222222222,
              "#7201a8"
             ],
             [
              0.3333333333333333,
              "#9c179e"
             ],
             [
              0.4444444444444444,
              "#bd3786"
             ],
             [
              0.5555555555555556,
              "#d8576b"
             ],
             [
              0.6666666666666666,
              "#ed7953"
             ],
             [
              0.7777777777777778,
              "#fb9f3a"
             ],
             [
              0.8888888888888888,
              "#fdca26"
             ],
             [
              1,
              "#f0f921"
             ]
            ],
            "type": "histogram2d"
           }
          ],
          "histogram2dcontour": [
           {
            "colorbar": {
             "outlinewidth": 0,
             "ticks": ""
            },
            "colorscale": [
             [
              0,
              "#0d0887"
             ],
             [
              0.1111111111111111,
              "#46039f"
             ],
             [
              0.2222222222222222,
              "#7201a8"
             ],
             [
              0.3333333333333333,
              "#9c179e"
             ],
             [
              0.4444444444444444,
              "#bd3786"
             ],
             [
              0.5555555555555556,
              "#d8576b"
             ],
             [
              0.6666666666666666,
              "#ed7953"
             ],
             [
              0.7777777777777778,
              "#fb9f3a"
             ],
             [
              0.8888888888888888,
              "#fdca26"
             ],
             [
              1,
              "#f0f921"
             ]
            ],
            "type": "histogram2dcontour"
           }
          ],
          "mesh3d": [
           {
            "colorbar": {
             "outlinewidth": 0,
             "ticks": ""
            },
            "type": "mesh3d"
           }
          ],
          "parcoords": [
           {
            "line": {
             "colorbar": {
              "outlinewidth": 0,
              "ticks": ""
             }
            },
            "type": "parcoords"
           }
          ],
          "pie": [
           {
            "automargin": true,
            "type": "pie"
           }
          ],
          "scatter": [
           {
            "fillpattern": {
             "fillmode": "overlay",
             "size": 10,
             "solidity": 0.2
            },
            "type": "scatter"
           }
          ],
          "scatter3d": [
           {
            "line": {
             "colorbar": {
              "outlinewidth": 0,
              "ticks": ""
             }
            },
            "marker": {
             "colorbar": {
              "outlinewidth": 0,
              "ticks": ""
             }
            },
            "type": "scatter3d"
           }
          ],
          "scattercarpet": [
           {
            "marker": {
             "colorbar": {
              "outlinewidth": 0,
              "ticks": ""
             }
            },
            "type": "scattercarpet"
           }
          ],
          "scattergeo": [
           {
            "marker": {
             "colorbar": {
              "outlinewidth": 0,
              "ticks": ""
             }
            },
            "type": "scattergeo"
           }
          ],
          "scattergl": [
           {
            "marker": {
             "colorbar": {
              "outlinewidth": 0,
              "ticks": ""
             }
            },
            "type": "scattergl"
           }
          ],
          "scattermapbox": [
           {
            "marker": {
             "colorbar": {
              "outlinewidth": 0,
              "ticks": ""
             }
            },
            "type": "scattermapbox"
           }
          ],
          "scatterpolar": [
           {
            "marker": {
             "colorbar": {
              "outlinewidth": 0,
              "ticks": ""
             }
            },
            "type": "scatterpolar"
           }
          ],
          "scatterpolargl": [
           {
            "marker": {
             "colorbar": {
              "outlinewidth": 0,
              "ticks": ""
             }
            },
            "type": "scatterpolargl"
           }
          ],
          "scatterternary": [
           {
            "marker": {
             "colorbar": {
              "outlinewidth": 0,
              "ticks": ""
             }
            },
            "type": "scatterternary"
           }
          ],
          "surface": [
           {
            "colorbar": {
             "outlinewidth": 0,
             "ticks": ""
            },
            "colorscale": [
             [
              0,
              "#0d0887"
             ],
             [
              0.1111111111111111,
              "#46039f"
             ],
             [
              0.2222222222222222,
              "#7201a8"
             ],
             [
              0.3333333333333333,
              "#9c179e"
             ],
             [
              0.4444444444444444,
              "#bd3786"
             ],
             [
              0.5555555555555556,
              "#d8576b"
             ],
             [
              0.6666666666666666,
              "#ed7953"
             ],
             [
              0.7777777777777778,
              "#fb9f3a"
             ],
             [
              0.8888888888888888,
              "#fdca26"
             ],
             [
              1,
              "#f0f921"
             ]
            ],
            "type": "surface"
           }
          ],
          "table": [
           {
            "cells": {
             "fill": {
              "color": "#EBF0F8"
             },
             "line": {
              "color": "white"
             }
            },
            "header": {
             "fill": {
              "color": "#C8D4E3"
             },
             "line": {
              "color": "white"
             }
            },
            "type": "table"
           }
          ]
         },
         "layout": {
          "annotationdefaults": {
           "arrowcolor": "#2a3f5f",
           "arrowhead": 0,
           "arrowwidth": 1
          },
          "autotypenumbers": "strict",
          "coloraxis": {
           "colorbar": {
            "outlinewidth": 0,
            "ticks": ""
           }
          },
          "colorscale": {
           "diverging": [
            [
             0,
             "#8e0152"
            ],
            [
             0.1,
             "#c51b7d"
            ],
            [
             0.2,
             "#de77ae"
            ],
            [
             0.3,
             "#f1b6da"
            ],
            [
             0.4,
             "#fde0ef"
            ],
            [
             0.5,
             "#f7f7f7"
            ],
            [
             0.6,
             "#e6f5d0"
            ],
            [
             0.7,
             "#b8e186"
            ],
            [
             0.8,
             "#7fbc41"
            ],
            [
             0.9,
             "#4d9221"
            ],
            [
             1,
             "#276419"
            ]
           ],
           "sequential": [
            [
             0,
             "#0d0887"
            ],
            [
             0.1111111111111111,
             "#46039f"
            ],
            [
             0.2222222222222222,
             "#7201a8"
            ],
            [
             0.3333333333333333,
             "#9c179e"
            ],
            [
             0.4444444444444444,
             "#bd3786"
            ],
            [
             0.5555555555555556,
             "#d8576b"
            ],
            [
             0.6666666666666666,
             "#ed7953"
            ],
            [
             0.7777777777777778,
             "#fb9f3a"
            ],
            [
             0.8888888888888888,
             "#fdca26"
            ],
            [
             1,
             "#f0f921"
            ]
           ],
           "sequentialminus": [
            [
             0,
             "#0d0887"
            ],
            [
             0.1111111111111111,
             "#46039f"
            ],
            [
             0.2222222222222222,
             "#7201a8"
            ],
            [
             0.3333333333333333,
             "#9c179e"
            ],
            [
             0.4444444444444444,
             "#bd3786"
            ],
            [
             0.5555555555555556,
             "#d8576b"
            ],
            [
             0.6666666666666666,
             "#ed7953"
            ],
            [
             0.7777777777777778,
             "#fb9f3a"
            ],
            [
             0.8888888888888888,
             "#fdca26"
            ],
            [
             1,
             "#f0f921"
            ]
           ]
          },
          "colorway": [
           "#636efa",
           "#EF553B",
           "#00cc96",
           "#ab63fa",
           "#FFA15A",
           "#19d3f3",
           "#FF6692",
           "#B6E880",
           "#FF97FF",
           "#FECB52"
          ],
          "font": {
           "color": "#2a3f5f"
          },
          "geo": {
           "bgcolor": "white",
           "lakecolor": "white",
           "landcolor": "#E5ECF6",
           "showlakes": true,
           "showland": true,
           "subunitcolor": "white"
          },
          "hoverlabel": {
           "align": "left"
          },
          "hovermode": "closest",
          "mapbox": {
           "style": "light"
          },
          "paper_bgcolor": "white",
          "plot_bgcolor": "#E5ECF6",
          "polar": {
           "angularaxis": {
            "gridcolor": "white",
            "linecolor": "white",
            "ticks": ""
           },
           "bgcolor": "#E5ECF6",
           "radialaxis": {
            "gridcolor": "white",
            "linecolor": "white",
            "ticks": ""
           }
          },
          "scene": {
           "xaxis": {
            "backgroundcolor": "#E5ECF6",
            "gridcolor": "white",
            "gridwidth": 2,
            "linecolor": "white",
            "showbackground": true,
            "ticks": "",
            "zerolinecolor": "white"
           },
           "yaxis": {
            "backgroundcolor": "#E5ECF6",
            "gridcolor": "white",
            "gridwidth": 2,
            "linecolor": "white",
            "showbackground": true,
            "ticks": "",
            "zerolinecolor": "white"
           },
           "zaxis": {
            "backgroundcolor": "#E5ECF6",
            "gridcolor": "white",
            "gridwidth": 2,
            "linecolor": "white",
            "showbackground": true,
            "ticks": "",
            "zerolinecolor": "white"
           }
          },
          "shapedefaults": {
           "line": {
            "color": "#2a3f5f"
           }
          },
          "ternary": {
           "aaxis": {
            "gridcolor": "white",
            "linecolor": "white",
            "ticks": ""
           },
           "baxis": {
            "gridcolor": "white",
            "linecolor": "white",
            "ticks": ""
           },
           "bgcolor": "#E5ECF6",
           "caxis": {
            "gridcolor": "white",
            "linecolor": "white",
            "ticks": ""
           }
          },
          "title": {
           "x": 0.05
          },
          "xaxis": {
           "automargin": true,
           "gridcolor": "white",
           "linecolor": "white",
           "ticks": "",
           "title": {
            "standoff": 15
           },
           "zerolinecolor": "white",
           "zerolinewidth": 2
          },
          "yaxis": {
           "automargin": true,
           "gridcolor": "white",
           "linecolor": "white",
           "ticks": "",
           "title": {
            "standoff": 15
           },
           "zerolinecolor": "white",
           "zerolinewidth": 2
          }
         }
        },
        "xaxis": {
         "anchor": "y",
         "constrain": "domain",
         "domain": [
          0,
          1
         ],
         "scaleanchor": "y"
        },
        "yaxis": {
         "anchor": "x",
         "autorange": "reversed",
         "constrain": "domain",
         "domain": [
          0,
          1
         ]
        }
       }
      }
     },
     "metadata": {},
     "output_type": "display_data"
    },
    {
     "data": {
      "text/markdown": [
       "## Missing Matrix:"
      ],
      "text/plain": [
       "<IPython.core.display.Markdown object>"
      ]
     },
     "metadata": {},
     "output_type": "display_data"
    },
    {
     "data": {
      "image/png": "[encoded data removed]",
      "text/plain": [
       "<Figure size 1500x1000 with 1 Axes>"
      ]
     },
     "metadata": {},
     "output_type": "display_data"
    }
   ],
   "source": [
    "profile_df(df_retail_clean)"
   ]
  },
  {
   "cell_type": "markdown",
   "metadata": {},
   "source": [
    "    Del análisis multivariado en el df_clean...\n",
    "\n",
    "Lo que más llama la atención:\n",
    "- El gráfico de quantity vs price ahora se ve mucho mejor, ya que no hay valores atípicos. Pareciese que hay una correlación negaiva entre estas variables y mientras mayor el precio, menor la cantidad.\n",
    "- La correlación entre Quantity y Price es de -0.17, lo que indica un gran incremento en la correlación negativa con respecto al dataframe sin limpiar donde casi no se encontraba correlación. Ahora es posible afirmar que a mayor precio, menor la cantidad de unidades vendidas, lo que nos hace sentido. \n",
    "- Segun el grafico de InvoiceDate, se puede ver que la mayoria de las compras se realizaron en el 2010, y que en el 2009 solo se realizaron el ultimo mes del año. Además, a finales del 2009 hubieron unas fechas sin ventas, lo que podría ser un error en la data o pudo haber un hecho que obligo a cerrar la tienda.\n",
    "- Por último, vemos que el dataframe ya no presenta nulos en ninguna columna. Se eliminó aproximadamente el 20% de los registros. Teniendo más información sobre los casos nulos de Customer ID, se podría haber optado por eliminarlos o no. En este caso, se optó por eliminarlos ya que no se tiene más información de por qué ocurrió y podría ser data erronea.\n"
   ]
  },
  {
   "cell_type": "markdown",
   "metadata": {
    "cell_id": "7d0f38627f4b47afabf24ed59e9b8745",
    "deepnote_cell_height": 61.866668701171875,
    "deepnote_cell_type": "markdown",
    "id": "dkyp81nkBghF"
   },
   "source": [
    "### 1.2.4 Obtención de TOPs [0.75 ptos]"
   ]
  },
  {
   "cell_type": "markdown",
   "metadata": {
    "cell_id": "b06fbfea6ef14a2c8a69a819233caefb",
    "deepnote_cell_height": 178.26666259765625,
    "deepnote_cell_type": "markdown",
    "id": "FqWpKnmn6W0y"
   },
   "source": [
    "Sin considerar los comentarios realizados en la sección 1.2 , *Don Mora* les pide obtener el **Top de 30 productos que generan más ganancias** para la tienda de retail. Deben considerar todo el registro temporal presente en el dataset y entregar la información en un gráfico de barras de los ingresos/cantidades v/s el nombre de los productos (Utilice `plotly`). ¿Los artículos más vendidos son los mismos que generan más ganancias?, Comente los resultados obtenidos.\n",
    "\n",
    "**Resultados:**"
   ]
  },
  {
   "cell_type": "code",
   "execution_count": 84,
   "metadata": {
    "cell_id": "3ff7663e87a547d3a949e26c373b159c",
    "deepnote_cell_height": 65.86666870117188,
    "deepnote_cell_type": "code",
    "tags": []
   },
   "outputs": [],
   "source": [
    "# Generamos una columna con los ingresos, Quantity * Price\n",
    "df_retail_clean['Revenue'] = df_retail_clean['Quantity'] * df_retail_clean['Price']\n",
    "\n",
    "# analizamos los 30 productos con mayor Revenue\n",
    "top_30_revenue = df_retail_clean.groupby('Description')['Revenue'].sum().sort_values(ascending=False).head(30)\n",
    "top_30_Quantity = df_retail_clean.groupby('Description')['Quantity'].sum().sort_values(ascending=False).head(30)\n"
   ]
  },
  {
   "cell_type": "code",
   "execution_count": 66,
   "metadata": {},
   "outputs": [
    {
     "data": {
      "application/vnd.plotly.v1+json": {
       "config": {
        "plotlyServerURL": "https://plot.ly"
       },
       "data": [
        {
         "alignmentgroup": "True",
         "hovertemplate": "x=%{x}<br>y=%{y}<extra></extra>",
         "legendgroup": "",
         "marker": {
          "color": "#636efa",
          "pattern": {
           "shape": ""
          }
         },
         "name": "",
         "offsetgroup": "",
         "orientation": "v",
         "showlegend": false,
         "textposition": "auto",
         "type": "bar",
         "x": [
          "REGENCY CAKESTAND 3 TIER",
          "WHITE HANGING HEART T-LIGHT HOLDER",
          "ASSORTED COLOUR BIRD ORNAMENT",
          "JUMBO BAG RED RETROSPOT",
          "POSTAGE",
          "PARTY BUNTING",
          "PAPER CHAIN KIT 50'S CHRISTMAS ",
          "JUMBO BAG STRAWBERRY",
          "VINTAGE UNION JACK BUNTING",
          "STRAWBERRY CERAMIC TRINKET BOX",
          "JUMBO  BAG BAROQUE BLACK WHITE",
          "EDWARDIAN PARASOL NATURAL",
          "HOME BUILDING BLOCK WORD",
          "LUNCH BAG RED SPOTTY",
          "JUMBO STORAGE BAG SUKI",
          "RED RETROSPOT CAKE STAND",
          "CHILLI LIGHTS",
          "RED HANGING HEART T-LIGHT HOLDER",
          "JUMBO BAG PINK VINTAGE PAISLEY",
          "JUMBO SHOPPER VINTAGE RED PAISLEY",
          "JUMBO BAG PINK WITH WHITE SPOTS",
          "DOOR MAT UNION FLAG",
          "JUMBO BAG SCANDINAVIAN PAISLEY",
          "SCOTTIE DOG HOT WATER BOTTLE",
          "EDWARDIAN PARASOL BLACK",
          "CHOCOLATE HOT WATER BOTTLE",
          "TEA TIME CAKE STAND IN GIFT BOX",
          "SET/5 RED SPOTTY LID GLASS BOWLS",
          "SET/4 WHITE RETRO STORAGE CUBES ",
          "WOODEN FRAME ANTIQUE WHITE "
         ],
         "xaxis": "x",
         "y": [
          139785.6,
          125120.44,
          56540.229999999996,
          47519.25,
          43533.6,
          35017.3,
          31809.95,
          31286.25,
          30132,
          29694.86,
          29349,
          28644.75,
          28028.300000000003,
          26947.6,
          26443.4,
          26374.19,
          26262.68,
          25434.850000000002,
          24762.7,
          24717.15,
          24450.6,
          24216.23,
          24214.9,
          24062.7,
          24001.850000000002,
          23852.4,
          23784.8,
          23658.100000000002,
          23252.500000000004,
          23157.25
         ],
         "yaxis": "y"
        }
       ],
       "layout": {
        "barmode": "relative",
        "legend": {
         "tracegroupgap": 0
        },
        "template": {
         "data": {
          "bar": [
           {
            "error_x": {
             "color": "#2a3f5f"
            },
            "error_y": {
             "color": "#2a3f5f"
            },
            "marker": {
             "line": {
              "color": "#E5ECF6",
              "width": 0.5
             },
             "pattern": {
              "fillmode": "overlay",
              "size": 10,
              "solidity": 0.2
             }
            },
            "type": "bar"
           }
          ],
          "barpolar": [
           {
            "marker": {
             "line": {
              "color": "#E5ECF6",
              "width": 0.5
             },
             "pattern": {
              "fillmode": "overlay",
              "size": 10,
              "solidity": 0.2
             }
            },
            "type": "barpolar"
           }
          ],
          "carpet": [
           {
            "aaxis": {
             "endlinecolor": "#2a3f5f",
             "gridcolor": "white",
             "linecolor": "white",
             "minorgridcolor": "white",
             "startlinecolor": "#2a3f5f"
            },
            "baxis": {
             "endlinecolor": "#2a3f5f",
             "gridcolor": "white",
             "linecolor": "white",
             "minorgridcolor": "white",
             "startlinecolor": "#2a3f5f"
            },
            "type": "carpet"
           }
          ],
          "choropleth": [
           {
            "colorbar": {
             "outlinewidth": 0,
             "ticks": ""
            },
            "type": "choropleth"
           }
          ],
          "contour": [
           {
            "colorbar": {
             "outlinewidth": 0,
             "ticks": ""
            },
            "colorscale": [
             [
              0,
              "#0d0887"
             ],
             [
              0.1111111111111111,
              "#46039f"
             ],
             [
              0.2222222222222222,
              "#7201a8"
             ],
             [
              0.3333333333333333,
              "#9c179e"
             ],
             [
              0.4444444444444444,
              "#bd3786"
             ],
             [
              0.5555555555555556,
              "#d8576b"
             ],
             [
              0.6666666666666666,
              "#ed7953"
             ],
             [
              0.7777777777777778,
              "#fb9f3a"
             ],
             [
              0.8888888888888888,
              "#fdca26"
             ],
             [
              1,
              "#f0f921"
             ]
            ],
            "type": "contour"
           }
          ],
          "contourcarpet": [
           {
            "colorbar": {
             "outlinewidth": 0,
             "ticks": ""
            },
            "type": "contourcarpet"
           }
          ],
          "heatmap": [
           {
            "colorbar": {
             "outlinewidth": 0,
             "ticks": ""
            },
            "colorscale": [
             [
              0,
              "#0d0887"
             ],
             [
              0.1111111111111111,
              "#46039f"
             ],
             [
              0.2222222222222222,
              "#7201a8"
             ],
             [
              0.3333333333333333,
              "#9c179e"
             ],
             [
              0.4444444444444444,
              "#bd3786"
             ],
             [
              0.5555555555555556,
              "#d8576b"
             ],
             [
              0.6666666666666666,
              "#ed7953"
             ],
             [
              0.7777777777777778,
              "#fb9f3a"
             ],
             [
              0.8888888888888888,
              "#fdca26"
             ],
             [
              1,
              "#f0f921"
             ]
            ],
            "type": "heatmap"
           }
          ],
          "heatmapgl": [
           {
            "colorbar": {
             "outlinewidth": 0,
             "ticks": ""
            },
            "colorscale": [
             [
              0,
              "#0d0887"
             ],
             [
              0.1111111111111111,
              "#46039f"
             ],
             [
              0.2222222222222222,
              "#7201a8"
             ],
             [
              0.3333333333333333,
              "#9c179e"
             ],
             [
              0.4444444444444444,
              "#bd3786"
             ],
             [
              0.5555555555555556,
              "#d8576b"
             ],
             [
              0.6666666666666666,
              "#ed7953"
             ],
             [
              0.7777777777777778,
              "#fb9f3a"
             ],
             [
              0.8888888888888888,
              "#fdca26"
             ],
             [
              1,
              "#f0f921"
             ]
            ],
            "type": "heatmapgl"
           }
          ],
          "histogram": [
           {
            "marker": {
             "pattern": {
              "fillmode": "overlay",
              "size": 10,
              "solidity": 0.2
             }
            },
            "type": "histogram"
           }
          ],
          "histogram2d": [
           {
            "colorbar": {
             "outlinewidth": 0,
             "ticks": ""
            },
            "colorscale": [
             [
              0,
              "#0d0887"
             ],
             [
              0.1111111111111111,
              "#46039f"
             ],
             [
              0.2222222222222222,
              "#7201a8"
             ],
             [
              0.3333333333333333,
              "#9c179e"
             ],
             [
              0.4444444444444444,
              "#bd3786"
             ],
             [
              0.5555555555555556,
              "#d8576b"
             ],
             [
              0.6666666666666666,
              "#ed7953"
             ],
             [
              0.7777777777777778,
              "#fb9f3a"
             ],
             [
              0.8888888888888888,
              "#fdca26"
             ],
             [
              1,
              "#f0f921"
             ]
            ],
            "type": "histogram2d"
           }
          ],
          "histogram2dcontour": [
           {
            "colorbar": {
             "outlinewidth": 0,
             "ticks": ""
            },
            "colorscale": [
             [
              0,
              "#0d0887"
             ],
             [
              0.1111111111111111,
              "#46039f"
             ],
             [
              0.2222222222222222,
              "#7201a8"
             ],
             [
              0.3333333333333333,
              "#9c179e"
             ],
             [
              0.4444444444444444,
              "#bd3786"
             ],
             [
              0.5555555555555556,
              "#d8576b"
             ],
             [
              0.6666666666666666,
              "#ed7953"
             ],
             [
              0.7777777777777778,
              "#fb9f3a"
             ],
             [
              0.8888888888888888,
              "#fdca26"
             ],
             [
              1,
              "#f0f921"
             ]
            ],
            "type": "histogram2dcontour"
           }
          ],
          "mesh3d": [
           {
            "colorbar": {
             "outlinewidth": 0,
             "ticks": ""
            },
            "type": "mesh3d"
           }
          ],
          "parcoords": [
           {
            "line": {
             "colorbar": {
              "outlinewidth": 0,
              "ticks": ""
             }
            },
            "type": "parcoords"
           }
          ],
          "pie": [
           {
            "automargin": true,
            "type": "pie"
           }
          ],
          "scatter": [
           {
            "fillpattern": {
             "fillmode": "overlay",
             "size": 10,
             "solidity": 0.2
            },
            "type": "scatter"
           }
          ],
          "scatter3d": [
           {
            "line": {
             "colorbar": {
              "outlinewidth": 0,
              "ticks": ""
             }
            },
            "marker": {
             "colorbar": {
              "outlinewidth": 0,
              "ticks": ""
             }
            },
            "type": "scatter3d"
           }
          ],
          "scattercarpet": [
           {
            "marker": {
             "colorbar": {
              "outlinewidth": 0,
              "ticks": ""
             }
            },
            "type": "scattercarpet"
           }
          ],
          "scattergeo": [
           {
            "marker": {
             "colorbar": {
              "outlinewidth": 0,
              "ticks": ""
             }
            },
            "type": "scattergeo"
           }
          ],
          "scattergl": [
           {
            "marker": {
             "colorbar": {
              "outlinewidth": 0,
              "ticks": ""
             }
            },
            "type": "scattergl"
           }
          ],
          "scattermapbox": [
           {
            "marker": {
             "colorbar": {
              "outlinewidth": 0,
              "ticks": ""
             }
            },
            "type": "scattermapbox"
           }
          ],
          "scatterpolar": [
           {
            "marker": {
             "colorbar": {
              "outlinewidth": 0,
              "ticks": ""
             }
            },
            "type": "scatterpolar"
           }
          ],
          "scatterpolargl": [
           {
            "marker": {
             "colorbar": {
              "outlinewidth": 0,
              "ticks": ""
             }
            },
            "type": "scatterpolargl"
           }
          ],
          "scatterternary": [
           {
            "marker": {
             "colorbar": {
              "outlinewidth": 0,
              "ticks": ""
             }
            },
            "type": "scatterternary"
           }
          ],
          "surface": [
           {
            "colorbar": {
             "outlinewidth": 0,
             "ticks": ""
            },
            "colorscale": [
             [
              0,
              "#0d0887"
             ],
             [
              0.1111111111111111,
              "#46039f"
             ],
             [
              0.2222222222222222,
              "#7201a8"
             ],
             [
              0.3333333333333333,
              "#9c179e"
             ],
             [
              0.4444444444444444,
              "#bd3786"
             ],
             [
              0.5555555555555556,
              "#d8576b"
             ],
             [
              0.6666666666666666,
              "#ed7953"
             ],
             [
              0.7777777777777778,
              "#fb9f3a"
             ],
             [
              0.8888888888888888,
              "#fdca26"
             ],
             [
              1,
              "#f0f921"
             ]
            ],
            "type": "surface"
           }
          ],
          "table": [
           {
            "cells": {
             "fill": {
              "color": "#EBF0F8"
             },
             "line": {
              "color": "white"
             }
            },
            "header": {
             "fill": {
              "color": "#C8D4E3"
             },
             "line": {
              "color": "white"
             }
            },
            "type": "table"
           }
          ]
         },
         "layout": {
          "annotationdefaults": {
           "arrowcolor": "#2a3f5f",
           "arrowhead": 0,
           "arrowwidth": 1
          },
          "autotypenumbers": "strict",
          "coloraxis": {
           "colorbar": {
            "outlinewidth": 0,
            "ticks": ""
           }
          },
          "colorscale": {
           "diverging": [
            [
             0,
             "#8e0152"
            ],
            [
             0.1,
             "#c51b7d"
            ],
            [
             0.2,
             "#de77ae"
            ],
            [
             0.3,
             "#f1b6da"
            ],
            [
             0.4,
             "#fde0ef"
            ],
            [
             0.5,
             "#f7f7f7"
            ],
            [
             0.6,
             "#e6f5d0"
            ],
            [
             0.7,
             "#b8e186"
            ],
            [
             0.8,
             "#7fbc41"
            ],
            [
             0.9,
             "#4d9221"
            ],
            [
             1,
             "#276419"
            ]
           ],
           "sequential": [
            [
             0,
             "#0d0887"
            ],
            [
             0.1111111111111111,
             "#46039f"
            ],
            [
             0.2222222222222222,
             "#7201a8"
            ],
            [
             0.3333333333333333,
             "#9c179e"
            ],
            [
             0.4444444444444444,
             "#bd3786"
            ],
            [
             0.5555555555555556,
             "#d8576b"
            ],
            [
             0.6666666666666666,
             "#ed7953"
            ],
            [
             0.7777777777777778,
             "#fb9f3a"
            ],
            [
             0.8888888888888888,
             "#fdca26"
            ],
            [
             1,
             "#f0f921"
            ]
           ],
           "sequentialminus": [
            [
             0,
             "#0d0887"
            ],
            [
             0.1111111111111111,
             "#46039f"
            ],
            [
             0.2222222222222222,
             "#7201a8"
            ],
            [
             0.3333333333333333,
             "#9c179e"
            ],
            [
             0.4444444444444444,
             "#bd3786"
            ],
            [
             0.5555555555555556,
             "#d8576b"
            ],
            [
             0.6666666666666666,
             "#ed7953"
            ],
            [
             0.7777777777777778,
             "#fb9f3a"
            ],
            [
             0.8888888888888888,
             "#fdca26"
            ],
            [
             1,
             "#f0f921"
            ]
           ]
          },
          "colorway": [
           "#636efa",
           "#EF553B",
           "#00cc96",
           "#ab63fa",
           "#FFA15A",
           "#19d3f3",
           "#FF6692",
           "#B6E880",
           "#FF97FF",
           "#FECB52"
          ],
          "font": {
           "color": "#2a3f5f"
          },
          "geo": {
           "bgcolor": "white",
           "lakecolor": "white",
           "landcolor": "#E5ECF6",
           "showlakes": true,
           "showland": true,
           "subunitcolor": "white"
          },
          "hoverlabel": {
           "align": "left"
          },
          "hovermode": "closest",
          "mapbox": {
           "style": "light"
          },
          "paper_bgcolor": "white",
          "plot_bgcolor": "#E5ECF6",
          "polar": {
           "angularaxis": {
            "gridcolor": "white",
            "linecolor": "white",
            "ticks": ""
           },
           "bgcolor": "#E5ECF6",
           "radialaxis": {
            "gridcolor": "white",
            "linecolor": "white",
            "ticks": ""
           }
          },
          "scene": {
           "xaxis": {
            "backgroundcolor": "#E5ECF6",
            "gridcolor": "white",
            "gridwidth": 2,
            "linecolor": "white",
            "showbackground": true,
            "ticks": "",
            "zerolinecolor": "white"
           },
           "yaxis": {
            "backgroundcolor": "#E5ECF6",
            "gridcolor": "white",
            "gridwidth": 2,
            "linecolor": "white",
            "showbackground": true,
            "ticks": "",
            "zerolinecolor": "white"
           },
           "zaxis": {
            "backgroundcolor": "#E5ECF6",
            "gridcolor": "white",
            "gridwidth": 2,
            "linecolor": "white",
            "showbackground": true,
            "ticks": "",
            "zerolinecolor": "white"
           }
          },
          "shapedefaults": {
           "line": {
            "color": "#2a3f5f"
           }
          },
          "ternary": {
           "aaxis": {
            "gridcolor": "white",
            "linecolor": "white",
            "ticks": ""
           },
           "baxis": {
            "gridcolor": "white",
            "linecolor": "white",
            "ticks": ""
           },
           "bgcolor": "#E5ECF6",
           "caxis": {
            "gridcolor": "white",
            "linecolor": "white",
            "ticks": ""
           }
          },
          "title": {
           "x": 0.05
          },
          "xaxis": {
           "automargin": true,
           "gridcolor": "white",
           "linecolor": "white",
           "ticks": "",
           "title": {
            "standoff": 15
           },
           "zerolinecolor": "white",
           "zerolinewidth": 2
          },
          "yaxis": {
           "automargin": true,
           "gridcolor": "white",
           "linecolor": "white",
           "ticks": "",
           "title": {
            "standoff": 15
           },
           "zerolinecolor": "white",
           "zerolinewidth": 2
          }
         }
        },
        "title": {
         "text": "30 Products with highest Revenue"
        },
        "xaxis": {
         "anchor": "y",
         "domain": [
          0,
          1
         ],
         "tickangle": 30,
         "title": {
          "text": "x"
         }
        },
        "yaxis": {
         "anchor": "x",
         "domain": [
          0,
          1
         ],
         "title": {
          "text": "y"
         }
        }
       }
      }
     },
     "metadata": {},
     "output_type": "display_data"
    }
   ],
   "source": [
    "# generamos un grafico de barras con plotly para visualizar los 30 productos con mayor Revenue, se giran los nombres de los productos para que se vean mejor\n",
    "fig = px.bar(\n",
    "    x=top_30_revenue.index,\n",
    "    y=top_30_revenue.values,\n",
    "    title=f\"30 Products with highest Revenue\",\n",
    ")\n",
    "fig.update_xaxes(tickangle=30)\n",
    "fig.show()\n",
    "\n",
    "\n"
   ]
  },
  {
   "cell_type": "code",
   "execution_count": 67,
   "metadata": {},
   "outputs": [
    {
     "data": {
      "application/vnd.plotly.v1+json": {
       "config": {
        "plotlyServerURL": "https://plot.ly"
       },
       "data": [
        {
         "alignmentgroup": "True",
         "hovertemplate": "x=%{x}<br>y=%{y}<extra></extra>",
         "legendgroup": "",
         "marker": {
          "color": "#636efa",
          "pattern": {
           "shape": ""
          }
         },
         "name": "",
         "offsetgroup": "",
         "orientation": "v",
         "showlegend": false,
         "textposition": "auto",
         "type": "bar",
         "x": [
          "WHITE HANGING HEART T-LIGHT HOLDER",
          "PACK OF 72 RETRO SPOT CAKE CASES",
          "ASSORTED COLOUR BIRD ORNAMENT",
          "60 TEATIME FAIRY CAKE CASES",
          "WORLD WAR 2 GLIDERS ASSTD DESIGNS",
          "JUMBO BAG RED RETROSPOT",
          "STRAWBERRY CERAMIC TRINKET BOX",
          "PACK OF 60 PINK PAISLEY CAKE CASES",
          "COLOUR GLASS T-LIGHT HOLDER HANGING",
          "ASSTD DESIGN BUBBLE GUM RING",
          "PACK OF 72 SKULL CAKE CASES",
          "JUMBO BAG STRAWBERRY",
          "LUNCH BAG RED SPOTTY",
          "HANGING HEART ZINC T-LIGHT HOLDER",
          "72 SWEETHEART FAIRY CAKE CASES",
          "JUMBO  BAG BAROQUE BLACK WHITE",
          "ANTIQUE SILVER TEA GLASS ETCHED",
          "PACK OF 60 DINOSAUR CAKE CASES",
          "HANGING JAM JAR T-LIGHT HOLDER",
          "JUMBO STORAGE BAG SUKI",
          "MINI PAINT SET VINTAGE ",
          "JUMBO BAG PINK VINTAGE PAISLEY",
          "SMALL POPCORN HOLDER",
          "JUMBO BAG SCANDINAVIAN PAISLEY",
          "JUMBO BAG PINK WITH WHITE SPOTS",
          "JUMBO SHOPPER VINTAGE RED PAISLEY",
          "SET/20 RED SPOTTY PAPER NAPKINS ",
          "SWEETHEART CERAMIC TRINKET BOX",
          "ZINC METAL HEART DECORATION",
          "RED TOADSTOOL LED NIGHT LIGHT"
         ],
         "xaxis": "x",
         "y": [
          46486,
          37209,
          35111,
          31096,
          30946,
          27019,
          25330,
          24031,
          18904,
          18270,
          17951,
          17675,
          17256,
          17235,
          16983,
          16580,
          15396,
          15306,
          15199,
          14712,
          14351,
          14126,
          14013,
          13882,
          13766,
          13637,
          13149,
          12932,
          12907,
          12609
         ],
         "yaxis": "y"
        }
       ],
       "layout": {
        "barmode": "relative",
        "legend": {
         "tracegroupgap": 0
        },
        "template": {
         "data": {
          "bar": [
           {
            "error_x": {
             "color": "#2a3f5f"
            },
            "error_y": {
             "color": "#2a3f5f"
            },
            "marker": {
             "line": {
              "color": "#E5ECF6",
              "width": 0.5
             },
             "pattern": {
              "fillmode": "overlay",
              "size": 10,
              "solidity": 0.2
             }
            },
            "type": "bar"
           }
          ],
          "barpolar": [
           {
            "marker": {
             "line": {
              "color": "#E5ECF6",
              "width": 0.5
             },
             "pattern": {
              "fillmode": "overlay",
              "size": 10,
              "solidity": 0.2
             }
            },
            "type": "barpolar"
           }
          ],
          "carpet": [
           {
            "aaxis": {
             "endlinecolor": "#2a3f5f",
             "gridcolor": "white",
             "linecolor": "white",
             "minorgridcolor": "white",
             "startlinecolor": "#2a3f5f"
            },
            "baxis": {
             "endlinecolor": "#2a3f5f",
             "gridcolor": "white",
             "linecolor": "white",
             "minorgridcolor": "white",
             "startlinecolor": "#2a3f5f"
            },
            "type": "carpet"
           }
          ],
          "choropleth": [
           {
            "colorbar": {
             "outlinewidth": 0,
             "ticks": ""
            },
            "type": "choropleth"
           }
          ],
          "contour": [
           {
            "colorbar": {
             "outlinewidth": 0,
             "ticks": ""
            },
            "colorscale": [
             [
              0,
              "#0d0887"
             ],
             [
              0.1111111111111111,
              "#46039f"
             ],
             [
              0.2222222222222222,
              "#7201a8"
             ],
             [
              0.3333333333333333,
              "#9c179e"
             ],
             [
              0.4444444444444444,
              "#bd3786"
             ],
             [
              0.5555555555555556,
              "#d8576b"
             ],
             [
              0.6666666666666666,
              "#ed7953"
             ],
             [
              0.7777777777777778,
              "#fb9f3a"
             ],
             [
              0.8888888888888888,
              "#fdca26"
             ],
             [
              1,
              "#f0f921"
             ]
            ],
            "type": "contour"
           }
          ],
          "contourcarpet": [
           {
            "colorbar": {
             "outlinewidth": 0,
             "ticks": ""
            },
            "type": "contourcarpet"
           }
          ],
          "heatmap": [
           {
            "colorbar": {
             "outlinewidth": 0,
             "ticks": ""
            },
            "colorscale": [
             [
              0,
              "#0d0887"
             ],
             [
              0.1111111111111111,
              "#46039f"
             ],
             [
              0.2222222222222222,
              "#7201a8"
             ],
             [
              0.3333333333333333,
              "#9c179e"
             ],
             [
              0.4444444444444444,
              "#bd3786"
             ],
             [
              0.5555555555555556,
              "#d8576b"
             ],
             [
              0.6666666666666666,
              "#ed7953"
             ],
             [
              0.7777777777777778,
              "#fb9f3a"
             ],
             [
              0.8888888888888888,
              "#fdca26"
             ],
             [
              1,
              "#f0f921"
             ]
            ],
            "type": "heatmap"
           }
          ],
          "heatmapgl": [
           {
            "colorbar": {
             "outlinewidth": 0,
             "ticks": ""
            },
            "colorscale": [
             [
              0,
              "#0d0887"
             ],
             [
              0.1111111111111111,
              "#46039f"
             ],
             [
              0.2222222222222222,
              "#7201a8"
             ],
             [
              0.3333333333333333,
              "#9c179e"
             ],
             [
              0.4444444444444444,
              "#bd3786"
             ],
             [
              0.5555555555555556,
              "#d8576b"
             ],
             [
              0.6666666666666666,
              "#ed7953"
             ],
             [
              0.7777777777777778,
              "#fb9f3a"
             ],
             [
              0.8888888888888888,
              "#fdca26"
             ],
             [
              1,
              "#f0f921"
             ]
            ],
            "type": "heatmapgl"
           }
          ],
          "histogram": [
           {
            "marker": {
             "pattern": {
              "fillmode": "overlay",
              "size": 10,
              "solidity": 0.2
             }
            },
            "type": "histogram"
           }
          ],
          "histogram2d": [
           {
            "colorbar": {
             "outlinewidth": 0,
             "ticks": ""
            },
            "colorscale": [
             [
              0,
              "#0d0887"
             ],
             [
              0.1111111111111111,
              "#46039f"
             ],
             [
              0.2222222222222222,
              "#7201a8"
             ],
             [
              0.3333333333333333,
              "#9c179e"
             ],
             [
              0.4444444444444444,
              "#bd3786"
             ],
             [
              0.5555555555555556,
              "#d8576b"
             ],
             [
              0.6666666666666666,
              "#ed7953"
             ],
             [
              0.7777777777777778,
              "#fb9f3a"
             ],
             [
              0.8888888888888888,
              "#fdca26"
             ],
             [
              1,
              "#f0f921"
             ]
            ],
            "type": "histogram2d"
           }
          ],
          "histogram2dcontour": [
           {
            "colorbar": {
             "outlinewidth": 0,
             "ticks": ""
            },
            "colorscale": [
             [
              0,
              "#0d0887"
             ],
             [
              0.1111111111111111,
              "#46039f"
             ],
             [
              0.2222222222222222,
              "#7201a8"
             ],
             [
              0.3333333333333333,
              "#9c179e"
             ],
             [
              0.4444444444444444,
              "#bd3786"
             ],
             [
              0.5555555555555556,
              "#d8576b"
             ],
             [
              0.6666666666666666,
              "#ed7953"
             ],
             [
              0.7777777777777778,
              "#fb9f3a"
             ],
             [
              0.8888888888888888,
              "#fdca26"
             ],
             [
              1,
              "#f0f921"
             ]
            ],
            "type": "histogram2dcontour"
           }
          ],
          "mesh3d": [
           {
            "colorbar": {
             "outlinewidth": 0,
             "ticks": ""
            },
            "type": "mesh3d"
           }
          ],
          "parcoords": [
           {
            "line": {
             "colorbar": {
              "outlinewidth": 0,
              "ticks": ""
             }
            },
            "type": "parcoords"
           }
          ],
          "pie": [
           {
            "automargin": true,
            "type": "pie"
           }
          ],
          "scatter": [
           {
            "fillpattern": {
             "fillmode": "overlay",
             "size": 10,
             "solidity": 0.2
            },
            "type": "scatter"
           }
          ],
          "scatter3d": [
           {
            "line": {
             "colorbar": {
              "outlinewidth": 0,
              "ticks": ""
             }
            },
            "marker": {
             "colorbar": {
              "outlinewidth": 0,
              "ticks": ""
             }
            },
            "type": "scatter3d"
           }
          ],
          "scattercarpet": [
           {
            "marker": {
             "colorbar": {
              "outlinewidth": 0,
              "ticks": ""
             }
            },
            "type": "scattercarpet"
           }
          ],
          "scattergeo": [
           {
            "marker": {
             "colorbar": {
              "outlinewidth": 0,
              "ticks": ""
             }
            },
            "type": "scattergeo"
           }
          ],
          "scattergl": [
           {
            "marker": {
             "colorbar": {
              "outlinewidth": 0,
              "ticks": ""
             }
            },
            "type": "scattergl"
           }
          ],
          "scattermapbox": [
           {
            "marker": {
             "colorbar": {
              "outlinewidth": 0,
              "ticks": ""
             }
            },
            "type": "scattermapbox"
           }
          ],
          "scatterpolar": [
           {
            "marker": {
             "colorbar": {
              "outlinewidth": 0,
              "ticks": ""
             }
            },
            "type": "scatterpolar"
           }
          ],
          "scatterpolargl": [
           {
            "marker": {
             "colorbar": {
              "outlinewidth": 0,
              "ticks": ""
             }
            },
            "type": "scatterpolargl"
           }
          ],
          "scatterternary": [
           {
            "marker": {
             "colorbar": {
              "outlinewidth": 0,
              "ticks": ""
             }
            },
            "type": "scatterternary"
           }
          ],
          "surface": [
           {
            "colorbar": {
             "outlinewidth": 0,
             "ticks": ""
            },
            "colorscale": [
             [
              0,
              "#0d0887"
             ],
             [
              0.1111111111111111,
              "#46039f"
             ],
             [
              0.2222222222222222,
              "#7201a8"
             ],
             [
              0.3333333333333333,
              "#9c179e"
             ],
             [
              0.4444444444444444,
              "#bd3786"
             ],
             [
              0.5555555555555556,
              "#d8576b"
             ],
             [
              0.6666666666666666,
              "#ed7953"
             ],
             [
              0.7777777777777778,
              "#fb9f3a"
             ],
             [
              0.8888888888888888,
              "#fdca26"
             ],
             [
              1,
              "#f0f921"
             ]
            ],
            "type": "surface"
           }
          ],
          "table": [
           {
            "cells": {
             "fill": {
              "color": "#EBF0F8"
             },
             "line": {
              "color": "white"
             }
            },
            "header": {
             "fill": {
              "color": "#C8D4E3"
             },
             "line": {
              "color": "white"
             }
            },
            "type": "table"
           }
          ]
         },
         "layout": {
          "annotationdefaults": {
           "arrowcolor": "#2a3f5f",
           "arrowhead": 0,
           "arrowwidth": 1
          },
          "autotypenumbers": "strict",
          "coloraxis": {
           "colorbar": {
            "outlinewidth": 0,
            "ticks": ""
           }
          },
          "colorscale": {
           "diverging": [
            [
             0,
             "#8e0152"
            ],
            [
             0.1,
             "#c51b7d"
            ],
            [
             0.2,
             "#de77ae"
            ],
            [
             0.3,
             "#f1b6da"
            ],
            [
             0.4,
             "#fde0ef"
            ],
            [
             0.5,
             "#f7f7f7"
            ],
            [
             0.6,
             "#e6f5d0"
            ],
            [
             0.7,
             "#b8e186"
            ],
            [
             0.8,
             "#7fbc41"
            ],
            [
             0.9,
             "#4d9221"
            ],
            [
             1,
             "#276419"
            ]
           ],
           "sequential": [
            [
             0,
             "#0d0887"
            ],
            [
             0.1111111111111111,
             "#46039f"
            ],
            [
             0.2222222222222222,
             "#7201a8"
            ],
            [
             0.3333333333333333,
             "#9c179e"
            ],
            [
             0.4444444444444444,
             "#bd3786"
            ],
            [
             0.5555555555555556,
             "#d8576b"
            ],
            [
             0.6666666666666666,
             "#ed7953"
            ],
            [
             0.7777777777777778,
             "#fb9f3a"
            ],
            [
             0.8888888888888888,
             "#fdca26"
            ],
            [
             1,
             "#f0f921"
            ]
           ],
           "sequentialminus": [
            [
             0,
             "#0d0887"
            ],
            [
             0.1111111111111111,
             "#46039f"
            ],
            [
             0.2222222222222222,
             "#7201a8"
            ],
            [
             0.3333333333333333,
             "#9c179e"
            ],
            [
             0.4444444444444444,
             "#bd3786"
            ],
            [
             0.5555555555555556,
             "#d8576b"
            ],
            [
             0.6666666666666666,
             "#ed7953"
            ],
            [
             0.7777777777777778,
             "#fb9f3a"
            ],
            [
             0.8888888888888888,
             "#fdca26"
            ],
            [
             1,
             "#f0f921"
            ]
           ]
          },
          "colorway": [
           "#636efa",
           "#EF553B",
           "#00cc96",
           "#ab63fa",
           "#FFA15A",
           "#19d3f3",
           "#FF6692",
           "#B6E880",
           "#FF97FF",
           "#FECB52"
          ],
          "font": {
           "color": "#2a3f5f"
          },
          "geo": {
           "bgcolor": "white",
           "lakecolor": "white",
           "landcolor": "#E5ECF6",
           "showlakes": true,
           "showland": true,
           "subunitcolor": "white"
          },
          "hoverlabel": {
           "align": "left"
          },
          "hovermode": "closest",
          "mapbox": {
           "style": "light"
          },
          "paper_bgcolor": "white",
          "plot_bgcolor": "#E5ECF6",
          "polar": {
           "angularaxis": {
            "gridcolor": "white",
            "linecolor": "white",
            "ticks": ""
           },
           "bgcolor": "#E5ECF6",
           "radialaxis": {
            "gridcolor": "white",
            "linecolor": "white",
            "ticks": ""
           }
          },
          "scene": {
           "xaxis": {
            "backgroundcolor": "#E5ECF6",
            "gridcolor": "white",
            "gridwidth": 2,
            "linecolor": "white",
            "showbackground": true,
            "ticks": "",
            "zerolinecolor": "white"
           },
           "yaxis": {
            "backgroundcolor": "#E5ECF6",
            "gridcolor": "white",
            "gridwidth": 2,
            "linecolor": "white",
            "showbackground": true,
            "ticks": "",
            "zerolinecolor": "white"
           },
           "zaxis": {
            "backgroundcolor": "#E5ECF6",
            "gridcolor": "white",
            "gridwidth": 2,
            "linecolor": "white",
            "showbackground": true,
            "ticks": "",
            "zerolinecolor": "white"
           }
          },
          "shapedefaults": {
           "line": {
            "color": "#2a3f5f"
           }
          },
          "ternary": {
           "aaxis": {
            "gridcolor": "white",
            "linecolor": "white",
            "ticks": ""
           },
           "baxis": {
            "gridcolor": "white",
            "linecolor": "white",
            "ticks": ""
           },
           "bgcolor": "#E5ECF6",
           "caxis": {
            "gridcolor": "white",
            "linecolor": "white",
            "ticks": ""
           }
          },
          "title": {
           "x": 0.05
          },
          "xaxis": {
           "automargin": true,
           "gridcolor": "white",
           "linecolor": "white",
           "ticks": "",
           "title": {
            "standoff": 15
           },
           "zerolinecolor": "white",
           "zerolinewidth": 2
          },
          "yaxis": {
           "automargin": true,
           "gridcolor": "white",
           "linecolor": "white",
           "ticks": "",
           "title": {
            "standoff": 15
           },
           "zerolinecolor": "white",
           "zerolinewidth": 2
          }
         }
        },
        "title": {
         "text": "30 Products with highest Quantity"
        },
        "xaxis": {
         "anchor": "y",
         "domain": [
          0,
          1
         ],
         "tickangle": 30,
         "title": {
          "text": "x"
         }
        },
        "yaxis": {
         "anchor": "x",
         "domain": [
          0,
          1
         ],
         "title": {
          "text": "y"
         }
        }
       }
      }
     },
     "metadata": {},
     "output_type": "display_data"
    }
   ],
   "source": [
    "# generamos un grafico de barras con plotly para visualizar los 30 productos con mayor Quantity\n",
    "fig = px.bar(\n",
    "    x=top_30_Quantity.index,\n",
    "    y=top_30_Quantity.values,\n",
    "    title=f\"30 Products with highest Quantity\",\n",
    ")\n",
    "fig.update_xaxes(tickangle=30)\n",
    "fig.show()"
   ]
  },
  {
   "cell_type": "code",
   "execution_count": 81,
   "metadata": {},
   "outputs": [
    {
     "data": {
      "text/html": [
       "<div>\n",
       "<style scoped>\n",
       "    .dataframe tbody tr th:only-of-type {\n",
       "        vertical-align: middle;\n",
       "    }\n",
       "\n",
       "    .dataframe tbody tr th {\n",
       "        vertical-align: top;\n",
       "    }\n",
       "\n",
       "    .dataframe thead th {\n",
       "        text-align: right;\n",
       "    }\n",
       "</style>\n",
       "<table border=\"1\" class=\"dataframe\">\n",
       "  <thead>\n",
       "    <tr style=\"text-align: right;\">\n",
       "      <th></th>\n",
       "      <th>Description</th>\n",
       "      <th>Quantity</th>\n",
       "      <th>Revenue</th>\n",
       "    </tr>\n",
       "  </thead>\n",
       "  <tbody>\n",
       "    <tr>\n",
       "      <th>0</th>\n",
       "      <td>DOORMAT UNION JACK GUNS AND ROSES</td>\n",
       "      <td>167</td>\n",
       "      <td>1071.25</td>\n",
       "    </tr>\n",
       "    <tr>\n",
       "      <th>1</th>\n",
       "      <td>3 STRIPEY MICE FELTCRAFT</td>\n",
       "      <td>662</td>\n",
       "      <td>1241.10</td>\n",
       "    </tr>\n",
       "    <tr>\n",
       "      <th>2</th>\n",
       "      <td>4 PURPLE FLOCK DINNER CANDLES</td>\n",
       "      <td>200</td>\n",
       "      <td>265.20</td>\n",
       "    </tr>\n",
       "    <tr>\n",
       "      <th>3</th>\n",
       "      <td>ANIMAL STICKERS</td>\n",
       "      <td>385</td>\n",
       "      <td>80.85</td>\n",
       "    </tr>\n",
       "    <tr>\n",
       "      <th>4</th>\n",
       "      <td>BLACK PIRATE TREASURE CHEST</td>\n",
       "      <td>45</td>\n",
       "      <td>74.25</td>\n",
       "    </tr>\n",
       "    <tr>\n",
       "      <th>...</th>\n",
       "      <td>...</td>\n",
       "      <td>...</td>\n",
       "      <td>...</td>\n",
       "    </tr>\n",
       "    <tr>\n",
       "      <th>4428</th>\n",
       "      <td>ZINC HEART LATTICE TRAY OVAL</td>\n",
       "      <td>325</td>\n",
       "      <td>364.15</td>\n",
       "    </tr>\n",
       "    <tr>\n",
       "      <th>4429</th>\n",
       "      <td>ZINC METAL HEART DECORATION</td>\n",
       "      <td>12907</td>\n",
       "      <td>15556.91</td>\n",
       "    </tr>\n",
       "    <tr>\n",
       "      <th>4430</th>\n",
       "      <td>ZINC POLICE BOX LANTERN</td>\n",
       "      <td>193</td>\n",
       "      <td>783.70</td>\n",
       "    </tr>\n",
       "    <tr>\n",
       "      <th>4431</th>\n",
       "      <td>ZINC TOP  2 DOOR WOODEN SHELF</td>\n",
       "      <td>233</td>\n",
       "      <td>1325.35</td>\n",
       "    </tr>\n",
       "    <tr>\n",
       "      <th>4432</th>\n",
       "      <td>ZINC WILLIE WINKIE  CANDLE STICK</td>\n",
       "      <td>3626</td>\n",
       "      <td>3007.22</td>\n",
       "    </tr>\n",
       "  </tbody>\n",
       "</table>\n",
       "<p>4433 rows × 3 columns</p>\n",
       "</div>"
      ],
      "text/plain": [
       "                              Description  Quantity   Revenue\n",
       "0       DOORMAT UNION JACK GUNS AND ROSES       167   1071.25\n",
       "1                3 STRIPEY MICE FELTCRAFT       662   1241.10\n",
       "2           4 PURPLE FLOCK DINNER CANDLES       200    265.20\n",
       "3                         ANIMAL STICKERS       385     80.85\n",
       "4             BLACK PIRATE TREASURE CHEST        45     74.25\n",
       "...                                   ...       ...       ...\n",
       "4428        ZINC HEART LATTICE TRAY OVAL        325    364.15\n",
       "4429          ZINC METAL HEART DECORATION     12907  15556.91\n",
       "4430              ZINC POLICE BOX LANTERN       193    783.70\n",
       "4431       ZINC TOP  2 DOOR WOODEN SHELF        233   1325.35\n",
       "4432     ZINC WILLIE WINKIE  CANDLE STICK      3626   3007.22\n",
       "\n",
       "[4433 rows x 3 columns]"
      ]
     },
     "execution_count": 81,
     "metadata": {},
     "output_type": "execute_result"
    }
   ],
   "source": [
    "# se agrupa por stockcode y se suman las cantidades y los ingresos\n",
    "df_retail_clean_top = df_retail_clean.groupby('Description').agg({'Quantity': 'sum', 'Revenue': 'sum'}).reset_index()\n",
    "df_retail_clean_top"
   ]
  },
  {
   "cell_type": "code",
   "execution_count": 82,
   "metadata": {},
   "outputs": [
    {
     "data": {
      "text/html": [
       "<div>\n",
       "<style scoped>\n",
       "    .dataframe tbody tr th:only-of-type {\n",
       "        vertical-align: middle;\n",
       "    }\n",
       "\n",
       "    .dataframe tbody tr th {\n",
       "        vertical-align: top;\n",
       "    }\n",
       "\n",
       "    .dataframe thead th {\n",
       "        text-align: right;\n",
       "    }\n",
       "</style>\n",
       "<table border=\"1\" class=\"dataframe\">\n",
       "  <thead>\n",
       "    <tr style=\"text-align: right;\">\n",
       "      <th></th>\n",
       "      <th>Description</th>\n",
       "      <th>Quantity</th>\n",
       "      <th>Revenue</th>\n",
       "      <th>Ranking_Revenue</th>\n",
       "      <th>Ranking_Quantity</th>\n",
       "    </tr>\n",
       "  </thead>\n",
       "  <tbody>\n",
       "    <tr>\n",
       "      <th>4249</th>\n",
       "      <td>WHITE HANGING HEART T-LIGHT HOLDER</td>\n",
       "      <td>46486</td>\n",
       "      <td>125120.44</td>\n",
       "      <td>2.0</td>\n",
       "      <td>1.0</td>\n",
       "    </tr>\n",
       "    <tr>\n",
       "      <th>2625</th>\n",
       "      <td>PACK OF 72 RETRO SPOT CAKE CASES</td>\n",
       "      <td>37209</td>\n",
       "      <td>18487.83</td>\n",
       "      <td>48.0</td>\n",
       "      <td>2.0</td>\n",
       "    </tr>\n",
       "    <tr>\n",
       "      <th>259</th>\n",
       "      <td>ASSORTED COLOUR BIRD ORNAMENT</td>\n",
       "      <td>35111</td>\n",
       "      <td>56540.23</td>\n",
       "      <td>3.0</td>\n",
       "      <td>3.0</td>\n",
       "    </tr>\n",
       "    <tr>\n",
       "      <th>138</th>\n",
       "      <td>60 TEATIME FAIRY CAKE CASES</td>\n",
       "      <td>31096</td>\n",
       "      <td>15569.10</td>\n",
       "      <td>63.0</td>\n",
       "      <td>4.0</td>\n",
       "    </tr>\n",
       "    <tr>\n",
       "      <th>4355</th>\n",
       "      <td>WORLD WAR 2 GLIDERS ASSTD DESIGNS</td>\n",
       "      <td>30946</td>\n",
       "      <td>6938.18</td>\n",
       "      <td>269.0</td>\n",
       "      <td>5.0</td>\n",
       "    </tr>\n",
       "    <tr>\n",
       "      <th>...</th>\n",
       "      <td>...</td>\n",
       "      <td>...</td>\n",
       "      <td>...</td>\n",
       "      <td>...</td>\n",
       "      <td>...</td>\n",
       "    </tr>\n",
       "    <tr>\n",
       "      <th>311</th>\n",
       "      <td>Adjustment by Peter on Jun 25 2010</td>\n",
       "      <td>1</td>\n",
       "      <td>72.45</td>\n",
       "      <td>3566.0</td>\n",
       "      <td>4389.5</td>\n",
       "    </tr>\n",
       "    <tr>\n",
       "      <th>2717</th>\n",
       "      <td>PEARL AND CHERRY QUARTZ BRACLET</td>\n",
       "      <td>1</td>\n",
       "      <td>3.50</td>\n",
       "      <td>4358.0</td>\n",
       "      <td>4389.5</td>\n",
       "    </tr>\n",
       "    <tr>\n",
       "      <th>340</th>\n",
       "      <td>BAROQUE BUTTERFLY EARRINGS CRYSTAL</td>\n",
       "      <td>1</td>\n",
       "      <td>3.75</td>\n",
       "      <td>4353.5</td>\n",
       "      <td>4389.5</td>\n",
       "    </tr>\n",
       "    <tr>\n",
       "      <th>344</th>\n",
       "      <td>BAROQUE BUTTERFLY EARRINGS RED</td>\n",
       "      <td>1</td>\n",
       "      <td>3.75</td>\n",
       "      <td>4353.5</td>\n",
       "      <td>4389.5</td>\n",
       "    </tr>\n",
       "    <tr>\n",
       "      <th>1612</th>\n",
       "      <td>FRENCH STYLE WALL DRESSER</td>\n",
       "      <td>1</td>\n",
       "      <td>50.00</td>\n",
       "      <td>3762.0</td>\n",
       "      <td>4389.5</td>\n",
       "    </tr>\n",
       "  </tbody>\n",
       "</table>\n",
       "<p>4433 rows × 5 columns</p>\n",
       "</div>"
      ],
      "text/plain": [
       "                              Description  Quantity    Revenue  \\\n",
       "4249   WHITE HANGING HEART T-LIGHT HOLDER     46486  125120.44   \n",
       "2625     PACK OF 72 RETRO SPOT CAKE CASES     37209   18487.83   \n",
       "259         ASSORTED COLOUR BIRD ORNAMENT     35111   56540.23   \n",
       "138           60 TEATIME FAIRY CAKE CASES     31096   15569.10   \n",
       "4355    WORLD WAR 2 GLIDERS ASSTD DESIGNS     30946    6938.18   \n",
       "...                                   ...       ...        ...   \n",
       "311   Adjustment by Peter on Jun 25 2010          1      72.45   \n",
       "2717      PEARL AND CHERRY QUARTZ BRACLET         1       3.50   \n",
       "340    BAROQUE BUTTERFLY EARRINGS CRYSTAL         1       3.75   \n",
       "344        BAROQUE BUTTERFLY EARRINGS RED         1       3.75   \n",
       "1612            FRENCH STYLE WALL DRESSER         1      50.00   \n",
       "\n",
       "      Ranking_Revenue  Ranking_Quantity  \n",
       "4249              2.0               1.0  \n",
       "2625             48.0               2.0  \n",
       "259               3.0               3.0  \n",
       "138              63.0               4.0  \n",
       "4355            269.0               5.0  \n",
       "...               ...               ...  \n",
       "311            3566.0            4389.5  \n",
       "2717           4358.0            4389.5  \n",
       "340            4353.5            4389.5  \n",
       "344            4353.5            4389.5  \n",
       "1612           3762.0            4389.5  \n",
       "\n",
       "[4433 rows x 5 columns]"
      ]
     },
     "execution_count": 82,
     "metadata": {},
     "output_type": "execute_result"
    }
   ],
   "source": [
    "# agregamos una columna que indica ranking de ingresos y ordenamos de mayor a menor\n",
    "df_retail_clean_top['Ranking_Revenue'] = df_retail_clean_top['Revenue'].rank(ascending=False)\n",
    "df_retail_clean_top = df_retail_clean_top.sort_values(by='Ranking_Revenue', ascending=True)\n",
    "\n",
    "# se repite para cantidad\n",
    "df_retail_clean_top['Ranking_Quantity'] = df_retail_clean_top['Quantity'].rank(ascending=False)\n",
    "df_retail_clean_top = df_retail_clean_top.sort_values(by='Ranking_Quantity', ascending=True)\n",
    "df_retail_clean_top\n"
   ]
  },
  {
   "cell_type": "code",
   "execution_count": 83,
   "metadata": {},
   "outputs": [
    {
     "data": {
      "text/html": [
       "<div>\n",
       "<style scoped>\n",
       "    .dataframe tbody tr th:only-of-type {\n",
       "        vertical-align: middle;\n",
       "    }\n",
       "\n",
       "    .dataframe tbody tr th {\n",
       "        vertical-align: top;\n",
       "    }\n",
       "\n",
       "    .dataframe thead th {\n",
       "        text-align: right;\n",
       "    }\n",
       "</style>\n",
       "<table border=\"1\" class=\"dataframe\">\n",
       "  <thead>\n",
       "    <tr style=\"text-align: right;\">\n",
       "      <th></th>\n",
       "      <th>Description</th>\n",
       "      <th>Quantity</th>\n",
       "      <th>Revenue</th>\n",
       "      <th>Ranking_Revenue</th>\n",
       "      <th>Ranking_Quantity</th>\n",
       "      <th>Top_30_Quantity_Revenue</th>\n",
       "    </tr>\n",
       "  </thead>\n",
       "  <tbody>\n",
       "    <tr>\n",
       "      <th>4249</th>\n",
       "      <td>WHITE HANGING HEART T-LIGHT HOLDER</td>\n",
       "      <td>46486</td>\n",
       "      <td>125120.44</td>\n",
       "      <td>2.0</td>\n",
       "      <td>1.0</td>\n",
       "      <td>1</td>\n",
       "    </tr>\n",
       "    <tr>\n",
       "      <th>259</th>\n",
       "      <td>ASSORTED COLOUR BIRD ORNAMENT</td>\n",
       "      <td>35111</td>\n",
       "      <td>56540.23</td>\n",
       "      <td>3.0</td>\n",
       "      <td>3.0</td>\n",
       "      <td>1</td>\n",
       "    </tr>\n",
       "    <tr>\n",
       "      <th>2066</th>\n",
       "      <td>JUMBO BAG RED RETROSPOT</td>\n",
       "      <td>27019</td>\n",
       "      <td>47519.25</td>\n",
       "      <td>4.0</td>\n",
       "      <td>6.0</td>\n",
       "      <td>1</td>\n",
       "    </tr>\n",
       "    <tr>\n",
       "      <th>3924</th>\n",
       "      <td>STRAWBERRY CERAMIC TRINKET BOX</td>\n",
       "      <td>25330</td>\n",
       "      <td>29694.86</td>\n",
       "      <td>10.0</td>\n",
       "      <td>7.0</td>\n",
       "      <td>1</td>\n",
       "    </tr>\n",
       "    <tr>\n",
       "      <th>2070</th>\n",
       "      <td>JUMBO BAG STRAWBERRY</td>\n",
       "      <td>17675</td>\n",
       "      <td>31286.25</td>\n",
       "      <td>8.0</td>\n",
       "      <td>12.0</td>\n",
       "      <td>1</td>\n",
       "    </tr>\n",
       "    <tr>\n",
       "      <th>2240</th>\n",
       "      <td>LUNCH BAG RED SPOTTY</td>\n",
       "      <td>17256</td>\n",
       "      <td>26947.60</td>\n",
       "      <td>14.0</td>\n",
       "      <td>13.0</td>\n",
       "      <td>1</td>\n",
       "    </tr>\n",
       "    <tr>\n",
       "      <th>2059</th>\n",
       "      <td>JUMBO  BAG BAROQUE BLACK WHITE</td>\n",
       "      <td>16580</td>\n",
       "      <td>29349.00</td>\n",
       "      <td>11.0</td>\n",
       "      <td>16.0</td>\n",
       "      <td>1</td>\n",
       "    </tr>\n",
       "    <tr>\n",
       "      <th>2075</th>\n",
       "      <td>JUMBO STORAGE BAG SUKI</td>\n",
       "      <td>14712</td>\n",
       "      <td>26443.40</td>\n",
       "      <td>15.0</td>\n",
       "      <td>20.0</td>\n",
       "      <td>1</td>\n",
       "    </tr>\n",
       "    <tr>\n",
       "      <th>2064</th>\n",
       "      <td>JUMBO BAG PINK VINTAGE PAISLEY</td>\n",
       "      <td>14126</td>\n",
       "      <td>24762.70</td>\n",
       "      <td>19.0</td>\n",
       "      <td>22.0</td>\n",
       "      <td>1</td>\n",
       "    </tr>\n",
       "    <tr>\n",
       "      <th>2068</th>\n",
       "      <td>JUMBO BAG SCANDINAVIAN PAISLEY</td>\n",
       "      <td>13882</td>\n",
       "      <td>24214.90</td>\n",
       "      <td>23.0</td>\n",
       "      <td>24.0</td>\n",
       "      <td>1</td>\n",
       "    </tr>\n",
       "    <tr>\n",
       "      <th>2065</th>\n",
       "      <td>JUMBO BAG PINK WITH WHITE SPOTS</td>\n",
       "      <td>13766</td>\n",
       "      <td>24450.60</td>\n",
       "      <td>21.0</td>\n",
       "      <td>25.0</td>\n",
       "      <td>1</td>\n",
       "    </tr>\n",
       "    <tr>\n",
       "      <th>2073</th>\n",
       "      <td>JUMBO SHOPPER VINTAGE RED PAISLEY</td>\n",
       "      <td>13637</td>\n",
       "      <td>24717.15</td>\n",
       "      <td>20.0</td>\n",
       "      <td>26.0</td>\n",
       "      <td>1</td>\n",
       "    </tr>\n",
       "  </tbody>\n",
       "</table>\n",
       "</div>"
      ],
      "text/plain": [
       "                             Description  Quantity    Revenue  \\\n",
       "4249  WHITE HANGING HEART T-LIGHT HOLDER     46486  125120.44   \n",
       "259        ASSORTED COLOUR BIRD ORNAMENT     35111   56540.23   \n",
       "2066             JUMBO BAG RED RETROSPOT     27019   47519.25   \n",
       "3924      STRAWBERRY CERAMIC TRINKET BOX     25330   29694.86   \n",
       "2070                JUMBO BAG STRAWBERRY     17675   31286.25   \n",
       "2240                LUNCH BAG RED SPOTTY     17256   26947.60   \n",
       "2059      JUMBO  BAG BAROQUE BLACK WHITE     16580   29349.00   \n",
       "2075              JUMBO STORAGE BAG SUKI     14712   26443.40   \n",
       "2064      JUMBO BAG PINK VINTAGE PAISLEY     14126   24762.70   \n",
       "2068      JUMBO BAG SCANDINAVIAN PAISLEY     13882   24214.90   \n",
       "2065     JUMBO BAG PINK WITH WHITE SPOTS     13766   24450.60   \n",
       "2073   JUMBO SHOPPER VINTAGE RED PAISLEY     13637   24717.15   \n",
       "\n",
       "      Ranking_Revenue  Ranking_Quantity  Top_30_Quantity_Revenue  \n",
       "4249              2.0               1.0                        1  \n",
       "259               3.0               3.0                        1  \n",
       "2066              4.0               6.0                        1  \n",
       "3924             10.0               7.0                        1  \n",
       "2070              8.0              12.0                        1  \n",
       "2240             14.0              13.0                        1  \n",
       "2059             11.0              16.0                        1  \n",
       "2075             15.0              20.0                        1  \n",
       "2064             19.0              22.0                        1  \n",
       "2068             23.0              24.0                        1  \n",
       "2065             21.0              25.0                        1  \n",
       "2073             20.0              26.0                        1  "
      ]
     },
     "execution_count": 83,
     "metadata": {},
     "output_type": "execute_result"
    }
   ],
   "source": [
    "# creamos una columna si verifica si el producto esta en el top 30 de ingresos y cantidad al mismo tiempo\n",
    "df_retail_clean_top['Top_30_Quantity_Revenue'] = df_retail_clean_top.apply(lambda x: 1 if (x['Ranking_Revenue'] <= 30) & (x['Ranking_Quantity'] <= 30) else 0, axis=1)\n",
    "\n",
    "# se filtra el dataframe para quedarse solo con los productos que estan en el top 30 de ingresos y cantidad al mismo tiempo\n",
    "df_retail_clean_top = df_retail_clean_top.loc[df_retail_clean_top['Top_30_Quantity_Revenue'] == 1]\n",
    "df_retail_clean_top"
   ]
  },
  {
   "cell_type": "markdown",
   "metadata": {},
   "source": [
    "## Conclusiones\n",
    "\n",
    "De los resultados anteriores, podemos ver que solo 12 productos estan presentes en ambos tops, por lo que podemos decir que los productos más vendidos no necesariamente son los que generan más ganancias. Esto se debe a que algunos de los productos más vendidos tienen un precio más bajo, por lo que a pesar que se vendan muchas unidades, no generan tantas ganancias como los productos más caros. \n",
    "\n",
    "Por otro lado, los que tienen mayores Revenue, algunos tienen un precio más alto, por lo que no necesariamente se venden tantas unidades para estan dentro del top 30, siendo incluso que el producto de mayor revenue (Regency) no está en el top 30 de mayor quantity.\n",
    "\n",
    "Finalmente podemos ver que el producto que más vende y al mismo tiempo 2do con mayor revenue es el \"WHITE HANGING HEART T-LIGHT HOLDER\".\n"
   ]
  },
  {
   "cell_type": "markdown",
   "metadata": {
    "cell_id": "87af9318a84645609f7f9fa2239d14d1",
    "deepnote_cell_height": 61.866668701171875,
    "deepnote_cell_type": "markdown",
    "tags": []
   },
   "source": [
    "### 1.2.5 Visualización del registro temporal [0,75 ptos]"
   ]
  },
  {
   "cell_type": "markdown",
   "metadata": {
    "cell_id": "93e788cb95904cdaaff7edaaf15799e0",
    "deepnote_cell_height": 119.46665954589844,
    "deepnote_cell_type": "markdown",
    "tags": []
   },
   "source": [
    "El dueño del retail en su afán por saber más sobre los datos de su firma les solicita que grafiquen las ventas respecto al tiempo. Con esto les aclara que durante el día tienen muchas variaciones en sus ventas, por lo que les recomienda que consideren el registro temporal como `año-mes-día`. ¿Es posible observar datos extraños?, Comente lo que observa del gráfico."
   ]
  },
  {
   "cell_type": "code",
   "execution_count": 85,
   "metadata": {
    "cell_id": "40ed9d0f2f3241f390b1f6d808191d76",
    "deepnote_cell_height": 98.86666870117188,
    "deepnote_cell_type": "code",
    "deepnote_to_be_reexecuted": false,
    "execution_millis": 1,
    "execution_start": 1634274396771,
    "id": "SBr7gQOAkmGV",
    "source_hash": "1c692b9d"
   },
   "outputs": [],
   "source": [
    "\n",
    "def plot_ventas(dataframe, _variable = 'Quantity'):\n",
    "    df = dataframe.copy()\n",
    "    # Se crea una nueva columna en formato YYYY-MM-DD con la fecha de la compra\n",
    "    df['Date'] = df['InvoiceDate'].dt.strftime('%Y-%m-%d')\n",
    "\n",
    "    # Se agrupa por Date y se suma la venta diaria\n",
    "    df = df.groupby('Date')[_variable].sum()\n",
    "\n",
    "    # Se crea un grafico de linea con plotly\n",
    "    fig = px.line(\n",
    "        x=df.index,\n",
    "        y=df.values,\n",
    "        title=f\"Daily {_variable} by Date\",\n",
    "    )\n",
    "    fig.show()\n"
   ]
  },
  {
   "cell_type": "code",
   "execution_count": 86,
   "metadata": {},
   "outputs": [
    {
     "data": {
      "application/vnd.plotly.v1+json": {
       "config": {
        "plotlyServerURL": "https://plot.ly"
       },
       "data": [
        {
         "hovertemplate": "x=%{x}<br>y=%{y}<extra></extra>",
         "legendgroup": "",
         "line": {
          "color": "#636efa",
          "dash": "solid"
         },
         "marker": {
          "symbol": "circle"
         },
         "mode": "lines",
         "name": "",
         "orientation": "v",
         "showlegend": false,
         "type": "scatter",
         "x": [
          "2009-12-01",
          "2009-12-02",
          "2009-12-03",
          "2009-12-04",
          "2009-12-05",
          "2009-12-06",
          "2009-12-07",
          "2009-12-08",
          "2009-12-09",
          "2009-12-10",
          "2009-12-11",
          "2009-12-13",
          "2009-12-14",
          "2009-12-15",
          "2009-12-16",
          "2009-12-17",
          "2009-12-18",
          "2009-12-20",
          "2009-12-21",
          "2009-12-22",
          "2009-12-23",
          "2010-01-04",
          "2010-01-05",
          "2010-01-06",
          "2010-01-07",
          "2010-01-08",
          "2010-01-10",
          "2010-01-11",
          "2010-01-12",
          "2010-01-13",
          "2010-01-14",
          "2010-01-15",
          "2010-01-17",
          "2010-01-18",
          "2010-01-19",
          "2010-01-20",
          "2010-01-21",
          "2010-01-22",
          "2010-01-24",
          "2010-01-25",
          "2010-01-26",
          "2010-01-27",
          "2010-01-28",
          "2010-01-29",
          "2010-01-31",
          "2010-02-01",
          "2010-02-02",
          "2010-02-03",
          "2010-02-04",
          "2010-02-05",
          "2010-02-07",
          "2010-02-08",
          "2010-02-09",
          "2010-02-10",
          "2010-02-11",
          "2010-02-12",
          "2010-02-14",
          "2010-02-15",
          "2010-02-16",
          "2010-02-17",
          "2010-02-18",
          "2010-02-19",
          "2010-02-21",
          "2010-02-22",
          "2010-02-23",
          "2010-02-24",
          "2010-02-25",
          "2010-02-26",
          "2010-02-28",
          "2010-03-01",
          "2010-03-02",
          "2010-03-03",
          "2010-03-04",
          "2010-03-05",
          "2010-03-07",
          "2010-03-08",
          "2010-03-09",
          "2010-03-10",
          "2010-03-11",
          "2010-03-12",
          "2010-03-14",
          "2010-03-15",
          "2010-03-16",
          "2010-03-17",
          "2010-03-18",
          "2010-03-19",
          "2010-03-21",
          "2010-03-22",
          "2010-03-23",
          "2010-03-24",
          "2010-03-25",
          "2010-03-26",
          "2010-03-28",
          "2010-03-29",
          "2010-03-30",
          "2010-03-31",
          "2010-04-01",
          "2010-04-06",
          "2010-04-07",
          "2010-04-08",
          "2010-04-09",
          "2010-04-11",
          "2010-04-12",
          "2010-04-13",
          "2010-04-14",
          "2010-04-15",
          "2010-04-16",
          "2010-04-18",
          "2010-04-19",
          "2010-04-20",
          "2010-04-21",
          "2010-04-22",
          "2010-04-23",
          "2010-04-25",
          "2010-04-26",
          "2010-04-27",
          "2010-04-28",
          "2010-04-29",
          "2010-04-30",
          "2010-05-02",
          "2010-05-04",
          "2010-05-05",
          "2010-05-06",
          "2010-05-07",
          "2010-05-09",
          "2010-05-10",
          "2010-05-11",
          "2010-05-12",
          "2010-05-13",
          "2010-05-14",
          "2010-05-16",
          "2010-05-17",
          "2010-05-18",
          "2010-05-19",
          "2010-05-20",
          "2010-05-21",
          "2010-05-23",
          "2010-05-24",
          "2010-05-25",
          "2010-05-26",
          "2010-05-27",
          "2010-05-28",
          "2010-05-30",
          "2010-06-01",
          "2010-06-02",
          "2010-06-03",
          "2010-06-04",
          "2010-06-06",
          "2010-06-07",
          "2010-06-08",
          "2010-06-09",
          "2010-06-10",
          "2010-06-11",
          "2010-06-13",
          "2010-06-14",
          "2010-06-15",
          "2010-06-16",
          "2010-06-17",
          "2010-06-18",
          "2010-06-20",
          "2010-06-21",
          "2010-06-22",
          "2010-06-23",
          "2010-06-24",
          "2010-06-25",
          "2010-06-27",
          "2010-06-28",
          "2010-06-29",
          "2010-06-30",
          "2010-07-01",
          "2010-07-02",
          "2010-07-04",
          "2010-07-05",
          "2010-07-06",
          "2010-07-07",
          "2010-07-08",
          "2010-07-09",
          "2010-07-11",
          "2010-07-12",
          "2010-07-13",
          "2010-07-14",
          "2010-07-15",
          "2010-07-16",
          "2010-07-18",
          "2010-07-19",
          "2010-07-20",
          "2010-07-21",
          "2010-07-22",
          "2010-07-23",
          "2010-07-25",
          "2010-07-26",
          "2010-07-27",
          "2010-07-28",
          "2010-07-29",
          "2010-07-30",
          "2010-08-01",
          "2010-08-02",
          "2010-08-03",
          "2010-08-04",
          "2010-08-05",
          "2010-08-06",
          "2010-08-08",
          "2010-08-09",
          "2010-08-10",
          "2010-08-11",
          "2010-08-12",
          "2010-08-13",
          "2010-08-15",
          "2010-08-16",
          "2010-08-17",
          "2010-08-18",
          "2010-08-19",
          "2010-08-20",
          "2010-08-22",
          "2010-08-23",
          "2010-08-24",
          "2010-08-25",
          "2010-08-26",
          "2010-08-27",
          "2010-08-29",
          "2010-08-31",
          "2010-09-01",
          "2010-09-02",
          "2010-09-03",
          "2010-09-05",
          "2010-09-06",
          "2010-09-07",
          "2010-09-08",
          "2010-09-09",
          "2010-09-10",
          "2010-09-12",
          "2010-09-13",
          "2010-09-14",
          "2010-09-15",
          "2010-09-16",
          "2010-09-17",
          "2010-09-19",
          "2010-09-20",
          "2010-09-21",
          "2010-09-22",
          "2010-09-23",
          "2010-09-24",
          "2010-09-26",
          "2010-09-27",
          "2010-09-28",
          "2010-09-29",
          "2010-09-30",
          "2010-10-01",
          "2010-10-03",
          "2010-10-04",
          "2010-10-05",
          "2010-10-06",
          "2010-10-07",
          "2010-10-08",
          "2010-10-10",
          "2010-10-11",
          "2010-10-12",
          "2010-10-13",
          "2010-10-14",
          "2010-10-15",
          "2010-10-17",
          "2010-10-18",
          "2010-10-19",
          "2010-10-20",
          "2010-10-21",
          "2010-10-22",
          "2010-10-24",
          "2010-10-25",
          "2010-10-26",
          "2010-10-27",
          "2010-10-28",
          "2010-10-29",
          "2010-10-31",
          "2010-11-01",
          "2010-11-02",
          "2010-11-03",
          "2010-11-04",
          "2010-11-05",
          "2010-11-07",
          "2010-11-08",
          "2010-11-09",
          "2010-11-10",
          "2010-11-11",
          "2010-11-12",
          "2010-11-14",
          "2010-11-15",
          "2010-11-16",
          "2010-11-17",
          "2010-11-18",
          "2010-11-19",
          "2010-11-21",
          "2010-11-22",
          "2010-11-23",
          "2010-11-24",
          "2010-11-25",
          "2010-11-26",
          "2010-11-28",
          "2010-11-29",
          "2010-11-30",
          "2010-12-01",
          "2010-12-02",
          "2010-12-03",
          "2010-12-05",
          "2010-12-06",
          "2010-12-07",
          "2010-12-08",
          "2010-12-09"
         ],
         "xaxis": "x",
         "y": [
          22957,
          28269,
          21036,
          19162,
          5119,
          11502,
          15557,
          19945,
          14380,
          21211,
          15372,
          12205,
          34671,
          22153,
          21710,
          15030,
          14793,
          6236,
          8446,
          4825,
          4321,
          9165,
          10880,
          4362,
          27448,
          8707,
          11371,
          8836,
          19750,
          6539,
          11788,
          8414,
          9910,
          6719,
          12939,
          8206,
          9598,
          15749,
          8700,
          9104,
          18540,
          15065,
          10855,
          8970,
          10557,
          8148,
          10082,
          9369,
          12294,
          9515,
          10459,
          7042,
          10629,
          3066,
          8159,
          6724,
          10892,
          12383,
          14976,
          14810,
          18251,
          8162,
          5555,
          13423,
          10874,
          19853,
          20614,
          6798,
          8419,
          15427,
          11018,
          20030,
          18043,
          12910,
          10876,
          13126,
          10974,
          13922,
          10634,
          9290,
          4927,
          9270,
          12256,
          11903,
          18582,
          10449,
          9902,
          11091,
          10356,
          12846,
          15594,
          17590,
          14517,
          11843,
          17540,
          12506,
          15646,
          9883,
          19634,
          22902,
          8676,
          10545,
          12187,
          11157,
          15602,
          10700,
          12075,
          11521,
          12524,
          11984,
          11563,
          18253,
          8953,
          8380,
          13954,
          22119,
          17378,
          15650,
          9768,
          6296,
          9939,
          13614,
          29844,
          20018,
          11825,
          12826,
          15658,
          18080,
          16631,
          9600,
          11026,
          12906,
          9446,
          8921,
          14670,
          9052,
          13755,
          14029,
          12014,
          16903,
          17496,
          12005,
          6204,
          7769,
          9033,
          15651,
          5957,
          14079,
          19205,
          15802,
          17387,
          9677,
          18756,
          10942,
          13586,
          15921,
          17534,
          12892,
          8930,
          4087,
          11305,
          6354,
          12845,
          9410,
          6500,
          9291,
          25871,
          18105,
          18022,
          15857,
          8599,
          5302,
          16155,
          10716,
          13410,
          11695,
          8180,
          5111,
          8859,
          7817,
          10495,
          21887,
          13559,
          9380,
          16248,
          11707,
          11834,
          12561,
          11692,
          10513,
          14215,
          12050,
          12871,
          12795,
          7765,
          9702,
          11761,
          10331,
          10922,
          15661,
          8899,
          8116,
          13140,
          16536,
          7203,
          17700,
          8650,
          12575,
          9195,
          17460,
          22096,
          17376,
          13233,
          13563,
          12896,
          14735,
          15869,
          14929,
          6611,
          7988,
          10173,
          11835,
          20699,
          13714,
          7222,
          11782,
          14504,
          9923,
          12428,
          8753,
          8798,
          16386,
          11071,
          18823,
          14409,
          10181,
          13649,
          20025,
          31709,
          12553,
          20697,
          24446,
          12658,
          28823,
          22204,
          20247,
          22411,
          17879,
          20270,
          21404,
          33550,
          16723,
          27385,
          22428,
          12412,
          21938,
          25071,
          34485,
          29516,
          20607,
          18342,
          18076,
          22406,
          22088,
          15226,
          13786,
          15444,
          13422,
          23538,
          14363,
          11447,
          15739,
          16346,
          11748,
          20349,
          21128,
          31194,
          16354,
          18341,
          17617,
          26157,
          26806,
          25551,
          18121,
          14062,
          21740,
          35073,
          25220,
          18753,
          20577,
          17985,
          15938,
          24597,
          20672,
          31216,
          14797,
          13816,
          35553,
          24266,
          21785,
          24052,
          10358,
          15521,
          14831,
          12648,
          20110,
          13669
         ],
         "yaxis": "y"
        }
       ],
       "layout": {
        "legend": {
         "tracegroupgap": 0
        },
        "template": {
         "data": {
          "bar": [
           {
            "error_x": {
             "color": "#2a3f5f"
            },
            "error_y": {
             "color": "#2a3f5f"
            },
            "marker": {
             "line": {
              "color": "#E5ECF6",
              "width": 0.5
             },
             "pattern": {
              "fillmode": "overlay",
              "size": 10,
              "solidity": 0.2
             }
            },
            "type": "bar"
           }
          ],
          "barpolar": [
           {
            "marker": {
             "line": {
              "color": "#E5ECF6",
              "width": 0.5
             },
             "pattern": {
              "fillmode": "overlay",
              "size": 10,
              "solidity": 0.2
             }
            },
            "type": "barpolar"
           }
          ],
          "carpet": [
           {
            "aaxis": {
             "endlinecolor": "#2a3f5f",
             "gridcolor": "white",
             "linecolor": "white",
             "minorgridcolor": "white",
             "startlinecolor": "#2a3f5f"
            },
            "baxis": {
             "endlinecolor": "#2a3f5f",
             "gridcolor": "white",
             "linecolor": "white",
             "minorgridcolor": "white",
             "startlinecolor": "#2a3f5f"
            },
            "type": "carpet"
           }
          ],
          "choropleth": [
           {
            "colorbar": {
             "outlinewidth": 0,
             "ticks": ""
            },
            "type": "choropleth"
           }
          ],
          "contour": [
           {
            "colorbar": {
             "outlinewidth": 0,
             "ticks": ""
            },
            "colorscale": [
             [
              0,
              "#0d0887"
             ],
             [
              0.1111111111111111,
              "#46039f"
             ],
             [
              0.2222222222222222,
              "#7201a8"
             ],
             [
              0.3333333333333333,
              "#9c179e"
             ],
             [
              0.4444444444444444,
              "#bd3786"
             ],
             [
              0.5555555555555556,
              "#d8576b"
             ],
             [
              0.6666666666666666,
              "#ed7953"
             ],
             [
              0.7777777777777778,
              "#fb9f3a"
             ],
             [
              0.8888888888888888,
              "#fdca26"
             ],
             [
              1,
              "#f0f921"
             ]
            ],
            "type": "contour"
           }
          ],
          "contourcarpet": [
           {
            "colorbar": {
             "outlinewidth": 0,
             "ticks": ""
            },
            "type": "contourcarpet"
           }
          ],
          "heatmap": [
           {
            "colorbar": {
             "outlinewidth": 0,
             "ticks": ""
            },
            "colorscale": [
             [
              0,
              "#0d0887"
             ],
             [
              0.1111111111111111,
              "#46039f"
             ],
             [
              0.2222222222222222,
              "#7201a8"
             ],
             [
              0.3333333333333333,
              "#9c179e"
             ],
             [
              0.4444444444444444,
              "#bd3786"
             ],
             [
              0.5555555555555556,
              "#d8576b"
             ],
             [
              0.6666666666666666,
              "#ed7953"
             ],
             [
              0.7777777777777778,
              "#fb9f3a"
             ],
             [
              0.8888888888888888,
              "#fdca26"
             ],
             [
              1,
              "#f0f921"
             ]
            ],
            "type": "heatmap"
           }
          ],
          "heatmapgl": [
           {
            "colorbar": {
             "outlinewidth": 0,
             "ticks": ""
            },
            "colorscale": [
             [
              0,
              "#0d0887"
             ],
             [
              0.1111111111111111,
              "#46039f"
             ],
             [
              0.2222222222222222,
              "#7201a8"
             ],
             [
              0.3333333333333333,
              "#9c179e"
             ],
             [
              0.4444444444444444,
              "#bd3786"
             ],
             [
              0.5555555555555556,
              "#d8576b"
             ],
             [
              0.6666666666666666,
              "#ed7953"
             ],
             [
              0.7777777777777778,
              "#fb9f3a"
             ],
             [
              0.8888888888888888,
              "#fdca26"
             ],
             [
              1,
              "#f0f921"
             ]
            ],
            "type": "heatmapgl"
           }
          ],
          "histogram": [
           {
            "marker": {
             "pattern": {
              "fillmode": "overlay",
              "size": 10,
              "solidity": 0.2
             }
            },
            "type": "histogram"
           }
          ],
          "histogram2d": [
           {
            "colorbar": {
             "outlinewidth": 0,
             "ticks": ""
            },
            "colorscale": [
             [
              0,
              "#0d0887"
             ],
             [
              0.1111111111111111,
              "#46039f"
             ],
             [
              0.2222222222222222,
              "#7201a8"
             ],
             [
              0.3333333333333333,
              "#9c179e"
             ],
             [
              0.4444444444444444,
              "#bd3786"
             ],
             [
              0.5555555555555556,
              "#d8576b"
             ],
             [
              0.6666666666666666,
              "#ed7953"
             ],
             [
              0.7777777777777778,
              "#fb9f3a"
             ],
             [
              0.8888888888888888,
              "#fdca26"
             ],
             [
              1,
              "#f0f921"
             ]
            ],
            "type": "histogram2d"
           }
          ],
          "histogram2dcontour": [
           {
            "colorbar": {
             "outlinewidth": 0,
             "ticks": ""
            },
            "colorscale": [
             [
              0,
              "#0d0887"
             ],
             [
              0.1111111111111111,
              "#46039f"
             ],
             [
              0.2222222222222222,
              "#7201a8"
             ],
             [
              0.3333333333333333,
              "#9c179e"
             ],
             [
              0.4444444444444444,
              "#bd3786"
             ],
             [
              0.5555555555555556,
              "#d8576b"
             ],
             [
              0.6666666666666666,
              "#ed7953"
             ],
             [
              0.7777777777777778,
              "#fb9f3a"
             ],
             [
              0.8888888888888888,
              "#fdca26"
             ],
             [
              1,
              "#f0f921"
             ]
            ],
            "type": "histogram2dcontour"
           }
          ],
          "mesh3d": [
           {
            "colorbar": {
             "outlinewidth": 0,
             "ticks": ""
            },
            "type": "mesh3d"
           }
          ],
          "parcoords": [
           {
            "line": {
             "colorbar": {
              "outlinewidth": 0,
              "ticks": ""
             }
            },
            "type": "parcoords"
           }
          ],
          "pie": [
           {
            "automargin": true,
            "type": "pie"
           }
          ],
          "scatter": [
           {
            "fillpattern": {
             "fillmode": "overlay",
             "size": 10,
             "solidity": 0.2
            },
            "type": "scatter"
           }
          ],
          "scatter3d": [
           {
            "line": {
             "colorbar": {
              "outlinewidth": 0,
              "ticks": ""
             }
            },
            "marker": {
             "colorbar": {
              "outlinewidth": 0,
              "ticks": ""
             }
            },
            "type": "scatter3d"
           }
          ],
          "scattercarpet": [
           {
            "marker": {
             "colorbar": {
              "outlinewidth": 0,
              "ticks": ""
             }
            },
            "type": "scattercarpet"
           }
          ],
          "scattergeo": [
           {
            "marker": {
             "colorbar": {
              "outlinewidth": 0,
              "ticks": ""
             }
            },
            "type": "scattergeo"
           }
          ],
          "scattergl": [
           {
            "marker": {
             "colorbar": {
              "outlinewidth": 0,
              "ticks": ""
             }
            },
            "type": "scattergl"
           }
          ],
          "scattermapbox": [
           {
            "marker": {
             "colorbar": {
              "outlinewidth": 0,
              "ticks": ""
             }
            },
            "type": "scattermapbox"
           }
          ],
          "scatterpolar": [
           {
            "marker": {
             "colorbar": {
              "outlinewidth": 0,
              "ticks": ""
             }
            },
            "type": "scatterpolar"
           }
          ],
          "scatterpolargl": [
           {
            "marker": {
             "colorbar": {
              "outlinewidth": 0,
              "ticks": ""
             }
            },
            "type": "scatterpolargl"
           }
          ],
          "scatterternary": [
           {
            "marker": {
             "colorbar": {
              "outlinewidth": 0,
              "ticks": ""
             }
            },
            "type": "scatterternary"
           }
          ],
          "surface": [
           {
            "colorbar": {
             "outlinewidth": 0,
             "ticks": ""
            },
            "colorscale": [
             [
              0,
              "#0d0887"
             ],
             [
              0.1111111111111111,
              "#46039f"
             ],
             [
              0.2222222222222222,
              "#7201a8"
             ],
             [
              0.3333333333333333,
              "#9c179e"
             ],
             [
              0.4444444444444444,
              "#bd3786"
             ],
             [
              0.5555555555555556,
              "#d8576b"
             ],
             [
              0.6666666666666666,
              "#ed7953"
             ],
             [
              0.7777777777777778,
              "#fb9f3a"
             ],
             [
              0.8888888888888888,
              "#fdca26"
             ],
             [
              1,
              "#f0f921"
             ]
            ],
            "type": "surface"
           }
          ],
          "table": [
           {
            "cells": {
             "fill": {
              "color": "#EBF0F8"
             },
             "line": {
              "color": "white"
             }
            },
            "header": {
             "fill": {
              "color": "#C8D4E3"
             },
             "line": {
              "color": "white"
             }
            },
            "type": "table"
           }
          ]
         },
         "layout": {
          "annotationdefaults": {
           "arrowcolor": "#2a3f5f",
           "arrowhead": 0,
           "arrowwidth": 1
          },
          "autotypenumbers": "strict",
          "coloraxis": {
           "colorbar": {
            "outlinewidth": 0,
            "ticks": ""
           }
          },
          "colorscale": {
           "diverging": [
            [
             0,
             "#8e0152"
            ],
            [
             0.1,
             "#c51b7d"
            ],
            [
             0.2,
             "#de77ae"
            ],
            [
             0.3,
             "#f1b6da"
            ],
            [
             0.4,
             "#fde0ef"
            ],
            [
             0.5,
             "#f7f7f7"
            ],
            [
             0.6,
             "#e6f5d0"
            ],
            [
             0.7,
             "#b8e186"
            ],
            [
             0.8,
             "#7fbc41"
            ],
            [
             0.9,
             "#4d9221"
            ],
            [
             1,
             "#276419"
            ]
           ],
           "sequential": [
            [
             0,
             "#0d0887"
            ],
            [
             0.1111111111111111,
             "#46039f"
            ],
            [
             0.2222222222222222,
             "#7201a8"
            ],
            [
             0.3333333333333333,
             "#9c179e"
            ],
            [
             0.4444444444444444,
             "#bd3786"
            ],
            [
             0.5555555555555556,
             "#d8576b"
            ],
            [
             0.6666666666666666,
             "#ed7953"
            ],
            [
             0.7777777777777778,
             "#fb9f3a"
            ],
            [
             0.8888888888888888,
             "#fdca26"
            ],
            [
             1,
             "#f0f921"
            ]
           ],
           "sequentialminus": [
            [
             0,
             "#0d0887"
            ],
            [
             0.1111111111111111,
             "#46039f"
            ],
            [
             0.2222222222222222,
             "#7201a8"
            ],
            [
             0.3333333333333333,
             "#9c179e"
            ],
            [
             0.4444444444444444,
             "#bd3786"
            ],
            [
             0.5555555555555556,
             "#d8576b"
            ],
            [
             0.6666666666666666,
             "#ed7953"
            ],
            [
             0.7777777777777778,
             "#fb9f3a"
            ],
            [
             0.8888888888888888,
             "#fdca26"
            ],
            [
             1,
             "#f0f921"
            ]
           ]
          },
          "colorway": [
           "#636efa",
           "#EF553B",
           "#00cc96",
           "#ab63fa",
           "#FFA15A",
           "#19d3f3",
           "#FF6692",
           "#B6E880",
           "#FF97FF",
           "#FECB52"
          ],
          "font": {
           "color": "#2a3f5f"
          },
          "geo": {
           "bgcolor": "white",
           "lakecolor": "white",
           "landcolor": "#E5ECF6",
           "showlakes": true,
           "showland": true,
           "subunitcolor": "white"
          },
          "hoverlabel": {
           "align": "left"
          },
          "hovermode": "closest",
          "mapbox": {
           "style": "light"
          },
          "paper_bgcolor": "white",
          "plot_bgcolor": "#E5ECF6",
          "polar": {
           "angularaxis": {
            "gridcolor": "white",
            "linecolor": "white",
            "ticks": ""
           },
           "bgcolor": "#E5ECF6",
           "radialaxis": {
            "gridcolor": "white",
            "linecolor": "white",
            "ticks": ""
           }
          },
          "scene": {
           "xaxis": {
            "backgroundcolor": "#E5ECF6",
            "gridcolor": "white",
            "gridwidth": 2,
            "linecolor": "white",
            "showbackground": true,
            "ticks": "",
            "zerolinecolor": "white"
           },
           "yaxis": {
            "backgroundcolor": "#E5ECF6",
            "gridcolor": "white",
            "gridwidth": 2,
            "linecolor": "white",
            "showbackground": true,
            "ticks": "",
            "zerolinecolor": "white"
           },
           "zaxis": {
            "backgroundcolor": "#E5ECF6",
            "gridcolor": "white",
            "gridwidth": 2,
            "linecolor": "white",
            "showbackground": true,
            "ticks": "",
            "zerolinecolor": "white"
           }
          },
          "shapedefaults": {
           "line": {
            "color": "#2a3f5f"
           }
          },
          "ternary": {
           "aaxis": {
            "gridcolor": "white",
            "linecolor": "white",
            "ticks": ""
           },
           "baxis": {
            "gridcolor": "white",
            "linecolor": "white",
            "ticks": ""
           },
           "bgcolor": "#E5ECF6",
           "caxis": {
            "gridcolor": "white",
            "linecolor": "white",
            "ticks": ""
           }
          },
          "title": {
           "x": 0.05
          },
          "xaxis": {
           "automargin": true,
           "gridcolor": "white",
           "linecolor": "white",
           "ticks": "",
           "title": {
            "standoff": 15
           },
           "zerolinecolor": "white",
           "zerolinewidth": 2
          },
          "yaxis": {
           "automargin": true,
           "gridcolor": "white",
           "linecolor": "white",
           "ticks": "",
           "title": {
            "standoff": 15
           },
           "zerolinecolor": "white",
           "zerolinewidth": 2
          }
         }
        },
        "title": {
         "text": "Daily Quantity by Date"
        },
        "xaxis": {
         "anchor": "y",
         "domain": [
          0,
          1
         ],
         "title": {
          "text": "x"
         }
        },
        "yaxis": {
         "anchor": "x",
         "domain": [
          0,
          1
         ],
         "title": {
          "text": "y"
         }
        }
       }
      }
     },
     "metadata": {},
     "output_type": "display_data"
    }
   ],
   "source": [
    "plot_ventas(df_retail_clean)"
   ]
  },
  {
   "cell_type": "markdown",
   "metadata": {},
   "source": [
    "\n",
    "No es tan claro el análisis de la visualización, se puede ver que a finales de diciembre 2009 parecieran haber datos faltantes, ya que hay una linea recta que indica ausencia de data en esos días. \n",
    "\n",
    "También podemos ver que Octubre y Diciembre de 2010 las ventas son mucho mayores, incluso más que el 2009, lo que podría indicar que la empresa creció en ese año o que existió algún evento que trajo más ventas.\n",
    "\n",
    "No está de más recordar que este dataframe filtró sus outliers, por lo que si hubiera algún peak de ventas por navidad por ejemplo, este quizás no se vea reflejado en el gráfico. Esto debemos tenerlo en cuenta a la hora de decidir con que dataframe, que limpieza y que gráfico haremos para responder nuestras preguntas."
   ]
  },
  {
   "cell_type": "markdown",
   "metadata": {
    "cell_id": "665f62d63501449cb33cc3b4c62ae247",
    "deepnote_cell_height": 492.066650390625,
    "deepnote_cell_type": "markdown",
    "id": "Rg4ZMq8ezAH6"
   },
   "source": [
    "# Conclusión\n",
    "Eso ha sido todo para el lab de hoy, recuerden que el laboratorio tiene un plazo de entrega de una semana. Cualquier duda del laboratorio, no duden en contactarnos por mail o U-cursos.\n",
    "\n",
    "![Gracias Totales!](https://i.pinimg.com/originals/65/ae/27/65ae270df87c3c4adcea997e48f60852.gif \"bruno\")\n"
   ]
  },
  {
   "cell_type": "markdown",
   "metadata": {
    "cell_id": "e10db5e96c8c4ce09cf770bb88d718bf",
    "deepnote_cell_height": 171.28334045410156,
    "deepnote_cell_type": "markdown",
    "id": "wCL1lACBzAH7"
   },
   "source": [
    "<br>\n",
    "<center>\n",
    "<img src=\"https://i.kym-cdn.com/photos/images/original/001/194/195/b18.png\" width=100 height=50 />\n",
    "</center>\n",
    "<br>"
   ]
  },
  {
   "cell_type": "markdown",
   "metadata": {
    "created_in_deepnote_cell": true,
    "deepnote_cell_type": "markdown"
   },
   "source": [
    "<a style='text-decoration:none;line-height:16px;display:flex;color:#5B5B62;padding:10px;justify-content:end;' href='https://deepnote.com?utm_source=created-in-deepnote-cell&projectId=87110296-876e-426f-b91d-aaf681223468' target=\"_blank\">\n",
    "<img alt='Created in deepnote.com' style='display:inline;max-height:16px;margin:0px;margin-right:7.5px;' src='data:image/svg+xml;base64,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' > </img>\n",
    "Created in <span style='font-weight:600;margin-left:4px;'>Deepnote</span></a>"
   ]
  }
 ],
 "metadata": {
  "colab": {
   "collapsed_sections": [
    "Rcjs-dd1V-1u",
    "dkyp81nkBghF",
    "THmFfYs1AhAW"
   ],
   "name": "Copia de Tarea1.ipynb",
   "provenance": [],
   "toc_visible": true
  },
  "deepnote": {},
  "deepnote_execution_queue": [],
  "deepnote_notebook_id": "a1d56b9e080041788b6ef3ada633d057",
  "kernelspec": {
   "display_name": "Python 3.11.0 64-bit",
   "language": "python",
   "name": "python3"
  },
  "language_info": {
   "codemirror_mode": {
    "name": "ipython",
    "version": 3
   },
   "file_extension": ".py",
   "mimetype": "text/x-python",
   "name": "python",
   "nbconvert_exporter": "python",
   "pygments_lexer": "ipython3",
   "version": "3.11.0"
  },
  "toc": {
   "base_numbering": 1,
   "nav_menu": {},
   "number_sections": true,
   "sideBar": true,
   "skip_h1_title": true,
   "title_cell": "Tabla de Contenidos",
   "title_sidebar": "Contenidos",
   "toc_cell": false,
   "toc_position": {
    "height": "calc(100% - 180px)",
    "left": "10px",
    "top": "150px",
    "width": "241.867px"
   },
   "toc_section_display": true,
   "toc_window_display": true
  },
  "varInspector": {
   "cols": {
    "lenName": 16,
    "lenType": 16,
    "lenVar": 40
   },
   "kernels_config": {
    "python": {
     "delete_cmd_postfix": "",
     "delete_cmd_prefix": "del ",
     "library": "var_list.py",
     "varRefreshCmd": "print(var_dic_list())"
    },
    "r": {
     "delete_cmd_postfix": ") ",
     "delete_cmd_prefix": "rm(",
     "library": "var_list.r",
     "varRefreshCmd": "cat(var_dic_list()) "
    }
   },
   "types_to_exclude": [
    "module",
    "function",
    "builtin_function_or_method",
    "instance",
    "_Feature"
   ],
   "window_display": false
  },
  "vscode": {
   "interpreter": {
    "hash": "aee8b7b246df8f9039afb4144a1f6fd8d2ca17a180786b69acc140d282b71a49"
   }
  }
 },
 "nbformat": 4,
 "nbformat_minor": 1
}
